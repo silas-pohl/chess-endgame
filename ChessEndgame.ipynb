{
 "cells": [
  {
   "cell_type": "code",
   "execution_count": 1,
   "metadata": {
    "cell_id": "5a94447e-77a2-453b-921f-c9781dbf48f9",
    "deepnote_cell_type": "code",
    "deepnote_to_be_reexecuted": false,
    "execution_millis": 17,
    "execution_start": 1645374021257,
    "source_hash": "f2b9d08b",
    "tags": []
   },
   "outputs": [
    {
     "data": {
      "text/html": [
       "<link href='http://fonts.googleapis.com/css?family=Alegreya+Sans:100,300,400,500,700,800,900,100italic,300italic,400italic,500italic,700italic,800italic,900italic' rel='stylesheet' type='text/css'>\n",
       "<link href='http://fonts.googleapis.com/css?family=Arvo:400,700,400italic' rel='stylesheet' type='text/css'>\n",
       "<link href='http://fonts.googleapis.com/css?family=PT+Mono' rel='stylesheet' type='text/css'>\n",
       "<link href='http://fonts.googleapis.com/css?family=Shadows+Into+Light' rel='stylesheet' type='text/css'>\n",
       "<link href='http://fonts.googleapis.com/css?family=Philosopher:400,700,400italic,700italic' rel='stylesheet' type='text/css'>\n",
       "\n",
       "<style>\n",
       "\n",
       "@font-face {\n",
       "    font-family: \"Computer Modern\";\n",
       "    src: url('http://mirrors.ctan.org/fonts/cm-unicode/fonts/otf/cmunss.otf');\n",
       "}\n",
       "\n",
       ".container { width: 100% }\n",
       "\n",
       "/* Formatting for header cells */\n",
       ".text_cell_render h1 {\n",
       "    font-family: 'Philosopher', sans-serif;\n",
       "    font-weight: 400;\n",
       "    font-size: 2.2em;\n",
       "    line-height: 100%;\n",
       "    color: rgb(0, 80, 120);\n",
       "    margin-bottom: 0.1em;\n",
       "    margin-top: 0.1em;\n",
       "    display: block;\n",
       "}\t\n",
       ".text_cell_render h2 {\n",
       "    font-family: 'Philosopher', serif;\n",
       "    font-weight: 400;\n",
       "    font-size: 1.9em;\n",
       "    line-height: 100%;\n",
       "    color: rgb(200,100,0);\n",
       "    margin-bottom: 0.1em;\n",
       "    margin-top: 0.1em;\n",
       "    display: block;\n",
       "}\t\n",
       "\n",
       ".text_cell_render h3 {\n",
       "    font-family: 'Philosopher', serif;\n",
       "    margin-top:12px;\n",
       "    margin-bottom: 3px;\n",
       "    font-style: italic;\n",
       "    color: rgb(94,127,192);\n",
       "}\n",
       "\n",
       ".text_cell_render h4 {\n",
       "    font-family: 'Philosopher', serif;\n",
       "}\n",
       "\n",
       ".text_cell_render h5 {\n",
       "    font-family: 'Alegreya Sans', sans-serif;\n",
       "    font-weight: 300;\n",
       "    font-size: 16pt;\n",
       "    color: grey;\n",
       "    font-style: italic;\n",
       "    margin-bottom: .1em;\n",
       "    margin-top: 0.1em;\n",
       "    display: block;\n",
       "}\n",
       "\n",
       ".text_cell_render h6 {\n",
       "    font-family: 'PT Mono', sans-serif;\n",
       "    font-weight: 300;\n",
       "    font-size: 10pt;\n",
       "    color: grey;\n",
       "    margin-bottom: 1px;\n",
       "    margin-top: 1px;\n",
       "}\n",
       "\n",
       ".text_cell_render em {\n",
       "    font-family: 'Philosopher', sans-serif;\n",
       "    color:        blue;\n",
       "    background-color: rgb(255,220,180);\n",
       "    font-size:    110%;\n",
       "    margin-left:   2px;\n",
       "    margin-right:  2px;\n",
       "    font-weight:   100;\n",
       "}\n",
       "\n",
       ".text_cell_render tt {\n",
       "    font-size:    120%;\n",
       "    margin-left:   2px;\n",
       "    margin-right:  2px;\n",
       "    font-weight:   150;\n",
       "}\n",
       "\n",
       ".Codemirror {\n",
       "    font-family: \"PT Mono\";\n",
       "    font-size: 100%;\n",
       "}\n",
       "\n",
       "</style>\n",
       "\n"
      ],
      "text/plain": [
       "<IPython.core.display.HTML object>"
      ]
     },
     "execution_count": 1,
     "metadata": {},
     "output_type": "execute_result"
    }
   ],
   "source": [
    "from IPython.core.display import HTML\n",
    "with open('./style.css') as f:\n",
    "    css = f.read()\n",
    "HTML(css)"
   ]
  },
  {
   "cell_type": "markdown",
   "metadata": {},
   "source": [
    "# Play Chess Endgames Using Gaviota Endgame Tablebase"
   ]
  },
  {
   "cell_type": "markdown",
   "metadata": {},
   "source": [
    "## What Is This Jupyter Notebook About?\n",
    "The following notebook can be used to play any chess endgame with up to 4 pieces. Each game is exported and may be re-imported to retrace the game. The moves of white can be determined by yourself or randomly and the moves of black are determined with the help of the [Gaviota endgame tablebases](https://www.chessprogramming.org/Gaviota_Tablebases) developed by Miguel A. Ballicora. The depth to mate value is used to play the best possible move for black and execute ut automatically. In general, Gaviota supports endgames with up to 5 pieces. However, this implementation only includes the tablebases with up to 4 pieces, because this is the number of characters that we will support later with the custom created tablebases\n",
    "\n",
    "The basic idea is to declare the ChessEndgame class first and then create it incrementally, so that the notebook is easy to understand and nevertheless a complete class is created. This is necessary because we want to override / extend the methods of this created class in a subsequent notebook, so not only the Gaviota tablebases, but custom tablebases, which were created by means of the so-called retrograde analysis, can be used."
   ]
  },
  {
   "cell_type": "markdown",
   "metadata": {},
   "source": [
    "## Imports And Preperations"
   ]
  },
  {
   "cell_type": "code",
   "execution_count": 2,
   "metadata": {
    "cell_id": "c02ba558-4952-41a0-a7c1-62a2f9e79878",
    "deepnote_cell_type": "code",
    "deepnote_to_be_reexecuted": false,
    "execution_millis": 265,
    "execution_start": 1645374589372,
    "source_hash": "4f1a3280",
    "tags": []
   },
   "outputs": [],
   "source": [
    "import chess                                       # Simulate the chess game\n",
    "import chess.gaviota                               # Load Gaviota Tablebase\n",
    "from IPython.display import display, clear_output  # Better visualization and display of the chess board\n",
    "import random                                      # Random moves and random creation of endgame positions\n",
    "from datetime import datetime                      # Assign exported games with exact date\n",
    "from pytz import timezone                          # Assign exported games with exact date\n",
    "from typing import Union, List, Set, Dict          # Types to enable direct method signatures"
   ]
  },
  {
   "cell_type": "code",
   "execution_count": 3,
   "metadata": {
    "cell_id": "4fdba834-ff8e-4e55-9dc6-7c5e9daaabf7",
    "deepnote_cell_type": "code",
    "deepnote_to_be_reexecuted": false,
    "execution_millis": 5,
    "execution_start": 1645376228717,
    "source_hash": "bd1ac9bf",
    "tags": []
   },
   "outputs": [],
   "source": [
    "class Mate(Exception): pass                        # Exception to intercept checkmate or stalemate\n",
    "class InvalidConfig(Exception): pass               # Exception to intercept an incorrect configuration"
   ]
  },
  {
   "cell_type": "code",
   "execution_count": 4,
   "metadata": {},
   "outputs": [],
   "source": [
    "class ChessEndgame(): pass                         # Class, which will be used to play and import chess endgames.\n",
    "class CustomTablebase(): pass                      # Custom Tablebase Class, which will be specified in a later notebook. Used here for typing only."
   ]
  },
  {
   "cell_type": "markdown",
   "metadata": {},
   "source": [
    "To understand the following program, it is first necessary to introduce the definitions of Endgame Configurations and Tablebase Configurations."
   ]
  },
  {
   "cell_type": "markdown",
   "metadata": {},
   "source": [
    "<b><mark>Definition (Endgame Configuration)</mark></b>\n",
    "\n",
    "The set <span style=\"color:blue\">ENDGAME_CONFIG</span> can be defined by the following union:\n",
    "\n",
    "&nbsp;&nbsp;&nbsp;$\\text{ENDGAME_CONFIG} := \\text{FEN} \\bigcup \\text{EPD} \\bigcup \\text{PIECE_STRING} \\bigcup \\text{PIECE_LIST} \\bigcup \\text{WINNING_COLOR}$\n",
    "\n",
    "Since the elements of the subsets are different (i.e. the intersection of any two of these sets is the empty set), an endgame_configuration satisfies exactly one of the following cases and can be interpreted accordingly:\n",
    "1. $(\\text{endgame_config} \\in \\text{FEN} \\bigcup \\text{EPD}) \\Rightarrow \\text{endgame with given pieces that are placed on the given squares} $\n",
    "2. $(\\text{endgame_config} \\in \\text{PIECE_STRING} \\bigcup \\text{PIECE_LIST}) \\Rightarrow \\text{endgame with given pieces that are placed on random squares} $\n",
    "3. $(\\text{endgame_config} \\in \\text{WINNING_COLOR}) \\Rightarrow \\text{endgame with random pieces that are placed on random squares, but the winning color can force win} $"
   ]
  },
  {
   "cell_type": "markdown",
   "metadata": {},
   "source": [
    "<b><mark>Definition (Tablebase Configuration)</mark></b>\n",
    "\n",
    "The set <span style=\"color:blue\">TABLEBASE_CONFIG</span> is defined as the set of all dictionaries of the form\n",
    "\n",
    "&nbsp;&nbsp;&nbsp;$\\text{tablebase_config} :=$ `{'directory': directory, 'custom': custom}`\n",
    "\n",
    "where \n",
    "\n",
    "1. directory is a directory that contains tablebases.\n",
    "2. custom $\\in \\mathbb{B}$ indicates whether the tablebases are gaviota (=false) or custom tablebases (=true)."
   ]
  },
  {
   "cell_type": "markdown",
   "metadata": {},
   "source": [
    "## Playing A Game"
   ]
  },
  {
   "cell_type": "markdown",
   "metadata": {},
   "source": [
    "### Auxiliary Methods"
   ]
  },
  {
   "cell_type": "markdown",
   "metadata": {},
   "source": [
    "In order to increase the readabilty of the method that is used to play a game, several auxiliary methods are used. They are explained below in further detail. These are added to the ChessEndgame class as private methods:\n",
    "- <b>piece_str_to_board: PIECE_STRING $\\rightarrow$ PYTHONIC_CHESS_BOARD</b>\n",
    "- <b>load_endgame_config: ENDGAME_CONFIG $\\rightarrow$ PYTHONIC_CHESS_BOARD</b>\n",
    "- <b>open_tablebase: TABLEBASE_CONFIG $\\rightarrow$ PYTHONIC_TABLEBASE</b>\n",
    "- <b>check_for_mates: PYTHONIC_CHESS_BOARD $\\rightarrow$ $\\Omega$</b>\n",
    "- <b>white_move: PYTHONIC_CHESS_BOARD $\\times$ $\\mathbb{B}$ $\\rightarrow$ $\\Omega$</b>\n",
    "- <b>is_better_move: $\\mathbb{Z}$ $\\times$ $\\mathbb{Z}$ $\\rightarrow$ $\\mathbb{B}$</b>\n",
    "- <b>black_move: PYTHONIC_CHESS_BOARD $\\times$ PYTHONIC_TABLEBASE $\\rightarrow$ $\\Omega$</b>\n",
    "\n",
    "**Remark:** Direct data encapsulation does not exist in Python. So all of the methods can be called on an instance of ChessEndgame via their name. But by convention, however, methods and attributes beginning with an underscore are considered private and should not be used directly. Alternatively, the methods could have been made to start with a dunder (double underscore). This way, Python name mangling intervenes and the methods are textually replaced with `_classname__method`. Thus, for example, load_engame_config could no longer be called by `instance._load_engame_config`, but only by `instance._ChessEndgame__load_endgame_config`. However, this name mangling is mainly to prevent name collisions with subclasses and would only complicate the incremental creation of class methods. For this reason, data encapsulation by convention is sufficient in our case."
   ]
  },
  {
   "cell_type": "markdown",
   "metadata": {},
   "source": [
    "<b><mark>piece_str_to_board: PIECE_STRING $\\rightarrow$ PYTHONIC_CHESS_BOARD</mark></b>\n",
    "\n",
    "This method is used to convert a piece_string $\\in$ PIECE_STRING into a board. For everey piece_symbol that occurs in the piece_string the corresponding pythonic_chess_piece should be placed on a random square. This is achieved by generating random integers that represent squares. By using a set as data structure for the integers / squares it is ensured that each piece is assigned a different square and thus no square is overwritten. Finally, the pieces are combined with the respective fields and placed on the board via a dictionary (piece map)."
   ]
  },
  {
   "cell_type": "code",
   "execution_count": 5,
   "metadata": {},
   "outputs": [],
   "source": [
    "def piece_str_to_board(self, piece_str):\n",
    "    board = chess.Board()\n",
    "    board.clear()\n",
    "    while not board.is_valid() or board.is_checkmate():\n",
    "        squares = set()\n",
    "        while not len(squares) == len(piece_str):\n",
    "            squares.add(random.randint(chess.A1, chess.H8))\n",
    "        board.set_piece_map(dict(zip(squares, (chess.Piece.from_symbol(symbol) for symbol in piece_str))))\n",
    "    return board\n",
    "\n",
    "setattr(ChessEndgame, '_piece_str_to_board', piece_str_to_board)\n",
    "del piece_str_to_board"
   ]
  },
  {
   "cell_type": "markdown",
   "metadata": {},
   "source": [
    "<b><mark>load_endgame_config: ENDGAME_CONFIG $\\rightarrow$ PYTHONIC_CHESS_BOARD</mark></b>\n",
    "\n",
    "This method is used to convert a endgame_config $\\in$ ENDGAME_CONFIG into a corresponding chess board with the use of the `piece_str_to_board` method. For this purpose, the interpretation cases of the definition of Endgame Configuration are implemented:\n",
    "- endgame_config $\\in$ FEN $\\bigcup$ EPD: endgame_config is only passed to the constructor to create a board.\n",
    "- endgame_config $\\in$ PIECE_STRING: `piece_string_to_board` is executed.\n",
    "- endgame_config $\\in$ PIECE_LIST: endgame_config is converted to PIECE_STRING and then `piece_string_to_board` is executed.\n",
    "- endgame_config $\\in$ WINNING_COLOR: random endgame with endgame_config as winning color is selected and then `piece_string_to_board` is executed.\n",
    "\n",
    "If the declared cases are not met, an exception is raised which interrupts the program call and informs the end user that the `endgame_config` was not specified correctly and thus cannot be interpreted correctly."
   ]
  },
  {
   "cell_type": "code",
   "execution_count": 6,
   "metadata": {
    "cell_id": "d3d68d1a-9240-41ea-8d0b-913b7f6fe234",
    "deepnote_cell_type": "code",
    "deepnote_to_be_reexecuted": false,
    "execution_millis": 1,
    "execution_start": 1645376337150,
    "source_hash": "679449dc",
    "tags": []
   },
   "outputs": [],
   "source": [
    "def load_endgame_config(self, endgame_config):\n",
    "    if isinstance(endgame_config, str) and len(endgame_config) >= 5: #FEN or EPD as str\n",
    "        return chess.Board(endgame_config)\n",
    "    elif isinstance(endgame_config, str) and len(endgame_config) < 5: #Chess pieces as str\n",
    "        return self._piece_str_to_board(endgame_config)\n",
    "    elif isinstance(endgame_config, list): #Chess pieces as list\n",
    "        return self._piece_str_to_board(''.join(piece.symbol() for piece in endgame_config))\n",
    "    elif isinstance(endgame_config, bool): #Winning color as bool\n",
    "        if endgame_config == chess.WHITE:  piece_strs = ['KRk', 'KQk', 'KBBk', 'KNNk', 'KBNk', 'KQkr']\n",
    "        else:                              piece_strs = ['Kkr', 'Kkq', 'Kkbb', 'Kknn', 'Kkbn', 'KRkq']\n",
    "        return self._piece_str_to_board(random.choice(piece_strs))\n",
    "    raise InvalidConfig(f\"Type {type(endgame_config)} as datatype for endgame_config is not supported.\")\n",
    "    \n",
    "setattr(ChessEndgame, '_load_endgame_config', load_endgame_config)\n",
    "del load_endgame_config"
   ]
  },
  {
   "cell_type": "markdown",
   "metadata": {},
   "source": [
    "<b><mark>open_tablebase: TABLEBASE_CONFIG $\\rightarrow$ PYTHONIC_TABLEBASE</mark></b>\n",
    "\n",
    "This method takes care of opening the tablebase. It gets a tablebase_config $\\in$ TABLEBASE_CONFIG as a parameter and depending on this a corresponding pythonic_tablebase $\\in$ PYTHONIC_TABLEBASE is returned. If the parameter `custom` is set to True, it tries to open a custom tablebase under the `directory` path. This will be implemented in a subsequent notebook and at the moment an Exception is raised which interrupts the programm call and informs the end user that custom tablebases are not implemented yet. If the parameter is set to False, a Gaviota tablebase is opened using the given path."
   ]
  },
  {
   "cell_type": "code",
   "execution_count": 7,
   "metadata": {
    "cell_id": "7c80ff22-55bb-4776-a8b0-2d1ba689b1cc",
    "deepnote_cell_type": "code",
    "deepnote_to_be_reexecuted": false,
    "execution_millis": 4,
    "execution_start": 1645376242767,
    "source_hash": "881e834a",
    "tags": []
   },
   "outputs": [],
   "source": [
    "def open_tablebase(self, tablebase_config, board):\n",
    "    if tablebase_config['custom']:\n",
    "        raise InvalidConfig(\"Custom tablebases are not implemented yet.\")\n",
    "    else:\n",
    "        return chess.gaviota.open_tablebase(tablebase_config['directory'])\n",
    "    \n",
    "setattr(ChessEndgame, '_open_tablebase', open_tablebase)\n",
    "del open_tablebase"
   ]
  },
  {
   "cell_type": "markdown",
   "metadata": {},
   "source": [
    "<b><mark>check_for_mates: PYTHONIC_CHESS_BOARD $\\rightarrow$ $\\Omega$<mark/></b>\n",
    "\n",
    "The next method is a simple query whether the board is checkmate / stalemate or not. It only gets the current board as a parameter. Later this method will be executed after each move, so in the case of checkmate or stalemate an exception directly ends the game."
   ]
  },
  {
   "cell_type": "code",
   "execution_count": 8,
   "metadata": {
    "cell_id": "f120b79b-8db8-4838-8ea7-6606f491fda6",
    "deepnote_cell_type": "code",
    "deepnote_to_be_reexecuted": false,
    "execution_millis": 3,
    "execution_start": 1645375957412,
    "source_hash": "4091d820",
    "tags": []
   },
   "outputs": [],
   "source": [
    "def check_for_mates(self, board):\n",
    "    if board.is_checkmate(): raise Mate('Checkmate')\n",
    "    if board.is_stalemate(): raise Mate('Stalemate')\n",
    "        \n",
    "setattr(ChessEndgame, '_check_for_mates', check_for_mates)\n",
    "del check_for_mates"
   ]
  },
  {
   "cell_type": "markdown",
   "metadata": {},
   "source": [
    "<b><mark>white_move: PYTHONIC_CHESS_BOARD $\\times$ $\\mathbb{B}$ $\\rightarrow$ $\\Omega$</mark></b>\n",
    "\n",
    "This method is responsible for the white half-moves. The current board and a export_only flag are given as parameters. The method returns None, because the moves are executed directly on the given board. If the export_only flag is set to true, a random legal move is simply executed on the current board. However, if the flag is set to false, the user is asked which move to play for white. Entering an empty string (i.e. just Enter) will also execute a random move. Alternatively, a legal move can be entered in UCI format (e.g. a1a2). If the input has a wrong format or the move is not legal, the question is asked again until a legal move is entered."
   ]
  },
  {
   "cell_type": "code",
   "execution_count": 9,
   "metadata": {
    "cell_id": "fe707ed9-ce9c-447d-8698-175431d8d8ee",
    "deepnote_cell_type": "code",
    "deepnote_to_be_reexecuted": false,
    "execution_millis": 3,
    "execution_start": 1645375957824,
    "source_hash": "7b07ec07",
    "tags": []
   },
   "outputs": [],
   "source": [
    "def white_move(self, board, export_only):\n",
    "\n",
    "    if export_only: \n",
    "        board.push(random.choice(list(board.generate_legal_moves()))) \n",
    "        return\n",
    "    while True:\n",
    "        print(\"Please insert your move in UCI format (e.g. a1a2) or leave blank to play a random move:\")\n",
    "        move_uci = input()\n",
    "        if move_uci == '': \n",
    "            board.push(random.choice(list(board.generate_legal_moves()))) \n",
    "            return\n",
    "        try:\n",
    "            move = chess.Move.from_uci(move_uci)\n",
    "            if move in board.generate_legal_moves():\n",
    "                board.push(move)\n",
    "                return\n",
    "            print(f\"{move_uci} is not a valid move.\")\n",
    "        except ValueError:\n",
    "            print(f\"{move_uci} is not in valid UCI format.\")\n",
    "            \n",
    "setattr(ChessEndgame, '_white_move', white_move)\n",
    "del white_move"
   ]
  },
  {
   "cell_type": "markdown",
   "metadata": {},
   "source": [
    "<b><mark>is_better_move: $\\mathbb{Z}$ $\\times$ $\\mathbb{Z}$ $\\rightarrow$ $\\mathbb{B}$</mark></b>\n",
    "\n",
    "This method is needed to evaluate whether a particular move is better than another move. For this, the two depth-to-mate values of the moves are passed into the method and True is returned if the first is better, and False if the second is better. This evaluation enables the best possible move for black to be played automatically. In our concrete example, black half-moves are executed and then the depth-to-mate is queried. This means that it is white's move, so a positive depth-to-mate means that white can force a win in depth-to-mate half-moves. On the other hand, a negative value means that black can force a win in so many half-moves. 0 means either a position where no color can force a win, stalemate or checkmate. Better for black in this case means therefore a negative number as close to zero as possible but not equal to zero (we will detect checkmates beforehand). This means we have three cases:\n",
    "1. If the old value is positive, white is winning. Better moves would be:\n",
    " - Any greater value than the current, which would increase the number of moves until forced mate\n",
    " - Any value of zero or lower: this would flip the game, by indicating either a draw, or that black is winning\n",
    "2. If the old value is negative, black is winning. Better moves would be:\n",
    " - Any value closer to zero (greater than old value), but not zero and not positive\n",
    "3. If the old value is zero, the game is facing a draw. Better moves would be:\n",
    " -  Any value less than zero, which would mean that black is winning"
   ]
  },
  {
   "cell_type": "code",
   "execution_count": 10,
   "metadata": {},
   "outputs": [],
   "source": [
    "def is_better_move(self, new, old):\n",
    "    if old > 0:\n",
    "        if new > 0:\n",
    "            return new > old\n",
    "        else:\n",
    "            return True\n",
    "    elif old < 0:\n",
    "        if new >= 0:\n",
    "            return False\n",
    "        else:\n",
    "            return new > old\n",
    "    else:\n",
    "        if new > 0:\n",
    "            return False\n",
    "        elif new < 0:\n",
    "            return True\n",
    "        else:\n",
    "            return False\n",
    "        \n",
    "setattr(ChessEndgame, '_is_better_move', is_better_move)\n",
    "del is_better_move"
   ]
  },
  {
   "cell_type": "markdown",
   "metadata": {},
   "source": [
    "<b><mark>black_move: PYTHONIC_CHESS_BOARD $\\times$ PYTHONIC_TABLEBASE $\\rightarrow$ $\\Omega$</mark></b>\n",
    "\n",
    "The last auxiliary method is responsible for the black half-moves. It receives the current board as a parameter and a pythonic_tablebase, which is used to select the best move. For this, first a random move of the legal moves is executed and it is checked if this puts white in checkmate. If not, we request the depth to mate from the tablebase and run into a loop, which tries all legal moves on the same way. After each move we check if the depth-to-mate of the executed move is better than the depth to mate of the previous best move. Additionally, the check for checkmate is executed each time, since checkmate returns the same depth-to-mate as stalemate or balanced positions (0). So a move that checkmates white would not be distinguishable from very bad moves that lead to stalemate or an even position. However, all other moves can be compared by their depth-to-mate. This is done by the previously defined `is_better_move` method."
   ]
  },
  {
   "cell_type": "code",
   "execution_count": 13,
   "metadata": {
    "cell_id": "40652c80-3940-41f9-b02d-3f85afdc821c",
    "deepnote_cell_type": "code",
    "deepnote_to_be_reexecuted": false,
    "execution_millis": 6,
    "execution_start": 1645375958333,
    "source_hash": "20d7043",
    "tags": []
   },
   "outputs": [],
   "source": [
    "def black_move(self, board, tablebase):\n",
    "    legal_moves = board.generate_legal_moves()\n",
    "    move = next(legal_moves)\n",
    "    board.push(move)\n",
    "    if board.is_checkmate(): \n",
    "        return\n",
    "    best_move = (move, tablebase.probe_dtm(board))\n",
    "    board.pop()\n",
    "    for move in legal_moves:\n",
    "        board.push(move)\n",
    "        if board.is_checkmate(): \n",
    "            return\n",
    "        dtm = tablebase.probe_dtm(board)\n",
    "        if self._is_better_move(dtm, best_move[1]):\n",
    "            best_move = (move, dtm)\n",
    "        board.pop()\n",
    "\n",
    "    board.push(best_move[0])\n",
    "    return\n",
    "\n",
    "setattr(ChessEndgame, '_black_move', black_move)\n",
    "del black_move"
   ]
  },
  {
   "cell_type": "markdown",
   "metadata": {},
   "source": [
    "### Main Method"
   ]
  },
  {
   "cell_type": "markdown",
   "metadata": {},
   "source": [
    "<b><mark>play_game: ENDGAME_CONFIG $\\times$ TABLEBASE_CONFIG $\\times$ $\\mathbb{B}$ $\\rightarrow$ $\\Omega$</mark></b>\n",
    "\n",
    "play_game is the main method which is called to play a chess endgame. The following three paremeters must be specified:\n",
    "1. `endgame_config` $\\in$ ENDGAME_CONFIG  is the configuration of the endgame: e.g. `'7k/8/8/8/8/6Q1/8/7K w'` or `'Kkr'` or `chess.BLACK`\n",
    "\n",
    "\n",
    "2. `tablebase_config` $\\in$ TABLEBASE_CONFIG is the configuration of the tablebase to be used: e.g. `{'directory': './gaviota', 'custom': False}`\n",
    "\n",
    "\n",
    "3. `export_only` $\\in$ $\\mathbb{B}$ is a flag, which indicates whether the game should be displayed or just exported: e.g. `False`\n",
    " \n",
    " \n",
    "If the game is played and displayed normally, the player should be asked before each white move which move should be executed. Either a move in UCI format (e.g. a1a2) can be entered or the field can be left empty to execute a random move. As already mentioned, the black moves are executed automatically based on the tablebase. The game then runs until the board is checkmate or stalemate.\n",
    "\n",
    "The export file contains the endgame in a custom format. At the beginning there is an EPD string which describes the endgame situation. Separated by commas, the half-moves of white and black follow in UCI format until the board is checkmate or stalemate, e.g. `8/8/3k4/1r6/8/8/1K6 w - -, b1a1, d6e6, a1a2, e6d5, a2a1, d5d4, a1a2, d4c3, a2a1, c3c2, a1a2, b5a5, Checkmate`. Alternatively, the `.pgn format` (Portable Game Notation) could have been used. However, this assumes a standard board as the starting node, so we used our own format for our specific usecase, which is easily readable. The import of such a file is done by the function `import_game` at the end of this notebook.\n"
   ]
  },
  {
   "cell_type": "code",
   "execution_count": 12,
   "metadata": {
    "cell_id": "3faa30e2-605a-40bf-90c4-78e93bb80eec",
    "deepnote_cell_type": "code",
    "deepnote_to_be_reexecuted": false,
    "execution_millis": 9,
    "execution_start": 1645376232820,
    "source_hash": "631b0e50",
    "tags": []
   },
   "outputs": [],
   "source": [
    "def play_game(self, endgame_config, tablebase_config, export_only):\n",
    "    export_file = f'games/{datetime.now(timezone(\"Europe/Berlin\")).strftime(\"%d-%m-%Y_%H_%M_%S_%f\")}.txt'\n",
    "    with open(export_file, 'w') as export:\n",
    "        board     = self._load_endgame_config(endgame_config)\n",
    "        tablebase = self._open_tablebase(tablebase_config, board)\n",
    "        export.write(f'{board.epd()}, ')\n",
    "        try:\n",
    "            self._check_for_mates(board)\n",
    "            while True:\n",
    "                if not export_only: display(board)\n",
    "                self._white_move(board, export_only)      #Asks user for legal move, random move or autoplay and executes it on the board\n",
    "                export.write(f'{board.peek()}, ')\n",
    "                self._check_for_mates(board)\n",
    "                if not export_only: clear_output()\n",
    "                if not export_only: display(board)\n",
    "                self._black_move(board, tablebase)        #Gets DTMs from tablebase and executes the best legal move for black on the board\n",
    "                export.write(f'{board.peek()}, ')\n",
    "                self._check_for_mates(board)\n",
    "        except Mate as mate:\n",
    "            export.write(str(mate))\n",
    "            if not export_only: \n",
    "                display(board)\n",
    "                print(str(mate))\n",
    "            print(f\"Saved game at {export_file}\")\n",
    "        finally:\n",
    "            tablebase.close()\n",
    "            \n",
    "setattr(ChessEndgame, 'play_game', play_game)\n",
    "del play_game"
   ]
  },
  {
   "cell_type": "markdown",
   "metadata": {
    "cell_id": "3a86ce8a-b4d9-4e3a-81d8-f99f7454baed",
    "deepnote_cell_type": "code",
    "tags": []
   },
   "source": [
    "## Importing A Game From File\n",
    "\n",
    "<b><mark>import_game: STRING $\\rightarrow$ $\\Omega$</mark></b>\n",
    "\n",
    "Finally, we define the method `import_game`, which is only used to import a game that has already been played. For this we read in the specified file, load the board based on the EPD string, which is located at the beginning. After that, each move, which was stored in uci format and separated by commas, is executed until Checkmate or Stalemate is reached. After each step the board is printed. If there is no checkmate or stalemate at the end of the file, an exception is raised that file contains an unfinished game."
   ]
  },
  {
   "cell_type": "code",
   "execution_count": 14,
   "metadata": {},
   "outputs": [],
   "source": [
    "def import_game(self, import_file):\n",
    "    with open(import_file, 'r') as game:\n",
    "        steps = game.readline().rstrip().split(', ')\n",
    "        if steps[-1] not in ['Checkmate', 'Stalemate']:\n",
    "            print('Unfinished game file')\n",
    "            return\n",
    "        board = chess.Board(steps[0])\n",
    "        display(board)\n",
    "        for step in steps[1:]:\n",
    "            if step in ['Checkmate', 'Stalemate']:\n",
    "                print(step)\n",
    "                return\n",
    "            board.push(chess.Move.from_uci(step))\n",
    "            display(board)\n",
    "            \n",
    "setattr(ChessEndgame, 'import_game', import_game)\n",
    "del import_game"
   ]
  },
  {
   "cell_type": "markdown",
   "metadata": {},
   "source": [
    "To test the whole ChessEndgame class the separate notebook `PlayChessEndgame.ipynb` should be used. This is the case because the class ChessEndgame is extended in a subsequent notebook and thus included by means of the magic command `%run ChessEndgame.ipynb`. If there are cells for playing in this notebook, they would be unintentionally executed in the notebook that extends the class. A workaround would be the integration by means of nbimporter whereby only explicit classes can be imported without the entire notebook being executed. This is not possible in this case, however, because the class is created incrementally for a better overview and thus importing the explicit class only imports the empty class of the notebook start."
   ]
  }
 ],
 "metadata": {
  "deepnote": {
   "is_reactive": false
  },
  "deepnote_execution_queue": [],
  "deepnote_notebook_id": "8340e741-2e3a-4c2b-b30d-d3eb96b08aac",
  "kernelspec": {
   "display_name": "Python 3 (ipykernel)",
   "language": "python",
   "name": "python3"
  },
  "language_info": {
   "codemirror_mode": {
    "name": "ipython",
    "version": 3
   },
   "file_extension": ".py",
   "mimetype": "text/x-python",
   "name": "python",
   "nbconvert_exporter": "python",
   "pygments_lexer": "ipython3",
   "version": "3.10.3"
  }
 },
 "nbformat": 4,
 "nbformat_minor": 2
}
