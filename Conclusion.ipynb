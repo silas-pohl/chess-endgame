{
 "cells": [
  {
   "cell_type": "code",
   "execution_count": 2,
   "id": "4c37434e",
   "metadata": {},
   "outputs": [
    {
     "data": {
      "text/html": [
       "<link href='http://fonts.googleapis.com/css?family=Alegreya+Sans:100,300,400,500,700,800,900,100italic,300italic,400italic,500italic,700italic,800italic,900italic' rel='stylesheet' type='text/css'>\n",
       "<link href='http://fonts.googleapis.com/css?family=Arvo:400,700,400italic' rel='stylesheet' type='text/css'>\n",
       "<link href='http://fonts.googleapis.com/css?family=PT+Mono' rel='stylesheet' type='text/css'>\n",
       "<link href='http://fonts.googleapis.com/css?family=Shadows+Into+Light' rel='stylesheet' type='text/css'>\n",
       "<link href='http://fonts.googleapis.com/css?family=Philosopher:400,700,400italic,700italic' rel='stylesheet' type='text/css'>\n",
       "\n",
       "<style>\n",
       "\n",
       "@font-face {\n",
       "    font-family: \"Computer Modern\";\n",
       "    src: url('http://mirrors.ctan.org/fonts/cm-unicode/fonts/otf/cmunss.otf');\n",
       "}\n",
       "\n",
       ".container { width: 100% }\n",
       "\n",
       "/* Formatting for header cells */\n",
       ".text_cell_render h1 {\n",
       "    font-family: 'Philosopher', sans-serif;\n",
       "    font-weight: 400;\n",
       "    font-size: 2.2em;\n",
       "    line-height: 100%;\n",
       "    color: rgb(0, 80, 120);\n",
       "    margin-bottom: 0.1em;\n",
       "    margin-top: 0.1em;\n",
       "    display: block;\n",
       "}\t\n",
       ".text_cell_render h2 {\n",
       "    font-family: 'Philosopher', serif;\n",
       "    font-weight: 400;\n",
       "    font-size: 1.9em;\n",
       "    line-height: 100%;\n",
       "    color: rgb(200,100,0);\n",
       "    margin-bottom: 0.1em;\n",
       "    margin-top: 0.1em;\n",
       "    display: block;\n",
       "}\t\n",
       "\n",
       ".text_cell_render h3 {\n",
       "    font-family: 'Philosopher', serif;\n",
       "    margin-top:12px;\n",
       "    margin-bottom: 3px;\n",
       "    font-style: italic;\n",
       "    color: rgb(94,127,192);\n",
       "}\n",
       "\n",
       ".text_cell_render h4 {\n",
       "    font-family: 'Philosopher', serif;\n",
       "}\n",
       "\n",
       ".text_cell_render h5 {\n",
       "    font-family: 'Alegreya Sans', sans-serif;\n",
       "    font-weight: 300;\n",
       "    font-size: 16pt;\n",
       "    color: grey;\n",
       "    font-style: italic;\n",
       "    margin-bottom: .1em;\n",
       "    margin-top: 0.1em;\n",
       "    display: block;\n",
       "}\n",
       "\n",
       ".text_cell_render h6 {\n",
       "    font-family: 'PT Mono', sans-serif;\n",
       "    font-weight: 300;\n",
       "    font-size: 10pt;\n",
       "    color: grey;\n",
       "    margin-bottom: 1px;\n",
       "    margin-top: 1px;\n",
       "}\n",
       "\n",
       ".text_cell_render em {\n",
       "    font-family: 'Philosopher', sans-serif;\n",
       "    color:        blue;\n",
       "    background-color: rgb(255,220,180);\n",
       "    font-size:    110%;\n",
       "    margin-left:   2px;\n",
       "    margin-right:  2px;\n",
       "    font-weight:   100;\n",
       "}\n",
       "\n",
       ".text_cell_render b {\n",
       "    color:            rgb(255,195,195);\n",
       "    background-color: rgb(0,0,0);\n",
       "    font-size:    110%;\n",
       "    margin-left:   2px;\n",
       "    margin-right:  2px;\n",
       "    font-weight:   650;\n",
       "}\n",
       "\n",
       ".text_cell_render tt {\n",
       "    font-size:    120%;\n",
       "    margin-left:   2px;\n",
       "    margin-right:  2px;\n",
       "    font-weight:   150;\n",
       "}\n",
       "\n",
       ".Codemirror {\n",
       "    font-family: \"PT Mono\";\n",
       "    font-size: 100%;\n",
       "}\n",
       "\n",
       "</style>\n",
       "\n"
      ],
      "text/plain": [
       "<IPython.core.display.HTML object>"
      ]
     },
     "execution_count": 2,
     "metadata": {},
     "output_type": "execute_result"
    }
   ],
   "source": [
    "from IPython.core.display import HTML\n",
    "with open('./style.css') as f:\n",
    "    css = f.read()\n",
    "HTML(css)"
   ]
  },
  {
   "cell_type": "markdown",
   "id": "1f9a6a1b",
   "metadata": {},
   "source": [
    "# Conclusion"
   ]
  },
  {
   "cell_type": "code",
   "execution_count": 3,
   "id": "3d1902f5",
   "metadata": {},
   "outputs": [
    {
     "ename": "ModuleNotFoundError",
     "evalue": "No module named 'chess'",
     "output_type": "error",
     "traceback": [
      "\u001b[0;31m---------------------------------------------------------------------------\u001b[0m",
      "\u001b[0;31mModuleNotFoundError\u001b[0m                       Traceback (most recent call last)",
      "\u001b[0;32m/var/folders/1k/gwwljs5d0z388pskzm4mv2fc0000gn/T/ipykernel_29479/3310439265.py\u001b[0m in \u001b[0;36m<module>\u001b[0;34m\u001b[0m\n\u001b[0;32m----> 1\u001b[0;31m \u001b[0;32mimport\u001b[0m \u001b[0mchess\u001b[0m                                       \u001b[0;31m# Simulate the chess game\u001b[0m\u001b[0;34m\u001b[0m\u001b[0;34m\u001b[0m\u001b[0m\n\u001b[0m\u001b[1;32m      2\u001b[0m \u001b[0;32mimport\u001b[0m \u001b[0mchess\u001b[0m\u001b[0;34m.\u001b[0m\u001b[0mgaviota\u001b[0m                               \u001b[0;31m# Load Gaviota Tablebase\u001b[0m\u001b[0;34m\u001b[0m\u001b[0;34m\u001b[0m\u001b[0m\n\u001b[1;32m      3\u001b[0m \u001b[0;32mfrom\u001b[0m \u001b[0mIPython\u001b[0m\u001b[0;34m.\u001b[0m\u001b[0mdisplay\u001b[0m \u001b[0;32mimport\u001b[0m \u001b[0mdisplay\u001b[0m\u001b[0;34m,\u001b[0m \u001b[0mclear_output\u001b[0m  \u001b[0;31m# Better visualization and display of the chess board\u001b[0m\u001b[0;34m\u001b[0m\u001b[0;34m\u001b[0m\u001b[0m\n\u001b[1;32m      4\u001b[0m \u001b[0;32mimport\u001b[0m \u001b[0mrandom\u001b[0m                                      \u001b[0;31m# Random moves and random creation of endgame positions\u001b[0m\u001b[0;34m\u001b[0m\u001b[0;34m\u001b[0m\u001b[0m\n\u001b[1;32m      5\u001b[0m \u001b[0;32mimport\u001b[0m \u001b[0mpickle\u001b[0m\u001b[0;34m\u001b[0m\u001b[0;34m\u001b[0m\u001b[0m\n",
      "\u001b[0;31mModuleNotFoundError\u001b[0m: No module named 'chess'"
     ]
    }
   ],
   "source": [
    "import chess                                       # Simulate the chess game\n",
    "import chess.gaviota                               # Load Gaviota Tablebase\n",
    "from IPython.display import display, clear_output  # Better visualization and display of the chess board\n",
    "import random                                      # Random moves and random creation of endgame positions\n",
    "import pickle\n",
    "import os.path"
   ]
  },
  {
   "cell_type": "markdown",
   "id": "9ae19251",
   "metadata": {},
   "source": [
    "## Testing\n",
    "We have now created a tablebase, which allows us to determine the depth-to-mate (DTM) for any given board af an endgame situation. We would now like to verify our results, by comparing the calculated DTMs to the Gaviota tablebase. The function \n",
    "$ test\\_dtm\\_with\\_gaviota: 2^S \\times \\mathbb{N} \\times Piece\\_String \\Rightarrow None \\\\ $\n",
    "does exactly that.\n",
    "\n",
    "It receives three arguments: \n",
    "1. A set $S_n$ to be tested, as calculated using our Retrograde Analysis Algorithm. \n",
    "2. The expected value of the DTM, i.e. $n$\n",
    "3. The $Piece\\_String$\n",
    "\n",
    "It will then iterate through every board within $S_n$ and probe the Gaviota tablebase for its DTM value. If the Gaviota DTM and the expected DTM do not match, it will throw an Assertion error. "
   ]
  },
  {
   "cell_type": "code",
   "execution_count": 4,
   "id": "5c01605d",
   "metadata": {},
   "outputs": [],
   "source": [
    "def test_dtm_with_gaviota(test_set, expected_dtm, piece_str):\n",
    "\n",
    "    with chess.gaviota.open_tablebase(\"./gaviota\") as tablebase:\n",
    "        \n",
    "        #Check if every set in test set is in gaviota\n",
    "        for rep in test_set:\n",
    "            board = int_to_board(rep, piece_str)\n",
    "            gaviota_dtm = abs(tablebase.probe_dtm(board))\n",
    "            if not gaviota_dtm == expected_dtm:\n",
    "                    with open(f'./tests/{piece_str}', 'a') as f3:\n",
    "                        f3.write(f\"Assertion failed for board {board} with gaviota dtm = {gaviota_dtm} but expected = {expected_dtm}\\n\")\n",
    "            assert gaviota_dtm == expected_dtm, f\"FAILED: {board.epd()} -> expected_dtm ({expected_dtm}) != gaviota_dtm ({gaviota_dtm})\"\n",
    "        "
   ]
  },
  {
   "cell_type": "markdown",
   "id": "81e2bc74",
   "metadata": {},
   "source": [
    "However, we also have to account for those boards which are left in $S$ after the Retrograde Analysis. As they have not been sorted into an $S_n$, they are positions in which neither player can force a checkmate. They also receive a DTM of zero, just like the checkmate boards. The next test function\n",
    "$ test\\_dtm\\_zero: (2^S)^{n} \\times S \\times Piece\\_String \\Rightarrow None \\\\ $\n",
    "is designed to test those boards. \n",
    "\n",
    "First, every $S_n$ from the list of sets, is subtracted from $S$ to get the remaining boards. Then we can iterate through each of these and assert that the Gaviota DTM must be zero for all of them. "
   ]
  },
  {
   "cell_type": "code",
   "execution_count": 5,
   "id": "e79eb51e",
   "metadata": {},
   "outputs": [],
   "source": [
    "def test_dtm_zero(list_of_sets, s, piece_str):\n",
    "    with chess.gaviota.open_tablebase(\"./gaviota\") as tablebase:\n",
    "        c = 0\n",
    "        for s_n in list_of_sets:\n",
    "            s -= s_n\n",
    "        \n",
    "        for b in s:\n",
    "            c += 1\n",
    "            board = int_to_board(b, piece_str)\n",
    "            gaviota_dtm = tablebase.probe_dtm(board)\n",
    "            assert gaviota_dtm == 0, f\"FAILED: {board.epd()} -> expected_dtm ({0}) != gaviota_dtm ({gaviota_dtm})\"\n",
    "                \n",
    "        print(f\"\\nFound {c} non-checkmate positions with DTM zero\")"
   ]
  },
  {
   "cell_type": "markdown",
   "id": "94b50b7e",
   "metadata": {},
   "source": [
    "The final function \n",
    "$ test\\_all\\_sets: Piece\\_String \\Rightarrow None \\\\ $\n",
    "puts it all together. It starts by generating $S$ (or loading it if available). First it will ensure that all the $DTM = 0$ cases are correct according to Gaviota. Lastly it iterates through each set $S_n$ and runs the $test\\_dtm\\_with\\_gaviota$ function. \n",
    "\n",
    "Depending on the size of the tablebase, some tests may take several hours to complete. Therefore, after every successful pass, the test results are also written to a local file. "
   ]
  },
  {
   "cell_type": "code",
   "execution_count": 6,
   "id": "b3a398b9",
   "metadata": {},
   "outputs": [],
   "source": [
    "def test_all_sets(piece_str):\n",
    "    if not os.path.exists(f\"./tests/s_set_{piece_str}\"):\n",
    "        s = generate_s(piece_str)\n",
    "        with open(f'./tests/s_set_{piece_str}', 'wb') as f:\n",
    "            pickle.dump(s, f)\n",
    "    else:\n",
    "        with open(f'./tests/s_set_{piece_str}', 'rb') as f:\n",
    "            s = pickle.load(f)\n",
    "            print(f\"Loading s for {piece_str}\")\n",
    "    print(len(s))\n",
    "    \n",
    "    with open(f'./tables/{piece_str}', 'rb') as f:\n",
    "        list_of_sets = pickle.load(f)\n",
    "        print(f\"Loading list of sets for {piece_str}\")\n",
    "    \n",
    "    print(\"Testing for DTM = 0\")\n",
    "    # Verify that all positions in s, which are not in list of sets, have Gaviota DTM = 0\n",
    "    test_dtm_zero(list_of_sets, s, piece_str)\n",
    "    \n",
    "    # Check each set\n",
    "    for i in range(0, len(list_of_sets)):\n",
    "        print(f\"Testing dtm values for set s_{i}...\")\n",
    "        \n",
    "        test_dtm_with_gaviota(list_of_sets[i], i, piece_str)\n",
    "        \n",
    "        with open(f'./tests/{piece_str}', 'a') as f3:\n",
    "            f3.write(f\"s_{i} passed\\n\")\n",
    "        print(f\"s_{i} passed\")"
   ]
  },
  {
   "cell_type": "code",
   "execution_count": 7,
   "id": "94dafec5",
   "metadata": {},
   "outputs": [
    {
     "ename": "NameError",
     "evalue": "name 'os' is not defined",
     "output_type": "error",
     "traceback": [
      "\u001b[0;31m---------------------------------------------------------------------------\u001b[0m",
      "\u001b[0;31mNameError\u001b[0m                                 Traceback (most recent call last)",
      "\u001b[0;32m/var/folders/1k/gwwljs5d0z388pskzm4mv2fc0000gn/T/ipykernel_29479/4158001442.py\u001b[0m in \u001b[0;36m<module>\u001b[0;34m\u001b[0m\n\u001b[0;32m----> 1\u001b[0;31m \u001b[0mtest_all_sets\u001b[0m\u001b[0;34m(\u001b[0m\u001b[0;34m\"Kknb\"\u001b[0m\u001b[0;34m)\u001b[0m\u001b[0;34m\u001b[0m\u001b[0;34m\u001b[0m\u001b[0m\n\u001b[0m",
      "\u001b[0;32m/var/folders/1k/gwwljs5d0z388pskzm4mv2fc0000gn/T/ipykernel_29479/1701991925.py\u001b[0m in \u001b[0;36mtest_all_sets\u001b[0;34m(piece_str)\u001b[0m\n\u001b[1;32m      1\u001b[0m \u001b[0;32mdef\u001b[0m \u001b[0mtest_all_sets\u001b[0m\u001b[0;34m(\u001b[0m\u001b[0mpiece_str\u001b[0m\u001b[0;34m)\u001b[0m\u001b[0;34m:\u001b[0m\u001b[0;34m\u001b[0m\u001b[0;34m\u001b[0m\u001b[0m\n\u001b[0;32m----> 2\u001b[0;31m     \u001b[0;32mif\u001b[0m \u001b[0;32mnot\u001b[0m \u001b[0mos\u001b[0m\u001b[0;34m.\u001b[0m\u001b[0mpath\u001b[0m\u001b[0;34m.\u001b[0m\u001b[0mexists\u001b[0m\u001b[0;34m(\u001b[0m\u001b[0;34mf\"./tests/s_set_{piece_str}\"\u001b[0m\u001b[0;34m)\u001b[0m\u001b[0;34m:\u001b[0m\u001b[0;34m\u001b[0m\u001b[0;34m\u001b[0m\u001b[0m\n\u001b[0m\u001b[1;32m      3\u001b[0m         \u001b[0ms\u001b[0m \u001b[0;34m=\u001b[0m \u001b[0mgenerate_s\u001b[0m\u001b[0;34m(\u001b[0m\u001b[0mpiece_str\u001b[0m\u001b[0;34m)\u001b[0m\u001b[0;34m\u001b[0m\u001b[0;34m\u001b[0m\u001b[0m\n\u001b[1;32m      4\u001b[0m         \u001b[0;32mwith\u001b[0m \u001b[0mopen\u001b[0m\u001b[0;34m(\u001b[0m\u001b[0;34mf'./tests/s_set_{piece_str}'\u001b[0m\u001b[0;34m,\u001b[0m \u001b[0;34m'wb'\u001b[0m\u001b[0;34m)\u001b[0m \u001b[0;32mas\u001b[0m \u001b[0mf\u001b[0m\u001b[0;34m:\u001b[0m\u001b[0;34m\u001b[0m\u001b[0;34m\u001b[0m\u001b[0m\n\u001b[1;32m      5\u001b[0m             \u001b[0mpickle\u001b[0m\u001b[0;34m.\u001b[0m\u001b[0mdump\u001b[0m\u001b[0;34m(\u001b[0m\u001b[0ms\u001b[0m\u001b[0;34m,\u001b[0m \u001b[0mf\u001b[0m\u001b[0;34m)\u001b[0m\u001b[0;34m\u001b[0m\u001b[0;34m\u001b[0m\u001b[0m\n",
      "\u001b[0;31mNameError\u001b[0m: name 'os' is not defined"
     ]
    }
   ],
   "source": [
    "test_all_sets(\"Kknb\")"
   ]
  },
  {
   "cell_type": "code",
   "execution_count": null,
   "id": "94946c21",
   "metadata": {},
   "outputs": [],
   "source": []
  }
 ],
 "metadata": {
  "kernelspec": {
   "display_name": "Python 3 (ipykernel)",
   "language": "python",
   "name": "python3"
  },
  "language_info": {
   "codemirror_mode": {
    "name": "ipython",
    "version": 3
   },
   "file_extension": ".py",
   "mimetype": "text/x-python",
   "name": "python",
   "nbconvert_exporter": "python",
   "pygments_lexer": "ipython3",
   "version": "3.9.7"
  }
 },
 "nbformat": 4,
 "nbformat_minor": 5
}
