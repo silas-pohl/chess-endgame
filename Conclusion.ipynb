{
 "cells": [
  {
   "cell_type": "code",
   "execution_count": null,
   "id": "f4788d96",
   "metadata": {},
   "outputs": [],
   "source": [
    "from IPython.core.display import HTML\n",
    "with open('./style.css') as f:\n",
    "    css = f.read()\n",
    "HTML(css)"
   ]
  },
  {
   "cell_type": "markdown",
   "id": "c8586051",
   "metadata": {},
   "source": [
    "# Conclusion / Testing"
   ]
  },
  {
   "cell_type": "code",
   "execution_count": null,
   "id": "698e3884",
   "metadata": {},
   "outputs": [],
   "source": [
    "import chess                                       # Simulate the chess game\n",
    "import chess.gaviota                               # Load Gaviota Tablebase\n",
    "from IPython.display import display, clear_output  # Better visualization and display of the chess board\n",
    "import pickle\n",
    "import os.path"
   ]
  },
  {
   "cell_type": "code",
   "execution_count": null,
   "id": "b3efdd6a",
   "metadata": {},
   "outputs": [],
   "source": [
    "%%capture\n",
    "%run RetrogradeAnalysis.ipynb"
   ]
  },
  {
   "cell_type": "markdown",
   "id": "d8ee0787",
   "metadata": {},
   "source": [
    "## Testing"
   ]
  },
  {
   "cell_type": "markdown",
   "id": "a0eaa975",
   "metadata": {},
   "source": [
    "<b><mark>test_dtm_with_gaviota: $2^E$ $\\times$ $\\mathbb{N}$ $\\times$ PIECE_STRING $\\rightarrow$ $\\Omega$, with $E \\in$ ENDGAME</mark></b>\n",
    "\n",
    "We have now created a tablebase, which allows us to determine the depth-to-mate (DTM) for any given board af an endgame situation. We would now like to verify our results, by comparing the calculated DTMs to the Gaviota tablebase. The test_dtm_with_gaviota function does exactly that. It receives three arguments: \n",
    "1. A set $S_n$ to be tested, as calculated using our Retrograde Analysis. \n",
    "2. The expected value of the DTM, i.e. $n$\n",
    "3. The piece_string\n",
    "\n",
    "It will then iterate through every board within $S_n$ and probe the Gaviota tablebase for its DTM value. If the Gaviota DTM and the expected DTM do not match, it will throw an Assertion error. "
   ]
  },
  {
   "cell_type": "code",
   "execution_count": null,
   "id": "f804ba58",
   "metadata": {},
   "outputs": [],
   "source": [
    "def test_dtm_with_gaviota(test_set, expected_dtm, piece_str):\n",
    "\n",
    "    with chess.gaviota.open_tablebase(\"./gaviota\") as tablebase:\n",
    "        \n",
    "        #Check if every set in test set is in gaviota\n",
    "        for rep in test_set:\n",
    "            board = int_to_board(rep, piece_str)\n",
    "            gaviota_dtm = abs(tablebase.probe_dtm(board))\n",
    "            if not gaviota_dtm == expected_dtm:\n",
    "                    with open(f'./tests/{piece_str}', 'a') as f3:\n",
    "                        f3.write(f\"Assertion failed for board {board} with gaviota dtm = {gaviota_dtm} but expected = {expected_dtm}\\n\")\n",
    "            assert gaviota_dtm == expected_dtm, f\"FAILED: {board.epd()} -> expected_dtm ({expected_dtm}) != gaviota_dtm ({gaviota_dtm})\"\n",
    "        "
   ]
  },
  {
   "cell_type": "markdown",
   "id": "112de693",
   "metadata": {},
   "source": [
    "<b><mark>test_dtm_zero: $(2^E)^n$ $\\times$ PIECE_STRING $\\rightarrow$ $\\Omega$, with $E \\in$ ENDGAME</mark></b>\n",
    "\n",
    "However, we also have to account for those boards which are left in $S$ after the Retrograde Analysis. As they have not been sorted into an $S_n$, they are positions in which neither player can force a checkmate. They also receive a DTM of zero, just like the checkmate boards. The next test function is designed to test those boards. First, every $S_n$ from the list of sets, is subtracted from $S$ to get the remaining boards. Then we can iterate through each of these and assert that the Gaviota DTM must be zero for all of them. "
   ]
  },
  {
   "cell_type": "code",
   "execution_count": null,
   "id": "f82776e5",
   "metadata": {},
   "outputs": [],
   "source": [
    "def test_dtm_zero(list_of_sets, s, piece_str):\n",
    "    with chess.gaviota.open_tablebase(\"./gaviota\") as tablebase:\n",
    "        c = 0\n",
    "        for s_n in list_of_sets:\n",
    "            s -= s_n\n",
    "        \n",
    "        for b in s:\n",
    "            c += 1\n",
    "            board = int_to_board(b, piece_str)\n",
    "            gaviota_dtm = tablebase.probe_dtm(board)\n",
    "            assert gaviota_dtm == 0, f\"FAILED: {board.epd()} -> expected_dtm ({0}) != gaviota_dtm ({gaviota_dtm})\"\n",
    "                \n",
    "        print(f\"\\nFound {c} non-checkmate positions with DTM zero\")"
   ]
  },
  {
   "cell_type": "markdown",
   "id": "0460cf34",
   "metadata": {},
   "source": [
    "<b><mark>test_all_sets: PIECE_STRING $\\rightarrow$ $\\Omega$</mark></b>\n",
    "\n",
    "The final function puts it all together. It starts by generating $S$ (or loading it if available). First it will ensure that all the DTM = 0 cases are correct according to Gaviota. Lastly it iterates through each set $S_n$ and runs the test_dtm_with_gaviota function. Depending on the size of the tablebase, some tests may take several hours to complete. Therefore, after every successful pass, the test results are also written to a local file. "
   ]
  },
  {
   "cell_type": "code",
   "execution_count": null,
   "id": "8ef96498",
   "metadata": {},
   "outputs": [],
   "source": [
    "def test_all_sets(piece_str):\n",
    "    if not os.path.exists(f\"./tests/s_set_{piece_str}\"):\n",
    "        s = generate_s(piece_str)\n",
    "        with open(f'./tests/s_set_{piece_str}', 'wb') as f:\n",
    "            pickle.dump(s, f)\n",
    "    else:\n",
    "        with open(f'./tests/s_set_{piece_str}', 'rb') as f:\n",
    "            s = pickle.load(f)\n",
    "            print(f\"Loading s for {piece_str}\")\n",
    "    print(len(s))\n",
    "    \n",
    "    with open(f'./tables/{piece_str}', 'rb') as f:\n",
    "        list_of_sets = pickle.load(f)\n",
    "        print(f\"Loading list of sets for {piece_str}\")\n",
    "    \n",
    "    print(\"Testing for DTM = 0\")\n",
    "    # Verify that all positions in s, which are not in list of sets, have Gaviota DTM = 0\n",
    "    test_dtm_zero(list_of_sets, s, piece_str)\n",
    "    \n",
    "    # Check each set\n",
    "    for i in range(0, len(list_of_sets)):\n",
    "        print(f\"Testing dtm values for set s_{i}...\")\n",
    "        \n",
    "        test_dtm_with_gaviota(list_of_sets[i], i, piece_str)\n",
    "        \n",
    "        with open(f'./tests/{piece_str}', 'a') as f3:\n",
    "            f3.write(f\"s_{i} passed\\n\")\n",
    "        print(f\"s_{i} passed\")"
   ]
  },
  {
   "cell_type": "code",
   "execution_count": null,
   "id": "f6ce2103",
   "metadata": {},
   "outputs": [],
   "source": [
    "test_all_sets(\"Kknb\")"
   ]
  },
  {
   "cell_type": "code",
   "execution_count": null,
   "id": "c1bc8899",
   "metadata": {},
   "outputs": [],
   "source": []
  }
 ],
 "metadata": {
  "kernelspec": {
   "display_name": "Python 3 (ipykernel)",
   "language": "python",
   "name": "python3"
  },
  "language_info": {
   "codemirror_mode": {
    "name": "ipython",
    "version": 3
   },
   "file_extension": ".py",
   "mimetype": "text/x-python",
   "name": "python",
   "nbconvert_exporter": "python",
   "pygments_lexer": "ipython3",
   "version": "3.10.3"
  }
 },
 "nbformat": 4,
 "nbformat_minor": 5
}
