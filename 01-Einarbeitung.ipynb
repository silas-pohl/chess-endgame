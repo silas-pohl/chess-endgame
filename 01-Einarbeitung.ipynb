{
 "cells": [
  {
   "cell_type": "markdown",
   "source": "# Entwicklung eines Programms zum Lesen einer Endspiel-Stellung und Spielen mit Hilfe der Endgame-Database",
   "metadata": {
    "tags": [],
    "cell_id": "00000-e912c63b-3a67-4e35-a58b-81d21b1de6a6",
    "deepnote_cell_type": "markdown"
   }
  },
  {
   "cell_type": "code",
   "metadata": {
    "tags": [],
    "cell_id": "00001-f3fb66c8-dfb8-4fe1-83da-379f911c3589",
    "deepnote_to_be_reexecuted": false,
    "source_hash": "677a6d41",
    "execution_start": 1639673152692,
    "execution_millis": 256,
    "deepnote_cell_type": "code"
   },
   "source": "import chess\nimport chess.gaviota\nfrom IPython.display import display, clear_output",
   "execution_count": 1,
   "outputs": []
  },
  {
   "cell_type": "code",
   "metadata": {
    "tags": [],
    "cell_id": "00001-24279640-25a2-4cb1-bf25-fc7455ccd3b0",
    "deepnote_to_be_reexecuted": false,
    "source_hash": "a456784f",
    "execution_start": 1639673152958,
    "execution_millis": 1,
    "deepnote_cell_type": "code"
   },
   "source": "class Checkmate(Exception): pass\nclass Stalemate(Exception): pass",
   "execution_count": 2,
   "outputs": []
  },
  {
   "cell_type": "code",
   "metadata": {
    "tags": [],
    "cell_id": "00002-1326c1bd-b892-4d6e-b4ec-7913319045ae",
    "deepnote_to_be_reexecuted": false,
    "source_hash": "55cae0a7",
    "execution_start": 1639673152971,
    "execution_millis": 2,
    "deepnote_cell_type": "code"
   },
   "source": "def play(chess_position: str) -> None:\n    \n    # Try-Block to intercept checkmate or stalemate\n    try:\n\n        # Init board with given endgame position\n        board = chess.Board(chess_position)\n\n        # Open Gaviota tablebase to determine automatic moves\n        with chess.gaviota.open_tablebase(\"./gaviota/gtb/gtb4\") as tablebase:\n\n            #Loop for playing against the automatic moves\n            while True:\n                display(board)\n                board = move_white(board)\n                if board.is_checkmate(): raise Checkmate\n                if board.is_stalemate(): raise Stalemate\n                display(board)\n                board = move_black(board, tablebase)\n                if board.is_checkmate(): raise Checkmate\n                if board.is_stalemate(): raise Stalemate\n\n    # Exception if board is checkmate\n    except Checkmate:\n        display(board)\n        print(\"Checkmate\")\n\n    # Exception if board is stalemate\n    except Stalemate:\n        display(board)\n        print(\"Stalemate\")",
   "execution_count": 3,
   "outputs": []
  },
  {
   "cell_type": "code",
   "metadata": {
    "tags": [],
    "cell_id": "00005-b0f75197-224c-411e-b1ba-399b1ccf17c3",
    "deepnote_to_be_reexecuted": false,
    "source_hash": "6d12d998",
    "execution_start": 1639673152980,
    "execution_millis": 7,
    "deepnote_cell_type": "code"
   },
   "source": "def move_white(board: chess.Board) -> chess.Board:\n    'Asks the player for a legal move for white and executes it.'\n\n    while True:\n        print(\"Please insert your move in UCI format (e.g. a1a2):\")\n        move_uci = input()\n        try: \n            move = chess.Move.from_uci(move_uci)\n            if move in board.legal_moves:\n                board.push(move)\n                return board\n            else:\n                print(move_uci, \"is not a valid move.\")\n        except ValueError:\n            print(move_uci, \"is not valid UCI format.\")",
   "execution_count": 4,
   "outputs": []
  },
  {
   "cell_type": "code",
   "metadata": {
    "tags": [],
    "cell_id": "00005-a2ddef48-3d1d-450c-8e60-eec338e65398",
    "deepnote_to_be_reexecuted": false,
    "source_hash": "6efd75a7",
    "execution_start": 1639673152992,
    "execution_millis": 5,
    "deepnote_cell_type": "code"
   },
   "source": "def move_black(board: chess.Board, tablebase: chess.gaviota.NativeTablebase) -> chess.Board:\n    'Executes the best depth-to-mate move for black.'\n\n    # Get first legal move with dtm\n    legal_moves = board.generate_legal_moves()\n    black_move = next(legal_moves)\n    board.push(black_move)\n    best_move = (black_move, tablebase.probe_dtm(board))\n    board.pop()\n\n    # Loop through legal moves, update best move using dtm\n    for black_move in legal_moves:\n        board.push(black_move)\n        if board.is_checkmate(): raise Checkmate\n        curr_dtm = tablebase.probe_dtm(board)\n        if is_better_move(curr_dtm, best_move[1]):\n            best_move = (black_move, curr_dtm)\n        board.pop()\n\n    board.push(best_move[0])\n    return board",
   "execution_count": 5,
   "outputs": []
  },
  {
   "cell_type": "code",
   "metadata": {
    "tags": [],
    "cell_id": "00007-9c18ea53-9314-42e3-afe8-310f007ae1d9",
    "deepnote_to_be_reexecuted": false,
    "source_hash": "b876a320",
    "execution_start": 1639673153005,
    "execution_millis": 3,
    "deepnote_cell_type": "code"
   },
   "source": "def is_better_move(new: int, old: int) -> bool:\n    \"Takes two depth-to-mates and determines if first one is better for black.\"\n\n    if old > 0:\n        if new > 0:\n            return new > old\n        elif new < 0:\n            return True\n        else:\n            return True\n    elif old < 0:\n        if new > 0:\n            return False\n        elif new < 0:\n            return new > old\n        else:\n            return False\n    else:\n        if new > 0:\n            return False\n        elif new < 0:\n            return True\n        else:\n            return False\n",
   "execution_count": 6,
   "outputs": []
  },
  {
   "cell_type": "code",
   "metadata": {
    "tags": [],
    "cell_id": "00005-88ec597a-3ea2-4966-a309-ad833060061d",
    "deepnote_to_be_reexecuted": false,
    "source_hash": "5dbbb698",
    "execution_start": 1639673153054,
    "deepnote_output_heights": [
     392,
     null,
     392,
     392,
     null,
     392,
     392,
     null,
     392,
     392,
     null,
     392,
     392
    ],
    "execution_millis": 8533,
    "output_cleared": true,
    "deepnote_cell_type": "code"
   },
   "source": "play(\"8/8/8/8/8/8/8/K2kr3 w - - 0 1\")",
   "execution_count": 7,
   "outputs": []
  },
  {
   "cell_type": "code",
   "metadata": {
    "tags": [],
    "cell_id": "00008-780319e0-bb97-4b6c-ade0-c17d5acf810b",
    "deepnote_to_be_reexecuted": true,
    "source_hash": "b623e53d",
    "execution_start": 1639672300000,
    "deepnote_cell_type": "code"
   },
   "source": "",
   "outputs": [],
   "execution_count": null
  },
  {
   "cell_type": "markdown",
   "source": "<a style='text-decoration:none;line-height:16px;display:flex;color:#5B5B62;padding:10px;justify-content:end;' href='https://deepnote.com?utm_source=created-in-deepnote-cell&projectId=f6e34dfb-c85e-40db-bde6-d0ca8b0148c0' target=\"_blank\">\n<img alt='Created in deepnote.com' style='display:inline;max-height:16px;margin:0px;margin-right:7.5px;' src='data:image/svg+xml;base64,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' > </img>\nCreated in <span style='font-weight:600;margin-left:4px;'>Deepnote</span></a>",
   "metadata": {
    "tags": [],
    "created_in_deepnote_cell": true,
    "deepnote_cell_type": "markdown"
   }
  }
 ],
 "nbformat": 4,
 "nbformat_minor": 2,
 "metadata": {
  "orig_nbformat": 2,
  "deepnote": {
   "is_reactive": false
  },
  "deepnote_notebook_id": "b366a954-140d-413c-88e7-29189366fbc8",
  "deepnote_execution_queue": []
 }
}