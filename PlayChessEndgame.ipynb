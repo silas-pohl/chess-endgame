{
 "cells": [
  {
   "cell_type": "code",
   "execution_count": 2,
   "id": "e77f6a67",
   "metadata": {},
   "outputs": [
    {
     "data": {
      "text/html": [
       "<link href='http://fonts.googleapis.com/css?family=Alegreya+Sans:100,300,400,500,700,800,900,100italic,300italic,400italic,500italic,700italic,800italic,900italic' rel='stylesheet' type='text/css'>\n",
       "<link href='http://fonts.googleapis.com/css?family=Arvo:400,700,400italic' rel='stylesheet' type='text/css'>\n",
       "<link href='http://fonts.googleapis.com/css?family=PT+Mono' rel='stylesheet' type='text/css'>\n",
       "<link href='http://fonts.googleapis.com/css?family=Shadows+Into+Light' rel='stylesheet' type='text/css'>\n",
       "<link href='http://fonts.googleapis.com/css?family=Philosopher:400,700,400italic,700italic' rel='stylesheet' type='text/css'>\n",
       "\n",
       "<style>\n",
       "\n",
       "@font-face {\n",
       "    font-family: \"Computer Modern\";\n",
       "    src: url('http://mirrors.ctan.org/fonts/cm-unicode/fonts/otf/cmunss.otf');\n",
       "}\n",
       "\n",
       ".container { width: 100% }\n",
       "\n",
       "/* Formatting for header cells */\n",
       ".text_cell_render h1 {\n",
       "    font-family: 'Philosopher', sans-serif;\n",
       "    font-weight: 400;\n",
       "    font-size: 2.2em;\n",
       "    line-height: 100%;\n",
       "    color: rgb(0, 80, 120);\n",
       "    margin-bottom: 0.1em;\n",
       "    margin-top: 0.1em;\n",
       "    display: block;\n",
       "}\t\n",
       ".text_cell_render h2 {\n",
       "    font-family: 'Philosopher', serif;\n",
       "    font-weight: 400;\n",
       "    font-size: 1.9em;\n",
       "    line-height: 100%;\n",
       "    color: rgb(200,100,0);\n",
       "    margin-bottom: 0.1em;\n",
       "    margin-top: 0.1em;\n",
       "    display: block;\n",
       "}\t\n",
       "\n",
       ".text_cell_render h3 {\n",
       "    font-family: 'Philosopher', serif;\n",
       "    margin-top:12px;\n",
       "    margin-bottom: 3px;\n",
       "    font-style: italic;\n",
       "    color: rgb(94,127,192);\n",
       "}\n",
       "\n",
       ".text_cell_render h4 {\n",
       "    font-family: 'Philosopher', serif;\n",
       "}\n",
       "\n",
       ".text_cell_render h5 {\n",
       "    font-family: 'Alegreya Sans', sans-serif;\n",
       "    font-weight: 300;\n",
       "    font-size: 16pt;\n",
       "    color: grey;\n",
       "    font-style: italic;\n",
       "    margin-bottom: .1em;\n",
       "    margin-top: 0.1em;\n",
       "    display: block;\n",
       "}\n",
       "\n",
       ".text_cell_render h6 {\n",
       "    font-family: 'PT Mono', sans-serif;\n",
       "    font-weight: 300;\n",
       "    font-size: 10pt;\n",
       "    color: grey;\n",
       "    margin-bottom: 1px;\n",
       "    margin-top: 1px;\n",
       "}\n",
       "\n",
       ".text_cell_render em {\n",
       "    font-family: 'Philosopher', sans-serif;\n",
       "    color:        blue;\n",
       "    background-color: rgb(255,220,180);\n",
       "    font-size:    110%;\n",
       "    margin-left:   2px;\n",
       "    margin-right:  2px;\n",
       "    font-weight:   100;\n",
       "}\n",
       "\n",
       ".text_cell_render b {\n",
       "    color:            rgb(255,195,195);\n",
       "    background-color: rgb(0,0,0);\n",
       "    font-size:    110%;\n",
       "    margin-left:   2px;\n",
       "    margin-right:  2px;\n",
       "    font-weight:   650;\n",
       "}\n",
       "\n",
       ".text_cell_render tt {\n",
       "    font-size:    120%;\n",
       "    margin-left:   2px;\n",
       "    margin-right:  2px;\n",
       "    font-weight:   150;\n",
       "}\n",
       "\n",
       ".Codemirror {\n",
       "    font-family: \"PT Mono\";\n",
       "    font-size: 100%;\n",
       "}\n",
       "\n",
       "</style>\n",
       "\n"
      ],
      "text/plain": [
       "<IPython.core.display.HTML object>"
      ]
     },
     "execution_count": 2,
     "metadata": {},
     "output_type": "execute_result"
    }
   ],
   "source": [
    "from IPython.core.display import HTML\n",
    "with open('./style.css') as f:\n",
    "    css = f.read()\n",
    "HTML(css)"
   ]
  },
  {
   "cell_type": "markdown",
   "id": "da624ee4",
   "metadata": {},
   "source": [
    "# Play Chess Endgames Using Gaviota Tablebase "
   ]
  },
  {
   "cell_type": "markdown",
   "id": "34ac950f",
   "metadata": {},
   "source": [
    "## Examples Of Playing With The Base ChessEndgame Class (Only Support Gaviota Tablebases)"
   ]
  },
  {
   "cell_type": "code",
   "execution_count": 1,
   "id": "7dfffd19",
   "metadata": {},
   "outputs": [],
   "source": [
    "%%capture\n",
    "%run ChessEndgame.ipynb"
   ]
  },
  {
   "cell_type": "markdown",
   "id": "239c0bb3",
   "metadata": {},
   "source": [
    "### Playing With `EPD/FEN-String` (King, Rook vs. King, Queen)"
   ]
  },
  {
   "cell_type": "code",
   "execution_count": null,
   "id": "4c05a5bf",
   "metadata": {
    "scrolled": true
   },
   "outputs": [],
   "source": [
    "ChessEndgame().play_game('8/8/8/7q/8/5k2/K7/2R5 w - -', {'directory': './gaviota', 'custom': False}, False)"
   ]
  },
  {
   "cell_type": "markdown",
   "id": "85832785",
   "metadata": {},
   "source": [
    "### Playing With `piece_str` (King vs. King, Bishop, Knight)"
   ]
  },
  {
   "cell_type": "code",
   "execution_count": null,
   "id": "9a32260f",
   "metadata": {
    "scrolled": false
   },
   "outputs": [],
   "source": [
    "ChessEndgame().play_game('Kkbn', {'directory': './gaviota', 'custom': False}, False)"
   ]
  },
  {
   "cell_type": "markdown",
   "id": "018350b0",
   "metadata": {},
   "source": [
    "### Playing With `piece_list` (King vs. King, Rook)"
   ]
  },
  {
   "cell_type": "code",
   "execution_count": null,
   "id": "e0113e24",
   "metadata": {},
   "outputs": [],
   "source": [
    "piece_list = [chess.Piece(chess.KING, chess.WHITE), chess.Piece(chess.KING, chess.BLACK), chess.Piece(chess.ROOK, chess.BLACK)]\n",
    "ChessEndgame().play_game(piece_list, {'directory': './gaviota', 'custom': False}, False)"
   ]
  },
  {
   "cell_type": "markdown",
   "id": "e3fcd42f",
   "metadata": {},
   "source": [
    "### Playing With `winning_color` (Random Endgame, Black Can Force Win)"
   ]
  },
  {
   "cell_type": "code",
   "execution_count": null,
   "id": "086db278",
   "metadata": {},
   "outputs": [],
   "source": [
    "ChessEndgame().play_game(chess.BLACK, {'directory': './gaviota', 'custom': False}, False)"
   ]
  },
  {
   "cell_type": "markdown",
   "id": "b477fe1a",
   "metadata": {},
   "source": [
    "### Playing With `winning_color` (Random Endgame, White Can Force Win)"
   ]
  },
  {
   "cell_type": "code",
   "execution_count": null,
   "id": "a39b9c51",
   "metadata": {},
   "outputs": [],
   "source": [
    "ChessEndgame().play_game(chess.WHITE, {'directory': './gaviota', 'custom': False}, False)"
   ]
  },
  {
   "cell_type": "markdown",
   "id": "d72a47b9",
   "metadata": {},
   "source": [
    "### Playing With `EPD/FEN-String` And `export_only` (King, Rook vs. King, Queen)"
   ]
  },
  {
   "cell_type": "code",
   "execution_count": null,
   "id": "02955c37",
   "metadata": {},
   "outputs": [],
   "source": [
    "ChessEndgame().play_game('8/8/8/7q/8/5k2/K7/2R5 w - -', {'directory': './gaviota', 'custom': False}, True)"
   ]
  },
  {
   "cell_type": "markdown",
   "id": "45ea0a9c",
   "metadata": {},
   "source": [
    "### Importing A Game From File"
   ]
  },
  {
   "cell_type": "code",
   "execution_count": null,
   "id": "97d371c4",
   "metadata": {},
   "outputs": [],
   "source": [
    "ChessEndgame().import_game('games/27-03-2022_14_31_04_978521.txt') # adapt to one of the games played"
   ]
  }
 ],
 "metadata": {
  "kernelspec": {
   "display_name": "Python 3 (ipykernel)",
   "language": "python",
   "name": "python3"
  },
  "language_info": {
   "codemirror_mode": {
    "name": "ipython",
    "version": 3
   },
   "file_extension": ".py",
   "mimetype": "text/x-python",
   "name": "python",
   "nbconvert_exporter": "python",
   "pygments_lexer": "ipython3",
   "version": "3.9.7"
  }
 },
 "nbformat": 4,
 "nbformat_minor": 5
}
