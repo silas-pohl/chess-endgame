{
 "cells": [
  {
   "cell_type": "code",
   "metadata": {
    "tags": [],
    "cell_id": "5a94447e-77a2-453b-921f-c9781dbf48f9",
    "deepnote_to_be_reexecuted": false,
    "source_hash": "f2b9d08b",
    "execution_start": 1645374021257,
    "execution_millis": 17,
    "deepnote_cell_type": "code"
   },
   "source": "from IPython.core.display import HTML\nwith open('./style.css') as f:\n    css = f.read()\nHTML(css)",
   "outputs": [
    {
     "output_type": "execute_result",
     "execution_count": 1,
     "data": {
      "text/plain": "<IPython.core.display.HTML object>",
      "text/html": "<link href='http://fonts.googleapis.com/css?family=Alegreya+Sans:100,300,400,500,700,800,900,100italic,300italic,400italic,500italic,700italic,800italic,900italic' rel='stylesheet' type='text/css'>\n<link href='http://fonts.googleapis.com/css?family=Arvo:400,700,400italic' rel='stylesheet' type='text/css'>\n<link href='http://fonts.googleapis.com/css?family=PT+Mono' rel='stylesheet' type='text/css'>\n<link href='http://fonts.googleapis.com/css?family=Shadows+Into+Light' rel='stylesheet' type='text/css'>\n<link href='http://fonts.googleapis.com/css?family=Philosopher:400,700,400italic,700italic' rel='stylesheet' type='text/css'>\n\n<style>\n\n@font-face {\n    font-family: \"Computer Modern\";\n    src: url('http://mirrors.ctan.org/fonts/cm-unicode/fonts/otf/cmunss.otf');\n}\n\n.container { width: 100% }\n\n/* Formatting for header cells */\n.text_cell_render h1 {\n    font-family: 'Philosopher', sans-serif;\n    font-weight: 400;\n    font-size: 2.2em;\n    line-height: 100%;\n    color: rgb(0, 80, 120);\n    margin-bottom: 0.1em;\n    margin-top: 0.1em;\n    display: block;\n}\t\n.text_cell_render h2 {\n    font-family: 'Philosopher', serif;\n    font-weight: 400;\n    font-size: 1.9em;\n    line-height: 100%;\n    color: rgb(200,100,0);\n    margin-bottom: 0.1em;\n    margin-top: 0.1em;\n    display: block;\n}\t\n\n.text_cell_render h3 {\n    font-family: 'Philosopher', serif;\n    margin-top:12px;\n    margin-bottom: 3px;\n    font-style: italic;\n    color: rgb(94,127,192);\n}\n\n.text_cell_render h4 {\n    font-family: 'Philosopher', serif;\n}\n\n.text_cell_render h5 {\n    font-family: 'Alegreya Sans', sans-serif;\n    font-weight: 300;\n    font-size: 16pt;\n    color: grey;\n    font-style: italic;\n    margin-bottom: .1em;\n    margin-top: 0.1em;\n    display: block;\n}\n\n.text_cell_render h6 {\n    font-family: 'PT Mono', sans-serif;\n    font-weight: 300;\n    font-size: 10pt;\n    color: grey;\n    margin-bottom: 1px;\n    margin-top: 1px;\n}\n\n.text_cell_render em {\n    font-family: 'Philosopher', sans-serif;\n    color:        blue;\n    background-color: rgb(255,220,180);\n    font-size:    110%;\n    margin-left:   2px;\n    margin-right:  2px;\n    font-weight:   100;\n}\n\n.text_cell_render b {\n    color:            rgb(255,195,195);\n    background-color: rgb(0,0,0);\n    font-size:    110%;\n    margin-left:   2px;\n    margin-right:  2px;\n    font-weight:   650;\n}\n\n.text_cell_render tt {\n    font-size:    120%;\n    margin-left:   2px;\n    margin-right:  2px;\n    font-weight:   150;\n}\n\n.Codemirror {\n    font-family: \"PT Mono\";\n    font-size: 100%;\n}\n\n</style>\n\n"
     },
     "metadata": {}
    }
   ],
   "execution_count": null
  },
  {
   "cell_type": "code",
   "source": "import chess                                       # Simulate the chess game\nimport chess.gaviota                               # Load Gaviota Tablebase\nfrom IPython.display import display, clear_output  # Better visualization and display of the chess board\nimport random                                      # Random moves and random creation of endgame positions\nfrom datetime import datetime                      # Assign exported games with exact date\nfrom pytz import timezone                          # Assign exported games with exact date\nfrom typing import Union, List, Set                # Types to enable direct method signatures",
   "metadata": {
    "cell_id": "c02ba558-4952-41a0-a7c1-62a2f9e79878",
    "tags": [],
    "deepnote_to_be_reexecuted": false,
    "source_hash": "4f1a3280",
    "execution_start": 1645374589372,
    "execution_millis": 265,
    "deepnote_cell_type": "code"
   },
   "outputs": [],
   "execution_count": null
  },
  {
   "cell_type": "code",
   "source": "class Mate(Exception): pass\nclass InvalidEndgameConfig(Exception): pass\nclass CustomTablebase(): pass",
   "metadata": {
    "cell_id": "4fdba834-ff8e-4e55-9dc6-7c5e9daaabf7",
    "tags": [],
    "deepnote_to_be_reexecuted": false,
    "source_hash": "bd1ac9bf",
    "execution_start": 1645376228717,
    "execution_millis": 5,
    "deepnote_cell_type": "code"
   },
   "outputs": [],
   "execution_count": null
  },
  {
   "cell_type": "code",
   "source": "def play_endgame(tablebase_dir: str, endgame_config: Union[str, List[chess.Piece], bool], custom_tablebase: bool = False, export_only: bool = False):\n    export_file = f'games/{datetime.now(timezone(\"Europe/Berlin\")).strftime(\"%d-%m-%Y_%H_%M_%S_%f\")}.txt'\n    with open(export_file, 'w') as export:\n        tablebase = open_tablebase(tablebase_dir, custom_tablebase)\n        board = load_endgame_config(endgame_config)\n        export.write(f'{board.fen()}, ')\n        try:\n            check_for_mates(board)\n            while True:\n                if not export_only: display(board)\n                white_move(board, export_only)      #Asks user for legal move, random move or autoplay and executes it on the board\n                export.write(f'{board.peek()}, ')\n                check_for_mates(board)\n                if not export_only: clear_output()\n                if not export_only: display(board)\n                black_move(board, tablebase)        #Gets DTMs from tablebase and executes the best legal move for black on the board\n                export.write(f'{board.peek()}, ')\n                check_for_mates(board)\n        except Mate:\n            export.write(mate.message)\n            if not export_only: \n                display(board)\n                print(mate.message)\n            print(f\"Saved game at {export_file}\")\n        finally:\n            tablebase.close()",
   "metadata": {
    "cell_id": "3faa30e2-605a-40bf-90c4-78e93bb80eec",
    "tags": [],
    "deepnote_to_be_reexecuted": false,
    "source_hash": "631b0e50",
    "execution_start": 1645376232820,
    "execution_millis": 9,
    "deepnote_cell_type": "code"
   },
   "outputs": [],
   "execution_count": null
  },
  {
   "cell_type": "code",
   "source": "def open_tablebase(tablebase_dir: str, custom_tablebase: bool) -> Union[chess.gaviota.NativeTablebase, CustomTablebase]:\n    return chess.gaviota.open_tablebase(tablebase_dir)",
   "metadata": {
    "cell_id": "7c80ff22-55bb-4776-a8b0-2d1ba689b1cc",
    "tags": [],
    "deepnote_to_be_reexecuted": false,
    "source_hash": "881e834a",
    "execution_start": 1645376242767,
    "execution_millis": 4,
    "deepnote_cell_type": "code"
   },
   "outputs": [],
   "execution_count": null
  },
  {
   "cell_type": "code",
   "source": "def load_endgame_config(endgame_config: Union[str, List[chess.Piece]]) -> chess.Board:\n    \n    #str (fen or epd)\n    if isinstance(endgame_config, str) and len(endgame_config > 8):\n        return chess.Board(endgame_config)\n    \n    #str (pieces_str)\n    elif isinstance(endgame_config, str) and len(endgame_config <= 8):\n        pass\n\n    #list (list of chess.Piece)\n    elif isinstance(endgame_config, list):\n        pass\n\n    #bool (winning color, random endgame)\n    elif isinstance(endgame_config, bool):\n        pass\n    \n    raise InvalidEndgameConfig(\"endgame_config is not interpretable. Try again with FEN, EPD, string of pieces, list of pieces or winning color\")",
   "metadata": {
    "cell_id": "d3d68d1a-9240-41ea-8d0b-913b7f6fe234",
    "tags": [],
    "deepnote_to_be_reexecuted": false,
    "source_hash": "679449dc",
    "execution_start": 1645376337150,
    "execution_millis": 1,
    "deepnote_cell_type": "code"
   },
   "outputs": [],
   "execution_count": null
  },
  {
   "cell_type": "code",
   "source": "def check_for_mates(board: chess.Board) -> None:\n    pass",
   "metadata": {
    "cell_id": "f120b79b-8db8-4838-8ea7-6606f491fda6",
    "tags": [],
    "deepnote_to_be_reexecuted": false,
    "source_hash": "4091d820",
    "execution_start": 1645375957412,
    "execution_millis": 3,
    "deepnote_cell_type": "code"
   },
   "outputs": [],
   "execution_count": null
  },
  {
   "cell_type": "code",
   "source": "def white_move(board: chess.Board, export_only: bool) -> None:\n    pass",
   "metadata": {
    "cell_id": "fe707ed9-ce9c-447d-8698-175431d8d8ee",
    "tags": [],
    "deepnote_to_be_reexecuted": false,
    "source_hash": "7b07ec07",
    "execution_start": 1645375957824,
    "execution_millis": 3,
    "deepnote_cell_type": "code"
   },
   "outputs": [],
   "execution_count": null
  },
  {
   "cell_type": "code",
   "source": "def black_move(board: chess.Board, tablebase: Union[chess.gaviota.NativeTablebase, CustomTablebase]) -> None:\n    pass",
   "metadata": {
    "cell_id": "40652c80-3940-41f9-b02d-3f85afdc821c",
    "tags": [],
    "deepnote_to_be_reexecuted": false,
    "source_hash": "20d7043",
    "execution_start": 1645375958333,
    "execution_millis": 6,
    "deepnote_cell_type": "code"
   },
   "outputs": [],
   "execution_count": null
  },
  {
   "cell_type": "code",
   "source": "",
   "metadata": {
    "cell_id": "3a86ce8a-b4d9-4e3a-81d8-f99f7454baed",
    "tags": [],
    "deepnote_cell_type": "code"
   },
   "outputs": [],
   "execution_count": null
  },
  {
   "cell_type": "markdown",
   "source": "<a style='text-decoration:none;line-height:16px;display:flex;color:#5B5B62;padding:10px;justify-content:end;' href='https://deepnote.com?utm_source=created-in-deepnote-cell&projectId=f6e34dfb-c85e-40db-bde6-d0ca8b0148c0' target=\"_blank\">\n<img alt='Created in deepnote.com' style='display:inline;max-height:16px;margin:0px;margin-right:7.5px;' src='data:image/svg+xml;base64,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' > </img>\nCreated in <span style='font-weight:600;margin-left:4px;'>Deepnote</span></a>",
   "metadata": {
    "tags": [],
    "created_in_deepnote_cell": true,
    "deepnote_cell_type": "markdown"
   }
  }
 ],
 "nbformat": 4,
 "nbformat_minor": 2,
 "metadata": {
  "orig_nbformat": 2,
  "deepnote": {
   "is_reactive": false
  },
  "deepnote_notebook_id": "8340e741-2e3a-4c2b-b30d-d3eb96b08aac",
  "deepnote_execution_queue": []
 }
}