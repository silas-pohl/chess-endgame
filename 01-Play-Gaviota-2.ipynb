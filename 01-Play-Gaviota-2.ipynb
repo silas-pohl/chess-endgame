{
 "cells": [
  {
   "cell_type": "code",
   "metadata": {
    "tags": [],
    "deepnote_to_be_reexecuted": false,
    "source_hash": "f2b9d08b",
    "execution_start": 1645275304460,
    "execution_millis": 24,
    "deepnote_app_coordinates": {
     "x": 0,
     "y": null,
     "w": 12,
     "h": 5
    },
    "cell_id": "e37dc70a-83cc-447a-89db-4abeba403349",
    "deepnote_cell_type": "code",
    "deepnote_cell_height": 153,
    "deepnote_output_heights": [
     2
    ]
   },
   "source": "from IPython.core.display import HTML\nwith open('./style.css') as f:\n    css = f.read()\nHTML(css)",
   "execution_count": null,
   "outputs": [
    {
     "output_type": "execute_result",
     "execution_count": 1,
     "data": {
      "text/plain": "<IPython.core.display.HTML object>",
      "text/html": "<link href='http://fonts.googleapis.com/css?family=Alegreya+Sans:100,300,400,500,700,800,900,100italic,300italic,400italic,500italic,700italic,800italic,900italic' rel='stylesheet' type='text/css'>\n<link href='http://fonts.googleapis.com/css?family=Arvo:400,700,400italic' rel='stylesheet' type='text/css'>\n<link href='http://fonts.googleapis.com/css?family=PT+Mono' rel='stylesheet' type='text/css'>\n<link href='http://fonts.googleapis.com/css?family=Shadows+Into+Light' rel='stylesheet' type='text/css'>\n<link href='http://fonts.googleapis.com/css?family=Philosopher:400,700,400italic,700italic' rel='stylesheet' type='text/css'>\n\n<style>\n\n@font-face {\n    font-family: \"Computer Modern\";\n    src: url('http://mirrors.ctan.org/fonts/cm-unicode/fonts/otf/cmunss.otf');\n}\n\n.container { width: 100% }\n\n/* Formatting for header cells */\n.text_cell_render h1 {\n    font-family: 'Philosopher', sans-serif;\n    font-weight: 400;\n    font-size: 2.2em;\n    line-height: 100%;\n    color: rgb(0, 80, 120);\n    margin-bottom: 0.1em;\n    margin-top: 0.1em;\n    display: block;\n}\t\n.text_cell_render h2 {\n    font-family: 'Philosopher', serif;\n    font-weight: 400;\n    font-size: 1.9em;\n    line-height: 100%;\n    color: rgb(200,100,0);\n    margin-bottom: 0.1em;\n    margin-top: 0.1em;\n    display: block;\n}\t\n\n.text_cell_render h3 {\n    font-family: 'Philosopher', serif;\n    margin-top:12px;\n    margin-bottom: 3px;\n    font-style: italic;\n    color: rgb(94,127,192);\n}\n\n.text_cell_render h4 {\n    font-family: 'Philosopher', serif;\n}\n\n.text_cell_render h5 {\n    font-family: 'Alegreya Sans', sans-serif;\n    font-weight: 300;\n    font-size: 16pt;\n    color: grey;\n    font-style: italic;\n    margin-bottom: .1em;\n    margin-top: 0.1em;\n    display: block;\n}\n\n.text_cell_render h6 {\n    font-family: 'PT Mono', sans-serif;\n    font-weight: 300;\n    font-size: 10pt;\n    color: grey;\n    margin-bottom: 1px;\n    margin-top: 1px;\n}\n\n.text_cell_render em {\n    font-family: 'Philosopher', sans-serif;\n    color:        blue;\n    background-color: rgb(255,220,180);\n    font-size:    110%;\n    margin-left:   2px;\n    margin-right:  2px;\n    font-weight:   100;\n}\n\n.text_cell_render b {\n    color:            rgb(255,195,195);\n    background-color: rgb(0,0,0);\n    font-size:    110%;\n    margin-left:   2px;\n    margin-right:  2px;\n    font-weight:   650;\n}\n\n.text_cell_render tt {\n    font-size:    120%;\n    margin-left:   2px;\n    margin-right:  2px;\n    font-weight:   150;\n}\n\n.Codemirror {\n    font-family: \"PT Mono\";\n    font-size: 100%;\n}\n\n</style>\n\n"
     },
     "metadata": {}
    }
   ]
  },
  {
   "cell_type": "markdown",
   "source": "<h1>Play Chess Endgames Using Endgame Databases</h1>",
   "metadata": {
    "tags": [],
    "deepnote_app_coordinates": {
     "x": 0,
     "y": 6,
     "w": 12,
     "h": 5
    },
    "cell_id": "00001-614e6dec-17ed-43ed-aee2-fad58d7032b0",
    "deepnote_cell_type": "markdown",
    "deepnote_cell_height": 82
   }
  },
  {
   "cell_type": "markdown",
   "source": "<h2>What Should Be Created?</h2>\n<div style=\"text-align: justify\">\nThe following Jupyter Notebook is used to create the class ChessEndgame, which allows to play chess endgames. To simulate the chess game itself the Python package <a href='https://python-chess.readthedocs.io/en/latest/'>python-chess</a> is used. The endgame positions to be played can be created manually or generated randomly. White starts to move. The white moves can be executed by the user or randomly selected. The black moves are executed by the program. It relies on the Gaviota tablebase to determine the best possible move in any given case. Each game is exported and may be re-imported to retrace the game.\n</div>",
   "metadata": {
    "tags": [],
    "deepnote_app_coordinates": {
     "x": 0,
     "y": 12,
     "w": 12,
     "h": 5
    },
    "cell_id": "00002-7423d06c-f392-438d-a549-c07478997112",
    "deepnote_cell_type": "markdown",
    "deepnote_cell_height": 175.59375
   }
  },
  {
   "cell_type": "markdown",
   "source": "<h2>What Is Gaviota?</h2>\n<div style=\"text-align: justify\">\nGaviota is a chess engine using <a href='https://www.chessprogramming.org/Gaviota_Tablebases'>Gaviota tablebases</a> which was developed by Miguel A. Ballicora. The tablebases are probed using a C-based API to retrieve depth-to-mate information (e.g. the amount of half-moves until a player is mated) for a given situation on a chess board. It supports endgames with up to 5 figures. However, this implementation is only capable of playing situations with 4 figures. \n</div>",
   "metadata": {
    "tags": [],
    "deepnote_app_coordinates": {
     "x": 0,
     "y": 18,
     "w": 12,
     "h": 5
    },
    "cell_id": "00003-52a8192e-96ec-4cd0-9a4a-24b1d8a77acb",
    "deepnote_cell_type": "markdown",
    "deepnote_cell_height": 153.1875
   }
  },
  {
   "cell_type": "markdown",
   "source": "<h2>Imports And Custom Exceptions</h2>\n<div style=\"text-align: justify\">\nFirst of all, all the required packages must be imported. Additionally we define two exceptions to catch checkmate or stalemate in the course of the game and one exception for the singleton pattern, which is explained in more detail below.\n</div>",
   "metadata": {
    "tags": [],
    "deepnote_app_coordinates": {
     "x": 0,
     "y": 24,
     "w": 12,
     "h": 5
    },
    "cell_id": "00004-bbb4574d-53f3-47d5-9b35-72470c6a5b5d",
    "deepnote_cell_type": "markdown",
    "deepnote_cell_height": 130.796875
   }
  },
  {
   "cell_type": "code",
   "metadata": {
    "tags": [],
    "deepnote_to_be_reexecuted": false,
    "source_hash": "4f1a3280",
    "execution_start": 1645275306168,
    "execution_millis": 712,
    "deepnote_app_coordinates": {
     "x": 0,
     "y": 30,
     "w": 12,
     "h": 5
    },
    "cell_id": "00005-9123bacd-c5d0-4770-9d47-1a1726d8892a",
    "deepnote_cell_type": "code",
    "deepnote_cell_height": 189
   },
   "source": "import chess                                       # Simulate the chess game\nimport chess.gaviota                               # Load Gaviota Tablebase\nfrom IPython.display import display, clear_output  # Better visualization and display of the chess board\nimport random                                      # Random moves and random creation of endgame positions\nfrom datetime import datetime                      # Assign exported games with exact date\nfrom pytz import timezone                          # Assign exported games with exact date\nfrom typing import Union, List, Set                # Types to enable direct method signatures",
   "execution_count": null,
   "outputs": []
  },
  {
   "cell_type": "code",
   "metadata": {
    "tags": [],
    "deepnote_to_be_reexecuted": false,
    "source_hash": "48a34285",
    "execution_start": 1645275307069,
    "execution_millis": 11,
    "deepnote_app_coordinates": {
     "x": 0,
     "y": 36,
     "w": 12,
     "h": 5
    },
    "cell_id": "00006-376b0eb0-2a68-4f66-ae22-57f533d800ae",
    "deepnote_cell_type": "code",
    "deepnote_cell_height": 99
   },
   "source": "class Mate(Exception): pass\nclass Singleton(Exception): pass",
   "execution_count": null,
   "outputs": []
  },
  {
   "cell_type": "markdown",
   "source": "<h2>Definition Of the Basic Construct Of the Class</h2>\n<div style=\"text-align: justify\">\nThe main class ChessEndgame, will be used to play a game. This initially consists of three methods and is later extended incrementally by further methods. The basic idea is that the class is instantiated and we can play various endgames with the help of this class. To reduce the constant opening and closing of the tablebase, the tablebase should not be opened per game run with the context manager keyword <code>with</code>, but should be managed by the instance of the class itself. To make this possible the tablebase must be opened when the instance is created and closed when the instance is deleted. \n<br/><br/>\nHowever, it should be noted that in this way possible errors can occur with multiple instantiation and the resulting parallel access to the tablebase directory. For this reason, the class is implemented according to the singleton pattern, so that only one instance of the class can exist at a time. In principle, the singleton pattern works in such a way that when the class is instantiated, it is first checked whether the class has already been instantiated. If this is the case, the already existing instance will be returned.\n<br/><br/>\n<b><code>__new__(cls, tablebase_dir: str = './gaviota'):</code></b><br/>\nThis pattern is implemented in the <code>__new__</code> method. This is a built-in dunder (double underscore) method, which is called before the actual initialization via <code>__init__</code> method. Within this method we first check with <code>hasattr(cls, 'instance')</code> whether the class (i.e. ChessEndgame) is not yet instantiated. If it is, we create an instance by calling the super constructor (in this case the constructor of object, since every class inherits implicitly from object). After that we create both the tablebase directory, which should be given as a parameter when instantiating (by default <i>./gaviota</i>) and the open tablebase as private attributes of the instance, since these should not be modified directly to avoid any errors with the open tablebase. Finally, the generated instance is returned. If an instance of the class already exists, we do not create a new one, but simply return the existing one. For usability, we also check if a different directory is specified for the tablebase when creating a new instance than the one that already exists and raise an exception to inform the user that <code>load_tablebase()</code> should be used to modify the tablebase. Without this additional check, the already existing instance would simply be returned with the old tablebase open without the user noticing. Since we have already specified the instance's attributes in the <code>__new__</code> method, we can simply use the default initialization method, so we don't need to implement <code>__init__</code> ourselves.\n<br/><br/>\n<b><code>__del__(self):</code></b><br/> \nTo ensure the clean closing of the tablebase access we also need to define the dunder method <code>__del__</code>. This will be called as soon as the instance is deleted. This can be done either via the <code>del</code> keyword or via the garbage collector. The latter deletes the instance if no reference to it exists anymore.\n<br/><br/>\n<b><code>load_tablebase(self, tablebase_dir: str):</code></b><br/> \nFinally the method <code>load_tablebase(tablebase_dir: str)</code> is needed to change the opened tablebase. This receives a string, which must contain a directory of a tablebase. First, the currently open tablebase is closed. Then the new tablebase is opened and both the directory and the tablebase itself are stored in the private attribute <code>_tablebase_dir</code> and <code>_tablebase</code>. \n<br/><br/>\n<b>Remark:</b> Direct data encapsulation does not exist in Python. So the two attributes <code>_tablebase_dir</code> and <code>_tablebase</code> can be retrieved directly from the instance of the class and modified via <code>instance._tablebase</code>. By convention, however, attributes beginning with an underscore are considered private and should not be used directly. Alternatively, the attributes could have been made to start with a dunder (double underscore). This way, Python name mangling intervenes and the attributes are textually replaced with <code>_classname__attribute</code>. Thus, for example, the tablebase could no longer be called by <code>instance.__tablebase</code>, but only by <code>instance._EndgamePlayer__tablebase</code>. However, this name mangling is mainly to prevent name collisions with subclasses and would only complicate the subsequent incremental creation of class methods. For this reason, data encapsulation by convention is sufficient in our case.\n</div>",
   "metadata": {
    "tags": [],
    "deepnote_app_coordinates": {
     "x": 0,
     "y": 42,
     "w": 12,
     "h": 5
    },
    "cell_id": "00007-0fc4ee69-08d8-422a-90f7-9d9708128cc1",
    "deepnote_cell_type": "markdown",
    "deepnote_cell_height": 869.9375
   }
  },
  {
   "cell_type": "code",
   "metadata": {
    "tags": [],
    "deepnote_to_be_reexecuted": false,
    "source_hash": "aaf46547",
    "execution_start": 1645275308104,
    "execution_millis": 14,
    "deepnote_app_coordinates": {
     "x": 0,
     "y": 48,
     "w": 12,
     "h": 5
    },
    "cell_id": "00008-8dfbb5ee-1eed-441b-a16c-ab930af31d0d",
    "deepnote_cell_type": "code",
    "deepnote_cell_height": 387
   },
   "source": "class ChessEndgame:\n\n    def __new__(cls, tablebase_dir: str = './gaviota'):\n        if not hasattr(cls, 'instance'):\n            cls.instance = super(ChessEndgame, cls).__new__(cls)\n            cls.instance._tablebase_dir = tablebase_dir\n            cls.instance._tablebase = chess.gaviota.open_tablebase(tablebase_dir)\n        elif not cls.instance._tablebase_dir == tablebase_dir:\n            raise Singleton(\"Instance of ChessEndgame already exists with different tablebase_dir. Use load_tablebase() to change tablebase.\")\n        return cls.instance\n\n    def __del__(self):\n        self._tablebase.close()\n\n    def load_tablebase(self, tablebase_dir: str):\n        self._tablebase_dir = tablebase_dir\n        self._tablebase.close()\n        self._tablebase = chess.gaviota.open_tablebase(tablebase_dir)",
   "execution_count": null,
   "outputs": []
  },
  {
   "cell_type": "markdown",
   "source": "<h2>Adding Functionality To the Class</h2>\n<div style=\"text-align: justify\">\nNow that we have the basic construct of the class that manages the tablebase, we can incrementally add methods to create the functionality of the class. The following two basic functionalities are needed: Playing endgames and importing games that have already been played.\n</div>",
   "metadata": {
    "tags": [],
    "deepnote_app_coordinates": {
     "x": 0,
     "y": 54,
     "w": 12,
     "h": 5
    },
    "cell_id": "00009-a8240081-5062-42e9-ace1-0c8872d21b59",
    "deepnote_cell_type": "markdown",
    "deepnote_cell_height": 130.796875
   }
  },
  {
   "cell_type": "markdown",
   "source": "<h3>Playing a Game</h3>\n<div style=\"text-align: justify\">\n\n<b><code>play_game(self, inp: Union[str, List[chess.Piece], None] = None, export_only: bool = False) -> None</code></b>\n\nWe need a method <code>play_game()</code> which starts the game flow and exports a log file to allow the game to be tracked and reimported if necessary. For the initalization there should be several possibilities: \n<ul>\n    <li>You should be able to pass a FEN string to load an exact endgame position: <code>inp as String</code></li>\n    <li>You should be able to pass a list of chess pieces to load a random endgame position containing the chess pieces: <code>inp as List</code></li>\n    <li>You should be able to pass no parameter to create a completely random endgame: <code>no inp</code></li>\n    <li>It should be possible to control via a parameter whether the run should be displayed or played automatically and only exported: <code>export_only as Boolean</code></li>\n</ul>\n \n If the game is played and displayed normally, the player should be asked before each white move which move should be executed. Either a move in UCI format (e.g. a1a2) can be entered or the field can be left empty to execute a random move. As already mentioned, the black moves are executed automatically based on the tablebase. The programm then runs until the board is checkmate or stalemate.\n</div>",
   "metadata": {
    "tags": [],
    "deepnote_app_coordinates": {
     "x": 0,
     "y": 60,
     "w": 12,
     "h": 5
    },
    "cell_id": "00010-1d2424d1-613d-4bd5-9a6e-da3cd408f8e6",
    "deepnote_cell_type": "markdown",
    "deepnote_cell_height": 366.984375
   }
  },
  {
   "cell_type": "code",
   "metadata": {
    "tags": [],
    "deepnote_to_be_reexecuted": false,
    "source_hash": "f952f0db",
    "execution_start": 1645275310717,
    "execution_millis": 48,
    "deepnote_app_coordinates": {
     "x": 0,
     "y": 66,
     "w": 12,
     "h": 5
    },
    "cell_id": "00011-a27ce0e5-e8f3-4fd1-a11a-0a60a2dbf4b1",
    "deepnote_cell_type": "code",
    "deepnote_cell_height": 711
   },
   "source": "def play_game(self, endgame_config: Union[str, List[chess.Piece], bool] = None, export_only: bool = False) -> None:\n    #Unique name of the export file\n    export_file = f'games/{datetime.now(timezone(\"Europe/Berlin\")).strftime(\"%d-%m-%Y_%H_%M_%S_%f\")}.txt'\n    with open(export_file, 'w') as export:\n        #Initialize the board with a FEN string, randomly with list of pieces or completely random with three pieces\n        if isinstance(endgame_config, str): \n            board = chess.Board(endgame_config)\n        elif isinstance(endgame_config, list): \n            board = chess.Board(self._generate_fen(endgame_config))\n        elif isinstance(endgame_config, bool): \n            board = chess.Board(self._generate_fen(self._create_random_pieces_str(endgame_config)))\n        else:\n            print(\"Endgame Config not interpretable. Try again with EPD-string, Pieces-string or winning color\")\n        #Write starting FEN to export file\n        export.write(f'{board.fen()}, ')\n        try:  \n            self._check_for_mates(board)                  #Checks if starting position is check- or stalemate\n            while True :                                  #Main loop for the game flow, which is interrupted only by exceptions\n                if not export_only: display(board)        #Displays board on start or after black move\n                self._white_move(board, export_only)      #Asks user for legal move, random move or autoplay and executes it on the board\n                export.write(f'{board.peek()}, ')         #Writes last move (white_move) to export file\n                self._check_for_mates(board)              #Checks if new board is check- or stalemate\n                if not export_only: clear_output()        #Resets output\n                if not export_only: display(board)        #Displays board after white move\n                self._black_move(board)                   #Executes the best legal move for black on the board\n                export.write(f'{board.peek()}, ')         #Writes last move (black move) to export file\n                self._check_for_mates(board)              #Checks if new board is check- or stalemate\n        except Mate as mate:\n            export.write(mate.message)\n            if not export_only: \n                display(board)\n                print(mate.message)\n            print(f\"Saved game at {export_file}\")\n\nsetattr(ChessEndgame, 'play_game', play_game)\ndel play_game",
   "execution_count": null,
   "outputs": []
  },
  {
   "cell_type": "code",
   "metadata": {
    "tags": [],
    "deepnote_app_coordinates": {
     "x": 0,
     "y": 72,
     "w": 12,
     "h": 5
    },
    "cell_id": "00012-2cf14363-dca8-4c47-8da1-0696d6f9367f",
    "deepnote_to_be_reexecuted": false,
    "source_hash": "c3a40848",
    "execution_start": 1645275310782,
    "execution_millis": 29,
    "deepnote_cell_type": "code",
    "deepnote_cell_height": 396.1875
   },
   "source": "def initialize_board(self, endgame_config: Union[str, List[chess.Piece], bool] = chess.BLACK) -> chess.Board:\n\"\"\"Initializes and returns the chess board with a given endgame configuration (epd string, piece string, list of pieces or winning color)\"\"\"\n    if isinstance(endgame_config, str):\n        epd = endgame_config                        #endgame_config is epd string\n        epd = _generate_epd(endgame_config)         #endgame_config is piece string\n    elif isinstance(endgame_config, list):\n        epd = _generate_epd(endgame_config)         #endgame_config is list of pieces\n    elif isinstance(endgame_config, bool):\n        epd = _generate_random_epd(endgame_config)  #endgame_config is winning color\n    else:\n        print()\n    return chess.Board(epd)\n\nsetattr(ChessEndgame, '_initialize_board', initialize_board)\ndel initialize_board",
   "execution_count": null,
   "outputs": [
    {
     "output_type": "error",
     "ename": "IndentationError",
     "evalue": "expected an indented block (<ipython-input-6-9f8d90b6ba16>, line 2)",
     "traceback": [
      "\u001b[0;36m  File \u001b[0;32m\"<ipython-input-6-9f8d90b6ba16>\"\u001b[0;36m, line \u001b[0;32m2\u001b[0m\n\u001b[0;31m    \"\"\"Initializes and returns the chess board with a given endgame configuration (epd string, piece string, list of pieces or winning color)\"\"\"\u001b[0m\n\u001b[0m    ^\u001b[0m\n\u001b[0;31mIndentationError\u001b[0m\u001b[0;31m:\u001b[0m expected an indented block\n"
     ]
    }
   ]
  },
  {
   "cell_type": "markdown",
   "source": "<div style=\"text-align: justify\">\n\nIn order to increase the readabilty of the <code>play_game()</code> method, it uses several private auxiliary functions which will be explained below in further detail:\n<ul>\n<li><b><code>_generate_fen(self, pieces: List[chess.Piece]) -> str:</code></b></li>\n<li><b><code>_generate_random_fen(self) -> str:</code></b></li>\n<li><b><code>_check_for_mates(self, board: chess.Board) -> None:</code></b></li>\n<li><b><code>_white_move(self, board: chess.Board, export_only: bool) -> None:</code></b></li>\n<li><b><code>_black_move(self, board: chess.Board) -> None:</code></b></li>\n</ul>\n</div>",
   "metadata": {
    "tags": [],
    "deepnote_app_coordinates": {
     "x": 0,
     "y": 78,
     "w": 12,
     "h": 5
    },
    "cell_id": "00013-f81d949a-24ad-46c3-8c69-71c290af2bb6",
    "deepnote_cell_type": "markdown",
    "deepnote_cell_height": 204.390625
   }
  },
  {
   "cell_type": "markdown",
   "source": "<div style=\"text-align: justify\">\n\n<b><code>_generate_fen(self, pieces: List[chess.Piece]) -> str:</code></b>\n\nThis class method will generate a FEN-string from a list of pieces, by placing the pieces randomly on the board at legal positions. It is used if no FEN-string, but a list of pieces is provided by the user to the `play_game()` method. \n\nAfter receiving a list of pieces, <code>generate_fen()</code> will initially create an empty board. Next it will define the internal method `invalid_bishops()`, which is necessary to validate the Board. The already existing method <code>.is_valid()</code> checks the board only for a certain number of criteria (see [here](\"https://python-chess.readthedocs.io/en/latest/core.html?highlight=is_valid#chess.Board.is_valid\")). The check whether the pieces can be in the respective position at all in the course of a legal game is only performed for the pawn (it must not be in the back row: <code>STATUS_PAWNS_ON_BACKRANK</code>). In principle, all other pieces can be in any position as a result of a legal chess game (even the knight: see [here](\"https://scholarworks.sjsu.edu/cgi/viewcontent.cgi?article=8383&context=etd_theses\")), but with one exception: bishops. If there are two bishops on the board, they must not be on the same square color. The internal method <code>invalid_bishops()</code> first checks if there are two bishops on the board. If so, the respective fields are calculated modulo 16, because the colors of the fields repeat every 16 fields (0, 16, 32, etc. are the same). Then we determine the exact color of the field (&lt;8 is dark (&#8793;True) if field is even, &ge;8 is dark (&#8793;True) if field is uneven). The last step is to XOR the resulting colors to determine if they are distinct.\n\nThe `generate_fen()` method will then go on to place each piece on a random field on the board until a valid board is created which is not already checkmate and finally returns the resulting FEN-string.\n</div>",
   "metadata": {
    "tags": [],
    "deepnote_app_coordinates": {
     "x": 0,
     "y": 84,
     "w": 12,
     "h": 5
    },
    "cell_id": "00014-9918a35d-980d-4df6-8282-0b4b74cdea81",
    "deepnote_cell_type": "markdown",
    "deepnote_cell_height": 354.78125
   }
  },
  {
   "cell_type": "code",
   "metadata": {
    "tags": [],
    "deepnote_to_be_reexecuted": false,
    "source_hash": "985d95ea",
    "execution_start": 1645275313337,
    "execution_millis": 0,
    "deepnote_app_coordinates": {
     "x": 0,
     "y": 90,
     "w": 12,
     "h": 5
    },
    "cell_id": "00015-6338daa2-3cd3-49d3-85ed-7d8a95d4daf2",
    "deepnote_cell_type": "code",
    "deepnote_cell_height": 657
   },
   "source": "def generate_fen(self, pieces: List[chess.Piece]) -> str:\n\n    board = chess.Board()\n    board.clear()\n\n    bishop_squares = []\n\n    def invalid_bishops():\n        if len(bishop_squares) == 2:\n            square1, square2 = bishop_squares[0] % 16, bishop_squares[1] % 16\n            get_color = lambda square: square%2 == 0 if square < 8 else square%2 == 1\n            return not get_color(square1) ^ get_color(square2)\n        return False\n\n    while not board.is_valid() or board.is_checkmate() or invalid_bishops():\n\n        #Get random square for each piece as a set (so we can be sure that the positions of the pieces are unique)\n        squares = set()\n        while not len(squares) == len(pieces):\n            squares.add(random.randint(chess.A1, chess.H8))\n\n        #Map each sqaure to a piece\n        mapping = dict(zip(squares, pieces))\n        \n        #Get a list of bishop squares for the invalid_bishops() check\n        bishop_squares = [key for (key, value) in mapping.items() if value == chess.Piece(chess.BISHOP, chess.BLACK)]\n\n        board.set_piece_map(mapping)\n\n    return board.fen()\n\nsetattr(ChessEndgame, '_generate_fen', generate_fen)\ndel generate_fen",
   "execution_count": null,
   "outputs": []
  },
  {
   "cell_type": "markdown",
   "source": "<div style=\"text-align: justify\">\n\n<b><code>_generate_random_fen(self) -> str:</code></b>\n\nThis auxiliary function takes no input and will return a random FEN-string containing both kings as well as up to two additional pieces. It accomplishes this, by generating a random list of the above mentioned pieces and then calling the `generate_fen()` method to place these randomly on a board.\n</div>",
   "metadata": {
    "tags": [],
    "deepnote_app_coordinates": {
     "x": 0,
     "y": 96,
     "w": 12,
     "h": 5
    },
    "cell_id": "00016-cb46bf9b-a3df-4f0c-a04f-d26f425090ea",
    "deepnote_cell_type": "markdown",
    "deepnote_cell_height": 125.1875
   }
  },
  {
   "cell_type": "code",
   "metadata": {
    "tags": [],
    "deepnote_to_be_reexecuted": false,
    "source_hash": "b747356a",
    "execution_start": 1645275315579,
    "execution_millis": 11,
    "deepnote_app_coordinates": {
     "x": 0,
     "y": 102,
     "w": 12,
     "h": 5
    },
    "cell_id": "00017-b0e5da1d-aaea-4cd4-87e1-d6fe676565ab",
    "deepnote_cell_type": "code",
    "deepnote_cell_height": 225
   },
   "source": "def create_random_pieces_string(self, winning_color: bool = chess.BLACK) -> str:\n\n    if winning_color == chess.WHITE:  pieces_strings = ['KRk', 'KQk', 'KBBk', 'KNNk', 'KBNk', 'KQkr']\n    else:                             pieces_strings = ['Kkr', 'Kkq', 'Kkbb', 'Kknn', 'Kkbn', 'KRkq']\n\n    return random.choice(pieces_strings)\n\nsetattr(ChessEndgame, '_create_random_pieces_string', create_random_pieces_string)\ndel create_random_pieces_string",
   "execution_count": null,
   "outputs": []
  },
  {
   "cell_type": "markdown",
   "source": "<div style=\"text-align: justify\">\n\n<b><code>_check_for_mates(self, board: chess.Board) -> None:</code></b>\n\nIn order to continuosly check for stalemate or checkmate, we shall use the following auxiliary function. If so, it will raise a pre-defined exception, which is caught in the main `play_game()` method.  \n</div>",
   "metadata": {
    "tags": [],
    "deepnote_app_coordinates": {
     "x": 0,
     "y": 108,
     "w": 12,
     "h": 5
    },
    "cell_id": "00018-1f049e26-77ad-4f2b-971a-9f492d5516fc",
    "deepnote_cell_type": "markdown",
    "deepnote_cell_height": 125.1875
   }
  },
  {
   "cell_type": "code",
   "metadata": {
    "tags": [],
    "deepnote_to_be_reexecuted": false,
    "source_hash": "110a4a01",
    "execution_start": 1645275317938,
    "execution_millis": 0,
    "deepnote_app_coordinates": {
     "x": 0,
     "y": 114,
     "w": 12,
     "h": 5
    },
    "cell_id": "00019-45ed960f-19ab-4ded-8a16-d9581192a9dc",
    "deepnote_cell_type": "code",
    "deepnote_cell_height": 171
   },
   "source": "def check_for_mates(self, board: chess.Board) -> None:\n    if board.is_checkmate(): raise Mate('Checkmate')\n    if board.is_stalemate(): raise Mate('Stalemate')\n\nsetattr(ChessEndgame, '_check_for_mates', check_for_mates)\ndel check_for_mates",
   "execution_count": null,
   "outputs": []
  },
  {
   "cell_type": "markdown",
   "source": "<div style=\"text-align: justify\">\n\n<b><code>_white_move(self, board: chess.Board, export_only: bool) -> None:</code></b>\n\nThe next function performs the white move, executed by the user of the game. It receives the current board on which it is to perform the move, as well as an `export_only` flag, which may be set. If the latter is set, a random white move will be selected from a list of legal moves. Otherwise, the game will enter a prompt mode, allowing the user to insert the next white move using UCI format. An empty input will also cause a random legal move to be performed. If the entered move is not valid, or does not resemble valid UCI format, corresponding error messages will be displayed. \n</div>",
   "metadata": {
    "tags": [],
    "deepnote_app_coordinates": {
     "x": 0,
     "y": 120,
     "w": 12,
     "h": 5
    },
    "cell_id": "00020-2ce70c53-bed0-479e-a345-772c390c28ef",
    "deepnote_cell_type": "markdown",
    "deepnote_cell_height": 169.984375
   }
  },
  {
   "cell_type": "code",
   "metadata": {
    "tags": [],
    "deepnote_to_be_reexecuted": false,
    "source_hash": "74f29597",
    "execution_start": 1645275320532,
    "execution_millis": 27,
    "deepnote_app_coordinates": {
     "x": 0,
     "y": 126,
     "w": 12,
     "h": 5
    },
    "cell_id": "00021-583027d3-d5b9-4a04-bf5c-07d49f970023",
    "deepnote_cell_type": "code",
    "deepnote_cell_height": 477
   },
   "source": "def white_move(self, board: chess.Board, export_only: bool) -> None:\n\n    if export_only:\n        board.push(random.choice(list(board.generate_legal_moves())))\n        return\n\n    while True:\n        print(\"Please insert your move in UCI format (e.g. a1a2) or leave blank to play a random move:\")\n        move_uci = input()\n        if move_uci == '':\n           board.push(random.choice(list(board.generate_legal_moves())))\n           return\n        try:\n            move = chess.Move.from_uci(move_uci)\n            if move in board.generate_legal_moves():\n                board.push(move)\n                return\n            print(f\"{move_uci} is not a valid move.\")\n        except ValueError:\n            print(f\"{move_uci} is not in valid UCI format.\")\n\nsetattr(ChessEndgame, '_white_move', white_move)\ndel white_move",
   "execution_count": null,
   "outputs": []
  },
  {
   "cell_type": "markdown",
   "source": "<div style=\"text-align: justify\">\n\n<b><code>_black_move(self, board: chess.Board) -> None:</code></b>\n\nThe `black_move()` method executes the black move, as calculated using the Gaviota tablebase. It receives only the current board object as an argument, on which it will perform the next move. \n\nFirst, we create a generator object, containing the available legal moves. The first move will be performed, in order to check for a checkmate. If we did not reach checkmate yet, the first performed move will be stored as the currently best move in the `best_move` variable. Combined with the first move in a tuple, we will store the depth-to-mate value (dtm), which is retrieved from the tablebase. The last move will then be reverted.\n\nWe will then enter a loop over all available legal moves. Each move will be performed on the board. After checking for a checkmate, we will probe the tablebase for the current dtm. The value will then be compared to the dtm of the current best move using the `is_better_move()` method. If the method determines the new move to be better than the `best_move`, it will overwrite the `best_move` with the values of the current move. Lastly, the current move is reverted on the board, in order to prepare for the next possible move in the loop.\n\nAfter the loop, the best of all legal moves is stored together with its dtm in the `best_move` variable. This is the move which is finally performed on the board, before returning. \n</div>",
   "metadata": {
    "tags": [],
    "deepnote_app_coordinates": {
     "x": 0,
     "y": 132,
     "w": 12,
     "h": 5
    },
    "cell_id": "00022-5a49c2e6-6989-49e8-b777-1ea382b2b141",
    "deepnote_cell_type": "markdown",
    "deepnote_cell_height": 346.375
   }
  },
  {
   "cell_type": "code",
   "metadata": {
    "tags": [],
    "deepnote_to_be_reexecuted": false,
    "source_hash": "ddc2d236",
    "execution_start": 1645275323275,
    "execution_millis": 16,
    "deepnote_app_coordinates": {
     "x": 0,
     "y": 138,
     "w": 12,
     "h": 5
    },
    "cell_id": "00023-f7cf1672-20e8-4b39-8409-880601f6f9f4",
    "deepnote_cell_type": "code",
    "deepnote_cell_height": 495
   },
   "source": "def black_move(self, board: chess.Board) -> None:\n    legal_moves = board.generate_legal_moves()\n    move = next(legal_moves)\n    board.push(move)\n    if board.is_checkmate(): \n        return\n    best_move = (move, self._tablebase.probe_dtm(board))\n    board.pop()\n\n    for move in legal_moves:\n        board.push(move)\n        if board.is_checkmate(): \n            return\n        dtm = self._tablebase.probe_dtm(board)\n        if self._is_better_move(dtm, best_move[1]):\n            best_move = (move, dtm)\n        board.pop()\n\n    board.push(best_move[0])\n    print(f\"Current dtm: {best_move[1]}\")\n    return\n\nsetattr(ChessEndgame, '_black_move', black_move)\ndel black_move",
   "execution_count": null,
   "outputs": []
  },
  {
   "cell_type": "markdown",
   "source": "<div style=\"text-align: justify\">\n\nThe method above uses a further auxiliary function `_is_better_move()` in order to determine the best of all possible moves:\n\n<b><code>_is_better_move(self, new: int, old: int) -> bool</code></b>\n\nIt takes two integers, which resemble two depth-to-mate values (as determinded by the Gaviota tablebase) of two different black moves, which are compared. The method will return True, if the move corresponding to the \"new\" argument is better than the \"old\" move. \n\nDue to the specification of the depth-to-mate, the algorithm had to be implemented manually:\n<ul>\n<li>If the value is positive, the side to move is winning, otherwise it is negative</li>\n<li>The absolute value is the number of half-moves until forced mate</li>\n<li>If the value is zero, the game will lead to a draw or is checkmate (this is why we have to check for checkmate before comparing moves)</li>\n</ul>\n\nThis means we have three cases:\n<ol>\n<li> \n    If the old value is positive, white is winning. Better moves would be:\n        <ul>\n        <li>Any greater value than the current, which would increase the number of moves until forced mate</li>\n        <li>Any value of zero or lower: this would flip the game, by indicating either a draw, or that black is winning</li>\n        </ul>\n</li>\n<li>\n    If the old value is negative, black is winning. Better moves would be:\n        <ul>\n        <li>Any value closer to zero (greater than old value), but not zero (because we already checked for checkmate) and not positive</li>\n        </ul>\n</li>\n<li>\n    If the old value is zero, the game is facing a draw. Better moves would be:\n        <ul>\n        <li>Any value less than zero, which would mean that black is winning</li>\n        </ul>\n</li>\n</ol>\n</div>",
   "metadata": {
    "tags": [],
    "deepnote_app_coordinates": {
     "x": 0,
     "y": 144,
     "w": 12,
     "h": 5
    },
    "cell_id": "00024-55f60480-4696-468e-a04b-ebecc04b6e65",
    "deepnote_cell_type": "markdown",
    "deepnote_cell_height": 532.375
   }
  },
  {
   "cell_type": "code",
   "metadata": {
    "tags": [],
    "deepnote_to_be_reexecuted": false,
    "source_hash": "31e868b7",
    "execution_start": 1645275324577,
    "execution_millis": 1,
    "deepnote_app_coordinates": {
     "x": 0,
     "y": 150,
     "w": 12,
     "h": 5
    },
    "cell_id": "00025-9f95b822-ec0d-4f7d-a447-b3e9fee192a7",
    "deepnote_cell_type": "code",
    "deepnote_cell_height": 513
   },
   "source": "def is_better_move(self, new: int, old: int) -> bool:\n    if old > 0:\n        if new > 0:\n            return new > old\n        elif new < 0:\n            return True\n        else:\n            return True\n    elif old < 0:\n        if new > 0:\n            return False\n        elif new < 0:\n            return new > old\n        else:\n            return False\n    else:\n        if new > 0:\n            return False\n        elif new < 0:\n            return True\n        else:\n            return False\n\nsetattr(ChessEndgame, '_is_better_move', is_better_move)\ndel is_better_move",
   "execution_count": null,
   "outputs": []
  },
  {
   "cell_type": "markdown",
   "source": "<h3>Importing a Game From File</h3>\n<div style=\"text-align: justify\">\n\n<b><code>import_game(self, import_file: str) -> None:</code></b>\n\nThe following method `import_game()` allows a player to import a saved game and retrace the moves. It takes the filename of the saved game as a argument and displays all stored moves in order. \n</div>",
   "metadata": {
    "tags": [],
    "deepnote_app_coordinates": {
     "x": 0,
     "y": 156,
     "w": 12,
     "h": 5
    },
    "cell_id": "00026-ae12ba34-8d4d-4d93-bd59-16a7e3eb5cfa",
    "deepnote_cell_type": "markdown",
    "deepnote_cell_height": 173.1875
   }
  },
  {
   "cell_type": "code",
   "metadata": {
    "tags": [],
    "deepnote_to_be_reexecuted": false,
    "source_hash": "37bd6d40",
    "execution_start": 1645275326575,
    "execution_millis": 8,
    "deepnote_app_coordinates": {
     "x": 0,
     "y": 162,
     "w": 12,
     "h": 5
    },
    "cell_id": "00027-6075614e-4cc6-4deb-be3f-eb37228983a3",
    "deepnote_cell_type": "code",
    "deepnote_cell_height": 477
   },
   "source": "def import_game(self, import_file: str) -> None:\n    \n    with open(import_file, 'r') as game:\n        \n        steps = game.readline().rstrip().split(', ')\n\n        if steps[-1] not in ['Checkmate', 'Stalemate']:\n            print('Unfinished game file')\n            return\n\n        board = chess.Board(steps[0])\n        display(board)\n\n        for step in steps[1:]:\n            if step in ['Checkmate', 'Stalemate']:\n                print(step)\n                return\n            board.push(chess.Move.from_uci(step))\n            display(board)\n\n\nsetattr(ChessEndgame, 'import_game', import_game)\ndel import_game",
   "execution_count": null,
   "outputs": []
  },
  {
   "cell_type": "code",
   "metadata": {
    "tags": [],
    "deepnote_to_be_reexecuted": false,
    "source_hash": "4e10eb92",
    "execution_start": 1645275328518,
    "execution_millis": 161,
    "output_cleared": false,
    "deepnote_app_coordinates": {
     "x": 0,
     "y": 168,
     "w": 12,
     "h": 5
    },
    "cell_id": "00028-eab1051a-e379-4efe-9947-885c772d022d",
    "deepnote_cell_type": "code",
    "deepnote_cell_height": 81
   },
   "source": "chessEndgame = ChessEndgame()",
   "execution_count": null,
   "outputs": []
  },
  {
   "cell_type": "code",
   "metadata": {
    "tags": [],
    "deepnote_to_be_reexecuted": false,
    "source_hash": "2106b143",
    "execution_start": 1645275330967,
    "execution_millis": 1210,
    "output_cleared": false,
    "deepnote_app_coordinates": {
     "x": 0,
     "y": 174,
     "w": 12,
     "h": 5
    },
    "cell_id": "00029-322a9b99-1452-4cbc-8191-1c550fcbcb16",
    "deepnote_cell_type": "code",
    "deepnote_cell_height": 189.890625
   },
   "source": "chessEndgame.play_game()",
   "execution_count": null,
   "outputs": [
    {
     "name": "stdout",
     "text": "Endgame Config not interpretable. Try again with EPD-string, Pieces-string or winning color\n",
     "output_type": "stream"
    },
    {
     "output_type": "error",
     "ename": "UnboundLocalError",
     "evalue": "local variable 'board' referenced before assignment",
     "traceback": [
      "\u001b[0;31m---------------------------------------------------------------------------\u001b[0m",
      "\u001b[0;31mUnboundLocalError\u001b[0m                         Traceback (most recent call last)",
      "\u001b[0;32m<ipython-input-16-5ad5bf551541>\u001b[0m in \u001b[0;36m<module>\u001b[0;34m\u001b[0m\n\u001b[0;32m----> 1\u001b[0;31m \u001b[0mchessEndgame\u001b[0m\u001b[0;34m.\u001b[0m\u001b[0mplay_game\u001b[0m\u001b[0;34m(\u001b[0m\u001b[0;34m)\u001b[0m\u001b[0;34m\u001b[0m\u001b[0;34m\u001b[0m\u001b[0m\n\u001b[0m",
      "\u001b[0;32m<ipython-input-5-4b29dc7b2a66>\u001b[0m in \u001b[0;36mplay_game\u001b[0;34m(self, endgame_config, export_only)\u001b[0m\n\u001b[1;32m     13\u001b[0m             \u001b[0mprint\u001b[0m\u001b[0;34m(\u001b[0m\u001b[0;34m\"Endgame Config not interpretable. Try again with EPD-string, Pieces-string or winning color\"\u001b[0m\u001b[0;34m)\u001b[0m\u001b[0;34m\u001b[0m\u001b[0;34m\u001b[0m\u001b[0m\n\u001b[1;32m     14\u001b[0m         \u001b[0;31m#Write starting FEN to export file\u001b[0m\u001b[0;34m\u001b[0m\u001b[0;34m\u001b[0m\u001b[0m\n\u001b[0;32m---> 15\u001b[0;31m         \u001b[0mexport\u001b[0m\u001b[0;34m.\u001b[0m\u001b[0mwrite\u001b[0m\u001b[0;34m(\u001b[0m\u001b[0;34mf'{board.fen()}, '\u001b[0m\u001b[0;34m)\u001b[0m\u001b[0;34m\u001b[0m\u001b[0;34m\u001b[0m\u001b[0m\n\u001b[0m\u001b[1;32m     16\u001b[0m         \u001b[0;32mtry\u001b[0m\u001b[0;34m:\u001b[0m\u001b[0;34m\u001b[0m\u001b[0;34m\u001b[0m\u001b[0m\n\u001b[1;32m     17\u001b[0m             \u001b[0mself\u001b[0m\u001b[0;34m.\u001b[0m\u001b[0m_check_for_mates\u001b[0m\u001b[0;34m(\u001b[0m\u001b[0mboard\u001b[0m\u001b[0;34m)\u001b[0m                  \u001b[0;31m#Checks if starting position is check- or stalemate\u001b[0m\u001b[0;34m\u001b[0m\u001b[0;34m\u001b[0m\u001b[0m\n",
      "\u001b[0;31mUnboundLocalError\u001b[0m: local variable 'board' referenced before assignment"
     ]
    }
   ]
  },
  {
   "cell_type": "code",
   "metadata": {
    "tags": [],
    "deepnote_to_be_reexecuted": true,
    "source_hash": "f04e7a43",
    "execution_start": 1642792703528,
    "execution_millis": 87,
    "output_cleared": true,
    "deepnote_app_coordinates": {
     "x": 0,
     "y": 180,
     "w": 12,
     "h": 5
    },
    "cell_id": "00030-5f419e08-e0dc-4ef3-b9e9-ea7ef101cfd5",
    "deepnote_cell_type": "code",
    "deepnote_cell_height": 81
   },
   "source": "chessEndgame.import_game(\"games/21-01-2022_20:18:10:252010.txt\")",
   "execution_count": null,
   "outputs": []
  },
  {
   "cell_type": "code",
   "metadata": {
    "tags": [],
    "deepnote_to_be_reexecuted": true,
    "source_hash": "30d7cdae",
    "execution_start": 1642948801560,
    "execution_millis": 128,
    "deepnote_app_coordinates": {
     "x": 0,
     "y": 186,
     "w": 12,
     "h": 5
    },
    "cell_id": "00031-1818ca2c-6ef9-4456-b7b4-2ad914ae82f1",
    "deepnote_cell_type": "code",
    "deepnote_cell_height": 135
   },
   "source": "with open(\"./tables/Kkr.txt\", \"r\") as f:\n    sets = f.readlines()\n    for s in sets:\n        exec(s)",
   "execution_count": null,
   "outputs": []
  },
  {
   "cell_type": "code",
   "metadata": {
    "tags": [],
    "deepnote_to_be_reexecuted": false,
    "source_hash": "39e22e3f",
    "execution_start": 1642950740534,
    "execution_millis": 14,
    "deepnote_app_coordinates": {
     "x": 0,
     "y": 192,
     "w": 12,
     "h": 5
    },
    "cell_id": "00032-f4701f60-e670-4c9a-a720-e68f5290656f",
    "deepnote_cell_type": "code",
    "deepnote_cell_height": 189
   },
   "source": "def test_dtm_with_gaviota(self, s: Set[str], dtm: int):\n    for epd in s:\n        board = chess.Board(epd)\n        gaviota_dtm = abs(self._tablebase.probe_dtm(board))\n        assert gaviota_dtm == dtm, f\"FAILED: {board.epd()} -> dtm ({dtm}) != gaviota_dtm ({gaviota_dtm})\"\nsetattr(ChessEndgame, 'test_dtm_with_gaviota', test_dtm_with_gaviota)\ndel test_dtm_with_gaviota",
   "execution_count": null,
   "outputs": []
  },
  {
   "cell_type": "code",
   "metadata": {
    "tags": [],
    "deepnote_app_coordinates": {
     "x": 0,
     "y": 198,
     "w": 12,
     "h": 5
    },
    "cell_id": "00033-84cc150e-801b-4792-9f7c-5750abf31fc5",
    "deepnote_cell_type": "code",
    "deepnote_cell_height": 66
   },
   "source": "",
   "execution_count": null,
   "outputs": []
  },
  {
   "cell_type": "markdown",
   "source": "<a style='text-decoration:none;line-height:16px;display:flex;color:#5B5B62;padding:10px;justify-content:end;' href='https://deepnote.com?utm_source=created-in-deepnote-cell&projectId=f6e34dfb-c85e-40db-bde6-d0ca8b0148c0' target=\"_blank\">\n<img alt='Created in deepnote.com' style='display:inline;max-height:16px;margin:0px;margin-right:7.5px;' src='data:image/svg+xml;base64,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' > </img>\nCreated in <span style='font-weight:600;margin-left:4px;'>Deepnote</span></a>",
   "metadata": {
    "tags": [],
    "created_in_deepnote_cell": true,
    "deepnote_cell_type": "markdown"
   }
  }
 ],
 "nbformat": 4,
 "nbformat_minor": 2,
 "metadata": {
  "orig_nbformat": 2,
  "deepnote": {
   "is_reactive": false
  },
  "deepnote_notebook_id": "3395b980-7f79-4071-bd31-1fb4daed65a7",
  "deepnote_execution_queue": [],
  "deepnote_app_layout": "article"
 }
}