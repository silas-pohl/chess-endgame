{
 "cells": [
  {
   "cell_type": "code",
   "execution_count": 1,
   "metadata": {
    "cell_id": "80fafd6e-a1ad-47cd-b04b-16aa7cd8a972",
    "deepnote_app_coordinates": {
     "h": 5,
     "w": 12,
     "x": 0,
     "y": 0
    },
    "deepnote_cell_height": 153,
    "deepnote_cell_type": "code",
    "deepnote_output_heights": [
     2
    ],
    "deepnote_to_be_reexecuted": false,
    "execution_millis": 32,
    "execution_start": 1648288684415,
    "source_hash": "f2b9d08b",
    "tags": []
   },
   "outputs": [
    {
     "data": {
      "text/html": [
       "<link href='http://fonts.googleapis.com/css?family=Alegreya+Sans:100,300,400,500,700,800,900,100italic,300italic,400italic,500italic,700italic,800italic,900italic' rel='stylesheet' type='text/css'>\n",
       "<link href='http://fonts.googleapis.com/css?family=Arvo:400,700,400italic' rel='stylesheet' type='text/css'>\n",
       "<link href='http://fonts.googleapis.com/css?family=PT+Mono' rel='stylesheet' type='text/css'>\n",
       "<link href='http://fonts.googleapis.com/css?family=Shadows+Into+Light' rel='stylesheet' type='text/css'>\n",
       "<link href='http://fonts.googleapis.com/css?family=Philosopher:400,700,400italic,700italic' rel='stylesheet' type='text/css'>\n",
       "\n",
       "<style>\n",
       "\n",
       "@font-face {\n",
       "    font-family: \"Computer Modern\";\n",
       "    src: url('http://mirrors.ctan.org/fonts/cm-unicode/fonts/otf/cmunss.otf');\n",
       "}\n",
       "\n",
       ".container { width: 100% }\n",
       "\n",
       "/* Formatting for header cells */\n",
       ".text_cell_render h1 {\n",
       "    font-family: 'Philosopher', sans-serif;\n",
       "    font-weight: 400;\n",
       "    font-size: 2.2em;\n",
       "    line-height: 100%;\n",
       "    color: rgb(0, 80, 120);\n",
       "    margin-bottom: 0.1em;\n",
       "    margin-top: 0.1em;\n",
       "    display: block;\n",
       "}\t\n",
       ".text_cell_render h2 {\n",
       "    font-family: 'Philosopher', serif;\n",
       "    font-weight: 400;\n",
       "    font-size: 1.9em;\n",
       "    line-height: 100%;\n",
       "    color: rgb(200,100,0);\n",
       "    margin-bottom: 0.1em;\n",
       "    margin-top: 0.1em;\n",
       "    display: block;\n",
       "}\t\n",
       "\n",
       ".text_cell_render h3 {\n",
       "    font-family: 'Philosopher', serif;\n",
       "    margin-top:12px;\n",
       "    margin-bottom: 3px;\n",
       "    font-style: italic;\n",
       "    color: rgb(94,127,192);\n",
       "}\n",
       "\n",
       ".text_cell_render h4 {\n",
       "    font-family: 'Philosopher', serif;\n",
       "}\n",
       "\n",
       ".text_cell_render h5 {\n",
       "    font-family: 'Alegreya Sans', sans-serif;\n",
       "    font-weight: 300;\n",
       "    font-size: 16pt;\n",
       "    color: grey;\n",
       "    font-style: italic;\n",
       "    margin-bottom: .1em;\n",
       "    margin-top: 0.1em;\n",
       "    display: block;\n",
       "}\n",
       "\n",
       ".text_cell_render h6 {\n",
       "    font-family: 'PT Mono', sans-serif;\n",
       "    font-weight: 300;\n",
       "    font-size: 10pt;\n",
       "    color: grey;\n",
       "    margin-bottom: 1px;\n",
       "    margin-top: 1px;\n",
       "}\n",
       "\n",
       ".text_cell_render em {\n",
       "    font-family: 'Philosopher', sans-serif;\n",
       "    color:        blue;\n",
       "    background-color: rgb(255,220,180);\n",
       "    font-size:    110%;\n",
       "    margin-left:   2px;\n",
       "    margin-right:  2px;\n",
       "    font-weight:   100;\n",
       "}\n",
       "\n",
       ".text_cell_render b {\n",
       "    color:            rgb(255,195,195);\n",
       "    background-color: rgb(0,0,0);\n",
       "    font-size:    110%;\n",
       "    margin-left:   2px;\n",
       "    margin-right:  2px;\n",
       "    font-weight:   650;\n",
       "}\n",
       "\n",
       ".text_cell_render tt {\n",
       "    font-size:    120%;\n",
       "    margin-left:   2px;\n",
       "    margin-right:  2px;\n",
       "    font-weight:   150;\n",
       "}\n",
       "\n",
       ".Codemirror {\n",
       "    font-family: \"PT Mono\";\n",
       "    font-size: 100%;\n",
       "}\n",
       "\n",
       "</style>\n",
       "\n"
      ],
      "text/plain": [
       "<IPython.core.display.HTML object>"
      ]
     },
     "execution_count": 1,
     "metadata": {},
     "output_type": "execute_result"
    }
   ],
   "source": [
    "from IPython.core.display import HTML\n",
    "with open('./style.css') as f:\n",
    "    css = f.read()\n",
    "HTML(css)"
   ]
  },
  {
   "cell_type": "markdown",
   "metadata": {
    "cell_id": "bd961712-23b7-4bd8-8ff9-5d8eb03f262e",
    "deepnote_cell_height": 82,
    "deepnote_cell_type": "markdown",
    "tags": []
   },
   "source": [
    "<h1>Building a Tablebase</h1>"
   ]
  },
  {
   "cell_type": "code",
   "execution_count": 20,
   "metadata": {
    "cell_id": "85fe591e-8f29-49d1-a7ec-08cf5eb82a31",
    "deepnote_cell_height": 225,
    "deepnote_cell_type": "code",
    "deepnote_to_be_reexecuted": false,
    "execution_millis": 293,
    "execution_start": 1648288686407,
    "output_cleared": false,
    "source_hash": "4096d7b4",
    "tags": []
   },
   "outputs": [],
   "source": [
    "import chess                                       # Simulate the chess game\n",
    "import chess.gaviota                               # Load Gaviota Tablebase\n",
    "from IPython.display import display, clear_output  # Better visualization and display of the chess board\n",
    "import random                                      # Random moves and random creation of endgame positions\n",
    "from typing import Union, List, Set                # Types to enable direct method signatures\n",
    "import re     \n",
    "import sqlite3\n",
    "import pickle\n",
    "import os.path"
   ]
  },
  {
   "cell_type": "code",
   "execution_count": 21,
   "metadata": {},
   "outputs": [],
   "source": [
    "DIRECTORIES = {\n",
    "    'S_SETS': 's_sets',\n",
    "    'TABLEBASES': 'tables'\n",
    "}"
   ]
  },
  {
   "cell_type": "markdown",
   "metadata": {
    "cell_id": "dac8d6bb-c5ea-40ad-aac1-c551489d774c",
    "deepnote_cell_height": 469.96875,
    "deepnote_cell_type": "markdown",
    "tags": []
   },
   "source": [
    "<h2>Board representation</h2>\n",
    "<div style=\"text-align: justify\">\n",
    "In order to build a large tablebase capable of storing hundreds of thousands of possible board positions, it is important to choose an effective representation of a board to store. At first, one possibility might be to store the board using the FEN-string notation, however, strings use a large amount of memory. Encoding a single board in a smaller datatype, makes it possible for us to do computations with larger datasets in memory. We do this by implementing two helper functions <b><code>board_to_int</code></b> and <b><code>int_to_board</code></b>. They enable us to encode a chess board given the current endgame as <b><code>pieces_str</code></b> as an integer and vice versa.\n",
    "<br/><br/>\n",
    "<h3>Encoding</h3>\n",
    "<div style=\"text-align: justify\">\n",
    "The basic idea is to assign a byte within a python bytearray to each piece on the board. The value held by the byte is the position of the piece where each field is given an value between 0 and 63. The <b><code>piece_map</code></b> method within python-chess returns a dictionary containing each piece and its field. We shall use this dictionary to iterate over the chess pieces and assign the bytes. If a piece has been captured the corresponding byte will be set to <b>0xff</b>. The last byte will hold the turn information, which is stored as well as either one or zero. Finally, the resulting bytearray is encoded as a single integer and returned. \n",
    "<br/><br/>\n",
    "<b>Remark:</b> Python does in fact store all integers in at least 28 bytes, which makes further optimisation of the encoding unecessary. \n",
    "</div>"
   ]
  },
  {
   "cell_type": "code",
   "execution_count": 22,
   "metadata": {
    "cell_id": "b7870d55-4d60-4182-850d-4dc9de55cb21",
    "deepnote_cell_height": 279,
    "deepnote_cell_type": "code",
    "deepnote_to_be_reexecuted": false,
    "execution_millis": 7,
    "execution_start": 1648288687587,
    "source_hash": "e4cf4711",
    "tags": []
   },
   "outputs": [],
   "source": [
    "def board_to_int(board, pieces_str):\n",
    "    piece_map = board.piece_map()\n",
    "    representation = bytearray(len(pieces_str) + 1)\n",
    "    for i, piece_symbol in enumerate(pieces_str):\n",
    "        position_list = [pos for pos, piece in piece_map.items() if piece == chess.Piece.from_symbol(piece_symbol)]\n",
    "        if not position_list: \n",
    "            representation[i] = 0xFF\n",
    "        else:\n",
    "            piece_map.pop(position_list[0])\n",
    "            representation[i] = position_list[0]\n",
    "    representation[-1] = board.turn\n",
    "    return int.from_bytes(representation, 'little')"
   ]
  },
  {
   "cell_type": "markdown",
   "metadata": {
    "cell_id": "b3f3a1ce-023d-44a0-b18b-c0870dfb3831",
    "deepnote_cell_height": 122.796875,
    "deepnote_cell_type": "markdown",
    "tags": []
   },
   "source": [
    "<h3>Decoding</h3>\n",
    "<div style=\"text-align: justify\">\n",
    "Similarly, to decode an integer, the bytearray is transformed back into a piece mapping. The resulting dictionary can be used to initialize a new chess board. \n",
    "</div>"
   ]
  },
  {
   "cell_type": "code",
   "execution_count": 23,
   "metadata": {
    "cell_id": "370303e5-8472-4924-9b20-2b0343909871",
    "deepnote_cell_height": 243,
    "deepnote_cell_type": "code",
    "deepnote_to_be_reexecuted": false,
    "execution_millis": 22,
    "execution_start": 1648288688916,
    "source_hash": "bc0edeb4",
    "tags": []
   },
   "outputs": [],
   "source": [
    "def int_to_board(representation, pieces_str):\n",
    "    board = chess.Board(None)\n",
    "    byte_representation = representation.to_bytes(len(pieces_str)+1, \"little\")\n",
    "    mapping = dict(zip(byte_representation[:-1], [chess.Piece.from_symbol(piece_symbol) for piece_symbol in pieces_str]))\n",
    "    for pos in mapping.keys():\n",
    "        if pos == 0xFF: mapping.pop(pos)\n",
    "    board.set_piece_map(mapping)\n",
    "    board.turn = byte_representation[-1]\n",
    "    return board"
   ]
  },
  {
   "cell_type": "markdown",
   "metadata": {
    "cell_id": "679d2c46-76db-447d-bd5f-46c1d06bbe03",
    "deepnote_cell_height": 74.796875,
    "deepnote_cell_type": "markdown",
    "tags": []
   },
   "source": [
    "To demonstrate this, we will create a board from a given FEN string, encode it as an integer and then transform it back into FEN representation."
   ]
  },
  {
   "cell_type": "code",
   "execution_count": 24,
   "metadata": {
    "cell_id": "224c743f-90e5-4182-a753-3462c81f5cc3",
    "deepnote_cell_height": 221.390625,
    "deepnote_cell_type": "code",
    "deepnote_to_be_reexecuted": false,
    "execution_millis": 37,
    "execution_start": 1648288690579,
    "source_hash": "5fc9f0d8",
    "tags": []
   },
   "outputs": [
    {
     "name": "stdout",
     "output_type": "stream",
     "text": [
      "FEN to INT: '3K4/8/4k3/8/8/8/8/2r5 b - - 0 1' -> 142395\n",
      "INT to FEN: 142395 -> '3K4/8/4k3/8/8/8/8/2r5 b - - 0 1'\n"
     ]
    }
   ],
   "source": [
    "fen = '3K4/8/4k3/8/8/8/8/2r5 b - - 0 1'\n",
    "board = chess.Board(fen)\n",
    "representation = board_to_int(board, 'Kkr')\n",
    "new_board = int_to_board(representation, 'Kkr')\n",
    "print(f\"FEN to INT: '{fen}' -> {representation}\")\n",
    "print(f\"INT to FEN: {representation} -> '{new_board.fen()}'\")"
   ]
  },
  {
   "cell_type": "markdown",
   "metadata": {
    "cell_id": "550b9be6-4a2f-4146-bec5-c1f463132545",
    "deepnote_cell_height": 268.390625,
    "deepnote_cell_type": "markdown",
    "tags": []
   },
   "source": [
    "<h2>Retrograde Analysis</h2>\n",
    "<div style=\"text-align: justify\">\n",
    "We shall use the following algorithm to calculate the depth-to-mate for every possible board within a given endgame. \n",
    "</div>\n",
    "<br/><br/>\n",
    "<h3>Calculating All Possible Permutations</h3>\n",
    "<div style=\"text-align: justify\">\n",
    "Initially we have to calculate a set <b><code>s</code></b> containing all legal positions for a given endgame. We do this by iterating each chess piece over each chess field from 0-63. The helper function <b><code>shift_positions</code></b> takes a list containing the position of each piece on the board and will shift a single piece one field further, in order to generate the next permutation. \n",
    "</div>"
   ]
  },
  {
   "cell_type": "code",
   "execution_count": 25,
   "metadata": {
    "cell_id": "64f36e06-8aea-4928-8bfe-9c9c1b61b112",
    "deepnote_cell_height": 225,
    "deepnote_cell_type": "code",
    "deepnote_to_be_reexecuted": false,
    "execution_millis": 6,
    "execution_start": 1648288696620,
    "source_hash": "e033abf3",
    "tags": []
   },
   "outputs": [],
   "source": [
    "def shift_positions(positions):\n",
    "    for i, pos in enumerate(positions[::-1]):\n",
    "        if pos == 63: \n",
    "            positions[-(i+1)] = 0\n",
    "            continue\n",
    "        else: \n",
    "            positions[-(i+1)] += 1\n",
    "            break\n",
    "    return positions"
   ]
  },
  {
   "cell_type": "markdown",
   "metadata": {
    "cell_id": "18d9cd75-1bd8-406d-a8a8-317e46b6dc55",
    "deepnote_cell_height": 52.390625,
    "deepnote_cell_type": "markdown",
    "tags": []
   },
   "source": [
    "If a piece has reached the end of the board, it will be set back to the beginning and increment the next piece. "
   ]
  },
  {
   "cell_type": "code",
   "execution_count": 26,
   "metadata": {
    "cell_id": "2fb73414-6cac-46f7-a3a0-0eee1b22d1a7",
    "deepnote_cell_height": 118.1875,
    "deepnote_cell_type": "code",
    "deepnote_output_heights": [
     21.1875
    ],
    "deepnote_to_be_reexecuted": false,
    "execution_millis": 4,
    "execution_start": 1648288705740,
    "source_hash": "2b0f58f5",
    "tags": []
   },
   "outputs": [
    {
     "data": {
      "text/plain": [
       "[0, 2, 0, 0]"
      ]
     },
     "execution_count": 26,
     "metadata": {},
     "output_type": "execute_result"
    }
   ],
   "source": [
    "shift_positions([0, 1, 63, 63])"
   ]
  },
  {
   "cell_type": "markdown",
   "metadata": {
    "cell_id": "2526f7de-b68a-40df-b31c-3e5217fb6d92",
    "deepnote_cell_height": 186.78125,
    "deepnote_cell_type": "markdown",
    "tags": []
   },
   "source": [
    "The <b><code>generate_s</code></b> function receives a string of pieces for which it generates the set <b><code>s</code></b> containg all legal positions. The algorithm iterates over each turn, (black and white) and further iterates over all permutations of field positions. Each permutation is mapped onto the pieces string and loaded onto a board. Next, we must check if it is a valid board using the <b><code>is_valid</code></b> method of the chess library. If so, we can encode the board as an int and add it to the set <b><code>s</code></b>. \n",
    "<br/><br/>\n",
    "<b>Remark:</b> Within this function we included print statements showing the current progress as the generation process may take several minutes. This has been done for several of the following functions as well. "
   ]
  },
  {
   "cell_type": "code",
   "execution_count": 27,
   "metadata": {},
   "outputs": [],
   "source": [
    "def split_into_substrs(pieces_str):\n",
    "    substrings = {pieces_str}\n",
    "    if len(pieces_str) == 4:\n",
    "        non_king_pieces = pieces_str.replace('K', '').replace('k', '')\n",
    "        for p in non_king_pieces:\n",
    "            substrings.add(pieces_str.replace(p, '', 1))\n",
    "    return substrings"
   ]
  },
  {
   "cell_type": "code",
   "execution_count": 28,
   "metadata": {},
   "outputs": [
    {
     "name": "stdout",
     "output_type": "stream",
     "text": [
      "KRk  => {'KRk'}\n",
      "KQk  => {'KQk'}\n",
      "KBBk => {'KBk', 'KBBk'}\n",
      "KNNk => {'KNNk', 'KNk'}\n",
      "KBNk => {'KBNk', 'KBk', 'KNk'}\n",
      "KQkr => {'KQk', 'KQkr', 'Kkr'}\n",
      "Kkr  => {'Kkr'}\n",
      "Kkq  => {'Kkq'}\n",
      "Kkbb => {'Kkb', 'Kkbb'}\n",
      "Kknn => {'Kknn', 'Kkn'}\n",
      "Kkbn => {'Kkb', 'Kkn', 'Kkbn'}\n",
      "KRkq => {'KRk', 'Kkq', 'KRkq'}\n"
     ]
    }
   ],
   "source": [
    "endgames = ['KRk', 'KQk', 'KBBk', 'KNNk', 'KBNk', 'KQkr', 'Kkr', 'Kkq', 'Kkbb', 'Kknn', 'Kkbn', 'KRkq']\n",
    "for e in endgames:\n",
    "    print(\"{:^4} => {}\".format(e, str(split_into_substrs(e))))"
   ]
  },
  {
   "cell_type": "code",
   "execution_count": 29,
   "metadata": {},
   "outputs": [],
   "source": [
    "def load_s_if_exists(pieces_str):\n",
    "    path = f'./{DIRECTORIES[\"S_SETS\"]}/{pieces_str}'\n",
    "    if os.path.exists(path):\n",
    "        with open(path, 'rb') as f:\n",
    "            print(f\"Loading s from {path}\")\n",
    "            return pickle.load(f)\n",
    "    return set()"
   ]
  },
  {
   "cell_type": "code",
   "execution_count": 30,
   "metadata": {},
   "outputs": [],
   "source": [
    "def save_s(pieces_str, s):\n",
    "    path = f'./{DIRECTORIES[\"S_SETS\"]}/{pieces_str}'\n",
    "    with open(path, 'wb') as f:\n",
    "        pickle.dump(s, f)"
   ]
  },
  {
   "cell_type": "code",
   "execution_count": 31,
   "metadata": {},
   "outputs": [],
   "source": [
    "def generate_s(pieces_str):\n",
    "    s = load_s_if_exists(pieces_str)\n",
    "    if s == set():\n",
    "        substrs = split_into_substrs(pieces_str)\n",
    "        print(f\"{pieces_str} needs the following substrs: {substrs}\")\n",
    "        for substr in substrs:\n",
    "            s.union(generate_sub_s(substr))\n",
    "        if len(pieces_str) == 4:\n",
    "            save_s(pieces_str, s)\n",
    "    return s"
   ]
  },
  {
   "cell_type": "code",
   "execution_count": 32,
   "metadata": {
    "cell_id": "6195e705-e1d7-4251-89b2-2b3f8baedbc9",
    "deepnote_cell_height": 387,
    "deepnote_cell_type": "code",
    "deepnote_to_be_reexecuted": false,
    "execution_millis": 1,
    "execution_start": 1648288728983,
    "output_cleared": false,
    "source_hash": "d0d9ccca",
    "tags": []
   },
   "outputs": [],
   "source": [
    "def generate_sub_s(pieces_str):\n",
    "    \n",
    "    print(f\"[+] Generating {pieces_str}\")\n",
    "    \n",
    "    sub_s = load_s_if_exists(pieces_str)\n",
    "    \n",
    "    if sub_s == set():\n",
    "        board = chess.Board(None)\n",
    "        for turn in [chess.WHITE, chess.BLACK]:\n",
    "            board.turn = turn\n",
    "            positions = [0] * len(pieces_str)\n",
    "            while positions != [63] * len(pieces_str):\n",
    "                if positions[-1] == 63 and positions[-2] == 63:\n",
    "                    print(\"\\r\", end=\"\")\n",
    "                    print(f\"{positions} -> {int(100/126*(positions[0] if turn == chess.WHITE else positions[0]+63))}%\", end=\"\")\n",
    "\n",
    "                mapping = dict(zip(positions, [chess.Piece.from_symbol(piece) for piece in pieces_str]))\n",
    "                board.set_piece_map(mapping)\n",
    "                if board.is_valid() and len(set(positions)) == len(pieces_str):\n",
    "                    sub_s.add(board_to_int(board, pieces_str))\n",
    "                positions = shift_positions(positions)\n",
    "                board.clear_board()\n",
    "    \n",
    "        if len(pieces_str) == 3:\n",
    "            save_s(pieces_str, sub_s)\n",
    "                \n",
    "    return sub_s"
   ]
  },
  {
   "cell_type": "code",
   "execution_count": null,
   "metadata": {},
   "outputs": [],
   "source": []
  },
  {
   "cell_type": "code",
   "execution_count": null,
   "metadata": {},
   "outputs": [],
   "source": []
  },
  {
   "cell_type": "markdown",
   "metadata": {
    "cell_id": "e940ca1b-2a53-45e7-b3f0-6a0da017d701",
    "deepnote_cell_height": 231.578125,
    "deepnote_cell_type": "markdown",
    "tags": []
   },
   "source": [
    "\n",
    "\n",
    "<div style=\"text-align: justify\">\n",
    "(b) Anschließend werden alle Stellungen aus der Menge S gesucht, in denen der Spieler, der am Zug ist,\n",
    "       schachmatt ist.  Diese Stellungen werden zu einer Menge S_0 zusammengefasst.  Außerdem werden diese\n",
    "       Stellungen aus der Menge S entfernt.\n",
    "</div>\n",
    "<br>\n",
    "S: Alle validen Stellungen, Weiß ist am Zug und schwarz ist am Zug\n",
    "<br>\n",
    "S0: Alle Stellungen in denen der Spieler, der am Zug ist, schachmatt ist\n",
    "<br>\n",
    "S1: Alle Stellungen in denen der Spieler, der am Zug ist, den Gegner mit einem Zug schachmatt setzen kann\n",
    "<br>\n",
    "S2: Alle Stellungen in denen der Spieler, der am Zug ist, nur Züge hat, die in S1 enden\n",
    "<br>\n",
    "Sn (n is unequal): Alle Stellungen in denen der Spieler, der am Zug ist, einen Zug hat, der in Sn-1 endet\n",
    "<br>\n",
    "Sn (n is equal): Alle Stellungen in denen der Spieler der am Zug ist, nur Züge hat, die in Sn-1 enden"
   ]
  },
  {
   "cell_type": "markdown",
   "metadata": {
    "cell_id": "7f29e133-341f-4411-8922-a3c67f3b2474",
    "deepnote_cell_height": 145.1875,
    "deepnote_cell_type": "markdown",
    "tags": []
   },
   "source": [
    "<h3>Calculating All Mate Positions</h3>\n",
    "<div style=\"text-align: justify\">\n",
    "Next we want to calculate all positions within <b><code>s</code></b> in which the player whose turn it is, is checkmate. These positions are subtracted from the set <b><code>s</code></b> and are stored in the set <b><code>s_0</code></b>. We can easily probe for checkmate using the <b><code>is_checkmate</code></b> method of the chess library. \n",
    "</div>"
   ]
  },
  {
   "cell_type": "code",
   "execution_count": 33,
   "metadata": {
    "cell_id": "edcf6441-76a1-4fed-9b66-439abe425154",
    "deepnote_cell_height": 243,
    "deepnote_cell_type": "code",
    "deepnote_to_be_reexecuted": false,
    "execution_millis": 1,
    "execution_start": 1648288763590,
    "output_cleared": true,
    "source_hash": "4cb36841",
    "tags": []
   },
   "outputs": [],
   "source": [
    "def generate_mate_positions(s, pieces_str):\n",
    "    s_0 = set()\n",
    "    for i, representation in enumerate(s):\n",
    "        if i%1000 == 0: \n",
    "            print(\"\\r\", end=\"\")\n",
    "            print(f\"{i}/{len(s)} -> {int((i/len(s))*100)}%\", end=\"\")\n",
    "        if int_to_board(representation, pieces_str).is_checkmate():\n",
    "            s_0.add(representation)  \n",
    "    s = set(s) - s_0\n",
    "    return s, s_0"
   ]
  },
  {
   "cell_type": "markdown",
   "metadata": {
    "cell_id": "0cb83aa5-e573-4bd6-b05f-637bc4f2a305",
    "deepnote_cell_height": 402.78125,
    "deepnote_cell_type": "markdown",
    "tags": []
   },
   "source": [
    "<h2>The Basic Algorithm</h2>\n",
    "<div style=\"text-align: justify\">\n",
    "The idea is to continue to develop the next set <b><code>s_{n+1}</code></b> and subtract them from <b><code>s</code></b> until either the next set is empyty, or <b><code>s</code></b> is empty. We will then have a series of sets <b><code>s_n</code></b> where every possible chess board position is either in one of <b><code>s_n</code></b> or in <b><code>s</code></b>. We can then define the depth-to-mate (<b>DTM</b>) value of each position as the value of <b><code>n</code></b> if a position is in the set <b><code>s_n</code></b>. This is the minimum number of moves required to force checkmate the other player (given an optimal strategy). If a position is still in <b><code>s</code></b>, the player whose turn it is can not force a checkmate on the other player in this position. \n",
    "</div>\n",
    "\n",
    "<br>\n",
    "<h3>Developing Sets With An Odd DTM</h3>\n",
    "<div style=\"text-align: justify\">\n",
    "We already have <b><code>s_0</code></b>. Our next goal is to calculate all positions within <b><code>s</code></b> in which a player can reach a position within <b><code>s_0</code></b> in a single move. We will store these positions in the set <b><code>s_1</code></b>. These are positions in which the player whose turn it is can immediately checkmate the other player in his next move. \n",
    "</div>\n",
    "<br>\n",
    "<div style=\"text-align: justify\">\n",
    "Now we want to this for every next set <b><code>s_n</code></b> where n is odd. These are the sets in which it is the winning players turn, as he will set his opponent checkmate from a position in <b><code>s_1</code></b>. \n",
    "</div>"
   ]
  },
  {
   "cell_type": "code",
   "execution_count": 34,
   "metadata": {
    "cell_id": "376ebcf7-113a-4bc4-89f6-c02538889b83",
    "deepnote_cell_height": 459,
    "deepnote_cell_type": "code",
    "deepnote_to_be_reexecuted": false,
    "execution_millis": 8,
    "execution_start": 1645273659651,
    "source_hash": "65c67731",
    "tags": []
   },
   "outputs": [],
   "source": [
    "def generate_s_odd(s, s_prev, pieces_str):\n",
    "    s_next = set()\n",
    "    \n",
    "    for i, representation in enumerate(s):\n",
    "\n",
    "        if i%1000 == 0: \n",
    "            print(\"\\r\", end=\"\")\n",
    "            print(f\"{i}/{len(s)} -> {int((i/len(s))*100)}%\", end=\"\")\n",
    "        \n",
    "        board = int_to_board(representation, pieces_str)\n",
    "        for move in board.legal_moves:\n",
    "            board.push(move)\n",
    "\n",
    "            if board_to_int(board, pieces_str) in s_prev:\n",
    "                board.pop()\n",
    "                s_next.add(board_to_int(board, pieces_str))\n",
    "                break\n",
    "\n",
    "            board.pop()\n",
    "\n",
    "    s = s - s_next\n",
    "    return s, s_next"
   ]
  },
  {
   "cell_type": "markdown",
   "metadata": {
    "cell_id": "5f53576f-b233-4715-b4b9-27c30ff765dd",
    "deepnote_cell_height": 414.578125,
    "deepnote_cell_type": "markdown",
    "tags": []
   },
   "source": [
    "<div style=\"text-align: justify\">\n",
    "The function <b><code>generate_s_odd</code></b> takes three arguments:\n",
    "<ul>\n",
    "<li>The initial set <b><code>s</code></b> containing all positions which have not been placed in previous sets yet</li>\n",
    "<li>The previous set <b><code>s_prev</code></b> => <code>s_{n-1}</code></li>\n",
    "<li>A string <b><code>pieces_str</code></b> which contains all pieces which are currently on the board</li>\n",
    "</ul>\n",
    "We will then iterate over all positions in the set <b><code>s</code></b>. For each positions we will iterate over the next possible legal moves, which we can query using the built-in <b><code>.legal_moves</code></b> attribute. Each move will be applied to the current position. The resulting position will then be looked up in the previous set <b><code>s_prev</code></b>, to determine if the current move leads to a position with a lower depth-to-mate. As soon as such a position is found, we will revert the move and add the original position to our resulting set <b><code>s_next</code></b>. The algorithm will then move on to the next position in <b><code>s</code></b>. Finally, we can subtract<b><code>s_next</code></b> from <b><code>s</code></b> and return both. \n",
    "</div>\n",
    "<br>\n",
    "<br>\n",
    "<h3>Developing Sets With An Even DTM</h3>\n",
    "<div style=\"text-align: justify\">\n",
    "The next set we develop will have an even depth-to-mate value. This means, it is the turn of the player trying to defend against a checkmate. For this reason we may only place positions in this set, in which the defending player will result in a position with a lower DTM, regardless of their move. This means we are forcing the player to move closer to his checkmate. \n",
    "</div>\n"
   ]
  },
  {
   "cell_type": "code",
   "execution_count": 35,
   "metadata": {
    "cell_id": "4ac7e552-5617-4011-a31b-027cdf8a0674",
    "deepnote_cell_height": 585,
    "deepnote_cell_type": "code",
    "deepnote_to_be_reexecuted": false,
    "execution_millis": 4,
    "execution_start": 1645273661158,
    "source_hash": "c9f40727",
    "tags": []
   },
   "outputs": [],
   "source": [
    "def generate_s_even(s, l_odd, pieces_str):\n",
    "    s_next = set()\n",
    "\n",
    "    for i, representation in enumerate(s):\n",
    "\n",
    "        if i%1000 == 0: \n",
    "            print(\"\\r\", end=\"\")\n",
    "            print(f\"{i}/{len(s)} -> {int((i/len(s))*100)}%\", end=\"\")\n",
    "\n",
    "        board = int_to_board(representation, pieces_str)\n",
    "        legal_moves = board.legal_moves\n",
    "        \n",
    "        \n",
    "        fail = not legal_moves #no legal moves for stalemate position\n",
    "        \n",
    "        for move in legal_moves:\n",
    "            board.push(move)\n",
    "\n",
    "            if not any(board_to_int(board, pieces_str) in s_odd for s_odd in l_odd):\n",
    "                fail = True\n",
    "                break\n",
    "\n",
    "            board.pop()\n",
    "        \n",
    "        if not fail:\n",
    "            s_next.add(board_to_int(board, pieces_str))\n",
    "\n",
    "    s = s - s_next\n",
    "    return s, s_next"
   ]
  },
  {
   "cell_type": "markdown",
   "metadata": {
    "cell_id": "67b6cc1ea003455cbf173b03e087e371",
    "deepnote_cell_height": 436.96875,
    "deepnote_cell_type": "markdown",
    "tags": []
   },
   "source": [
    "<div style=\"text-align: justify\">\n",
    "The function <b><code>generate_s_even</code></b> takes three arguments:\n",
    "<ul>\n",
    "<li>The initial set <b><code>s</code></b> containing all positions which have not been placed in previous sets yet</li>\n",
    "<li>A list  <b><code>l_odd</code></b> of all previous sets <b><code>s_n</code></b> where  <b><code>n</code></b> is odd.</li>\n",
    "<li>A string <b><code>pieces_str</code></b> which contains all pieces which are currently on the board</li>\n",
    "</ul>\n",
    "We will then once again iterate over all positions in the set <b><code>s</code></b> and over each of the next possible legal moves from that position. Each move will be applied to the current position. We will then check if the move leads to at least one position in all previous sets <b><code>s_odd</code></b> in our list <b><code>l_odd</code></b>. If we find a single move for a position in which this is not true, we will not add that position to our new set <b><code>s_next</code></b> and move on to the next position. Only if we have made sure that every move leads to a lower DTM we may add the position into <b><code>s_next</code></b>. \n",
    "Finally, we can subtract<b><code>s_next</code></b> from <b><code>s</code></b> and return both. \n",
    "</div>\n",
    "<br>\n",
    "<b>Remark: </b> We will also make sure that we do not end in a stalemate, in which the player whose turn it is does not have any legal moves left. \n",
    "<br>\n",
    "<br>\n",
    "<h3>Tablebase Generation</h3>\n",
    "<div style=\"text-align: justify\">\n",
    "Before we can go ahead and put it all together we have to consider how we want to store our sets. We chose the <b><code>pickle</code></b> module to write our list of sets as a single binary file to disk. \n",
    "</div>\n"
   ]
  },
  {
   "cell_type": "code",
   "execution_count": 36,
   "metadata": {
    "cell_id": "d32196a8-ed14-4cf0-a014-a6c84df98264",
    "deepnote_cell_height": 117,
    "deepnote_cell_type": "code",
    "deepnote_to_be_reexecuted": false,
    "execution_millis": 2,
    "execution_start": 1645273663118,
    "source_hash": "be3986c5",
    "tags": []
   },
   "outputs": [],
   "source": [
    "def save_sets_as_binary(list_of_sets, pieces_str):\n",
    "    with open(f\"./tables/{pieces_str}\", \"wb\") as f:\n",
    "        pickle.dump(list_of_sets, f)"
   ]
  },
  {
   "cell_type": "markdown",
   "metadata": {
    "cell_id": "74ec37b2d41647b1b6cd1a1cf18113f8",
    "deepnote_cell_height": 97.1875,
    "deepnote_cell_type": "markdown",
    "tags": []
   },
   "source": [
    "<div style=\"text-align: justify\">\n",
    "The final main function will now progressively develop our series of sets. Currently we are storing all sets in memory before the function has terminated, which can take up close to 5GB of RAM for a 4-man tablebase. The execution speed varies from machine to machine, but a 3-man tablebase can be created in under 24h using the free Deepnote cloud computing service. \n",
    "</div>"
   ]
  },
  {
   "cell_type": "code",
   "execution_count": 37,
   "metadata": {
    "cell_id": "106fdfe3-8ce6-43ed-994f-e2f09ffec190",
    "deepnote_cell_height": 657,
    "deepnote_cell_type": "code",
    "deepnote_to_be_reexecuted": false,
    "execution_millis": 27,
    "execution_start": 1645273664704,
    "source_hash": "faa69a13",
    "tags": []
   },
   "outputs": [],
   "source": [
    "def main(pieces_str):\n",
    "    \n",
    "    print(f\"Doing all positions\")\n",
    "    s = generate_s(pieces_str)\n",
    "    print(f\"\\nLength of s = {len(s)}\")\n",
    "    print(f\"--------------------------------------------------------------------------------------------\")\n",
    "\n",
    "    list_of_sets = []\n",
    "\n",
    "    n = 0\n",
    "    \n",
    "    while True: \n",
    "\n",
    "        print(f\"Doing s_{n}\")\n",
    "\n",
    "        if n == 0: \n",
    "            s, s_n = generate_mate_positions(s, pieces_str)\n",
    "        elif n%2 == 1: \n",
    "            s, s_n = generate_s_odd(s, list_of_sets[-1], pieces_str)\n",
    "        else: \n",
    "            s, s_n = generate_s_even(s, list_of_sets[1::2], pieces_str)\n",
    "        \n",
    "        if not s_n: break\n",
    "        \n",
    "        list_of_sets.append(s_n)\n",
    "\n",
    "        print(f\"\\nLength of s_{n} = {len(s_n)}\")\n",
    "        print(f\"New length of s = {len(s)}\")\n",
    "        print(f\"--------------------------------------------------------------------------------------------\")\n",
    "\n",
    "        n += 1 \n",
    "\n",
    "    save_sets_as_binary(list_of_sets, pieces_str)"
   ]
  },
  {
   "cell_type": "markdown",
   "metadata": {
    "cell_id": "ca249e8a12ba412892fa8b9ef91b8ebc",
    "deepnote_cell_height": 321.78125,
    "deepnote_cell_type": "markdown",
    "tags": []
   },
   "source": [
    "<div style=\"text-align: justify\">\n",
    "In order to generate a tablebase we only need a string <b><code>pieces_str</code></b> specifying the pieces involved in the endgame situation. \n",
    "<br>\n",
    "Initially, we will build our set <b><code>s</code></b> containing all possible board situations using our function <b><code>generate_s</code></b>. \n",
    "<br>\n",
    "Then we will enter the main loop, where we shall use <b><code>n</code></b> as a counter to develop the next set <b><code>s_n</code></b>. At the start of each loop we have three cases:\n",
    "<ol>\n",
    "<li>In the first run, <b><code>n</code></b> will be zero. This means <b><code>s_n</code></b> and <b><code>s</code></b> will be generated using the <b><code>generate_mate_positions</code></b> function</li>\n",
    "<li>If <b><code>n</code></b> is odd, we will generate <b><code>s_n</code></b> and <b><code>s</code></b> using the function <b><code>generate_s_odd</code></b> and supply the last item in our <b><code>list_of_sets</code></b> as the argument</li>\n",
    "<li>If <b><code>n</code></b> is even, we will generate <b><code>s_n</code></b> and <b><code>s</code></b> using the function <b><code>generate_s_even</code></b> and supply every second item in our <b><code>list_of_sets</code></b> as the argument</li>\n",
    "</ol>\n",
    "At the end of each loop, we will append the calculated set <b><code>s_n</code></b> to our  <b><code>list_of_sets</code></b> and lastly increment <b><code>n</code></b>. If, however, a newly calculated set <b><code>s_n</code></b> is empty, we have found our last set and will break out of the main loop. Finally, we will store the resulting list of sets using our store function <b><code>save_sets_as_binary</code></b>\n",
    "</div>"
   ]
  },
  {
   "cell_type": "code",
   "execution_count": 38,
   "metadata": {
    "cell_id": "af71ee61-7479-4875-9d46-966561655098",
    "deepnote_cell_height": 308.640625,
    "deepnote_cell_type": "code",
    "deepnote_to_be_reexecuted": false,
    "execution_millis": 6038284,
    "execution_start": 1644567926073,
    "output_cleared": false,
    "source_hash": "5c5edf88",
    "tags": []
   },
   "outputs": [],
   "source": [
    "#main('Kknb')"
   ]
  },
  {
   "cell_type": "markdown",
   "metadata": {
    "cell_id": "636e5b9a8e1247a38d1783ef47520bbe",
    "deepnote_cell_height": 197.984375,
    "deepnote_cell_type": "markdown",
    "tags": []
   },
   "source": [
    "<h2>Testing the Tablebase</h2>\n",
    "<div style=\"text-align: justify\">\n",
    "We have now created a tablebase, which allows us to determine the depth-to-mate (DTM) for any given position af an endgame situation. Now we would like to verify our results and compare them to the Gaviota tablebase. We can do this by verifying that for every possible board position for which the Gaviota DTM equals our calculated DTM, the position is in fact stored within the correct set. Then we will also have to verify the other side: For every position in our list of sets, the Gaviota DTM must equal our calculated DTM.  \n",
    "</div>"
   ]
  },
  {
   "cell_type": "code",
   "execution_count": 39,
   "metadata": {
    "cell_id": "6f025902-a39c-457b-b220-645255736ac1",
    "deepnote_cell_height": 396.1875,
    "deepnote_cell_type": "code",
    "deepnote_to_be_reexecuted": false,
    "execution_millis": 162,
    "execution_start": 1648316067458,
    "source_hash": "67470023",
    "tags": []
   },
   "outputs": [],
   "source": [
    "def test_dtm_with_gaviota(test_set, expected_dtm, pieces_str):\n",
    "\n",
    "    with chess.gaviota.open_tablebase(\"./gaviota\") as tablebase:\n",
    "        \n",
    "        #Check if every set in test set is in gaviota\n",
    "        for rep in test_set:\n",
    "            board = int_to_board(rep, pieces_str)\n",
    "            gaviota_dtm = abs(tablebase.probe_dtm(board))\n",
    "            if not gaviota_dtm == expected_dtm:\n",
    "                    with open(f'./tests/{pieces_str}', 'a') as f3:\n",
    "                        f3.write(f\"Assertion failed for board {board} with gaviota dtm = {gaviota_dtm} but expected = {expected_dtm}\\n\")\n",
    "            assert gaviota_dtm == expected_dtm, f\"FAILED: {board.epd()} -> expected_dtm ({expected_dtm}) != gaviota_dtm ({gaviota_dtm})\"\n",
    "        "
   ]
  },
  {
   "cell_type": "markdown",
   "metadata": {
    "cell_id": "cdc795c454fe4175b2f3f60c577e8304",
    "deepnote_cell_height": 232.1875,
    "deepnote_cell_type": "markdown",
    "tags": []
   },
   "source": [
    "<div style=\"text-align: justify\">\n",
    "Our testing process makes use of the <b><code>test_dtm_with_gaviota</code></b> function. It receives three arguments:\n",
    "<ul>\n",
    "<li>The initial set <b><code>s</code></b> which contains all possible board postions for the given endgame</li>\n",
    "<li>A set <b><code>test_set</code></b> which is the set currently under test. It contains all positions we calculated to have a specific DTM</li>\n",
    "<li>The value <b><code>expected_dtm</code></b> which is the DTM we calculated for all positions within <b><code>test_set</code></b></li>\n",
    "</ul>\n",
    "Next we will open the Gaviota tablebase using the chess library. Both test cases will then be handled after another using assert statements. \n",
    "<br>\n",
    "At the end, the function will only have run without an error if each position in <b><code>s</code></b> is in <b><code>test_set</code></b> only <b>iff</b> the Gaviota DTM of that position equals <b><code>expected_dtm</code></b>.\n",
    "\n",
    "</div>"
   ]
  },
  {
   "cell_type": "code",
   "execution_count": 40,
   "metadata": {
    "cell_id": "223bff66-b995-4b66-9659-da12605d00fc",
    "deepnote_cell_height": 111.6875,
    "deepnote_cell_type": "code",
    "deepnote_to_be_reexecuted": false,
    "execution_millis": 39878,
    "execution_start": 1645273673168,
    "source_hash": "27d18526",
    "tags": []
   },
   "outputs": [],
   "source": [
    "def test_dtm_zero(list_of_sets, s, pieces_str):\n",
    "    with chess.gaviota.open_tablebase(\"./gaviota\") as tablebase:\n",
    "        c = 0\n",
    "        for s_n in list_of_sets:\n",
    "            s -= s_n\n",
    "        \n",
    "        for pos in s:\n",
    "            c += 1\n",
    "            board = int_to_board(pos, pieces_str)\n",
    "            gaviota_dtm = tablebase.probe_dtm(board)\n",
    "            assert gaviota_dtm == 0, f\"FAILED: {board.epd()} -> expected_dtm ({0}) != gaviota_dtm ({gaviota_dtm})\"\n",
    "                \n",
    "        print(f\"\\nFound {c} non-checkmate positions with DTM zero\")"
   ]
  },
  {
   "cell_type": "markdown",
   "metadata": {
    "cell_id": "2eca2793a66745bdb0489403c318fd25",
    "deepnote_cell_height": 198.796875,
    "deepnote_cell_type": "markdown",
    "tags": []
   },
   "source": [
    "<div style=\"text-align: justify\">\n",
    "In order to test our tablebase we first have to generate <b><code>s</code></b>, which may take a minute or two. We can then load our sets into memory using <b><code>pickle</code></b>. The code below will iterate over all sets and call the <b><code>test_dtm_with_gaviota</code></b> function for every single one. \n",
    "</div>"
   ]
  },
  {
   "cell_type": "code",
   "execution_count": 41,
   "metadata": {
    "cell_id": "23345078-dc2b-4ed8-8d34-262f2f089016",
    "deepnote_cell_height": 809,
    "deepnote_cell_type": "code",
    "deepnote_to_be_reexecuted": false,
    "execution_millis": 2368004,
    "execution_start": 1645273862826,
    "source_hash": "b86c3b9b",
    "tags": []
   },
   "outputs": [],
   "source": [
    "def test_all_sets(pieces_str):\n",
    "    if not os.path.exists(f\"./tests/s_set_{pieces_str}\"):\n",
    "        s = generate_s(pieces_str)\n",
    "        with open(f'./tests/s_set_{pieces_str}', 'wb') as f:\n",
    "            pickle.dump(s, f)\n",
    "    else:\n",
    "        with open(f'./tests/s_set_{pieces_str}', 'rb') as f:\n",
    "            s = pickle.load(f)\n",
    "            print(f\"Loading s for {pieces_str}\")\n",
    "    print(len(s))\n",
    "    \n",
    "    with open(f'./tables/{pieces_str}', 'rb') as f:\n",
    "        list_of_sets = pickle.load(f)\n",
    "        print(f\"Loading list of sets for {pieces_str}\")\n",
    "    \n",
    "    print(\"Testing for DTM = 0\")\n",
    "    # Verify that all positions in s, which are not in list of sets, have Gaviota DTM = 0\n",
    "    test_dtm_zero(list_of_sets, s, pieces_str)\n",
    "    \n",
    "    # Check each set\n",
    "    for i in range(0, len(list_of_sets)):\n",
    "        print(f\"Testing dtm values for set s_{i}...\")\n",
    "        \n",
    "        test_dtm_with_gaviota(list_of_sets[i], i, pieces_str)\n",
    "        \n",
    "        with open(f'./tests/{pieces_str}', 'a') as f3:\n",
    "            f3.write(f\"s_{i} passed\\n\")\n",
    "        print(f\"s_{i} passed\")"
   ]
  },
  {
   "cell_type": "code",
   "execution_count": 42,
   "metadata": {
    "cell_id": "627b651a-cc04-42a8-a5d8-10aa692e0d52",
    "deepnote_cell_height": 111.6875,
    "deepnote_cell_type": "code",
    "deepnote_to_be_reexecuted": false,
    "execution_millis": 9,
    "execution_start": 1645273841035,
    "scrolled": true,
    "source_hash": "22d538d3",
    "tags": []
   },
   "outputs": [
    {
     "name": "stdout",
     "output_type": "stream",
     "text": [
      "Loading s for KRkq\n",
      "19733336\n",
      "Loading list of sets for KRkq\n",
      "Testing for DTM = 0\n"
     ]
    },
    {
     "ename": "AssertionError",
     "evalue": "FAILED: 1k4R1/8/8/8/4q3/8/8/3K4 b - - -> expected_dtm (0) != gaviota_dtm (53)",
     "output_type": "error",
     "traceback": [
      "\u001b[0;31m---------------------------------------------------------------------------\u001b[0m",
      "\u001b[0;31mAssertionError\u001b[0m                            Traceback (most recent call last)",
      "Input \u001b[0;32mIn [42]\u001b[0m, in \u001b[0;36m<cell line: 1>\u001b[0;34m()\u001b[0m\n\u001b[0;32m----> 1\u001b[0m \u001b[43mtest_all_sets\u001b[49m\u001b[43m(\u001b[49m\u001b[38;5;124;43m\"\u001b[39;49m\u001b[38;5;124;43mKRkq\u001b[39;49m\u001b[38;5;124;43m\"\u001b[39;49m\u001b[43m)\u001b[49m\n",
      "Input \u001b[0;32mIn [41]\u001b[0m, in \u001b[0;36mtest_all_sets\u001b[0;34m(pieces_str)\u001b[0m\n\u001b[1;32m     16\u001b[0m \u001b[38;5;28mprint\u001b[39m(\u001b[38;5;124m\"\u001b[39m\u001b[38;5;124mTesting for DTM = 0\u001b[39m\u001b[38;5;124m\"\u001b[39m)\n\u001b[1;32m     17\u001b[0m \u001b[38;5;66;03m# Verify that all positions in s, which are not in list of sets, have Gaviota DTM = 0\u001b[39;00m\n\u001b[0;32m---> 18\u001b[0m \u001b[43mtest_dtm_zero\u001b[49m\u001b[43m(\u001b[49m\u001b[43mlist_of_sets\u001b[49m\u001b[43m,\u001b[49m\u001b[43m \u001b[49m\u001b[43ms\u001b[49m\u001b[43m,\u001b[49m\u001b[43m \u001b[49m\u001b[43mpieces_str\u001b[49m\u001b[43m)\u001b[49m\n\u001b[1;32m     20\u001b[0m \u001b[38;5;66;03m# Check each set\u001b[39;00m\n\u001b[1;32m     21\u001b[0m \u001b[38;5;28;01mfor\u001b[39;00m i \u001b[38;5;129;01min\u001b[39;00m \u001b[38;5;28mrange\u001b[39m(\u001b[38;5;241m0\u001b[39m, \u001b[38;5;28mlen\u001b[39m(list_of_sets)):\n",
      "Input \u001b[0;32mIn [40]\u001b[0m, in \u001b[0;36mtest_dtm_zero\u001b[0;34m(list_of_sets, s, pieces_str)\u001b[0m\n\u001b[1;32m      9\u001b[0m     board \u001b[38;5;241m=\u001b[39m int_to_board(pos, pieces_str)\n\u001b[1;32m     10\u001b[0m     gaviota_dtm \u001b[38;5;241m=\u001b[39m tablebase\u001b[38;5;241m.\u001b[39mprobe_dtm(board)\n\u001b[0;32m---> 11\u001b[0m     \u001b[38;5;28;01massert\u001b[39;00m gaviota_dtm \u001b[38;5;241m==\u001b[39m \u001b[38;5;241m0\u001b[39m, \u001b[38;5;124mf\u001b[39m\u001b[38;5;124m\"\u001b[39m\u001b[38;5;124mFAILED: \u001b[39m\u001b[38;5;132;01m{\u001b[39;00mboard\u001b[38;5;241m.\u001b[39mepd()\u001b[38;5;132;01m}\u001b[39;00m\u001b[38;5;124m -> expected_dtm (\u001b[39m\u001b[38;5;132;01m{\u001b[39;00m\u001b[38;5;241m0\u001b[39m\u001b[38;5;132;01m}\u001b[39;00m\u001b[38;5;124m) != gaviota_dtm (\u001b[39m\u001b[38;5;132;01m{\u001b[39;00mgaviota_dtm\u001b[38;5;132;01m}\u001b[39;00m\u001b[38;5;124m)\u001b[39m\u001b[38;5;124m\"\u001b[39m\n\u001b[1;32m     13\u001b[0m \u001b[38;5;28mprint\u001b[39m(\u001b[38;5;124mf\u001b[39m\u001b[38;5;124m\"\u001b[39m\u001b[38;5;130;01m\\n\u001b[39;00m\u001b[38;5;124mFound \u001b[39m\u001b[38;5;132;01m{\u001b[39;00mc\u001b[38;5;132;01m}\u001b[39;00m\u001b[38;5;124m non-checkmate positions with DTM zero\u001b[39m\u001b[38;5;124m\"\u001b[39m)\n",
      "\u001b[0;31mAssertionError\u001b[0m: FAILED: 1k4R1/8/8/8/4q3/8/8/3K4 b - - -> expected_dtm (0) != gaviota_dtm (53)"
     ]
    }
   ],
   "source": [
    "test_all_sets(\"KRkq\")"
   ]
  },
  {
   "cell_type": "code",
   "execution_count": null,
   "metadata": {},
   "outputs": [],
   "source": [
    "with open(f'./tables/KRkq', 'rb') as f:\n",
    "        list_of_sets = pickle.load(f)"
   ]
  },
  {
   "cell_type": "code",
   "execution_count": null,
   "metadata": {},
   "outputs": [],
   "source": [
    "len(list_of_sets)"
   ]
  },
  {
   "cell_type": "code",
   "execution_count": null,
   "metadata": {},
   "outputs": [],
   "source": [
    "s_0 = list_of_sets[0]\n",
    "s_3 = list_of_sets[3]"
   ]
  },
  {
   "cell_type": "code",
   "execution_count": null,
   "metadata": {},
   "outputs": [],
   "source": [
    "len(s_3)"
   ]
  },
  {
   "cell_type": "code",
   "execution_count": null,
   "metadata": {},
   "outputs": [],
   "source": [
    "with chess.gaviota.open_tablebase(\"./gaviota\") as tablebase:\n",
    "    one = 0\n",
    "    two = 0\n",
    "    for p in s_3:\n",
    "        board = int_to_board(p, \"KRkq\")\n",
    "        gaviota_dtm = tablebase.probe_dtm(board)\n",
    "        if abs(gaviota_dtm) == 3:\n",
    "            one += 1\n",
    "        elif abs(gaviota_dtm) == 1:\n",
    "            two += 1\n",
    "print(len(s_3)-one, two)\n",
    "        "
   ]
  },
  {
   "cell_type": "code",
   "execution_count": null,
   "metadata": {},
   "outputs": [],
   "source": []
  }
 ],
 "metadata": {
  "deepnote": {
   "is_reactive": false
  },
  "deepnote_app_layout": "article",
  "deepnote_execution_queue": [],
  "deepnote_notebook_id": "b28e06b6-1066-4a36-a307-13887c6252e6",
  "kernelspec": {
   "display_name": "Python 3 (ipykernel)",
   "language": "python",
   "name": "python3"
  },
  "language_info": {
   "codemirror_mode": {
    "name": "ipython",
    "version": 3
   },
   "file_extension": ".py",
   "mimetype": "text/x-python",
   "name": "python",
   "nbconvert_exporter": "python",
   "pygments_lexer": "ipython3",
   "version": "3.9.7"
  }
 },
 "nbformat": 4,
 "nbformat_minor": 2
}
