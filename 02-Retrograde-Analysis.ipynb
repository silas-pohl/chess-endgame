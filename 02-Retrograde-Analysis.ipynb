{
 "cells": [
  {
   "cell_type": "code",
   "metadata": {
    "tags": [],
    "cell_id": "80fafd6e-a1ad-47cd-b04b-16aa7cd8a972",
    "deepnote_to_be_reexecuted": false,
    "source_hash": "f2b9d08b",
    "execution_start": 1645273644992,
    "execution_millis": 17,
    "deepnote_output_heights": [
     2
    ],
    "deepnote_app_coordinates": {
     "x": 0,
     "y": 0,
     "w": 12,
     "h": 5
    },
    "deepnote_cell_type": "code"
   },
   "source": "from IPython.core.display import HTML\nwith open('./style.css') as f:\n    css = f.read()\nHTML(css)",
   "execution_count": null,
   "outputs": [
    {
     "output_type": "execute_result",
     "execution_count": 1,
     "data": {
      "text/plain": "<IPython.core.display.HTML object>",
      "text/html": "<link href='http://fonts.googleapis.com/css?family=Alegreya+Sans:100,300,400,500,700,800,900,100italic,300italic,400italic,500italic,700italic,800italic,900italic' rel='stylesheet' type='text/css'>\n<link href='http://fonts.googleapis.com/css?family=Arvo:400,700,400italic' rel='stylesheet' type='text/css'>\n<link href='http://fonts.googleapis.com/css?family=PT+Mono' rel='stylesheet' type='text/css'>\n<link href='http://fonts.googleapis.com/css?family=Shadows+Into+Light' rel='stylesheet' type='text/css'>\n<link href='http://fonts.googleapis.com/css?family=Philosopher:400,700,400italic,700italic' rel='stylesheet' type='text/css'>\n\n<style>\n\n@font-face {\n    font-family: \"Computer Modern\";\n    src: url('http://mirrors.ctan.org/fonts/cm-unicode/fonts/otf/cmunss.otf');\n}\n\n.container { width: 100% }\n\n/* Formatting for header cells */\n.text_cell_render h1 {\n    font-family: 'Philosopher', sans-serif;\n    font-weight: 400;\n    font-size: 2.2em;\n    line-height: 100%;\n    color: rgb(0, 80, 120);\n    margin-bottom: 0.1em;\n    margin-top: 0.1em;\n    display: block;\n}\t\n.text_cell_render h2 {\n    font-family: 'Philosopher', serif;\n    font-weight: 400;\n    font-size: 1.9em;\n    line-height: 100%;\n    color: rgb(200,100,0);\n    margin-bottom: 0.1em;\n    margin-top: 0.1em;\n    display: block;\n}\t\n\n.text_cell_render h3 {\n    font-family: 'Philosopher', serif;\n    margin-top:12px;\n    margin-bottom: 3px;\n    font-style: italic;\n    color: rgb(94,127,192);\n}\n\n.text_cell_render h4 {\n    font-family: 'Philosopher', serif;\n}\n\n.text_cell_render h5 {\n    font-family: 'Alegreya Sans', sans-serif;\n    font-weight: 300;\n    font-size: 16pt;\n    color: grey;\n    font-style: italic;\n    margin-bottom: .1em;\n    margin-top: 0.1em;\n    display: block;\n}\n\n.text_cell_render h6 {\n    font-family: 'PT Mono', sans-serif;\n    font-weight: 300;\n    font-size: 10pt;\n    color: grey;\n    margin-bottom: 1px;\n    margin-top: 1px;\n}\n\n.text_cell_render em {\n    font-family: 'Philosopher', sans-serif;\n    color:        blue;\n    background-color: rgb(255,220,180);\n    font-size:    110%;\n    margin-left:   2px;\n    margin-right:  2px;\n    font-weight:   100;\n}\n\n.text_cell_render b {\n    color:            rgb(255,195,195);\n    background-color: rgb(0,0,0);\n    font-size:    110%;\n    margin-left:   2px;\n    margin-right:  2px;\n    font-weight:   650;\n}\n\n.text_cell_render tt {\n    font-size:    120%;\n    margin-left:   2px;\n    margin-right:  2px;\n    font-weight:   150;\n}\n\n.Codemirror {\n    font-family: \"PT Mono\";\n    font-size: 100%;\n}\n\n</style>\n\n"
     },
     "metadata": {}
    }
   ]
  },
  {
   "cell_type": "code",
   "metadata": {
    "cell_id": "85fe591e-8f29-49d1-a7ec-08cf5eb82a31",
    "tags": [],
    "deepnote_to_be_reexecuted": false,
    "source_hash": "4096d7b4",
    "execution_start": 1645273646520,
    "execution_millis": 359,
    "output_cleared": false,
    "deepnote_cell_type": "code"
   },
   "source": "import chess                                       # Simulate the chess game\nimport chess.gaviota                               # Load Gaviota Tablebase\nfrom IPython.display import display, clear_output  # Better visualization and display of the chess board\nimport random                                      # Random moves and random creation of endgame positions\nfrom typing import Union, List, Set                # Types to enable direct method signatures\nimport re     \nimport sqlite3\nimport pickle\n%load_ext memory_profiler",
   "execution_count": null,
   "outputs": []
  },
  {
   "cell_type": "code",
   "metadata": {
    "cell_id": "43c7987c-4d5f-448a-9a75-367d0e032490",
    "tags": [],
    "deepnote_to_be_reexecuted": false,
    "source_hash": "f3ded9e2",
    "execution_start": 1645273647010,
    "execution_millis": 5,
    "deepnote_output_heights": [
     21,
     21
    ],
    "deepnote_cell_type": "code"
   },
   "source": "r = bytearray([53, 63, 1])\nresult = ''\nfor x in r:\n    result += str(hex(x))\n\nprint(result)\n",
   "execution_count": null,
   "outputs": [
    {
     "name": "stdout",
     "text": "0x350x3f0x1\n",
     "output_type": "stream"
    }
   ]
  },
  {
   "cell_type": "code",
   "metadata": {
    "cell_id": "b7870d55-4d60-4182-850d-4dc9de55cb21",
    "tags": [],
    "deepnote_to_be_reexecuted": false,
    "source_hash": "480158ec",
    "execution_start": 1645273648398,
    "execution_millis": 3,
    "deepnote_cell_type": "code"
   },
   "source": "def board_to_int(board: chess.Board, pieces_str: str) -> int:\n\n    piece_map = board.piece_map()\n\n    representation = bytearray(len(pieces_str) + 1)\n\n    for i, piece_symbol in enumerate(pieces_str):\n        position_list = [pos for pos, piece in piece_map.items() if piece == chess.Piece.from_symbol(piece_symbol)]\n        if not position_list: \n            representation[i] = 0xFF\n        else:\n            piece_map.pop(position_list[0])\n            representation[i] = position_list[0]\n\n    representation[-1] = board.turn\n\n    return int.from_bytes(representation, 'little')",
   "execution_count": null,
   "outputs": []
  },
  {
   "cell_type": "code",
   "metadata": {
    "cell_id": "370303e5-8472-4924-9b20-2b0343909871",
    "tags": [],
    "deepnote_to_be_reexecuted": false,
    "source_hash": "b9fede59",
    "execution_start": 1645273649585,
    "execution_millis": 2,
    "deepnote_cell_type": "code"
   },
   "source": "def int_to_board(representation: int, pieces_str: str) -> chess.Board:\n\n    board = chess.Board()\n    board.clear()\n    \n    byte_representation = representation.to_bytes(len(pieces_str)+1, \"little\")\n\n    mapping = dict(zip(byte_representation[:-1], [chess.Piece.from_symbol(piece_symbol) for piece_symbol in pieces_str]))\n\n    for pos in mapping.keys():\n        if pos == 0xFF: mapping.pop(pos)\n\n    board.set_piece_map(mapping)\n    board.turn = byte_representation[-1]\n\n    return board",
   "execution_count": null,
   "outputs": []
  },
  {
   "cell_type": "code",
   "metadata": {
    "cell_id": "224c743f-90e5-4182-a753-3462c81f5cc3",
    "tags": [],
    "deepnote_to_be_reexecuted": false,
    "source_hash": "78228a0e",
    "execution_start": 1645273651257,
    "execution_millis": 11,
    "deepnote_output_heights": [
     392,
     null,
     392
    ],
    "deepnote_cell_type": "code"
   },
   "source": "fen = '3K4/8/4k3/8/8/8/8/2r5 b - - 0 1'\nboard = chess.Board(fen)\n\nrepresentation = board_to_int(board, 'Kkr')\n\nnew_board = int_to_board(representation, 'Kkr')\n\nprint(f\"FEN to INT: '{fen}' -> {representation}\")\nprint(f\"INT to FEN: {representation} -> '{new_board.fen()}'\")",
   "execution_count": null,
   "outputs": [
    {
     "name": "stdout",
     "text": "FEN to INT: '3K4/8/4k3/8/8/8/8/2r5 b - - 0 1' -> 142395\nINT to FEN: 142395 -> '3K4/8/4k3/8/8/8/8/2r5 b - - 0 1'\n",
     "output_type": "stream"
    }
   ]
  },
  {
   "cell_type": "markdown",
   "source": "<div style=\"text-align: justify\">\n(a) Zunächst wird die Menge aller möglichen zulässigen Stellungen berechnet.  Diese Menge\n       bezeichnen wir mit S.  (Eine Stellung ist unzulässig, wenn der König des Spielers,\n       der nicht am Zug ist, im Schach steht.)\n</div>",
   "metadata": {
    "cell_id": "550b9be6-4a2f-4146-bec5-c1f463132545",
    "tags": [],
    "deepnote_cell_type": "markdown"
   }
  },
  {
   "cell_type": "code",
   "metadata": {
    "cell_id": "64f36e06-8aea-4928-8bfe-9c9c1b61b112",
    "tags": [],
    "deepnote_to_be_reexecuted": false,
    "source_hash": "3a1412eb",
    "execution_start": 1645273652962,
    "execution_millis": 0,
    "deepnote_output_heights": [
     21
    ],
    "deepnote_cell_type": "code"
   },
   "source": "def shift_positions(positions: List[int]) -> List[int]:\n    for i, pos in enumerate(positions[::-1]):\n        if pos == 63: \n            positions[-(i+1)] = 0\n            continue\n        else: \n            positions[-(i+1)] += 1\n            break\n\n    return positions",
   "execution_count": null,
   "outputs": []
  },
  {
   "cell_type": "code",
   "metadata": {
    "cell_id": "2fb73414-6cac-46f7-a3a0-0eee1b22d1a7",
    "tags": [],
    "deepnote_to_be_reexecuted": false,
    "source_hash": "2b0f58f5",
    "execution_start": 1645273654272,
    "execution_millis": 5,
    "deepnote_output_heights": [
     21
    ],
    "deepnote_cell_type": "code"
   },
   "source": "shift_positions([0, 1, 63, 63])",
   "execution_count": null,
   "outputs": [
    {
     "output_type": "execute_result",
     "execution_count": 8,
     "data": {
      "text/plain": "[0, 2, 0, 0]"
     },
     "metadata": {}
    }
   ]
  },
  {
   "cell_type": "code",
   "metadata": {
    "cell_id": "6195e705-e1d7-4251-89b2-2b3f8baedbc9",
    "tags": [],
    "deepnote_to_be_reexecuted": false,
    "source_hash": "a6b33ff5",
    "execution_start": 1645273655376,
    "execution_millis": 4,
    "deepnote_output_heights": [
     392,
     611,
     392,
     392,
     392,
     392,
     392,
     392,
     392,
     392,
     392,
     392,
     392,
     392,
     392,
     392,
     392,
     392,
     392,
     392,
     392,
     392,
     392,
     392,
     392,
     392,
     392,
     392,
     392,
     392,
     392,
     392,
     392,
     392,
     392,
     392,
     392,
     392,
     392,
     392,
     392,
     392,
     392,
     392,
     392,
     392,
     392,
     392,
     392,
     392,
     392,
     392,
     392,
     392,
     392,
     392,
     392,
     392,
     392,
     392,
     392,
     392,
     392
    ],
    "output_cleared": false,
    "deepnote_cell_type": "code"
   },
   "source": "def generate_s(pieces_str: str) -> set[str]:\n\n    s = set()\n\n    board = chess.Board()\n    board.clear()\n\n    for turn in [chess.WHITE, chess.BLACK]:\n        board.turn = turn\n        positions = [0] * len(pieces_str)\n        while positions != [63] * len(pieces_str):\n\n            if positions[-1] == 63 and positions[-2] == 63:\n                print(\"\\r\", end=\"\")\n                print(f\"{positions} -> {int(100/126*(positions[0] if turn == chess.WHITE else positions[0]+63))}%\", end=\"\")\n\n            board.clear_board()\n\n            mapping = dict(zip(positions, [chess.Piece.from_symbol(piece) for piece in pieces_str]))\n            \n            board.set_piece_map(mapping)\n\n            if board.is_valid() and len(set(positions)) == len(pieces_str):\n                s.add(board_to_int(board, pieces_str))\n\n            positions = shift_positions(positions)\n\n    return s",
   "execution_count": null,
   "outputs": []
  },
  {
   "cell_type": "markdown",
   "source": "<div style=\"text-align: justify\">\n(b) Anschließend werden alle Stellungen aus der Menge S gesucht, in denen der Spieler, der am Zug ist,\n       schachmatt ist.  Diese Stellungen werden zu einer Menge S_0 zusammengefasst.  Außerdem werden diese\n       Stellungen aus der Menge S entfernt.\n</div>\n<br>\nS: Alle validen Stellungen, Weiß ist am Zug und schwarz ist am Zug\n<br>\nS0: Alle Stellungen in denen der Spieler, der am Zug ist, schachmatt ist\n<br>\nS1: Alle Stellungen in denen der Spieler, der am Zug ist, den Gegner mit einem Zug schachmatt setzen kann\n<br>\nS2: Alle Stellungen in denen der Spieler, der am Zug ist, nur Züge hat, die in S1 enden\n<br>\nSn (n is unequal): Alle Stellungen in denen der Spieler, der am Zug ist, einen Zug hat, der in Sn-1 endet\n<br>\nSn (n is equal): Alle Stellungen in denen der Spieler der am Zug ist, nur Züge hat, die in Sn-1 enden",
   "metadata": {
    "cell_id": "e940ca1b-2a53-45e7-b3f0-6a0da017d701",
    "tags": [],
    "deepnote_cell_type": "markdown"
   }
  },
  {
   "cell_type": "code",
   "metadata": {
    "cell_id": "edcf6441-76a1-4fed-9b66-439abe425154",
    "tags": [],
    "deepnote_to_be_reexecuted": false,
    "source_hash": "dd8f9f77",
    "execution_start": 1645273658429,
    "execution_millis": 12,
    "deepnote_output_heights": [
     78
    ],
    "output_cleared": true,
    "deepnote_cell_type": "code"
   },
   "source": "def generate_mate_positions(s: Set[str], pieces_str: str) -> Set[str]:\n    s_0 = set()\n    for i, representation in enumerate(s):\n\n        if i%1000 == 0: \n            print(\"\\r\", end=\"\")\n            print(f\"{i}/{len(s)} -> {int((i/len(s))*100)}%\", end=\"\")\n        \n        if int_to_board(representation, pieces_str).is_checkmate():\n            s_0.add(representation)\n            \n    s = set(s) - s_0\n    return s, s_0",
   "execution_count": null,
   "outputs": []
  },
  {
   "cell_type": "markdown",
   "source": "(c) Nun werden alle Stellungen aus S berechnet, in denen der Spieler mit seinem nächsten Zug den Gegner Matt setzen kann, d.h. eine Stellung aus der Menge S_0 erreichen kann. Diese Stellungen werden zu einer Menge S_1 zusammen gefasst und aus der Menge S entfernt. S_1 enthält also alle die Stellungen, in denen der Gegener unmittelbar matt gesetzt werden kann.",
   "metadata": {
    "cell_id": "0cb83aa5-e573-4bd6-b05f-637bc4f2a305",
    "tags": [],
    "deepnote_cell_type": "markdown"
   }
  },
  {
   "cell_type": "markdown",
   "source": "### Where DTM = 1",
   "metadata": {
    "cell_id": "27d42461-9f8e-48a8-9000-7e1899fc33b9",
    "tags": [],
    "deepnote_cell_type": "markdown"
   }
  },
  {
   "cell_type": "code",
   "metadata": {
    "cell_id": "376ebcf7-113a-4bc4-89f6-c02538889b83",
    "tags": [],
    "deepnote_to_be_reexecuted": false,
    "source_hash": "65c67731",
    "execution_start": 1645273659651,
    "execution_millis": 8,
    "deepnote_cell_type": "code"
   },
   "source": "def generate_s_odd(s: Set[str], s_prev: Set[str], pieces_str: str) -> Set[str]:\n    s_next = set()\n    \n    for i, representation in enumerate(s):\n\n        if i%1000 == 0: \n            print(\"\\r\", end=\"\")\n            print(f\"{i}/{len(s)} -> {int((i/len(s))*100)}%\", end=\"\")\n        \n        board = int_to_board(representation, pieces_str)\n        for move in board.legal_moves:\n            board.push(move)\n\n            if board_to_int(board, pieces_str) in s_prev:\n                board.pop()\n                s_next.add(board_to_int(board, pieces_str))\n                break\n\n            board.pop()\n\n    s = set(s) - s_next\n    return s, s_next",
   "execution_count": null,
   "outputs": []
  },
  {
   "cell_type": "markdown",
   "source": "(d) Danach werden alle Stellungen aus S berechnet, in denen der Spieler, der am Zug ist, mit jedem seiner Züge in einer Stellung aus der Menge S_1 landet, also matt gesetzt werden kann. Diese Stellungen werden zu einer Menge S_2 zusammen gefasst und aus S entfernt. S_2 enthält also die Stellungen, in denen der Spieler der am Zug ist, im nächsten Zug matt gesetzt werden kann, unabhängig davon, wie er selber zieht.",
   "metadata": {
    "cell_id": "5f53576f-b233-4715-b4b9-27c30ff765dd",
    "tags": [],
    "deepnote_cell_type": "markdown"
   }
  },
  {
   "cell_type": "code",
   "metadata": {
    "cell_id": "4ac7e552-5617-4011-a31b-027cdf8a0674",
    "tags": [],
    "deepnote_to_be_reexecuted": false,
    "source_hash": "c9f40727",
    "execution_start": 1645273661158,
    "execution_millis": 4,
    "deepnote_output_heights": [
     21
    ],
    "deepnote_cell_type": "code"
   },
   "source": "def generate_s_even(s: Set[str], l_odd: List[Set[str]], pieces_str: str) -> Set[str]:\n    s_next = set()\n\n    for i, representation in enumerate(s):\n\n        if i%1000 == 0: \n            print(\"\\r\", end=\"\")\n            print(f\"{i}/{len(s)} -> {int((i/len(s))*100)}%\", end=\"\")\n\n        board = int_to_board(representation, pieces_str)\n        legal_moves = board.legal_moves\n        \n        \n        fail = not legal_moves #no legal moves for stalemate position\n        \n        for move in legal_moves:\n            board.push(move)\n\n            if not any(board_to_int(board, pieces_str) in s_odd for s_odd in l_odd):\n                fail = True\n                break\n\n            board.pop()\n        \n        if not fail:\n            s_next.add(board_to_int(board, pieces_str))\n\n    s = set(s) - s_next\n    return s, s_next",
   "execution_count": null,
   "outputs": []
  },
  {
   "cell_type": "code",
   "metadata": {
    "cell_id": "d32196a8-ed14-4cf0-a014-a6c84df98264",
    "tags": [],
    "deepnote_to_be_reexecuted": false,
    "source_hash": "be3986c5",
    "execution_start": 1645273663118,
    "execution_millis": 2,
    "deepnote_cell_type": "code"
   },
   "source": "def save_sets_as_binary(list_of_sets: List[Set[int]], pieces_str: str) -> None:\n    with open(f\"./tables/{pieces_str}\", \"wb\") as f:\n        pickle.dump(list_of_sets, f)",
   "execution_count": null,
   "outputs": []
  },
  {
   "cell_type": "code",
   "metadata": {
    "cell_id": "106fdfe3-8ce6-43ed-994f-e2f09ffec190",
    "tags": [],
    "deepnote_to_be_reexecuted": false,
    "source_hash": "faa69a13",
    "execution_start": 1645273664704,
    "execution_millis": 27,
    "deepnote_cell_type": "code"
   },
   "source": "def main(pieces_str: str) -> None:\n    \n    print(f\"Doing all positions\")\n    s = generate_s(pieces_str)\n    print(f\"\\nLength of s = {len(s)}\")\n    print(f\"--------------------------------------------------------------------------------------------\")\n\n    list_of_sets = []\n\n    n = 0\n    \n    while True: \n\n        print(f\"Doing s_{n}\")\n\n        if n == 0: \n            s, s_n = generate_mate_positions(s, pieces_str)\n        elif n%2 == 1: \n            s, s_n = generate_s_odd(s, list_of_sets[-1], pieces_str)\n        else: \n            s, s_n = generate_s_even(s, list_of_sets[1::2], pieces_str)\n        \n        if not s_n: break\n        \n        list_of_sets.append(s_n)\n\n        print(f\"\\nLength of s_{n} = {len(s_n)}\")\n        print(f\"New length of s = {len(s)}\")\n        print(f\"--------------------------------------------------------------------------------------------\")\n\n        n += 1 \n\n    save_sets_as_binary(list_of_sets, pieces_str)",
   "execution_count": null,
   "outputs": []
  },
  {
   "cell_type": "code",
   "metadata": {
    "cell_id": "af71ee61-7479-4875-9d46-966561655098",
    "tags": [],
    "deepnote_to_be_reexecuted": false,
    "source_hash": "5c5edf88",
    "execution_start": 1644567926073,
    "execution_millis": 6038284,
    "output_cleared": false,
    "deepnote_output_heights": [
     null,
     null,
     null,
     null,
     null,
     40
    ],
    "deepnote_cell_type": "code"
   },
   "source": "main('Kknb')",
   "execution_count": null,
   "outputs": [
    {
     "name": "stdout",
     "text": "Doing all positions\n[63, 62, 63, 63] -> 100%\nLength of s = 24536088\n--------------------------------------------------------------------------------------------\nDoing s_0\n24536000/24536088 -> 99%\nLength of s_0 = 464\nNew length of s = 24535624\n--------------------------------------------------------------------------------------------\nDoing s_1\n8374000/24535624 -> 34%",
     "output_type": "stream"
    }
   ]
  },
  {
   "cell_type": "code",
   "metadata": {
    "cell_id": "6f025902-a39c-457b-b220-645255736ac1",
    "tags": [],
    "deepnote_to_be_reexecuted": false,
    "source_hash": "67470023",
    "execution_start": 1645273667588,
    "execution_millis": 38,
    "deepnote_cell_type": "code"
   },
   "source": "def test_dtm_with_gaviota(s: Set[str], test_set: Set[str], expected_dtm: int) -> None:\n\n    with chess.gaviota.open_tablebase(\"./gaviota\") as tablebase:\n\n        #Check if every set in gaviota is in test set\n        for rep in s:\n            board = int_to_board(rep, \"Kkr\")\n            if abs(tablebase.probe_dtm(board)) == expected_dtm:\n                assert rep in test_set, f\"FAILED: {board.epd()} not in test_s\"\n\n        #Check if every set in test set is in gaviota\n        for rep in test_set:\n            board = int_to_board(rep, \"Kkr\")\n            gaviota_dtm = abs(tablebase.probe_dtm(board))\n            assert gaviota_dtm == expected_dtm, f\"FAILED: {board.epd()} -> expected_dtm ({expected_dtm}) != gaviota_dtm ({gaviota_dtm})\"",
   "execution_count": null,
   "outputs": []
  },
  {
   "cell_type": "code",
   "metadata": {
    "cell_id": "223bff66-b995-4b66-9659-da12605d00fc",
    "tags": [],
    "deepnote_to_be_reexecuted": false,
    "source_hash": "27d18526",
    "execution_start": 1645273673168,
    "execution_millis": 39878,
    "deepnote_output_heights": [
     515
    ],
    "deepnote_cell_type": "code"
   },
   "source": "s = generate_s(\"Kkr\")",
   "execution_count": null,
   "outputs": [
    {
     "name": "stdout",
     "text": "[62, 63, 63] -> 99%",
     "output_type": "stream"
    }
   ]
  },
  {
   "cell_type": "code",
   "metadata": {
    "cell_id": "23345078-dc2b-4ed8-8d34-262f2f089016",
    "tags": [],
    "deepnote_to_be_reexecuted": false,
    "source_hash": "b86c3b9b",
    "execution_start": 1645273862826,
    "execution_millis": 2368004,
    "deepnote_cell_type": "code"
   },
   "source": "with open('./tables/Kkr', 'rb') as f:\n    list_of_sets = pickle.load(f)\n\nfor i in range(1, 33):\n    exec(f\"curr_set = {list_of_sets[i]}\")\n    test_dtm_with_gaviota(s, curr_set, i)\n    print(f\"s_{i} done\")",
   "execution_count": null,
   "outputs": [
    {
     "name": "stdout",
     "text": "s_1 done\ns_2 done\ns_3 done\ns_4 done\ns_5 done\ns_6 done\ns_7 done\ns_8 done\ns_9 done\ns_10 done\ns_11 done\ns_12 done\ns_13 done\ns_14 done\ns_15 done\ns_16 done\ns_17 done\ns_18 done\ns_19 done\ns_20 done\ns_21 done\ns_22 done\ns_23 done\ns_24 done\ns_25 done\ns_26 done\ns_27 done\ns_28 done\ns_29 done\ns_30 done\ns_31 done\ns_32 done\n",
     "output_type": "stream"
    }
   ]
  },
  {
   "cell_type": "code",
   "metadata": {
    "cell_id": "627b651a-cc04-42a8-a5d8-10aa692e0d52",
    "tags": [],
    "deepnote_to_be_reexecuted": false,
    "source_hash": "22d538d3",
    "execution_start": 1645273841035,
    "execution_millis": 9,
    "deepnote_cell_type": "code"
   },
   "source": "print(len(list_of_sets))",
   "execution_count": null,
   "outputs": [
    {
     "name": "stdout",
     "text": "33\n",
     "output_type": "stream"
    }
   ]
  },
  {
   "cell_type": "code",
   "metadata": {
    "cell_id": "69a90370-8f1f-4eb6-a5d3-8d2e9aa47ba1",
    "tags": [],
    "deepnote_to_be_reexecuted": false,
    "source_hash": "cbe2b7ed",
    "execution_start": 1644246897406,
    "execution_millis": 4217,
    "deepnote_cell_type": "code"
   },
   "source": "with open(\"./tables/Kkr.txt\", \"r\") as f:\n    sets = f.readlines()\n    for s_n in sets:\n        exec(s_n)\n    del s_n\n    del sets",
   "execution_count": null,
   "outputs": []
  },
  {
   "cell_type": "code",
   "metadata": {
    "cell_id": "44b302da-b2c2-486d-86c2-1da8ded0b428",
    "tags": [],
    "deepnote_to_be_reexecuted": false,
    "source_hash": "8af81fbd",
    "execution_start": 1644248924319,
    "execution_millis": 2461264,
    "deepnote_output_heights": [
     null,
     611
    ],
    "output_cleared": false,
    "deepnote_cell_type": "code"
   },
   "source": "for i in range(1, 33):\n    exec(f\"curr_set = s_{i}\")\n    test_dtm_with_gaviota(s, curr_set, i)\n    print(f\"s_{i} done\")",
   "execution_count": null,
   "outputs": [
    {
     "name": "stdout",
     "text": "s_1 done\ns_2 done\ns_3 done\ns_4 done\ns_5 done\ns_6 done\ns_7 done\ns_8 done\ns_9 done\ns_10 done\ns_11 done\ns_12 done\ns_13 done\ns_14 done\ns_15 done\ns_16 done\ns_17 done\ns_18 done\ns_19 done\ns_20 done\ns_21 done\ns_22 done\ns_23 done\ns_24 done\ns_25 done\ns_26 done\ns_27 done\ns_28 done\ns_29 done\ns_30 done\ns_31 done\ns_32 done\n",
     "output_type": "stream"
    }
   ]
  },
  {
   "cell_type": "code",
   "metadata": {
    "cell_id": "0ad6cd53-06f0-44d6-88f2-95b9893476ee",
    "tags": [],
    "deepnote_to_be_reexecuted": false,
    "source_hash": "c0763a6c",
    "execution_start": 1643393666718,
    "execution_millis": 67328,
    "deepnote_cell_type": "code"
   },
   "source": "test_dtm_with_gaviota(s, set(), 33)",
   "execution_count": null,
   "outputs": []
  },
  {
   "cell_type": "code",
   "metadata": {
    "cell_id": "8df43760-453f-42c0-8efe-4d68d10b4f0e",
    "tags": [],
    "deepnote_to_be_reexecuted": false,
    "source_hash": "515bca9f",
    "execution_start": 1642954543196,
    "execution_millis": 198,
    "deepnote_output_heights": [
     null,
     392
    ],
    "deepnote_cell_type": "code"
   },
   "source": "b = chess.Board('3r4/8/8/8/8/5k2/8/6K1 w - -')\nprint(list(b.legal_moves))\nb",
   "execution_count": null,
   "outputs": [
    {
     "name": "stdout",
     "text": "[Move.from_uci('g1h2'), Move.from_uci('g1h1'), Move.from_uci('g1f1')]\n",
     "output_type": "stream"
    },
    {
     "output_type": "execute_result",
     "execution_count": 37,
     "data": {
      "text/plain": "Board('3r4/8/8/8/8/5k2/8/6K1 w - - 0 1')",
      "image/svg+xml": "<svg xmlns=\"http://www.w3.org/2000/svg\" xmlns:xlink=\"http://www.w3.org/1999/xlink\" version=\"1.2\" baseProfile=\"tiny\" viewBox=\"0 0 390 390\" width=\"390\" height=\"390\"><defs><g id=\"white-king\" class=\"white king\" fill=\"none\" fill-rule=\"evenodd\" stroke=\"#000\" stroke-width=\"1.5\" stroke-linecap=\"round\" stroke-linejoin=\"round\"><path d=\"M22.5 11.63V6M20 8h5\" stroke-linejoin=\"miter\" /><path d=\"M22.5 25s4.5-7.5 3-10.5c0 0-1-2.5-3-2.5s-3 2.5-3 2.5c-1.5 3 3 10.5 3 10.5\" fill=\"#fff\" stroke-linecap=\"butt\" stroke-linejoin=\"miter\" /><path d=\"M11.5 37c5.5 3.5 15.5 3.5 21 0v-7s9-4.5 6-10.5c-4-6.5-13.5-3.5-16 4V27v-3.5c-3.5-7.5-13-10.5-16-4-3 6 5 10 5 10V37z\" fill=\"#fff\" /><path d=\"M11.5 30c5.5-3 15.5-3 21 0m-21 3.5c5.5-3 15.5-3 21 0m-21 3.5c5.5-3 15.5-3 21 0\" /></g><g id=\"black-rook\" class=\"black rook\" fill=\"#000\" fill-rule=\"evenodd\" stroke=\"#000\" stroke-width=\"1.5\" stroke-linecap=\"round\" stroke-linejoin=\"round\"><path d=\"M9 39h27v-3H9v3zM12.5 32l1.5-2.5h17l1.5 2.5h-20zM12 36v-4h21v4H12z\" stroke-linecap=\"butt\" /><path d=\"M14 29.5v-13h17v13H14z\" stroke-linecap=\"butt\" stroke-linejoin=\"miter\" /><path d=\"M14 16.5L11 14h23l-3 2.5H14zM11 14V9h4v2h5V9h5v2h5V9h4v5H11z\" stroke-linecap=\"butt\" /><path d=\"M12 35.5h21M13 31.5h19M14 29.5h17M14 16.5h17M11 14h23\" fill=\"none\" stroke=\"#fff\" stroke-width=\"1\" stroke-linejoin=\"miter\" /></g><g id=\"black-king\" class=\"black king\" fill=\"none\" fill-rule=\"evenodd\" stroke=\"#000\" stroke-width=\"1.5\" stroke-linecap=\"round\" stroke-linejoin=\"round\"><path d=\"M22.5 11.63V6\" stroke-linejoin=\"miter\" /><path d=\"M22.5 25s4.5-7.5 3-10.5c0 0-1-2.5-3-2.5s-3 2.5-3 2.5c-1.5 3 3 10.5 3 10.5\" fill=\"#000\" stroke-linecap=\"butt\" stroke-linejoin=\"miter\" /><path d=\"M11.5 37c5.5 3.5 15.5 3.5 21 0v-7s9-4.5 6-10.5c-4-6.5-13.5-3.5-16 4V27v-3.5c-3.5-7.5-13-10.5-16-4-3 6 5 10 5 10V37z\" fill=\"#000\" /><path d=\"M20 8h5\" stroke-linejoin=\"miter\" /><path d=\"M32 29.5s8.5-4 6.03-9.65C34.15 14 25 18 22.5 24.5l.01 2.1-.01-2.1C20 18 9.906 14 6.997 19.85c-2.497 5.65 4.853 9 4.853 9M11.5 30c5.5-3 15.5-3 21 0m-21 3.5c5.5-3 15.5-3 21 0m-21 3.5c5.5-3 15.5-3 21 0\" stroke=\"#fff\" /></g></defs><rect x=\"0\" y=\"0\" width=\"390\" height=\"390\" fill=\"#212121\" /><g transform=\"translate(20, 0) scale(0.75, 0.75)\" fill=\"#e5e5e5\" stroke=\"#e5e5e5\"><path d=\"M23.328 10.016q-1.742 0-2.414.398-.672.398-.672 1.36 0 .765.5 1.218.508.445 1.375.445 1.196 0 1.914-.843.727-.852.727-2.258v-.32zm2.867-.594v4.992h-1.437v-1.328q-.492.797-1.227 1.18-.734.375-1.797.375-1.343 0-2.14-.75-.79-.758-.79-2.024 0-1.476.985-2.226.992-.75 2.953-.75h2.016V8.75q0-.992-.656-1.531-.649-.547-1.829-.547-.75 0-1.46.18-.711.18-1.368.539V6.062q.79-.304 1.532-.453.742-.156 1.445-.156 1.898 0 2.836.984.937.985.937 2.985z\" /></g><g transform=\"translate(20, 375) scale(0.75, 0.75)\" fill=\"#e5e5e5\" stroke=\"#e5e5e5\"><path d=\"M23.328 10.016q-1.742 0-2.414.398-.672.398-.672 1.36 0 .765.5 1.218.508.445 1.375.445 1.196 0 1.914-.843.727-.852.727-2.258v-.32zm2.867-.594v4.992h-1.437v-1.328q-.492.797-1.227 1.18-.734.375-1.797.375-1.343 0-2.14-.75-.79-.758-.79-2.024 0-1.476.985-2.226.992-.75 2.953-.75h2.016V8.75q0-.992-.656-1.531-.649-.547-1.829-.547-.75 0-1.46.18-.711.18-1.368.539V6.062q.79-.304 1.532-.453.742-.156 1.445-.156 1.898 0 2.836.984.937.985.937 2.985z\" /></g><g transform=\"translate(65, 0) scale(0.75, 0.75)\" fill=\"#e5e5e5\" stroke=\"#e5e5e5\"><path d=\"M24.922 10.047q0-1.586-.656-2.485-.649-.906-1.79-.906-1.14 0-1.796.906-.649.899-.649 2.485 0 1.586.649 2.492.656.898 1.797.898 1.14 0 1.789-.898.656-.906.656-2.492zm-4.89-3.055q.452-.781 1.14-1.156.695-.383 1.656-.383 1.594 0 2.586 1.266 1 1.265 1 3.328 0 2.062-1 3.328-.992 1.266-2.586 1.266-.96 0-1.656-.375-.688-.383-1.14-1.164v1.312h-1.446V2.258h1.445z\" /></g><g transform=\"translate(65, 375) scale(0.75, 0.75)\" fill=\"#e5e5e5\" stroke=\"#e5e5e5\"><path d=\"M24.922 10.047q0-1.586-.656-2.485-.649-.906-1.79-.906-1.14 0-1.796.906-.649.899-.649 2.485 0 1.586.649 2.492.656.898 1.797.898 1.14 0 1.789-.898.656-.906.656-2.492zm-4.89-3.055q.452-.781 1.14-1.156.695-.383 1.656-.383 1.594 0 2.586 1.266 1 1.265 1 3.328 0 2.062-1 3.328-.992 1.266-2.586 1.266-.96 0-1.656-.375-.688-.383-1.14-1.164v1.312h-1.446V2.258h1.445z\" /></g><g transform=\"translate(110, 0) scale(0.75, 0.75)\" fill=\"#e5e5e5\" stroke=\"#e5e5e5\"><path d=\"M25.96 6v1.344q-.608-.336-1.226-.5-.609-.172-1.234-.172-1.398 0-2.172.89-.773.883-.773 2.485 0 1.601.773 2.492.774.883 2.172.883.625 0 1.234-.164.618-.172 1.227-.508v1.328q-.602.281-1.25.422-.64.14-1.367.14-1.977 0-3.14-1.242-1.165-1.242-1.165-3.351 0-2.14 1.172-3.367 1.18-1.227 3.227-1.227.664 0 1.296.14.633.134 1.227.407z\" /></g><g transform=\"translate(110, 375) scale(0.75, 0.75)\" fill=\"#e5e5e5\" stroke=\"#e5e5e5\"><path d=\"M25.96 6v1.344q-.608-.336-1.226-.5-.609-.172-1.234-.172-1.398 0-2.172.89-.773.883-.773 2.485 0 1.601.773 2.492.774.883 2.172.883.625 0 1.234-.164.618-.172 1.227-.508v1.328q-.602.281-1.25.422-.64.14-1.367.14-1.977 0-3.14-1.242-1.165-1.242-1.165-3.351 0-2.14 1.172-3.367 1.18-1.227 3.227-1.227.664 0 1.296.14.633.134 1.227.407z\" /></g><g transform=\"translate(155, 0) scale(0.75, 0.75)\" fill=\"#e5e5e5\" stroke=\"#e5e5e5\"><path d=\"M24.973 6.992V2.258h1.437v12.156h-1.437v-1.312q-.453.78-1.149 1.164-.687.375-1.656.375-1.586 0-2.586-1.266-.992-1.266-.992-3.328 0-2.063.992-3.328 1-1.266 2.586-1.266.969 0 1.656.383.696.375 1.149 1.156zm-4.899 3.055q0 1.586.649 2.492.656.898 1.797.898 1.14 0 1.796-.898.657-.906.657-2.492 0-1.586-.657-2.485-.656-.906-1.796-.906-1.141 0-1.797.906-.649.899-.649 2.485z\" /></g><g transform=\"translate(155, 375) scale(0.75, 0.75)\" fill=\"#e5e5e5\" stroke=\"#e5e5e5\"><path d=\"M24.973 6.992V2.258h1.437v12.156h-1.437v-1.312q-.453.78-1.149 1.164-.687.375-1.656.375-1.586 0-2.586-1.266-.992-1.266-.992-3.328 0-2.063.992-3.328 1-1.266 2.586-1.266.969 0 1.656.383.696.375 1.149 1.156zm-4.899 3.055q0 1.586.649 2.492.656.898 1.797.898 1.14 0 1.796-.898.657-.906.657-2.492 0-1.586-.657-2.485-.656-.906-1.796-.906-1.141 0-1.797.906-.649.899-.649 2.485z\" /></g><g transform=\"translate(200, 0) scale(0.75, 0.75)\" fill=\"#e5e5e5\" stroke=\"#e5e5e5\"><path d=\"M26.555 9.68v.703h-6.61q.094 1.484.89 2.265.806.774 2.235.774.828 0 1.602-.203.781-.203 1.547-.61v1.36q-.774.328-1.586.5-.813.172-1.649.172-2.093 0-3.32-1.22-1.219-1.218-1.219-3.296 0-2.148 1.157-3.406 1.164-1.266 3.132-1.266 1.766 0 2.79 1.14 1.03 1.134 1.03 3.087zm-1.438-.422q-.015-1.18-.664-1.883-.64-.703-1.703-.703-1.203 0-1.93.68-.718.68-.828 1.914z\" /></g><g transform=\"translate(200, 375) scale(0.75, 0.75)\" fill=\"#e5e5e5\" stroke=\"#e5e5e5\"><path d=\"M26.555 9.68v.703h-6.61q.094 1.484.89 2.265.806.774 2.235.774.828 0 1.602-.203.781-.203 1.547-.61v1.36q-.774.328-1.586.5-.813.172-1.649.172-2.093 0-3.32-1.22-1.219-1.218-1.219-3.296 0-2.148 1.157-3.406 1.164-1.266 3.132-1.266 1.766 0 2.79 1.14 1.03 1.134 1.03 3.087zm-1.438-.422q-.015-1.18-.664-1.883-.64-.703-1.703-.703-1.203 0-1.93.68-.718.68-.828 1.914z\" /></g><g transform=\"translate(245, 0) scale(0.75, 0.75)\" fill=\"#e5e5e5\" stroke=\"#e5e5e5\"><path d=\"M25.285 2.258v1.195H23.91q-.773 0-1.078.313-.297.312-.297 1.125v.773h2.367v1.117h-2.367v7.633H21.09V6.781h-1.375V5.664h1.375v-.61q0-1.46.68-2.124.68-.672 2.156-.672z\" /></g><g transform=\"translate(245, 375) scale(0.75, 0.75)\" fill=\"#e5e5e5\" stroke=\"#e5e5e5\"><path d=\"M25.285 2.258v1.195H23.91q-.773 0-1.078.313-.297.312-.297 1.125v.773h2.367v1.117h-2.367v7.633H21.09V6.781h-1.375V5.664h1.375v-.61q0-1.46.68-2.124.68-.672 2.156-.672z\" /></g><g transform=\"translate(290, 0) scale(0.75, 0.75)\" fill=\"#e5e5e5\" stroke=\"#e5e5e5\"><path d=\"M24.973 9.937q0-1.562-.649-2.421-.64-.86-1.804-.86-1.157 0-1.805.86-.64.859-.64 2.421 0 1.555.64 2.415.648.859 1.805.859 1.164 0 1.804-.86.649-.859.649-2.414zm1.437 3.391q0 2.234-.992 3.32-.992 1.094-3.04 1.094-.757 0-1.429-.117-.672-.11-1.304-.344v-1.398q.632.344 1.25.508.617.164 1.257.164 1.414 0 2.118-.743.703-.734.703-2.226v-.711q-.446.773-1.141 1.156-.695.383-1.664.383-1.61 0-2.594-1.227-.984-1.226-.984-3.25 0-2.03.984-3.257.985-1.227 2.594-1.227.969 0 1.664.383t1.14 1.156V5.664h1.438z\" /></g><g transform=\"translate(290, 375) scale(0.75, 0.75)\" fill=\"#e5e5e5\" stroke=\"#e5e5e5\"><path d=\"M24.973 9.937q0-1.562-.649-2.421-.64-.86-1.804-.86-1.157 0-1.805.86-.64.859-.64 2.421 0 1.555.64 2.415.648.859 1.805.859 1.164 0 1.804-.86.649-.859.649-2.414zm1.437 3.391q0 2.234-.992 3.32-.992 1.094-3.04 1.094-.757 0-1.429-.117-.672-.11-1.304-.344v-1.398q.632.344 1.25.508.617.164 1.257.164 1.414 0 2.118-.743.703-.734.703-2.226v-.711q-.446.773-1.141 1.156-.695.383-1.664.383-1.61 0-2.594-1.227-.984-1.226-.984-3.25 0-2.03.984-3.257.985-1.227 2.594-1.227.969 0 1.664.383t1.14 1.156V5.664h1.438z\" /></g><g transform=\"translate(335, 0) scale(0.75, 0.75)\" fill=\"#e5e5e5\" stroke=\"#e5e5e5\"><path d=\"M26.164 9.133v5.281h-1.437V9.18q0-1.243-.485-1.86-.484-.617-1.453-.617-1.164 0-1.836.742-.672.742-.672 2.024v4.945h-1.445V2.258h1.445v4.765q.516-.789 1.211-1.18.703-.39 1.617-.39 1.508 0 2.282.938.773.93.773 2.742z\" /></g><g transform=\"translate(335, 375) scale(0.75, 0.75)\" fill=\"#e5e5e5\" stroke=\"#e5e5e5\"><path d=\"M26.164 9.133v5.281h-1.437V9.18q0-1.243-.485-1.86-.484-.617-1.453-.617-1.164 0-1.836.742-.672.742-.672 2.024v4.945h-1.445V2.258h1.445v4.765q.516-.789 1.211-1.18.703-.39 1.617-.39 1.508 0 2.282.938.773.93.773 2.742z\" /></g><g transform=\"translate(0, 335) scale(0.75, 0.75)\" fill=\"#e5e5e5\" stroke=\"#e5e5e5\"><path d=\"M6.754 26.996h2.578v-8.898l-2.805.562v-1.437l2.79-.563h1.578v10.336h2.578v1.328h-6.72z\" /></g><g transform=\"translate(375, 335) scale(0.75, 0.75)\" fill=\"#e5e5e5\" stroke=\"#e5e5e5\"><path d=\"M6.754 26.996h2.578v-8.898l-2.805.562v-1.437l2.79-.563h1.578v10.336h2.578v1.328h-6.72z\" /></g><g transform=\"translate(0, 290) scale(0.75, 0.75)\" fill=\"#e5e5e5\" stroke=\"#e5e5e5\"><path d=\"M8.195 26.996h5.508v1.328H6.297v-1.328q.898-.93 2.445-2.492 1.555-1.57 1.953-2.024.758-.851 1.055-1.437.305-.594.305-1.164 0-.93-.657-1.516-.648-.586-1.695-.586-.742 0-1.57.258-.82.258-1.758.781v-1.593q.953-.383 1.781-.578.828-.196 1.516-.196 1.812 0 2.89.906 1.079.907 1.079 2.422 0 .72-.274 1.368-.265.64-.976 1.515-.196.227-1.243 1.313-1.046 1.078-2.953 3.023z\" /></g><g transform=\"translate(375, 290) scale(0.75, 0.75)\" fill=\"#e5e5e5\" stroke=\"#e5e5e5\"><path d=\"M8.195 26.996h5.508v1.328H6.297v-1.328q.898-.93 2.445-2.492 1.555-1.57 1.953-2.024.758-.851 1.055-1.437.305-.594.305-1.164 0-.93-.657-1.516-.648-.586-1.695-.586-.742 0-1.57.258-.82.258-1.758.781v-1.593q.953-.383 1.781-.578.828-.196 1.516-.196 1.812 0 2.89.906 1.079.907 1.079 2.422 0 .72-.274 1.368-.265.64-.976 1.515-.196.227-1.243 1.313-1.046 1.078-2.953 3.023z\" /></g><g transform=\"translate(0, 245) scale(0.75, 0.75)\" fill=\"#e5e5e5\" stroke=\"#e5e5e5\"><path d=\"M11.434 22.035q1.132.242 1.765 1.008.64.766.64 1.89 0 1.727-1.187 2.672-1.187.946-3.375.946-.734 0-1.515-.149-.774-.14-1.602-.43V26.45q.656.383 1.438.578.78.196 1.632.196 1.485 0 2.258-.586.782-.586.782-1.703 0-1.032-.727-1.61-.719-.586-2.008-.586h-1.36v-1.297h1.423q1.164 0 1.78-.46.618-.47.618-1.344 0-.899-.64-1.375-.633-.485-1.82-.485-.65 0-1.391.141-.743.14-1.633.437V16.95q.898-.25 1.68-.375.788-.125 1.484-.125 1.797 0 2.844.82 1.046.813 1.046 2.204 0 .968-.554 1.64-.555.664-1.578.922z\" /></g><g transform=\"translate(375, 245) scale(0.75, 0.75)\" fill=\"#e5e5e5\" stroke=\"#e5e5e5\"><path d=\"M11.434 22.035q1.132.242 1.765 1.008.64.766.64 1.89 0 1.727-1.187 2.672-1.187.946-3.375.946-.734 0-1.515-.149-.774-.14-1.602-.43V26.45q.656.383 1.438.578.78.196 1.632.196 1.485 0 2.258-.586.782-.586.782-1.703 0-1.032-.727-1.61-.719-.586-2.008-.586h-1.36v-1.297h1.423q1.164 0 1.78-.46.618-.47.618-1.344 0-.899-.64-1.375-.633-.485-1.82-.485-.65 0-1.391.141-.743.14-1.633.437V16.95q.898-.25 1.68-.375.788-.125 1.484-.125 1.797 0 2.844.82 1.046.813 1.046 2.204 0 .968-.554 1.64-.555.664-1.578.922z\" /></g><g transform=\"translate(0, 200) scale(0.75, 0.75)\" fill=\"#e5e5e5\" stroke=\"#e5e5e5\"><path d=\"M11.016 18.035L7.03 24.262h3.985zm-.414-1.375h1.984v7.602h1.664v1.312h-1.664v2.75h-1.57v-2.75H5.75v-1.523z\" /></g><g transform=\"translate(375, 200) scale(0.75, 0.75)\" fill=\"#e5e5e5\" stroke=\"#e5e5e5\"><path d=\"M11.016 18.035L7.03 24.262h3.985zm-.414-1.375h1.984v7.602h1.664v1.312h-1.664v2.75h-1.57v-2.75H5.75v-1.523z\" /></g><g transform=\"translate(0, 155) scale(0.75, 0.75)\" fill=\"#e5e5e5\" stroke=\"#e5e5e5\"><path d=\"M6.719 16.66h6.195v1.328h-4.75v2.86q.344-.118.688-.172.343-.063.687-.063 1.953 0 3.094 1.07 1.14 1.07 1.14 2.899 0 1.883-1.171 2.93-1.172 1.039-3.305 1.039-.735 0-1.5-.125-.758-.125-1.57-.375v-1.586q.703.383 1.453.57.75.188 1.586.188 1.351 0 2.14-.711.79-.711.79-1.93 0-1.219-.79-1.93-.789-.71-2.14-.71-.633 0-1.266.14-.625.14-1.281.438z\" /></g><g transform=\"translate(375, 155) scale(0.75, 0.75)\" fill=\"#e5e5e5\" stroke=\"#e5e5e5\"><path d=\"M6.719 16.66h6.195v1.328h-4.75v2.86q.344-.118.688-.172.343-.063.687-.063 1.953 0 3.094 1.07 1.14 1.07 1.14 2.899 0 1.883-1.171 2.93-1.172 1.039-3.305 1.039-.735 0-1.5-.125-.758-.125-1.57-.375v-1.586q.703.383 1.453.57.75.188 1.586.188 1.351 0 2.14-.711.79-.711.79-1.93 0-1.219-.79-1.93-.789-.71-2.14-.71-.633 0-1.266.14-.625.14-1.281.438z\" /></g><g transform=\"translate(0, 110) scale(0.75, 0.75)\" fill=\"#e5e5e5\" stroke=\"#e5e5e5\"><path d=\"M10.137 21.863q-1.063 0-1.688.727-.617.726-.617 1.992 0 1.258.617 1.992.625.727 1.688.727 1.062 0 1.68-.727.624-.734.624-1.992 0-1.266-.625-1.992-.617-.727-1.68-.727zm3.133-4.945v1.437q-.594-.28-1.204-.43-.601-.148-1.195-.148-1.562 0-2.39 1.055-.82 1.055-.938 3.188.46-.68 1.156-1.04.696-.367 1.531-.367 1.758 0 2.774 1.07 1.023 1.063 1.023 2.899 0 1.797-1.062 2.883-1.063 1.086-2.828 1.086-2.024 0-3.094-1.547-1.07-1.555-1.07-4.5 0-2.766 1.312-4.406 1.313-1.649 3.524-1.649.593 0 1.195.117.61.118 1.266.352z\" /></g><g transform=\"translate(375, 110) scale(0.75, 0.75)\" fill=\"#e5e5e5\" stroke=\"#e5e5e5\"><path d=\"M10.137 21.863q-1.063 0-1.688.727-.617.726-.617 1.992 0 1.258.617 1.992.625.727 1.688.727 1.062 0 1.68-.727.624-.734.624-1.992 0-1.266-.625-1.992-.617-.727-1.68-.727zm3.133-4.945v1.437q-.594-.28-1.204-.43-.601-.148-1.195-.148-1.562 0-2.39 1.055-.82 1.055-.938 3.188.46-.68 1.156-1.04.696-.367 1.531-.367 1.758 0 2.774 1.07 1.023 1.063 1.023 2.899 0 1.797-1.062 2.883-1.063 1.086-2.828 1.086-2.024 0-3.094-1.547-1.07-1.555-1.07-4.5 0-2.766 1.312-4.406 1.313-1.649 3.524-1.649.593 0 1.195.117.61.118 1.266.352z\" /></g><g transform=\"translate(0, 65) scale(0.75, 0.75)\" fill=\"#e5e5e5\" stroke=\"#e5e5e5\"><path d=\"M6.25 16.66h7.5v.672L9.516 28.324H7.867l3.985-10.336H6.25z\" /></g><g transform=\"translate(375, 65) scale(0.75, 0.75)\" fill=\"#e5e5e5\" stroke=\"#e5e5e5\"><path d=\"M6.25 16.66h7.5v.672L9.516 28.324H7.867l3.985-10.336H6.25z\" /></g><g transform=\"translate(0, 20) scale(0.75, 0.75)\" fill=\"#e5e5e5\" stroke=\"#e5e5e5\"><path d=\"M10 22.785q-1.125 0-1.773.602-.641.601-.641 1.656t.64 1.656q.649.602 1.774.602t1.773-.602q.649-.61.649-1.656 0-1.055-.649-1.656-.64-.602-1.773-.602zm-1.578-.672q-1.016-.25-1.586-.945-.563-.695-.563-1.695 0-1.399.993-2.211 1-.813 2.734-.813 1.742 0 2.734.813.993.812.993 2.21 0 1-.57 1.696-.563.695-1.571.945 1.14.266 1.773 1.04.641.773.641 1.89 0 1.695-1.04 2.602-1.03.906-2.96.906t-2.969-.906Q6 26.738 6 25.043q0-1.117.64-1.89.641-.774 1.782-1.04zm-.578-2.492q0 .906.562 1.414.57.508 1.594.508 1.016 0 1.586-.508.578-.508.578-1.414 0-.906-.578-1.414-.57-.508-1.586-.508-1.023 0-1.594.508-.562.508-.562 1.414z\" /></g><g transform=\"translate(375, 20) scale(0.75, 0.75)\" fill=\"#e5e5e5\" stroke=\"#e5e5e5\"><path d=\"M10 22.785q-1.125 0-1.773.602-.641.601-.641 1.656t.64 1.656q.649.602 1.774.602t1.773-.602q.649-.61.649-1.656 0-1.055-.649-1.656-.64-.602-1.773-.602zm-1.578-.672q-1.016-.25-1.586-.945-.563-.695-.563-1.695 0-1.399.993-2.211 1-.813 2.734-.813 1.742 0 2.734.813.993.812.993 2.21 0 1-.57 1.696-.563.695-1.571.945 1.14.266 1.773 1.04.641.773.641 1.89 0 1.695-1.04 2.602-1.03.906-2.96.906t-2.969-.906Q6 26.738 6 25.043q0-1.117.64-1.89.641-.774 1.782-1.04zm-.578-2.492q0 .906.562 1.414.57.508 1.594.508 1.016 0 1.586-.508.578-.508.578-1.414 0-.906-.578-1.414-.57-.508-1.586-.508-1.023 0-1.594.508-.562.508-.562 1.414z\" /></g><rect x=\"15\" y=\"330\" width=\"45\" height=\"45\" class=\"square dark a1\" stroke=\"none\" fill=\"#d18b47\" /><rect x=\"60\" y=\"330\" width=\"45\" height=\"45\" class=\"square light b1\" stroke=\"none\" fill=\"#ffce9e\" /><rect x=\"105\" y=\"330\" width=\"45\" height=\"45\" class=\"square dark c1\" stroke=\"none\" fill=\"#d18b47\" /><rect x=\"150\" y=\"330\" width=\"45\" height=\"45\" class=\"square light d1\" stroke=\"none\" fill=\"#ffce9e\" /><rect x=\"195\" y=\"330\" width=\"45\" height=\"45\" class=\"square dark e1\" stroke=\"none\" fill=\"#d18b47\" /><rect x=\"240\" y=\"330\" width=\"45\" height=\"45\" class=\"square light f1\" stroke=\"none\" fill=\"#ffce9e\" /><rect x=\"285\" y=\"330\" width=\"45\" height=\"45\" class=\"square dark g1\" stroke=\"none\" fill=\"#d18b47\" /><rect x=\"330\" y=\"330\" width=\"45\" height=\"45\" class=\"square light h1\" stroke=\"none\" fill=\"#ffce9e\" /><rect x=\"15\" y=\"285\" width=\"45\" height=\"45\" class=\"square light a2\" stroke=\"none\" fill=\"#ffce9e\" /><rect x=\"60\" y=\"285\" width=\"45\" height=\"45\" class=\"square dark b2\" stroke=\"none\" fill=\"#d18b47\" /><rect x=\"105\" y=\"285\" width=\"45\" height=\"45\" class=\"square light c2\" stroke=\"none\" fill=\"#ffce9e\" /><rect x=\"150\" y=\"285\" width=\"45\" height=\"45\" class=\"square dark d2\" stroke=\"none\" fill=\"#d18b47\" /><rect x=\"195\" y=\"285\" width=\"45\" height=\"45\" class=\"square light e2\" stroke=\"none\" fill=\"#ffce9e\" /><rect x=\"240\" y=\"285\" width=\"45\" height=\"45\" class=\"square dark f2\" stroke=\"none\" fill=\"#d18b47\" /><rect x=\"285\" y=\"285\" width=\"45\" height=\"45\" class=\"square light g2\" stroke=\"none\" fill=\"#ffce9e\" /><rect x=\"330\" y=\"285\" width=\"45\" height=\"45\" class=\"square dark h2\" stroke=\"none\" fill=\"#d18b47\" /><rect x=\"15\" y=\"240\" width=\"45\" height=\"45\" class=\"square dark a3\" stroke=\"none\" fill=\"#d18b47\" /><rect x=\"60\" y=\"240\" width=\"45\" height=\"45\" class=\"square light b3\" stroke=\"none\" fill=\"#ffce9e\" /><rect x=\"105\" y=\"240\" width=\"45\" height=\"45\" class=\"square dark c3\" stroke=\"none\" fill=\"#d18b47\" /><rect x=\"150\" y=\"240\" width=\"45\" height=\"45\" class=\"square light d3\" stroke=\"none\" fill=\"#ffce9e\" /><rect x=\"195\" y=\"240\" width=\"45\" height=\"45\" class=\"square dark e3\" stroke=\"none\" fill=\"#d18b47\" /><rect x=\"240\" y=\"240\" width=\"45\" height=\"45\" class=\"square light f3\" stroke=\"none\" fill=\"#ffce9e\" /><rect x=\"285\" y=\"240\" width=\"45\" height=\"45\" class=\"square dark g3\" stroke=\"none\" fill=\"#d18b47\" /><rect x=\"330\" y=\"240\" width=\"45\" height=\"45\" class=\"square light h3\" stroke=\"none\" fill=\"#ffce9e\" /><rect x=\"15\" y=\"195\" width=\"45\" height=\"45\" class=\"square light a4\" stroke=\"none\" fill=\"#ffce9e\" /><rect x=\"60\" y=\"195\" width=\"45\" height=\"45\" class=\"square dark b4\" stroke=\"none\" fill=\"#d18b47\" /><rect x=\"105\" y=\"195\" width=\"45\" height=\"45\" class=\"square light c4\" stroke=\"none\" fill=\"#ffce9e\" /><rect x=\"150\" y=\"195\" width=\"45\" height=\"45\" class=\"square dark d4\" stroke=\"none\" fill=\"#d18b47\" /><rect x=\"195\" y=\"195\" width=\"45\" height=\"45\" class=\"square light e4\" stroke=\"none\" fill=\"#ffce9e\" /><rect x=\"240\" y=\"195\" width=\"45\" height=\"45\" class=\"square dark f4\" stroke=\"none\" fill=\"#d18b47\" /><rect x=\"285\" y=\"195\" width=\"45\" height=\"45\" class=\"square light g4\" stroke=\"none\" fill=\"#ffce9e\" /><rect x=\"330\" y=\"195\" width=\"45\" height=\"45\" class=\"square dark h4\" stroke=\"none\" fill=\"#d18b47\" /><rect x=\"15\" y=\"150\" width=\"45\" height=\"45\" class=\"square dark a5\" stroke=\"none\" fill=\"#d18b47\" /><rect x=\"60\" y=\"150\" width=\"45\" height=\"45\" class=\"square light b5\" stroke=\"none\" fill=\"#ffce9e\" /><rect x=\"105\" y=\"150\" width=\"45\" height=\"45\" class=\"square dark c5\" stroke=\"none\" fill=\"#d18b47\" /><rect x=\"150\" y=\"150\" width=\"45\" height=\"45\" class=\"square light d5\" stroke=\"none\" fill=\"#ffce9e\" /><rect x=\"195\" y=\"150\" width=\"45\" height=\"45\" class=\"square dark e5\" stroke=\"none\" fill=\"#d18b47\" /><rect x=\"240\" y=\"150\" width=\"45\" height=\"45\" class=\"square light f5\" stroke=\"none\" fill=\"#ffce9e\" /><rect x=\"285\" y=\"150\" width=\"45\" height=\"45\" class=\"square dark g5\" stroke=\"none\" fill=\"#d18b47\" /><rect x=\"330\" y=\"150\" width=\"45\" height=\"45\" class=\"square light h5\" stroke=\"none\" fill=\"#ffce9e\" /><rect x=\"15\" y=\"105\" width=\"45\" height=\"45\" class=\"square light a6\" stroke=\"none\" fill=\"#ffce9e\" /><rect x=\"60\" y=\"105\" width=\"45\" height=\"45\" class=\"square dark b6\" stroke=\"none\" fill=\"#d18b47\" /><rect x=\"105\" y=\"105\" width=\"45\" height=\"45\" class=\"square light c6\" stroke=\"none\" fill=\"#ffce9e\" /><rect x=\"150\" y=\"105\" width=\"45\" height=\"45\" class=\"square dark d6\" stroke=\"none\" fill=\"#d18b47\" /><rect x=\"195\" y=\"105\" width=\"45\" height=\"45\" class=\"square light e6\" stroke=\"none\" fill=\"#ffce9e\" /><rect x=\"240\" y=\"105\" width=\"45\" height=\"45\" class=\"square dark f6\" stroke=\"none\" fill=\"#d18b47\" /><rect x=\"285\" y=\"105\" width=\"45\" height=\"45\" class=\"square light g6\" stroke=\"none\" fill=\"#ffce9e\" /><rect x=\"330\" y=\"105\" width=\"45\" height=\"45\" class=\"square dark h6\" stroke=\"none\" fill=\"#d18b47\" /><rect x=\"15\" y=\"60\" width=\"45\" height=\"45\" class=\"square dark a7\" stroke=\"none\" fill=\"#d18b47\" /><rect x=\"60\" y=\"60\" width=\"45\" height=\"45\" class=\"square light b7\" stroke=\"none\" fill=\"#ffce9e\" /><rect x=\"105\" y=\"60\" width=\"45\" height=\"45\" class=\"square dark c7\" stroke=\"none\" fill=\"#d18b47\" /><rect x=\"150\" y=\"60\" width=\"45\" height=\"45\" class=\"square light d7\" stroke=\"none\" fill=\"#ffce9e\" /><rect x=\"195\" y=\"60\" width=\"45\" height=\"45\" class=\"square dark e7\" stroke=\"none\" fill=\"#d18b47\" /><rect x=\"240\" y=\"60\" width=\"45\" height=\"45\" class=\"square light f7\" stroke=\"none\" fill=\"#ffce9e\" /><rect x=\"285\" y=\"60\" width=\"45\" height=\"45\" class=\"square dark g7\" stroke=\"none\" fill=\"#d18b47\" /><rect x=\"330\" y=\"60\" width=\"45\" height=\"45\" class=\"square light h7\" stroke=\"none\" fill=\"#ffce9e\" /><rect x=\"15\" y=\"15\" width=\"45\" height=\"45\" class=\"square light a8\" stroke=\"none\" fill=\"#ffce9e\" /><rect x=\"60\" y=\"15\" width=\"45\" height=\"45\" class=\"square dark b8\" stroke=\"none\" fill=\"#d18b47\" /><rect x=\"105\" y=\"15\" width=\"45\" height=\"45\" class=\"square light c8\" stroke=\"none\" fill=\"#ffce9e\" /><rect x=\"150\" y=\"15\" width=\"45\" height=\"45\" class=\"square dark d8\" stroke=\"none\" fill=\"#d18b47\" /><rect x=\"195\" y=\"15\" width=\"45\" height=\"45\" class=\"square light e8\" stroke=\"none\" fill=\"#ffce9e\" /><rect x=\"240\" y=\"15\" width=\"45\" height=\"45\" class=\"square dark f8\" stroke=\"none\" fill=\"#d18b47\" /><rect x=\"285\" y=\"15\" width=\"45\" height=\"45\" class=\"square light g8\" stroke=\"none\" fill=\"#ffce9e\" /><rect x=\"330\" y=\"15\" width=\"45\" height=\"45\" class=\"square dark h8\" stroke=\"none\" fill=\"#d18b47\" /><use href=\"#white-king\" xlink:href=\"#white-king\" transform=\"translate(285, 330)\" /><use href=\"#black-king\" xlink:href=\"#black-king\" transform=\"translate(240, 240)\" /><use href=\"#black-rook\" xlink:href=\"#black-rook\" transform=\"translate(150, 15)\" /></svg>"
     },
     "metadata": {}
    }
   ]
  },
  {
   "cell_type": "code",
   "metadata": {
    "cell_id": "4b458768-5162-4f78-8f83-89f07e4402d4",
    "tags": [],
    "deepnote_to_be_reexecuted": false,
    "source_hash": "616bb991",
    "execution_start": 1643381493835,
    "execution_millis": 0,
    "deepnote_cell_type": "code"
   },
   "source": "def test():\n    s = set()\n    for i in range(400000*64*10):\n        s.add(f'3r4/8/8/8/8/5k2/8/6K1 w - {i}')",
   "execution_count": null,
   "outputs": []
  },
  {
   "cell_type": "code",
   "metadata": {
    "cell_id": "59280ab6-33cf-4819-91e0-a502d49d2cfd",
    "tags": [],
    "deepnote_to_be_reexecuted": false,
    "source_hash": "d312736d",
    "execution_start": 1643916067519,
    "execution_millis": 0,
    "deepnote_cell_type": "code"
   },
   "source": "import sys",
   "execution_count": null,
   "outputs": []
  },
  {
   "cell_type": "code",
   "metadata": {
    "cell_id": "ae9bfebc-1339-415b-b2b9-327358819911",
    "tags": [],
    "deepnote_to_be_reexecuted": false,
    "source_hash": "17e9cad9",
    "execution_start": 1643916267123,
    "execution_millis": 2,
    "deepnote_output_heights": [
     null,
     21
    ],
    "deepnote_cell_type": "code"
   },
   "source": "x = 0b1111111111111111111111111\nx = int(x)\nprint(x)\nsys.getsizeof(x)",
   "execution_count": null,
   "outputs": [
    {
     "name": "stdout",
     "text": "33554431\n",
     "output_type": "stream"
    },
    {
     "output_type": "execute_result",
     "execution_count": 19,
     "data": {
      "text/plain": "28"
     },
     "metadata": {}
    }
   ]
  },
  {
   "cell_type": "code",
   "metadata": {
    "cell_id": "b7be28aa-9536-4a72-8e1d-6600cb6d9b29",
    "tags": [],
    "deepnote_to_be_reexecuted": false,
    "source_hash": "d3b13726",
    "execution_start": 1644148967287,
    "execution_millis": 5,
    "deepnote_output_heights": [
     21
    ],
    "deepnote_cell_type": "code"
   },
   "source": "chess.Board().epd()",
   "execution_count": null,
   "outputs": [
    {
     "output_type": "execute_result",
     "execution_count": 4,
     "data": {
      "text/plain": "'rnbqkbnr/pppppppp/8/8/8/8/PPPPPPPP/RNBQKBNR w KQkq -'"
     },
     "metadata": {}
    }
   ]
  },
  {
   "cell_type": "code",
   "metadata": {
    "cell_id": "d9d7b632-4527-4342-936a-5e26e12e0c83",
    "tags": [],
    "deepnote_to_be_reexecuted": false,
    "source_hash": "c3b7af73",
    "execution_start": 1644417099314,
    "execution_millis": 5579,
    "deepnote_cell_type": "code"
   },
   "source": "%%time\ns = {x for x in range(25000000)}\nif s & {19000000}: print(\"Found\")\ndel s",
   "execution_count": null,
   "outputs": [
    {
     "name": "stdout",
     "text": "Found\nCPU times: user 2.25 s, sys: 1.46 s, total: 3.71 s\nWall time: 5.55 s\n",
     "output_type": "stream"
    }
   ]
  },
  {
   "cell_type": "code",
   "metadata": {
    "cell_id": "5b07ac95-6eb1-4669-ae29-08b950c0d30e",
    "tags": [],
    "deepnote_cell_type": "code"
   },
   "source": "",
   "execution_count": null,
   "outputs": []
  },
  {
   "cell_type": "markdown",
   "source": "<a style='text-decoration:none;line-height:16px;display:flex;color:#5B5B62;padding:10px;justify-content:end;' href='https://deepnote.com?utm_source=created-in-deepnote-cell&projectId=f6e34dfb-c85e-40db-bde6-d0ca8b0148c0' target=\"_blank\">\n<img alt='Created in deepnote.com' style='display:inline;max-height:16px;margin:0px;margin-right:7.5px;' src='data:image/svg+xml;base64,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' > </img>\nCreated in <span style='font-weight:600;margin-left:4px;'>Deepnote</span></a>",
   "metadata": {
    "tags": [],
    "created_in_deepnote_cell": true,
    "deepnote_cell_type": "markdown"
   }
  }
 ],
 "nbformat": 4,
 "nbformat_minor": 2,
 "metadata": {
  "orig_nbformat": 2,
  "deepnote": {
   "is_reactive": false
  },
  "deepnote_notebook_id": "b28e06b6-1066-4a36-a307-13887c6252e6",
  "deepnote_execution_queue": [],
  "deepnote_app_layout": "article"
 }
}