{
 "cells": [
  {
   "cell_type": "code",
   "execution_count": null,
   "metadata": {
    "cell_id": "80fafd6e-a1ad-47cd-b04b-16aa7cd8a972",
    "deepnote_app_coordinates": {
     "h": 5,
     "w": 12,
     "x": 0,
     "y": 0
    },
    "deepnote_cell_height": 153,
    "deepnote_cell_type": "code",
    "deepnote_output_heights": [
     2
    ],
    "deepnote_to_be_reexecuted": false,
    "execution_millis": 32,
    "execution_start": 1648288684415,
    "source_hash": "f2b9d08b",
    "tags": []
   },
   "outputs": [
    {
     "data": {
      "text/html": [
       "<link href='http://fonts.googleapis.com/css?family=Alegreya+Sans:100,300,400,500,700,800,900,100italic,300italic,400italic,500italic,700italic,800italic,900italic' rel='stylesheet' type='text/css'>\n",
       "<link href='http://fonts.googleapis.com/css?family=Arvo:400,700,400italic' rel='stylesheet' type='text/css'>\n",
       "<link href='http://fonts.googleapis.com/css?family=PT+Mono' rel='stylesheet' type='text/css'>\n",
       "<link href='http://fonts.googleapis.com/css?family=Shadows+Into+Light' rel='stylesheet' type='text/css'>\n",
       "<link href='http://fonts.googleapis.com/css?family=Philosopher:400,700,400italic,700italic' rel='stylesheet' type='text/css'>\n",
       "\n",
       "<style>\n",
       "\n",
       "@font-face {\n",
       "    font-family: \"Computer Modern\";\n",
       "    src: url('http://mirrors.ctan.org/fonts/cm-unicode/fonts/otf/cmunss.otf');\n",
       "}\n",
       "\n",
       ".container { width: 100% }\n",
       "\n",
       "/* Formatting for header cells */\n",
       ".text_cell_render h1 {\n",
       "    font-family: 'Philosopher', sans-serif;\n",
       "    font-weight: 400;\n",
       "    font-size: 2.2em;\n",
       "    line-height: 100%;\n",
       "    color: rgb(0, 80, 120);\n",
       "    margin-bottom: 0.1em;\n",
       "    margin-top: 0.1em;\n",
       "    display: block;\n",
       "}\t\n",
       ".text_cell_render h2 {\n",
       "    font-family: 'Philosopher', serif;\n",
       "    font-weight: 400;\n",
       "    font-size: 1.9em;\n",
       "    line-height: 100%;\n",
       "    color: rgb(200,100,0);\n",
       "    margin-bottom: 0.1em;\n",
       "    margin-top: 0.1em;\n",
       "    display: block;\n",
       "}\t\n",
       "\n",
       ".text_cell_render h3 {\n",
       "    font-family: 'Philosopher', serif;\n",
       "    margin-top:12px;\n",
       "    margin-bottom: 3px;\n",
       "    font-style: italic;\n",
       "    color: rgb(94,127,192);\n",
       "}\n",
       "\n",
       ".text_cell_render h4 {\n",
       "    font-family: 'Philosopher', serif;\n",
       "}\n",
       "\n",
       ".text_cell_render h5 {\n",
       "    font-family: 'Alegreya Sans', sans-serif;\n",
       "    font-weight: 300;\n",
       "    font-size: 16pt;\n",
       "    color: grey;\n",
       "    font-style: italic;\n",
       "    margin-bottom: .1em;\n",
       "    margin-top: 0.1em;\n",
       "    display: block;\n",
       "}\n",
       "\n",
       ".text_cell_render h6 {\n",
       "    font-family: 'PT Mono', sans-serif;\n",
       "    font-weight: 300;\n",
       "    font-size: 10pt;\n",
       "    color: grey;\n",
       "    margin-bottom: 1px;\n",
       "    margin-top: 1px;\n",
       "}\n",
       "\n",
       ".text_cell_render em {\n",
       "    font-family: 'Philosopher', sans-serif;\n",
       "    color:        blue;\n",
       "    background-color: rgb(255,220,180);\n",
       "    font-size:    110%;\n",
       "    margin-left:   2px;\n",
       "    margin-right:  2px;\n",
       "    font-weight:   100;\n",
       "}\n",
       "\n",
       ".text_cell_render b {\n",
       "    color:            rgb(255,195,195);\n",
       "    background-color: rgb(0,0,0);\n",
       "    font-size:    110%;\n",
       "    margin-left:   2px;\n",
       "    margin-right:  2px;\n",
       "    font-weight:   650;\n",
       "}\n",
       "\n",
       ".text_cell_render tt {\n",
       "    font-size:    120%;\n",
       "    margin-left:   2px;\n",
       "    margin-right:  2px;\n",
       "    font-weight:   150;\n",
       "}\n",
       "\n",
       ".Codemirror {\n",
       "    font-family: \"PT Mono\";\n",
       "    font-size: 100%;\n",
       "}\n",
       "\n",
       "</style>\n",
       "\n"
      ],
      "text/plain": [
       "<IPython.core.display.HTML object>"
      ]
     },
     "execution_count": 1,
     "metadata": {},
     "output_type": "execute_result"
    }
   ],
   "source": [
    "from IPython.core.display import HTML\n",
    "with open('./style.css') as f:\n",
    "    css = f.read()\n",
    "HTML(css)"
   ]
  },
  {
   "cell_type": "markdown",
   "metadata": {
    "cell_id": "bd961712-23b7-4bd8-8ff9-5d8eb03f262e",
    "deepnote_cell_height": 82,
    "deepnote_cell_type": "markdown",
    "tags": []
   },
   "source": [
    "<h1>Building a Tablebase</h1>"
   ]
  },
  {
   "cell_type": "code",
   "execution_count": null,
   "metadata": {
    "cell_id": "85fe591e-8f29-49d1-a7ec-08cf5eb82a31",
    "deepnote_cell_height": 225,
    "deepnote_cell_type": "code",
    "deepnote_to_be_reexecuted": false,
    "execution_millis": 293,
    "execution_start": 1648288686407,
    "output_cleared": false,
    "source_hash": "4096d7b4",
    "tags": []
   },
   "outputs": [],
   "source": [
    "import chess                                       # Simulate the chess game\n",
    "import chess.gaviota                               # Load Gaviota Tablebase\n",
    "from IPython.display import display, clear_output  # Better visualization and display of the chess board\n",
    "import random                                      # Random moves and random creation of endgame positions\n",
    "from typing import Union, List, Set                # Types to enable direct method signatures\n",
    "import re     \n",
    "import sqlite3\n",
    "import pickle\n",
    "%load_ext memory_profiler"
   ]
  },
  {
   "cell_type": "markdown",
   "metadata": {
    "cell_id": "dac8d6bb-c5ea-40ad-aac1-c551489d774c",
    "deepnote_cell_height": 469.96875,
    "deepnote_cell_type": "markdown",
    "tags": []
   },
   "source": [
    "<h2>Board representation</h2>\n",
    "<div style=\"text-align: justify\">\n",
    "In order to build a large tablebase capable of storing hundreds of thousands of possible board positions, it is important to choose an effective representation of a board to store. At first, one possibility might be to store the board using the FEN-string notation, however, strings use a large amount of memory. Encoding a single board in a smaller datatype, makes it possible for us to do computations with larger datasets in memory. We do this by implementing two helper functions <b><code>board_to_int</code></b> and <b><code>int_to_board</code></b>. They enable us to encode a chess board given the current endgame as <b><code>pieces_str</code></b> as an integer and vice versa.\n",
    "<br/><br/>\n",
    "<h3>Encoding</h3>\n",
    "<div style=\"text-align: justify\">\n",
    "The basic idea is to assign a byte within a python bytearray to each piece on the board. The value held by the byte is the position of the piece where each field is given an value between 0 and 63. The <b><code>piece_map</code></b> method within python-chess returns a dictionary containing each piece and its field. We shall use this dictionary to iterate over the chess pieces and assign the bytes. If a piece has been captured the corresponding byte will be set to <b>0xff</b>. The last byte will hold the turn information, which is stored as well as either one or zero. Finally, the resulting bytearray is encoded as a single integer and returned. \n",
    "<br/><br/>\n",
    "<b>Remark:</b> Python does in fact store all integers in at least 28 bytes, which makes further optimisation of the encoding unecessary. \n",
    "</div>"
   ]
  },
  {
   "cell_type": "code",
   "execution_count": null,
   "metadata": {
    "cell_id": "b7870d55-4d60-4182-850d-4dc9de55cb21",
    "deepnote_cell_height": 279,
    "deepnote_cell_type": "code",
    "deepnote_to_be_reexecuted": false,
    "execution_millis": 7,
    "execution_start": 1648288687587,
    "source_hash": "e4cf4711",
    "tags": []
   },
   "outputs": [],
   "source": [
    "def board_to_int(board: chess.Board, pieces_str: str) -> int:\n",
    "    piece_map = board.piece_map()\n",
    "    representation = bytearray(len(pieces_str) + 1)\n",
    "    for i, piece_symbol in enumerate(pieces_str):\n",
    "        position_list = [pos for pos, piece in piece_map.items() if piece == chess.Piece.from_symbol(piece_symbol)]\n",
    "        if not position_list: \n",
    "            representation[i] = 0xFF\n",
    "        else:\n",
    "            piece_map.pop(position_list[0])\n",
    "            representation[i] = position_list[0]\n",
    "    representation[-1] = board.turn\n",
    "    return int.from_bytes(representation, 'little')"
   ]
  },
  {
   "cell_type": "markdown",
   "metadata": {
    "cell_id": "b3f3a1ce-023d-44a0-b18b-c0870dfb3831",
    "deepnote_cell_height": 122.796875,
    "deepnote_cell_type": "markdown",
    "tags": []
   },
   "source": [
    "<h3>Decoding</h3>\n",
    "<div style=\"text-align: justify\">\n",
    "Similarly, to decode an integer, the bytearray is transformed back into a piece mapping. The resulting dictionary can be used to initialize a new chess board. \n",
    "</div>"
   ]
  },
  {
   "cell_type": "code",
   "execution_count": null,
   "metadata": {
    "cell_id": "370303e5-8472-4924-9b20-2b0343909871",
    "deepnote_cell_height": 243,
    "deepnote_cell_type": "code",
    "deepnote_to_be_reexecuted": false,
    "execution_millis": 22,
    "execution_start": 1648288688916,
    "source_hash": "bc0edeb4",
    "tags": []
   },
   "outputs": [],
   "source": [
    "def int_to_board(representation: int, pieces_str: str) -> chess.Board:\n",
    "    board = chess.Board()\n",
    "    board.clear()\n",
    "    byte_representation = representation.to_bytes(len(pieces_str)+1, \"little\")\n",
    "    mapping = dict(zip(byte_representation[:-1], [chess.Piece.from_symbol(piece_symbol) for piece_symbol in pieces_str]))\n",
    "    for pos in mapping.keys():\n",
    "        if pos == 0xFF: mapping.pop(pos)\n",
    "    board.set_piece_map(mapping)\n",
    "    board.turn = byte_representation[-1]\n",
    "    return board"
   ]
  },
  {
   "cell_type": "markdown",
   "metadata": {
    "cell_id": "679d2c46-76db-447d-bd5f-46c1d06bbe03",
    "deepnote_cell_height": 74.796875,
    "deepnote_cell_type": "markdown",
    "tags": []
   },
   "source": [
    "To demonstrate this, we will create a board from a given FEN string, encode it as an integer and then transform it back into FEN representation."
   ]
  },
  {
   "cell_type": "code",
   "execution_count": null,
   "metadata": {
    "cell_id": "224c743f-90e5-4182-a753-3462c81f5cc3",
    "deepnote_cell_height": 221.390625,
    "deepnote_cell_type": "code",
    "deepnote_to_be_reexecuted": false,
    "execution_millis": 37,
    "execution_start": 1648288690579,
    "source_hash": "5fc9f0d8",
    "tags": []
   },
   "outputs": [
    {
     "name": "stdout",
     "output_type": "stream",
     "text": [
      "FEN to INT: '3K4/8/4k3/8/8/8/8/2r5 b - - 0 1' -> 142395\n",
      "INT to FEN: 142395 -> '3K4/8/4k3/8/8/8/8/2r5 b - - 0 1'\n"
     ]
    }
   ],
   "source": [
    "fen = '3K4/8/4k3/8/8/8/8/2r5 b - - 0 1'\n",
    "board = chess.Board(fen)\n",
    "representation = board_to_int(board, 'Kkr')\n",
    "new_board = int_to_board(representation, 'Kkr')\n",
    "print(f\"FEN to INT: '{fen}' -> {representation}\")\n",
    "print(f\"INT to FEN: {representation} -> '{new_board.fen()}'\")"
   ]
  },
  {
   "cell_type": "markdown",
   "metadata": {
    "cell_id": "550b9be6-4a2f-4146-bec5-c1f463132545",
    "deepnote_cell_height": 268.390625,
    "deepnote_cell_type": "markdown",
    "tags": []
   },
   "source": [
    "<h2>Retrograde Analysis</h2>\n",
    "<div style=\"text-align: justify\">\n",
    "We shall use the following algorithm to calculate the depth-to-mate for every possible board within a given endgame. \n",
    "</div>\n",
    "<br/><br/>\n",
    "<h3>Calculating All Possible Permutations</h3>\n",
    "<div style=\"text-align: justify\">\n",
    "Initially we have to calculate a set <b><code>s</code></b> containing all legal positions for a given endgame. We do this by iterating each chess piece over each chess field from 0-63. The helper function <b><code>shift_positions</code></b> takes a list containing the position of each piece on the board and will shift a single piece one field further, in order to generate the next permutation. \n",
    "</div>"
   ]
  },
  {
   "cell_type": "code",
   "execution_count": null,
   "metadata": {
    "cell_id": "64f36e06-8aea-4928-8bfe-9c9c1b61b112",
    "deepnote_cell_height": 225,
    "deepnote_cell_type": "code",
    "deepnote_to_be_reexecuted": false,
    "execution_millis": 6,
    "execution_start": 1648288696620,
    "source_hash": "e033abf3",
    "tags": []
   },
   "outputs": [],
   "source": [
    "def shift_positions(positions: List[int]) -> List[int]:\n",
    "    for i, pos in enumerate(positions[::-1]):\n",
    "        if pos == 63: \n",
    "            positions[-(i+1)] = 0\n",
    "            continue\n",
    "        else: \n",
    "            positions[-(i+1)] += 1\n",
    "            break\n",
    "    return positions"
   ]
  },
  {
   "cell_type": "markdown",
   "metadata": {
    "cell_id": "18d9cd75-1bd8-406d-a8a8-317e46b6dc55",
    "deepnote_cell_height": 52.390625,
    "deepnote_cell_type": "markdown",
    "tags": []
   },
   "source": [
    "If a piece has reached the end of the board, it will be set back to the beginning and increment the next piece. "
   ]
  },
  {
   "cell_type": "code",
   "execution_count": null,
   "metadata": {
    "cell_id": "2fb73414-6cac-46f7-a3a0-0eee1b22d1a7",
    "deepnote_cell_height": 118.1875,
    "deepnote_cell_type": "code",
    "deepnote_output_heights": [
     21.1875
    ],
    "deepnote_to_be_reexecuted": false,
    "execution_millis": 4,
    "execution_start": 1648288705740,
    "source_hash": "2b0f58f5",
    "tags": []
   },
   "outputs": [
    {
     "data": {
      "text/plain": [
       "[0, 2, 0, 0]"
      ]
     },
     "execution_count": 7,
     "metadata": {},
     "output_type": "execute_result"
    }
   ],
   "source": [
    "shift_positions([0, 1, 63, 63])"
   ]
  },
  {
   "cell_type": "markdown",
   "metadata": {
    "cell_id": "2526f7de-b68a-40df-b31c-3e5217fb6d92",
    "deepnote_cell_height": 186.78125,
    "deepnote_cell_type": "markdown",
    "tags": []
   },
   "source": [
    "The <b><code>generate_s</code></b> function receives a string of pieces for which it generates the set <b><code>s</code></b> containg all legal positions. The algorithm iterates over each turn, (black and white) and further iterates over all permutations of field positions. Each permutation is mapped onto the pieces string and loaded onto a board. Next, we must check if it is a valid board using the <b><code>is_valid</code></b> method of the chess library. If so, we can encode the board as an int and add it to the set <b><code>s</code></b>. \n",
    "<br/><br/>\n",
    "<b>Remark:</b> Within this function we included print statements showing the current progress as the generation process may take several minutes. This has been done for several of the following functions as well. "
   ]
  },
  {
   "cell_type": "code",
   "execution_count": null,
   "metadata": {
    "cell_id": "6195e705-e1d7-4251-89b2-2b3f8baedbc9",
    "deepnote_cell_height": 387,
    "deepnote_cell_type": "code",
    "deepnote_to_be_reexecuted": false,
    "execution_millis": 1,
    "execution_start": 1648288728983,
    "output_cleared": false,
    "source_hash": "d0d9ccca",
    "tags": []
   },
   "outputs": [],
   "source": [
    "def generate_s(pieces_str: str) -> Set[int]:\n",
    "    s = set()\n",
    "    board = chess.Board()\n",
    "    board.clear()\n",
    "    for turn in [chess.WHITE, chess.BLACK]:\n",
    "        board.turn = turn\n",
    "        positions = [0] * len(pieces_str)\n",
    "        while positions != [63] * len(pieces_str):\n",
    "            if positions[-1] == 63 and positions[-2] == 63:\n",
    "                print(\"\\r\", end=\"\")\n",
    "                print(f\"{positions} -> {int(100/126*(positions[0] if turn == chess.WHITE else positions[0]+63))}%\", end=\"\")\n",
    "            board.clear_board()\n",
    "            mapping = dict(zip(positions, [chess.Piece.from_symbol(piece) for piece in pieces_str]))\n",
    "            board.set_piece_map(mapping)\n",
    "            if board.is_valid() and len(set(positions)) == len(pieces_str):\n",
    "                s.add(board_to_int(board, pieces_str))\n",
    "            positions = shift_positions(positions)\n",
    "    return s"
   ]
  },
  {
   "cell_type": "markdown",
   "metadata": {
    "cell_id": "7f29e133-341f-4411-8922-a3c67f3b2474",
    "deepnote_cell_height": 145.1875,
    "deepnote_cell_type": "markdown",
    "tags": []
   },
   "source": [
    "<h3>Calculating All Mate Positions</h3>\n",
    "<div style=\"text-align: justify\">\n",
    "Next we want to calculate all positions within <b><code>s</code></b> in which the player whose turn it is, is checkmate. These positions are subtracted from the set <b><code>s</code></b> and are stored in the set <b><code>s_0</code></b>. We can easily probe for checkmate using the <b><code>is_checkmate</code></b> method of the chess library. \n",
    "</div>"
   ]
  },
  {
   "cell_type": "code",
   "execution_count": null,
   "metadata": {
    "cell_id": "edcf6441-76a1-4fed-9b66-439abe425154",
    "deepnote_cell_height": 243,
    "deepnote_cell_type": "code",
    "deepnote_to_be_reexecuted": false,
    "execution_millis": 1,
    "execution_start": 1648288763590,
    "output_cleared": true,
    "source_hash": "4cb36841",
    "tags": []
   },
   "outputs": [],
   "source": [
    "def generate_mate_positions(s: Set[str], pieces_str: str) -> Set[str]:\n",
    "    s_0 = set()\n",
    "    for i, representation in enumerate(s):\n",
    "        if i%1000 == 0: \n",
    "            print(\"\\r\", end=\"\")\n",
    "            print(f\"{i}/{len(s)} -> {int((i/len(s))*100)}%\", end=\"\")\n",
    "        if int_to_board(representation, pieces_str).is_checkmate():\n",
    "            s_0.add(representation)  \n",
    "    s = set(s) - s_0\n",
    "    return s, s_0"
   ]
  },
  {
   "cell_type": "markdown",
   "metadata": {
    "cell_id": "0cb83aa5-e573-4bd6-b05f-637bc4f2a305",
    "deepnote_cell_height": 402.78125,
    "deepnote_cell_type": "markdown",
    "tags": []
   },
   "source": [
    "<h2>The Basic Algorithm</h2>\n",
    "<div style=\"text-align: justify\">\n",
    "The idea is to continue to develop the next set <b><code>s_{n+1}</code></b> and subtract them from <b><code>s</code></b> until either the next set is empyty, or <b><code>s</code></b> is empty. We will then have a series of sets <b><code>s_n</code></b> where every possible chess board position is either in one of <b><code>s_n</code></b> or in <b><code>s</code></b>. We can then define the depth-to-mate (<b>DTM</b>) value of each position as the value of <b><code>n</code></b> if a position is in the set <b><code>s_n</code></b>. This is the minimum number of moves required to force checkmate the other player (given an optimal strategy). If a position is still in <b><code>s</code></b>, the player whose turn it is can not force a checkmate on the other player in this position. \n",
    "</div>\n",
    "\n",
    "<br>\n",
    "<h3>Developing Sets With An Odd DTM</h3>\n",
    "<div style=\"text-align: justify\">\n",
    "We already have <b><code>s_0</code></b>. Our next goal is to calculate all positions within <b><code>s</code></b> in which a player can reach a position within <b><code>s_0</code></b> in a single move. We will store these positions in the set <b><code>s_1</code></b>. These are positions in which the player whose turn it is can immediately checkmate the other player in his next move. \n",
    "</div>\n",
    "<br>\n",
    "<div style=\"text-align: justify\">\n",
    "Now we want to this for every next set <b><code>s_n</code></b> where n is odd. These are the sets in which it is the winning players turn, as he will set his opponent checkmate from a position in <b><code>s_1</code></b>. \n",
    "</div>"
   ]
  },
  {
   "cell_type": "code",
   "execution_count": null,
   "metadata": {
    "cell_id": "376ebcf7-113a-4bc4-89f6-c02538889b83",
    "deepnote_cell_height": 459,
    "deepnote_cell_type": "code",
    "deepnote_to_be_reexecuted": false,
    "execution_millis": 8,
    "execution_start": 1645273659651,
    "source_hash": "65c67731",
    "tags": []
   },
   "outputs": [],
   "source": [
    "def generate_s_odd(s: Set[str], s_prev: Set[str], pieces_str: str) -> Set[str]:\n",
    "    s_next = set()\n",
    "    \n",
    "    for i, representation in enumerate(s):\n",
    "\n",
    "        if i%1000 == 0: \n",
    "            print(\"\\r\", end=\"\")\n",
    "            print(f\"{i}/{len(s)} -> {int((i/len(s))*100)}%\", end=\"\")\n",
    "        \n",
    "        board = int_to_board(representation, pieces_str)\n",
    "        for move in board.legal_moves:\n",
    "            board.push(move)\n",
    "\n",
    "            if board_to_int(board, pieces_str) in s_prev:\n",
    "                board.pop()\n",
    "                s_next.add(board_to_int(board, pieces_str))\n",
    "                break\n",
    "\n",
    "            board.pop()\n",
    "\n",
    "    s = set(s) - s_next\n",
    "    return s, s_next"
   ]
  },
  {
   "cell_type": "markdown",
   "metadata": {
    "cell_id": "5f53576f-b233-4715-b4b9-27c30ff765dd",
    "deepnote_cell_height": 414.578125,
    "deepnote_cell_type": "markdown",
    "tags": []
   },
   "source": [
    "<div style=\"text-align: justify\">\n",
    "The function <b><code>generate_s_odd</code></b> takes three arguments:\n",
    "<ul>\n",
    "<li>The initial set <b><code>s</code></b> containing all positions which have not been placed in previous sets yet</li>\n",
    "<li>The previous set <b><code>s_prev</code></b> => <code>s_{n-1}</code></li>\n",
    "<li>A string <b><code>pieces_str</code></b> which contains all pieces which are currently on the board</li>\n",
    "</ul>\n",
    "We will then iterate over all positions in the set <b><code>s</code></b>. For each positions we will iterate over the next possible legal moves, which we can query using the built-in <b><code>.legal_moves</code></b> attribute. Each move will be applied to the current position. The resulting position will then be looked up in the previous set <b><code>s_prev</code></b>, to determine if the current move leads to a position with a lower depth-to-mate. As soon as such a position is found, we will revert the move and add the original position to our resulting set <b><code>s_next</code></b>. The algorithm will then move on to the next position in <b><code>s</code></b>. Finally, we can subtract<b><code>s_next</code></b> from <b><code>s</code></b> and return both. \n",
    "</div>\n",
    "<br>\n",
    "<br>\n",
    "<h3>Developing Sets With An Even DTM</h3>\n",
    "<div style=\"text-align: justify\">\n",
    "The next set we develop will have an even depth-to-mate value. This means, it is the turn of the player trying to defend against a checkmate. For this reason we may only place positions in this set, in which the defending player will result in a position with a lower DTM, regardless of their move. This means we are forcing the player to move closer to his checkmate. \n",
    "</div>\n"
   ]
  },
  {
   "cell_type": "code",
   "execution_count": null,
   "metadata": {
    "cell_id": "4ac7e552-5617-4011-a31b-027cdf8a0674",
    "deepnote_cell_height": 585,
    "deepnote_cell_type": "code",
    "deepnote_to_be_reexecuted": false,
    "execution_millis": 4,
    "execution_start": 1645273661158,
    "source_hash": "c9f40727",
    "tags": []
   },
   "outputs": [],
   "source": [
    "def generate_s_even(s: Set[str], l_odd: List[Set[str]], pieces_str: str) -> Set[str]:\n",
    "    s_next = set()\n",
    "\n",
    "    for i, representation in enumerate(s):\n",
    "\n",
    "        if i%1000 == 0: \n",
    "            print(\"\\r\", end=\"\")\n",
    "            print(f\"{i}/{len(s)} -> {int((i/len(s))*100)}%\", end=\"\")\n",
    "\n",
    "        board = int_to_board(representation, pieces_str)\n",
    "        legal_moves = board.legal_moves\n",
    "        \n",
    "        \n",
    "        fail = not legal_moves #no legal moves for stalemate position\n",
    "        \n",
    "        for move in legal_moves:\n",
    "            board.push(move)\n",
    "\n",
    "            if not any(board_to_int(board, pieces_str) in s_odd for s_odd in l_odd):\n",
    "                fail = True\n",
    "                break\n",
    "\n",
    "            board.pop()\n",
    "        \n",
    "        if not fail:\n",
    "            s_next.add(board_to_int(board, pieces_str))\n",
    "\n",
    "    s = set(s) - s_next\n",
    "    return s, s_next"
   ]
  },
  {
   "cell_type": "markdown",
   "metadata": {
    "cell_id": "67b6cc1ea003455cbf173b03e087e371",
    "deepnote_cell_height": 436.96875,
    "deepnote_cell_type": "markdown",
    "tags": []
   },
   "source": [
    "<div style=\"text-align: justify\">\n",
    "The function <b><code>generate_s_even</code></b> takes three arguments:\n",
    "<ul>\n",
    "<li>The initial set <b><code>s</code></b> containing all positions which have not been placed in previous sets yet</li>\n",
    "<li>A list  <b><code>l_odd</code></b> of all previous sets <b><code>s_n</code></b> where  <b><code>n</code></b> is odd.</li>\n",
    "<li>A string <b><code>pieces_str</code></b> which contains all pieces which are currently on the board</li>\n",
    "</ul>\n",
    "We will then once again iterate over all positions in the set <b><code>s</code></b> and over each of the next possible legal moves from that position. Each move will be applied to the current position. We will then check if the move leads to at least one position in all previous sets <b><code>s_odd</code></b> in our list <b><code>l_odd</code></b>. If we find a single move for a position in which this is not true, we will not add that position to our new set <b><code>s_next</code></b> and move on to the next position. Only if we have made sure that every move leads to a lower DTM we may add the position into <b><code>s_next</code></b>. \n",
    "Finally, we can subtract<b><code>s_next</code></b> from <b><code>s</code></b> and return both. \n",
    "</div>\n",
    "<br>\n",
    "<b>Remark: </b> We will also make sure that we do not end in a stalemate, in which the player whose turn it is does not have any legal moves left. \n",
    "<br>\n",
    "<br>\n",
    "<h3>Tablebase Generation</h3>\n",
    "<div style=\"text-align: justify\">\n",
    "Before we can go ahead and put it all together we have to consider how we want to store our sets. We chose the <b><code>pickle</code></b> module to write our list of sets as a single binary file to disk. \n",
    "</div>\n"
   ]
  },
  {
   "cell_type": "code",
   "execution_count": null,
   "metadata": {
    "cell_id": "d32196a8-ed14-4cf0-a014-a6c84df98264",
    "deepnote_cell_height": 117,
    "deepnote_cell_type": "code",
    "deepnote_to_be_reexecuted": false,
    "execution_millis": 2,
    "execution_start": 1645273663118,
    "source_hash": "be3986c5",
    "tags": []
   },
   "outputs": [],
   "source": [
    "def save_sets_as_binary(list_of_sets: List[Set[int]], pieces_str: str) -> None:\n",
    "    with open(f\"./tables/{pieces_str}\", \"wb\") as f:\n",
    "        pickle.dump(list_of_sets, f)"
   ]
  },
  {
   "cell_type": "markdown",
   "metadata": {
    "cell_id": "74ec37b2d41647b1b6cd1a1cf18113f8",
    "deepnote_cell_height": 97.1875,
    "deepnote_cell_type": "markdown",
    "tags": []
   },
   "source": [
    "<div style=\"text-align: justify\">\n",
    "The final main function will now progressively develop our series of sets. Currently we are storing all sets in memory before the function has terminated, which can take up close to 5GB of RAM for a 4-man tablebase. The execution speed varies from machine to machine, but a 3-man tablebase can be created in under 24h using the free Deepnote cloud computing service. \n",
    "</div>"
   ]
  },
  {
   "cell_type": "code",
   "execution_count": null,
   "metadata": {
    "cell_id": "106fdfe3-8ce6-43ed-994f-e2f09ffec190",
    "deepnote_cell_height": 657,
    "deepnote_cell_type": "code",
    "deepnote_to_be_reexecuted": false,
    "execution_millis": 27,
    "execution_start": 1645273664704,
    "source_hash": "faa69a13",
    "tags": []
   },
   "outputs": [],
   "source": [
    "def main(pieces_str: str) -> None:\n",
    "    \n",
    "    print(f\"Doing all positions\")\n",
    "    s = generate_s(pieces_str)\n",
    "    print(f\"\\nLength of s = {len(s)}\")\n",
    "    print(f\"--------------------------------------------------------------------------------------------\")\n",
    "\n",
    "    list_of_sets = []\n",
    "\n",
    "    n = 0\n",
    "    \n",
    "    while True: \n",
    "\n",
    "        print(f\"Doing s_{n}\")\n",
    "\n",
    "        if n == 0: \n",
    "            s, s_n = generate_mate_positions(s, pieces_str)\n",
    "        elif n%2 == 1: \n",
    "            s, s_n = generate_s_odd(s, list_of_sets[-1], pieces_str)\n",
    "        else: \n",
    "            s, s_n = generate_s_even(s, list_of_sets[1::2], pieces_str)\n",
    "        \n",
    "        if not s_n: break\n",
    "        \n",
    "        list_of_sets.append(s_n)\n",
    "\n",
    "        print(f\"\\nLength of s_{n} = {len(s_n)}\")\n",
    "        print(f\"New length of s = {len(s)}\")\n",
    "        print(f\"--------------------------------------------------------------------------------------------\")\n",
    "\n",
    "        n += 1 \n",
    "\n",
    "    save_sets_as_binary(list_of_sets, pieces_str)"
   ]
  },
  {
   "cell_type": "markdown",
   "metadata": {
    "cell_id": "ca249e8a12ba412892fa8b9ef91b8ebc",
    "deepnote_cell_height": 321.78125,
    "deepnote_cell_type": "markdown",
    "tags": []
   },
   "source": [
    "<div style=\"text-align: justify\">\n",
    "In order to generate a tablebase we only need a string <b><code>pieces_str</code></b> specifying the pieces involved in the endgame situation. \n",
    "<br>\n",
    "Initially, we will build our set <b><code>s</code></b> containing all possible board situations using our function <b><code>generate_s</code></b>. \n",
    "<br>\n",
    "Then we will enter the main loop, where we shall use <b><code>n</code></b> as a counter to develop the next set <b><code>s_n</code></b>. At the start of each loop we have three cases:\n",
    "<ol>\n",
    "<li>In the first run, <b><code>n</code></b> will be zero. This means <b><code>s_n</code></b> and <b><code>s</code></b> will be generated using the <b><code>generate_mate_positions</code></b> function</li>\n",
    "<li>If <b><code>n</code></b> is odd, we will generate <b><code>s_n</code></b> and <b><code>s</code></b> using the function <b><code>generate_s_odd</code></b> and supply the last item in our <b><code>list_of_sets</code></b> as the argument</li>\n",
    "<li>If <b><code>n</code></b> is even, we will generate <b><code>s_n</code></b> and <b><code>s</code></b> using the function <b><code>generate_s_even</code></b> and supply every second item in our <b><code>list_of_sets</code></b> as the argument</li>\n",
    "</ol>\n",
    "At the end of each loop, we will append the calculated set <b><code>s_n</code></b> to our  <b><code>list_of_sets</code></b> and lastly increment <b><code>n</code></b>. If, however, a newly calculated set <b><code>s_n</code></b> is empty, we have found our last set and will break out of the main loop. Finally, we will store the resulting list of sets using our store function <b><code>save_sets_as_binary</code></b>\n",
    "</div>"
   ]
  },
  {
   "cell_type": "code",
   "execution_count": null,
   "metadata": {
    "cell_id": "af71ee61-7479-4875-9d46-966561655098",
    "deepnote_cell_height": 308.640625,
    "deepnote_cell_type": "code",
    "deepnote_to_be_reexecuted": false,
    "execution_millis": 6038284,
    "execution_start": 1644567926073,
    "output_cleared": false,
    "source_hash": "5c5edf88",
    "tags": []
   },
   "outputs": [
    {
     "name": "stdout",
     "output_type": "stream",
     "text": [
      "Doing all positions\n",
      "[63, 62, 63, 63] -> 100%\n",
      "Length of s = 24536088\n",
      "--------------------------------------------------------------------------------------------\n",
      "Doing s_0\n",
      "24536000/24536088 -> 99%\n",
      "Length of s_0 = 464\n",
      "New length of s = 24535624\n",
      "--------------------------------------------------------------------------------------------\n",
      "Doing s_1\n",
      "8374000/24535624 -> 34%"
     ]
    }
   ],
   "source": [
    "main('Kknb')"
   ]
  },
  {
   "cell_type": "markdown",
   "metadata": {
    "cell_id": "636e5b9a8e1247a38d1783ef47520bbe",
    "deepnote_cell_height": 197.984375,
    "deepnote_cell_type": "markdown",
    "tags": []
   },
   "source": [
    "<h2>Testing the Tablebase</h2>\n",
    "<div style=\"text-align: justify\">\n",
    "We have now created a tablebase, which allows us to determine the depth-to-mate (DTM) for any given position af an endgame situation. Now we would like to verify our results and compare them to the Gaviota tablebase. We can do this by verifying that for every possible board position for which the Gaviota DTM equals our calculated DTM, the position is in fact stored within the correct set. Then we will also have to verify the other side: For every position in our list of sets, the Gaviota DTM must equal our calculated DTM.  \n",
    "</div>"
   ]
  },
  {
   "cell_type": "code",
   "execution_count": 1,
   "metadata": {
    "cell_id": "6f025902-a39c-457b-b220-645255736ac1",
    "deepnote_cell_height": 396.1875,
    "deepnote_cell_type": "code",
    "deepnote_to_be_reexecuted": false,
    "execution_millis": 162,
    "execution_start": 1648316067458,
    "source_hash": "67470023",
    "tags": []
   },
   "outputs": [
    {
     "ename": "NameError",
     "evalue": "name 'Set' is not defined",
     "output_type": "error",
     "traceback": [
      "\u001b[0;31m---------------------------------------------------------------------------\u001b[0m",
      "\u001b[0;31mNameError\u001b[0m                                 Traceback (most recent call last)",
      "\u001b[0;32m<ipython-input-1-a5092286a6d6>\u001b[0m in \u001b[0;36m<cell line: 1>\u001b[0;34m()\u001b[0m\n\u001b[0;32m----> 1\u001b[0;31m \u001b[0;32mdef\u001b[0m \u001b[0mtest_dtm_with_gaviota\u001b[0m\u001b[0;34m(\u001b[0m\u001b[0ms\u001b[0m\u001b[0;34m:\u001b[0m \u001b[0mSet\u001b[0m\u001b[0;34m[\u001b[0m\u001b[0mstr\u001b[0m\u001b[0;34m]\u001b[0m\u001b[0;34m,\u001b[0m \u001b[0mtest_set\u001b[0m\u001b[0;34m:\u001b[0m \u001b[0mSet\u001b[0m\u001b[0;34m[\u001b[0m\u001b[0mstr\u001b[0m\u001b[0;34m]\u001b[0m\u001b[0;34m,\u001b[0m \u001b[0mexpected_dtm\u001b[0m\u001b[0;34m:\u001b[0m \u001b[0mint\u001b[0m\u001b[0;34m)\u001b[0m \u001b[0;34m->\u001b[0m \u001b[0;32mNone\u001b[0m\u001b[0;34m:\u001b[0m\u001b[0;34m\u001b[0m\u001b[0;34m\u001b[0m\u001b[0m\n\u001b[0m\u001b[1;32m      2\u001b[0m \u001b[0;34m\u001b[0m\u001b[0m\n\u001b[1;32m      3\u001b[0m     \u001b[0;32mwith\u001b[0m \u001b[0mchess\u001b[0m\u001b[0;34m.\u001b[0m\u001b[0mgaviota\u001b[0m\u001b[0;34m.\u001b[0m\u001b[0mopen_tablebase\u001b[0m\u001b[0;34m(\u001b[0m\u001b[0;34m\"./gaviota\"\u001b[0m\u001b[0;34m)\u001b[0m \u001b[0;32mas\u001b[0m \u001b[0mtablebase\u001b[0m\u001b[0;34m:\u001b[0m\u001b[0;34m\u001b[0m\u001b[0;34m\u001b[0m\u001b[0m\n\u001b[1;32m      4\u001b[0m \u001b[0;34m\u001b[0m\u001b[0m\n\u001b[1;32m      5\u001b[0m         \u001b[0;31m#Check if every set in gaviota is in test set\u001b[0m\u001b[0;34m\u001b[0m\u001b[0;34m\u001b[0m\u001b[0m\n",
      "\u001b[0;31mNameError\u001b[0m: name 'Set' is not defined"
     ]
    }
   ],
   "source": [
    "def test_dtm_with_gaviota(s: Set[str], test_set: Set[str], expected_dtm: int) -> None:\n",
    "\n",
    "    with chess.gaviota.open_tablebase(\"./gaviota\") as tablebase:\n",
    "\n",
    "        #Check if every set in gaviota is in test set\n",
    "        for rep in s:\n",
    "            board = int_to_board(rep, \"Kkr\")\n",
    "            if abs(tablebase.probe_dtm(board)) == expected_dtm:\n",
    "                assert rep in test_set, f\"FAILED: {board.epd()} not in test_s\"\n",
    "\n",
    "        #Check if every set in test set is in gaviota\n",
    "        for rep in test_set:\n",
    "            board = int_to_board(rep, \"Kkr\")\n",
    "            gaviota_dtm = abs(tablebase.probe_dtm(board))\n",
    "            assert gaviota_dtm == expected_dtm, f\"FAILED: {board.epd()} -> expected_dtm ({expected_dtm}) != gaviota_dtm ({gaviota_dtm})\""
   ]
  },
  {
   "cell_type": "markdown",
   "metadata": {
    "cell_id": "cdc795c454fe4175b2f3f60c577e8304",
    "deepnote_cell_height": 232.1875,
    "deepnote_cell_type": "markdown",
    "tags": []
   },
   "source": [
    "<div style=\"text-align: justify\">\n",
    "Our testing process makes use of the <b><code>test_dtm_with_gaviota</code></b> function. It receives three arguments:\n",
    "<ul>\n",
    "<li>The initial set <b><code>s</code></b> which contains all possible board postions for the given endgame</li>\n",
    "<li>A set <b><code>test_set</code></b> which is the set currently under test. It contains all positions we calculated to have a specific DTM</li>\n",
    "<li>The value <b><code>expected_dtm</code></b> which is the DTM we calculated for all positions within <b><code>test_set</code></b></li>\n",
    "</ul>\n",
    "Next we will open the Gaviota tablebase using the chess library. Both test cases will then be handled after another using assert statements. \n",
    "<br>\n",
    "At the end, the function will only have run without an error if each position in <b><code>s</code></b> is in <b><code>test_set</code></b> only <b>iff</b> the Gaviota DTM of that position equals <b><code>expected_dtm</code></b>.\n",
    "\n",
    "</div>"
   ]
  },
  {
   "cell_type": "code",
   "execution_count": null,
   "metadata": {
    "cell_id": "223bff66-b995-4b66-9659-da12605d00fc",
    "deepnote_cell_height": 111.6875,
    "deepnote_cell_type": "code",
    "deepnote_to_be_reexecuted": false,
    "execution_millis": 39878,
    "execution_start": 1645273673168,
    "source_hash": "27d18526",
    "tags": []
   },
   "outputs": [
    {
     "name": "stdout",
     "output_type": "stream",
     "text": [
      "[62, 63, 63] -> 99%"
     ]
    }
   ],
   "source": [
    "s = generate_s(\"Kkr\")"
   ]
  },
  {
   "cell_type": "markdown",
   "metadata": {
    "cell_id": "2eca2793a66745bdb0489403c318fd25",
    "deepnote_cell_height": 198.796875,
    "deepnote_cell_type": "markdown",
    "tags": []
   },
   "source": [
    "<div style=\"text-align: justify\">\n",
    "In order to test our tablebase we first have to generate <b><code>s</code></b>, which may take a minute or two. We can then load our sets into memory using <b><code>pickle</code></b>. The code below will iterate over all sets and call the <b><code>test_dtm_with_gaviota</code></b> function for every single one. \n",
    "</div>"
   ]
  },
  {
   "cell_type": "code",
   "execution_count": null,
   "metadata": {
    "cell_id": "23345078-dc2b-4ed8-8d34-262f2f089016",
    "deepnote_cell_height": 809,
    "deepnote_cell_type": "code",
    "deepnote_to_be_reexecuted": false,
    "execution_millis": 2368004,
    "execution_start": 1645273862826,
    "source_hash": "b86c3b9b",
    "tags": []
   },
   "outputs": [
    {
     "name": "stdout",
     "output_type": "stream",
     "text": [
      "s_1 done\n",
      "s_2 done\n",
      "s_3 done\n",
      "s_4 done\n",
      "s_5 done\n",
      "s_6 done\n",
      "s_7 done\n",
      "s_8 done\n",
      "s_9 done\n",
      "s_10 done\n",
      "s_11 done\n",
      "s_12 done\n",
      "s_13 done\n",
      "s_14 done\n",
      "s_15 done\n",
      "s_16 done\n",
      "s_17 done\n",
      "s_18 done\n",
      "s_19 done\n",
      "s_20 done\n",
      "s_21 done\n",
      "s_22 done\n",
      "s_23 done\n",
      "s_24 done\n",
      "s_25 done\n",
      "s_26 done\n",
      "s_27 done\n",
      "s_28 done\n",
      "s_29 done\n",
      "s_30 done\n",
      "s_31 done\n",
      "s_32 done\n"
     ]
    }
   ],
   "source": [
    "with open('./tables/Kkr', 'rb') as f:\n",
    "    list_of_sets = pickle.load(f)\n",
    "\n",
    "for i in range(1, 33):\n",
    "    exec(f\"curr_set = {list_of_sets[i]}\")\n",
    "    test_dtm_with_gaviota(s, curr_set, i)\n",
    "    print(f\"s_{i} done\")"
   ]
  },
  {
   "cell_type": "code",
   "execution_count": null,
   "metadata": {
    "cell_id": "627b651a-cc04-42a8-a5d8-10aa692e0d52",
    "deepnote_cell_height": 111.6875,
    "deepnote_cell_type": "code",
    "deepnote_to_be_reexecuted": false,
    "execution_millis": 9,
    "execution_start": 1645273841035,
    "source_hash": "22d538d3",
    "tags": []
   },
   "outputs": [
    {
     "name": "stdout",
     "output_type": "stream",
     "text": [
      "33\n"
     ]
    }
   ],
   "source": [
    "print(len(list_of_sets))"
   ]
  },
  {
   "cell_type": "code",
   "execution_count": null,
   "metadata": {
    "cell_id": "69a90370-8f1f-4eb6-a5d3-8d2e9aa47ba1",
    "deepnote_cell_height": 171,
    "deepnote_cell_type": "code",
    "deepnote_to_be_reexecuted": false,
    "execution_millis": 4217,
    "execution_start": 1644246897406,
    "source_hash": "cbe2b7ed",
    "tags": []
   },
   "outputs": [],
   "source": [
    "with open(\"./tables/Kkr.txt\", \"r\") as f:\n",
    "    sets = f.readlines()\n",
    "    for s_n in sets:\n",
    "        exec(s_n)\n",
    "    del s_n\n",
    "    del sets"
   ]
  },
  {
   "cell_type": "code",
   "execution_count": null,
   "metadata": {
    "cell_id": "44b302da-b2c2-486d-86c2-1da8ded0b428",
    "deepnote_cell_height": 755,
    "deepnote_cell_type": "code",
    "deepnote_to_be_reexecuted": false,
    "execution_millis": 2461264,
    "execution_start": 1644248924319,
    "output_cleared": false,
    "source_hash": "8af81fbd",
    "tags": []
   },
   "outputs": [
    {
     "name": "stdout",
     "output_type": "stream",
     "text": [
      "s_1 done\n",
      "s_2 done\n",
      "s_3 done\n",
      "s_4 done\n",
      "s_5 done\n",
      "s_6 done\n",
      "s_7 done\n",
      "s_8 done\n",
      "s_9 done\n",
      "s_10 done\n",
      "s_11 done\n",
      "s_12 done\n",
      "s_13 done\n",
      "s_14 done\n",
      "s_15 done\n",
      "s_16 done\n",
      "s_17 done\n",
      "s_18 done\n",
      "s_19 done\n",
      "s_20 done\n",
      "s_21 done\n",
      "s_22 done\n",
      "s_23 done\n",
      "s_24 done\n",
      "s_25 done\n",
      "s_26 done\n",
      "s_27 done\n",
      "s_28 done\n",
      "s_29 done\n",
      "s_30 done\n",
      "s_31 done\n",
      "s_32 done\n"
     ]
    }
   ],
   "source": [
    "for i in range(1, 33):\n",
    "    exec(f\"curr_set = s_{i}\")\n",
    "    test_dtm_with_gaviota(s, curr_set, i)\n",
    "    print(f\"s_{i} done\")"
   ]
  },
  {
   "cell_type": "code",
   "execution_count": null,
   "metadata": {
    "cell_id": "0ad6cd53-06f0-44d6-88f2-95b9893476ee",
    "deepnote_cell_height": 81,
    "deepnote_cell_type": "code",
    "deepnote_to_be_reexecuted": false,
    "execution_millis": 67328,
    "execution_start": 1643393666718,
    "source_hash": "c0763a6c",
    "tags": []
   },
   "outputs": [],
   "source": [
    "test_dtm_with_gaviota(s, set(), 33)"
   ]
  },
  {
   "cell_type": "code",
   "execution_count": null,
   "metadata": {
    "cell_id": "8df43760-453f-42c0-8efe-4d68d10b4f0e",
    "deepnote_cell_height": 570.6875,
    "deepnote_cell_type": "code",
    "deepnote_output_heights": [
     null,
     392
    ],
    "deepnote_to_be_reexecuted": false,
    "execution_millis": 198,
    "execution_start": 1642954543196,
    "source_hash": "515bca9f",
    "tags": []
   },
   "outputs": [
    {
     "name": "stdout",
     "output_type": "stream",
     "text": [
      "[Move.from_uci('g1h2'), Move.from_uci('g1h1'), Move.from_uci('g1f1')]\n"
     ]
    },
    {
     "data": {
      "image/svg+xml": "<svg xmlns=\"http://www.w3.org/2000/svg\" xmlns:xlink=\"http://www.w3.org/1999/xlink\" version=\"1.2\" baseProfile=\"tiny\" viewBox=\"0 0 390 390\" width=\"390\" height=\"390\"><defs><g id=\"white-king\" class=\"white king\" fill=\"none\" fill-rule=\"evenodd\" stroke=\"#000\" stroke-width=\"1.5\" stroke-linecap=\"round\" stroke-linejoin=\"round\"><path d=\"M22.5 11.63V6M20 8h5\" stroke-linejoin=\"miter\" /><path d=\"M22.5 25s4.5-7.5 3-10.5c0 0-1-2.5-3-2.5s-3 2.5-3 2.5c-1.5 3 3 10.5 3 10.5\" fill=\"#fff\" stroke-linecap=\"butt\" stroke-linejoin=\"miter\" /><path d=\"M11.5 37c5.5 3.5 15.5 3.5 21 0v-7s9-4.5 6-10.5c-4-6.5-13.5-3.5-16 4V27v-3.5c-3.5-7.5-13-10.5-16-4-3 6 5 10 5 10V37z\" fill=\"#fff\" /><path d=\"M11.5 30c5.5-3 15.5-3 21 0m-21 3.5c5.5-3 15.5-3 21 0m-21 3.5c5.5-3 15.5-3 21 0\" /></g><g id=\"black-rook\" class=\"black rook\" fill=\"#000\" fill-rule=\"evenodd\" stroke=\"#000\" stroke-width=\"1.5\" stroke-linecap=\"round\" stroke-linejoin=\"round\"><path d=\"M9 39h27v-3H9v3zM12.5 32l1.5-2.5h17l1.5 2.5h-20zM12 36v-4h21v4H12z\" stroke-linecap=\"butt\" /><path d=\"M14 29.5v-13h17v13H14z\" stroke-linecap=\"butt\" stroke-linejoin=\"miter\" /><path d=\"M14 16.5L11 14h23l-3 2.5H14zM11 14V9h4v2h5V9h5v2h5V9h4v5H11z\" stroke-linecap=\"butt\" /><path d=\"M12 35.5h21M13 31.5h19M14 29.5h17M14 16.5h17M11 14h23\" fill=\"none\" stroke=\"#fff\" stroke-width=\"1\" stroke-linejoin=\"miter\" /></g><g id=\"black-king\" class=\"black king\" fill=\"none\" fill-rule=\"evenodd\" stroke=\"#000\" stroke-width=\"1.5\" stroke-linecap=\"round\" stroke-linejoin=\"round\"><path d=\"M22.5 11.63V6\" stroke-linejoin=\"miter\" /><path d=\"M22.5 25s4.5-7.5 3-10.5c0 0-1-2.5-3-2.5s-3 2.5-3 2.5c-1.5 3 3 10.5 3 10.5\" fill=\"#000\" stroke-linecap=\"butt\" stroke-linejoin=\"miter\" /><path d=\"M11.5 37c5.5 3.5 15.5 3.5 21 0v-7s9-4.5 6-10.5c-4-6.5-13.5-3.5-16 4V27v-3.5c-3.5-7.5-13-10.5-16-4-3 6 5 10 5 10V37z\" fill=\"#000\" /><path d=\"M20 8h5\" stroke-linejoin=\"miter\" /><path d=\"M32 29.5s8.5-4 6.03-9.65C34.15 14 25 18 22.5 24.5l.01 2.1-.01-2.1C20 18 9.906 14 6.997 19.85c-2.497 5.65 4.853 9 4.853 9M11.5 30c5.5-3 15.5-3 21 0m-21 3.5c5.5-3 15.5-3 21 0m-21 3.5c5.5-3 15.5-3 21 0\" stroke=\"#fff\" /></g></defs><rect x=\"0\" y=\"0\" width=\"390\" height=\"390\" fill=\"#212121\" /><g transform=\"translate(20, 0) scale(0.75, 0.75)\" fill=\"#e5e5e5\" stroke=\"#e5e5e5\"><path d=\"M23.328 10.016q-1.742 0-2.414.398-.672.398-.672 1.36 0 .765.5 1.218.508.445 1.375.445 1.196 0 1.914-.843.727-.852.727-2.258v-.32zm2.867-.594v4.992h-1.437v-1.328q-.492.797-1.227 1.18-.734.375-1.797.375-1.343 0-2.14-.75-.79-.758-.79-2.024 0-1.476.985-2.226.992-.75 2.953-.75h2.016V8.75q0-.992-.656-1.531-.649-.547-1.829-.547-.75 0-1.46.18-.711.18-1.368.539V6.062q.79-.304 1.532-.453.742-.156 1.445-.156 1.898 0 2.836.984.937.985.937 2.985z\" /></g><g transform=\"translate(20, 375) scale(0.75, 0.75)\" fill=\"#e5e5e5\" stroke=\"#e5e5e5\"><path d=\"M23.328 10.016q-1.742 0-2.414.398-.672.398-.672 1.36 0 .765.5 1.218.508.445 1.375.445 1.196 0 1.914-.843.727-.852.727-2.258v-.32zm2.867-.594v4.992h-1.437v-1.328q-.492.797-1.227 1.18-.734.375-1.797.375-1.343 0-2.14-.75-.79-.758-.79-2.024 0-1.476.985-2.226.992-.75 2.953-.75h2.016V8.75q0-.992-.656-1.531-.649-.547-1.829-.547-.75 0-1.46.18-.711.18-1.368.539V6.062q.79-.304 1.532-.453.742-.156 1.445-.156 1.898 0 2.836.984.937.985.937 2.985z\" /></g><g transform=\"translate(65, 0) scale(0.75, 0.75)\" fill=\"#e5e5e5\" stroke=\"#e5e5e5\"><path d=\"M24.922 10.047q0-1.586-.656-2.485-.649-.906-1.79-.906-1.14 0-1.796.906-.649.899-.649 2.485 0 1.586.649 2.492.656.898 1.797.898 1.14 0 1.789-.898.656-.906.656-2.492zm-4.89-3.055q.452-.781 1.14-1.156.695-.383 1.656-.383 1.594 0 2.586 1.266 1 1.265 1 3.328 0 2.062-1 3.328-.992 1.266-2.586 1.266-.96 0-1.656-.375-.688-.383-1.14-1.164v1.312h-1.446V2.258h1.445z\" /></g><g transform=\"translate(65, 375) scale(0.75, 0.75)\" fill=\"#e5e5e5\" stroke=\"#e5e5e5\"><path d=\"M24.922 10.047q0-1.586-.656-2.485-.649-.906-1.79-.906-1.14 0-1.796.906-.649.899-.649 2.485 0 1.586.649 2.492.656.898 1.797.898 1.14 0 1.789-.898.656-.906.656-2.492zm-4.89-3.055q.452-.781 1.14-1.156.695-.383 1.656-.383 1.594 0 2.586 1.266 1 1.265 1 3.328 0 2.062-1 3.328-.992 1.266-2.586 1.266-.96 0-1.656-.375-.688-.383-1.14-1.164v1.312h-1.446V2.258h1.445z\" /></g><g transform=\"translate(110, 0) scale(0.75, 0.75)\" fill=\"#e5e5e5\" stroke=\"#e5e5e5\"><path d=\"M25.96 6v1.344q-.608-.336-1.226-.5-.609-.172-1.234-.172-1.398 0-2.172.89-.773.883-.773 2.485 0 1.601.773 2.492.774.883 2.172.883.625 0 1.234-.164.618-.172 1.227-.508v1.328q-.602.281-1.25.422-.64.14-1.367.14-1.977 0-3.14-1.242-1.165-1.242-1.165-3.351 0-2.14 1.172-3.367 1.18-1.227 3.227-1.227.664 0 1.296.14.633.134 1.227.407z\" /></g><g transform=\"translate(110, 375) scale(0.75, 0.75)\" fill=\"#e5e5e5\" stroke=\"#e5e5e5\"><path d=\"M25.96 6v1.344q-.608-.336-1.226-.5-.609-.172-1.234-.172-1.398 0-2.172.89-.773.883-.773 2.485 0 1.601.773 2.492.774.883 2.172.883.625 0 1.234-.164.618-.172 1.227-.508v1.328q-.602.281-1.25.422-.64.14-1.367.14-1.977 0-3.14-1.242-1.165-1.242-1.165-3.351 0-2.14 1.172-3.367 1.18-1.227 3.227-1.227.664 0 1.296.14.633.134 1.227.407z\" /></g><g transform=\"translate(155, 0) scale(0.75, 0.75)\" fill=\"#e5e5e5\" stroke=\"#e5e5e5\"><path d=\"M24.973 6.992V2.258h1.437v12.156h-1.437v-1.312q-.453.78-1.149 1.164-.687.375-1.656.375-1.586 0-2.586-1.266-.992-1.266-.992-3.328 0-2.063.992-3.328 1-1.266 2.586-1.266.969 0 1.656.383.696.375 1.149 1.156zm-4.899 3.055q0 1.586.649 2.492.656.898 1.797.898 1.14 0 1.796-.898.657-.906.657-2.492 0-1.586-.657-2.485-.656-.906-1.796-.906-1.141 0-1.797.906-.649.899-.649 2.485z\" /></g><g transform=\"translate(155, 375) scale(0.75, 0.75)\" fill=\"#e5e5e5\" stroke=\"#e5e5e5\"><path d=\"M24.973 6.992V2.258h1.437v12.156h-1.437v-1.312q-.453.78-1.149 1.164-.687.375-1.656.375-1.586 0-2.586-1.266-.992-1.266-.992-3.328 0-2.063.992-3.328 1-1.266 2.586-1.266.969 0 1.656.383.696.375 1.149 1.156zm-4.899 3.055q0 1.586.649 2.492.656.898 1.797.898 1.14 0 1.796-.898.657-.906.657-2.492 0-1.586-.657-2.485-.656-.906-1.796-.906-1.141 0-1.797.906-.649.899-.649 2.485z\" /></g><g transform=\"translate(200, 0) scale(0.75, 0.75)\" fill=\"#e5e5e5\" stroke=\"#e5e5e5\"><path d=\"M26.555 9.68v.703h-6.61q.094 1.484.89 2.265.806.774 2.235.774.828 0 1.602-.203.781-.203 1.547-.61v1.36q-.774.328-1.586.5-.813.172-1.649.172-2.093 0-3.32-1.22-1.219-1.218-1.219-3.296 0-2.148 1.157-3.406 1.164-1.266 3.132-1.266 1.766 0 2.79 1.14 1.03 1.134 1.03 3.087zm-1.438-.422q-.015-1.18-.664-1.883-.64-.703-1.703-.703-1.203 0-1.93.68-.718.68-.828 1.914z\" /></g><g transform=\"translate(200, 375) scale(0.75, 0.75)\" fill=\"#e5e5e5\" stroke=\"#e5e5e5\"><path d=\"M26.555 9.68v.703h-6.61q.094 1.484.89 2.265.806.774 2.235.774.828 0 1.602-.203.781-.203 1.547-.61v1.36q-.774.328-1.586.5-.813.172-1.649.172-2.093 0-3.32-1.22-1.219-1.218-1.219-3.296 0-2.148 1.157-3.406 1.164-1.266 3.132-1.266 1.766 0 2.79 1.14 1.03 1.134 1.03 3.087zm-1.438-.422q-.015-1.18-.664-1.883-.64-.703-1.703-.703-1.203 0-1.93.68-.718.68-.828 1.914z\" /></g><g transform=\"translate(245, 0) scale(0.75, 0.75)\" fill=\"#e5e5e5\" stroke=\"#e5e5e5\"><path d=\"M25.285 2.258v1.195H23.91q-.773 0-1.078.313-.297.312-.297 1.125v.773h2.367v1.117h-2.367v7.633H21.09V6.781h-1.375V5.664h1.375v-.61q0-1.46.68-2.124.68-.672 2.156-.672z\" /></g><g transform=\"translate(245, 375) scale(0.75, 0.75)\" fill=\"#e5e5e5\" stroke=\"#e5e5e5\"><path d=\"M25.285 2.258v1.195H23.91q-.773 0-1.078.313-.297.312-.297 1.125v.773h2.367v1.117h-2.367v7.633H21.09V6.781h-1.375V5.664h1.375v-.61q0-1.46.68-2.124.68-.672 2.156-.672z\" /></g><g transform=\"translate(290, 0) scale(0.75, 0.75)\" fill=\"#e5e5e5\" stroke=\"#e5e5e5\"><path d=\"M24.973 9.937q0-1.562-.649-2.421-.64-.86-1.804-.86-1.157 0-1.805.86-.64.859-.64 2.421 0 1.555.64 2.415.648.859 1.805.859 1.164 0 1.804-.86.649-.859.649-2.414zm1.437 3.391q0 2.234-.992 3.32-.992 1.094-3.04 1.094-.757 0-1.429-.117-.672-.11-1.304-.344v-1.398q.632.344 1.25.508.617.164 1.257.164 1.414 0 2.118-.743.703-.734.703-2.226v-.711q-.446.773-1.141 1.156-.695.383-1.664.383-1.61 0-2.594-1.227-.984-1.226-.984-3.25 0-2.03.984-3.257.985-1.227 2.594-1.227.969 0 1.664.383t1.14 1.156V5.664h1.438z\" /></g><g transform=\"translate(290, 375) scale(0.75, 0.75)\" fill=\"#e5e5e5\" stroke=\"#e5e5e5\"><path d=\"M24.973 9.937q0-1.562-.649-2.421-.64-.86-1.804-.86-1.157 0-1.805.86-.64.859-.64 2.421 0 1.555.64 2.415.648.859 1.805.859 1.164 0 1.804-.86.649-.859.649-2.414zm1.437 3.391q0 2.234-.992 3.32-.992 1.094-3.04 1.094-.757 0-1.429-.117-.672-.11-1.304-.344v-1.398q.632.344 1.25.508.617.164 1.257.164 1.414 0 2.118-.743.703-.734.703-2.226v-.711q-.446.773-1.141 1.156-.695.383-1.664.383-1.61 0-2.594-1.227-.984-1.226-.984-3.25 0-2.03.984-3.257.985-1.227 2.594-1.227.969 0 1.664.383t1.14 1.156V5.664h1.438z\" /></g><g transform=\"translate(335, 0) scale(0.75, 0.75)\" fill=\"#e5e5e5\" stroke=\"#e5e5e5\"><path d=\"M26.164 9.133v5.281h-1.437V9.18q0-1.243-.485-1.86-.484-.617-1.453-.617-1.164 0-1.836.742-.672.742-.672 2.024v4.945h-1.445V2.258h1.445v4.765q.516-.789 1.211-1.18.703-.39 1.617-.39 1.508 0 2.282.938.773.93.773 2.742z\" /></g><g transform=\"translate(335, 375) scale(0.75, 0.75)\" fill=\"#e5e5e5\" stroke=\"#e5e5e5\"><path d=\"M26.164 9.133v5.281h-1.437V9.18q0-1.243-.485-1.86-.484-.617-1.453-.617-1.164 0-1.836.742-.672.742-.672 2.024v4.945h-1.445V2.258h1.445v4.765q.516-.789 1.211-1.18.703-.39 1.617-.39 1.508 0 2.282.938.773.93.773 2.742z\" /></g><g transform=\"translate(0, 335) scale(0.75, 0.75)\" fill=\"#e5e5e5\" stroke=\"#e5e5e5\"><path d=\"M6.754 26.996h2.578v-8.898l-2.805.562v-1.437l2.79-.563h1.578v10.336h2.578v1.328h-6.72z\" /></g><g transform=\"translate(375, 335) scale(0.75, 0.75)\" fill=\"#e5e5e5\" stroke=\"#e5e5e5\"><path d=\"M6.754 26.996h2.578v-8.898l-2.805.562v-1.437l2.79-.563h1.578v10.336h2.578v1.328h-6.72z\" /></g><g transform=\"translate(0, 290) scale(0.75, 0.75)\" fill=\"#e5e5e5\" stroke=\"#e5e5e5\"><path d=\"M8.195 26.996h5.508v1.328H6.297v-1.328q.898-.93 2.445-2.492 1.555-1.57 1.953-2.024.758-.851 1.055-1.437.305-.594.305-1.164 0-.93-.657-1.516-.648-.586-1.695-.586-.742 0-1.57.258-.82.258-1.758.781v-1.593q.953-.383 1.781-.578.828-.196 1.516-.196 1.812 0 2.89.906 1.079.907 1.079 2.422 0 .72-.274 1.368-.265.64-.976 1.515-.196.227-1.243 1.313-1.046 1.078-2.953 3.023z\" /></g><g transform=\"translate(375, 290) scale(0.75, 0.75)\" fill=\"#e5e5e5\" stroke=\"#e5e5e5\"><path d=\"M8.195 26.996h5.508v1.328H6.297v-1.328q.898-.93 2.445-2.492 1.555-1.57 1.953-2.024.758-.851 1.055-1.437.305-.594.305-1.164 0-.93-.657-1.516-.648-.586-1.695-.586-.742 0-1.57.258-.82.258-1.758.781v-1.593q.953-.383 1.781-.578.828-.196 1.516-.196 1.812 0 2.89.906 1.079.907 1.079 2.422 0 .72-.274 1.368-.265.64-.976 1.515-.196.227-1.243 1.313-1.046 1.078-2.953 3.023z\" /></g><g transform=\"translate(0, 245) scale(0.75, 0.75)\" fill=\"#e5e5e5\" stroke=\"#e5e5e5\"><path d=\"M11.434 22.035q1.132.242 1.765 1.008.64.766.64 1.89 0 1.727-1.187 2.672-1.187.946-3.375.946-.734 0-1.515-.149-.774-.14-1.602-.43V26.45q.656.383 1.438.578.78.196 1.632.196 1.485 0 2.258-.586.782-.586.782-1.703 0-1.032-.727-1.61-.719-.586-2.008-.586h-1.36v-1.297h1.423q1.164 0 1.78-.46.618-.47.618-1.344 0-.899-.64-1.375-.633-.485-1.82-.485-.65 0-1.391.141-.743.14-1.633.437V16.95q.898-.25 1.68-.375.788-.125 1.484-.125 1.797 0 2.844.82 1.046.813 1.046 2.204 0 .968-.554 1.64-.555.664-1.578.922z\" /></g><g transform=\"translate(375, 245) scale(0.75, 0.75)\" fill=\"#e5e5e5\" stroke=\"#e5e5e5\"><path d=\"M11.434 22.035q1.132.242 1.765 1.008.64.766.64 1.89 0 1.727-1.187 2.672-1.187.946-3.375.946-.734 0-1.515-.149-.774-.14-1.602-.43V26.45q.656.383 1.438.578.78.196 1.632.196 1.485 0 2.258-.586.782-.586.782-1.703 0-1.032-.727-1.61-.719-.586-2.008-.586h-1.36v-1.297h1.423q1.164 0 1.78-.46.618-.47.618-1.344 0-.899-.64-1.375-.633-.485-1.82-.485-.65 0-1.391.141-.743.14-1.633.437V16.95q.898-.25 1.68-.375.788-.125 1.484-.125 1.797 0 2.844.82 1.046.813 1.046 2.204 0 .968-.554 1.64-.555.664-1.578.922z\" /></g><g transform=\"translate(0, 200) scale(0.75, 0.75)\" fill=\"#e5e5e5\" stroke=\"#e5e5e5\"><path d=\"M11.016 18.035L7.03 24.262h3.985zm-.414-1.375h1.984v7.602h1.664v1.312h-1.664v2.75h-1.57v-2.75H5.75v-1.523z\" /></g><g transform=\"translate(375, 200) scale(0.75, 0.75)\" fill=\"#e5e5e5\" stroke=\"#e5e5e5\"><path d=\"M11.016 18.035L7.03 24.262h3.985zm-.414-1.375h1.984v7.602h1.664v1.312h-1.664v2.75h-1.57v-2.75H5.75v-1.523z\" /></g><g transform=\"translate(0, 155) scale(0.75, 0.75)\" fill=\"#e5e5e5\" stroke=\"#e5e5e5\"><path d=\"M6.719 16.66h6.195v1.328h-4.75v2.86q.344-.118.688-.172.343-.063.687-.063 1.953 0 3.094 1.07 1.14 1.07 1.14 2.899 0 1.883-1.171 2.93-1.172 1.039-3.305 1.039-.735 0-1.5-.125-.758-.125-1.57-.375v-1.586q.703.383 1.453.57.75.188 1.586.188 1.351 0 2.14-.711.79-.711.79-1.93 0-1.219-.79-1.93-.789-.71-2.14-.71-.633 0-1.266.14-.625.14-1.281.438z\" /></g><g transform=\"translate(375, 155) scale(0.75, 0.75)\" fill=\"#e5e5e5\" stroke=\"#e5e5e5\"><path d=\"M6.719 16.66h6.195v1.328h-4.75v2.86q.344-.118.688-.172.343-.063.687-.063 1.953 0 3.094 1.07 1.14 1.07 1.14 2.899 0 1.883-1.171 2.93-1.172 1.039-3.305 1.039-.735 0-1.5-.125-.758-.125-1.57-.375v-1.586q.703.383 1.453.57.75.188 1.586.188 1.351 0 2.14-.711.79-.711.79-1.93 0-1.219-.79-1.93-.789-.71-2.14-.71-.633 0-1.266.14-.625.14-1.281.438z\" /></g><g transform=\"translate(0, 110) scale(0.75, 0.75)\" fill=\"#e5e5e5\" stroke=\"#e5e5e5\"><path d=\"M10.137 21.863q-1.063 0-1.688.727-.617.726-.617 1.992 0 1.258.617 1.992.625.727 1.688.727 1.062 0 1.68-.727.624-.734.624-1.992 0-1.266-.625-1.992-.617-.727-1.68-.727zm3.133-4.945v1.437q-.594-.28-1.204-.43-.601-.148-1.195-.148-1.562 0-2.39 1.055-.82 1.055-.938 3.188.46-.68 1.156-1.04.696-.367 1.531-.367 1.758 0 2.774 1.07 1.023 1.063 1.023 2.899 0 1.797-1.062 2.883-1.063 1.086-2.828 1.086-2.024 0-3.094-1.547-1.07-1.555-1.07-4.5 0-2.766 1.312-4.406 1.313-1.649 3.524-1.649.593 0 1.195.117.61.118 1.266.352z\" /></g><g transform=\"translate(375, 110) scale(0.75, 0.75)\" fill=\"#e5e5e5\" stroke=\"#e5e5e5\"><path d=\"M10.137 21.863q-1.063 0-1.688.727-.617.726-.617 1.992 0 1.258.617 1.992.625.727 1.688.727 1.062 0 1.68-.727.624-.734.624-1.992 0-1.266-.625-1.992-.617-.727-1.68-.727zm3.133-4.945v1.437q-.594-.28-1.204-.43-.601-.148-1.195-.148-1.562 0-2.39 1.055-.82 1.055-.938 3.188.46-.68 1.156-1.04.696-.367 1.531-.367 1.758 0 2.774 1.07 1.023 1.063 1.023 2.899 0 1.797-1.062 2.883-1.063 1.086-2.828 1.086-2.024 0-3.094-1.547-1.07-1.555-1.07-4.5 0-2.766 1.312-4.406 1.313-1.649 3.524-1.649.593 0 1.195.117.61.118 1.266.352z\" /></g><g transform=\"translate(0, 65) scale(0.75, 0.75)\" fill=\"#e5e5e5\" stroke=\"#e5e5e5\"><path d=\"M6.25 16.66h7.5v.672L9.516 28.324H7.867l3.985-10.336H6.25z\" /></g><g transform=\"translate(375, 65) scale(0.75, 0.75)\" fill=\"#e5e5e5\" stroke=\"#e5e5e5\"><path d=\"M6.25 16.66h7.5v.672L9.516 28.324H7.867l3.985-10.336H6.25z\" /></g><g transform=\"translate(0, 20) scale(0.75, 0.75)\" fill=\"#e5e5e5\" stroke=\"#e5e5e5\"><path d=\"M10 22.785q-1.125 0-1.773.602-.641.601-.641 1.656t.64 1.656q.649.602 1.774.602t1.773-.602q.649-.61.649-1.656 0-1.055-.649-1.656-.64-.602-1.773-.602zm-1.578-.672q-1.016-.25-1.586-.945-.563-.695-.563-1.695 0-1.399.993-2.211 1-.813 2.734-.813 1.742 0 2.734.813.993.812.993 2.21 0 1-.57 1.696-.563.695-1.571.945 1.14.266 1.773 1.04.641.773.641 1.89 0 1.695-1.04 2.602-1.03.906-2.96.906t-2.969-.906Q6 26.738 6 25.043q0-1.117.64-1.89.641-.774 1.782-1.04zm-.578-2.492q0 .906.562 1.414.57.508 1.594.508 1.016 0 1.586-.508.578-.508.578-1.414 0-.906-.578-1.414-.57-.508-1.586-.508-1.023 0-1.594.508-.562.508-.562 1.414z\" /></g><g transform=\"translate(375, 20) scale(0.75, 0.75)\" fill=\"#e5e5e5\" stroke=\"#e5e5e5\"><path d=\"M10 22.785q-1.125 0-1.773.602-.641.601-.641 1.656t.64 1.656q.649.602 1.774.602t1.773-.602q.649-.61.649-1.656 0-1.055-.649-1.656-.64-.602-1.773-.602zm-1.578-.672q-1.016-.25-1.586-.945-.563-.695-.563-1.695 0-1.399.993-2.211 1-.813 2.734-.813 1.742 0 2.734.813.993.812.993 2.21 0 1-.57 1.696-.563.695-1.571.945 1.14.266 1.773 1.04.641.773.641 1.89 0 1.695-1.04 2.602-1.03.906-2.96.906t-2.969-.906Q6 26.738 6 25.043q0-1.117.64-1.89.641-.774 1.782-1.04zm-.578-2.492q0 .906.562 1.414.57.508 1.594.508 1.016 0 1.586-.508.578-.508.578-1.414 0-.906-.578-1.414-.57-.508-1.586-.508-1.023 0-1.594.508-.562.508-.562 1.414z\" /></g><rect x=\"15\" y=\"330\" width=\"45\" height=\"45\" class=\"square dark a1\" stroke=\"none\" fill=\"#d18b47\" /><rect x=\"60\" y=\"330\" width=\"45\" height=\"45\" class=\"square light b1\" stroke=\"none\" fill=\"#ffce9e\" /><rect x=\"105\" y=\"330\" width=\"45\" height=\"45\" class=\"square dark c1\" stroke=\"none\" fill=\"#d18b47\" /><rect x=\"150\" y=\"330\" width=\"45\" height=\"45\" class=\"square light d1\" stroke=\"none\" fill=\"#ffce9e\" /><rect x=\"195\" y=\"330\" width=\"45\" height=\"45\" class=\"square dark e1\" stroke=\"none\" fill=\"#d18b47\" /><rect x=\"240\" y=\"330\" width=\"45\" height=\"45\" class=\"square light f1\" stroke=\"none\" fill=\"#ffce9e\" /><rect x=\"285\" y=\"330\" width=\"45\" height=\"45\" class=\"square dark g1\" stroke=\"none\" fill=\"#d18b47\" /><rect x=\"330\" y=\"330\" width=\"45\" height=\"45\" class=\"square light h1\" stroke=\"none\" fill=\"#ffce9e\" /><rect x=\"15\" y=\"285\" width=\"45\" height=\"45\" class=\"square light a2\" stroke=\"none\" fill=\"#ffce9e\" /><rect x=\"60\" y=\"285\" width=\"45\" height=\"45\" class=\"square dark b2\" stroke=\"none\" fill=\"#d18b47\" /><rect x=\"105\" y=\"285\" width=\"45\" height=\"45\" class=\"square light c2\" stroke=\"none\" fill=\"#ffce9e\" /><rect x=\"150\" y=\"285\" width=\"45\" height=\"45\" class=\"square dark d2\" stroke=\"none\" fill=\"#d18b47\" /><rect x=\"195\" y=\"285\" width=\"45\" height=\"45\" class=\"square light e2\" stroke=\"none\" fill=\"#ffce9e\" /><rect x=\"240\" y=\"285\" width=\"45\" height=\"45\" class=\"square dark f2\" stroke=\"none\" fill=\"#d18b47\" /><rect x=\"285\" y=\"285\" width=\"45\" height=\"45\" class=\"square light g2\" stroke=\"none\" fill=\"#ffce9e\" /><rect x=\"330\" y=\"285\" width=\"45\" height=\"45\" class=\"square dark h2\" stroke=\"none\" fill=\"#d18b47\" /><rect x=\"15\" y=\"240\" width=\"45\" height=\"45\" class=\"square dark a3\" stroke=\"none\" fill=\"#d18b47\" /><rect x=\"60\" y=\"240\" width=\"45\" height=\"45\" class=\"square light b3\" stroke=\"none\" fill=\"#ffce9e\" /><rect x=\"105\" y=\"240\" width=\"45\" height=\"45\" class=\"square dark c3\" stroke=\"none\" fill=\"#d18b47\" /><rect x=\"150\" y=\"240\" width=\"45\" height=\"45\" class=\"square light d3\" stroke=\"none\" fill=\"#ffce9e\" /><rect x=\"195\" y=\"240\" width=\"45\" height=\"45\" class=\"square dark e3\" stroke=\"none\" fill=\"#d18b47\" /><rect x=\"240\" y=\"240\" width=\"45\" height=\"45\" class=\"square light f3\" stroke=\"none\" fill=\"#ffce9e\" /><rect x=\"285\" y=\"240\" width=\"45\" height=\"45\" class=\"square dark g3\" stroke=\"none\" fill=\"#d18b47\" /><rect x=\"330\" y=\"240\" width=\"45\" height=\"45\" class=\"square light h3\" stroke=\"none\" fill=\"#ffce9e\" /><rect x=\"15\" y=\"195\" width=\"45\" height=\"45\" class=\"square light a4\" stroke=\"none\" fill=\"#ffce9e\" /><rect x=\"60\" y=\"195\" width=\"45\" height=\"45\" class=\"square dark b4\" stroke=\"none\" fill=\"#d18b47\" /><rect x=\"105\" y=\"195\" width=\"45\" height=\"45\" class=\"square light c4\" stroke=\"none\" fill=\"#ffce9e\" /><rect x=\"150\" y=\"195\" width=\"45\" height=\"45\" class=\"square dark d4\" stroke=\"none\" fill=\"#d18b47\" /><rect x=\"195\" y=\"195\" width=\"45\" height=\"45\" class=\"square light e4\" stroke=\"none\" fill=\"#ffce9e\" /><rect x=\"240\" y=\"195\" width=\"45\" height=\"45\" class=\"square dark f4\" stroke=\"none\" fill=\"#d18b47\" /><rect x=\"285\" y=\"195\" width=\"45\" height=\"45\" class=\"square light g4\" stroke=\"none\" fill=\"#ffce9e\" /><rect x=\"330\" y=\"195\" width=\"45\" height=\"45\" class=\"square dark h4\" stroke=\"none\" fill=\"#d18b47\" /><rect x=\"15\" y=\"150\" width=\"45\" height=\"45\" class=\"square dark a5\" stroke=\"none\" fill=\"#d18b47\" /><rect x=\"60\" y=\"150\" width=\"45\" height=\"45\" class=\"square light b5\" stroke=\"none\" fill=\"#ffce9e\" /><rect x=\"105\" y=\"150\" width=\"45\" height=\"45\" class=\"square dark c5\" stroke=\"none\" fill=\"#d18b47\" /><rect x=\"150\" y=\"150\" width=\"45\" height=\"45\" class=\"square light d5\" stroke=\"none\" fill=\"#ffce9e\" /><rect x=\"195\" y=\"150\" width=\"45\" height=\"45\" class=\"square dark e5\" stroke=\"none\" fill=\"#d18b47\" /><rect x=\"240\" y=\"150\" width=\"45\" height=\"45\" class=\"square light f5\" stroke=\"none\" fill=\"#ffce9e\" /><rect x=\"285\" y=\"150\" width=\"45\" height=\"45\" class=\"square dark g5\" stroke=\"none\" fill=\"#d18b47\" /><rect x=\"330\" y=\"150\" width=\"45\" height=\"45\" class=\"square light h5\" stroke=\"none\" fill=\"#ffce9e\" /><rect x=\"15\" y=\"105\" width=\"45\" height=\"45\" class=\"square light a6\" stroke=\"none\" fill=\"#ffce9e\" /><rect x=\"60\" y=\"105\" width=\"45\" height=\"45\" class=\"square dark b6\" stroke=\"none\" fill=\"#d18b47\" /><rect x=\"105\" y=\"105\" width=\"45\" height=\"45\" class=\"square light c6\" stroke=\"none\" fill=\"#ffce9e\" /><rect x=\"150\" y=\"105\" width=\"45\" height=\"45\" class=\"square dark d6\" stroke=\"none\" fill=\"#d18b47\" /><rect x=\"195\" y=\"105\" width=\"45\" height=\"45\" class=\"square light e6\" stroke=\"none\" fill=\"#ffce9e\" /><rect x=\"240\" y=\"105\" width=\"45\" height=\"45\" class=\"square dark f6\" stroke=\"none\" fill=\"#d18b47\" /><rect x=\"285\" y=\"105\" width=\"45\" height=\"45\" class=\"square light g6\" stroke=\"none\" fill=\"#ffce9e\" /><rect x=\"330\" y=\"105\" width=\"45\" height=\"45\" class=\"square dark h6\" stroke=\"none\" fill=\"#d18b47\" /><rect x=\"15\" y=\"60\" width=\"45\" height=\"45\" class=\"square dark a7\" stroke=\"none\" fill=\"#d18b47\" /><rect x=\"60\" y=\"60\" width=\"45\" height=\"45\" class=\"square light b7\" stroke=\"none\" fill=\"#ffce9e\" /><rect x=\"105\" y=\"60\" width=\"45\" height=\"45\" class=\"square dark c7\" stroke=\"none\" fill=\"#d18b47\" /><rect x=\"150\" y=\"60\" width=\"45\" height=\"45\" class=\"square light d7\" stroke=\"none\" fill=\"#ffce9e\" /><rect x=\"195\" y=\"60\" width=\"45\" height=\"45\" class=\"square dark e7\" stroke=\"none\" fill=\"#d18b47\" /><rect x=\"240\" y=\"60\" width=\"45\" height=\"45\" class=\"square light f7\" stroke=\"none\" fill=\"#ffce9e\" /><rect x=\"285\" y=\"60\" width=\"45\" height=\"45\" class=\"square dark g7\" stroke=\"none\" fill=\"#d18b47\" /><rect x=\"330\" y=\"60\" width=\"45\" height=\"45\" class=\"square light h7\" stroke=\"none\" fill=\"#ffce9e\" /><rect x=\"15\" y=\"15\" width=\"45\" height=\"45\" class=\"square light a8\" stroke=\"none\" fill=\"#ffce9e\" /><rect x=\"60\" y=\"15\" width=\"45\" height=\"45\" class=\"square dark b8\" stroke=\"none\" fill=\"#d18b47\" /><rect x=\"105\" y=\"15\" width=\"45\" height=\"45\" class=\"square light c8\" stroke=\"none\" fill=\"#ffce9e\" /><rect x=\"150\" y=\"15\" width=\"45\" height=\"45\" class=\"square dark d8\" stroke=\"none\" fill=\"#d18b47\" /><rect x=\"195\" y=\"15\" width=\"45\" height=\"45\" class=\"square light e8\" stroke=\"none\" fill=\"#ffce9e\" /><rect x=\"240\" y=\"15\" width=\"45\" height=\"45\" class=\"square dark f8\" stroke=\"none\" fill=\"#d18b47\" /><rect x=\"285\" y=\"15\" width=\"45\" height=\"45\" class=\"square light g8\" stroke=\"none\" fill=\"#ffce9e\" /><rect x=\"330\" y=\"15\" width=\"45\" height=\"45\" class=\"square dark h8\" stroke=\"none\" fill=\"#d18b47\" /><use href=\"#white-king\" xlink:href=\"#white-king\" transform=\"translate(285, 330)\" /><use href=\"#black-king\" xlink:href=\"#black-king\" transform=\"translate(240, 240)\" /><use href=\"#black-rook\" xlink:href=\"#black-rook\" transform=\"translate(150, 15)\" /></svg>",
      "text/plain": [
       "Board('3r4/8/8/8/8/5k2/8/6K1 w - - 0 1')"
      ]
     },
     "execution_count": 37,
     "metadata": {},
     "output_type": "execute_result"
    }
   ],
   "source": [
    "b = chess.Board('3r4/8/8/8/8/5k2/8/6K1 w - -')\n",
    "print(list(b.legal_moves))\n",
    "b"
   ]
  },
  {
   "cell_type": "code",
   "execution_count": null,
   "metadata": {
    "cell_id": "4b458768-5162-4f78-8f83-89f07e4402d4",
    "deepnote_cell_height": 135,
    "deepnote_cell_type": "code",
    "deepnote_to_be_reexecuted": false,
    "execution_millis": 0,
    "execution_start": 1643381493835,
    "source_hash": "616bb991",
    "tags": []
   },
   "outputs": [],
   "source": [
    "def test():\n",
    "    s = set()\n",
    "    for i in range(400000*64*10):\n",
    "        s.add(f'3r4/8/8/8/8/5k2/8/6K1 w - {i}')"
   ]
  },
  {
   "cell_type": "code",
   "execution_count": null,
   "metadata": {
    "cell_id": "59280ab6-33cf-4819-91e0-a502d49d2cfd",
    "deepnote_cell_height": 81,
    "deepnote_cell_type": "code",
    "deepnote_to_be_reexecuted": false,
    "execution_millis": 0,
    "execution_start": 1643916067519,
    "source_hash": "d312736d",
    "tags": []
   },
   "outputs": [],
   "source": [
    "import sys"
   ]
  },
  {
   "cell_type": "code",
   "execution_count": null,
   "metadata": {
    "cell_id": "ae9bfebc-1339-415b-b2b9-327358819911",
    "deepnote_cell_height": 217.875,
    "deepnote_cell_type": "code",
    "deepnote_output_heights": [
     null,
     21.1875
    ],
    "deepnote_to_be_reexecuted": false,
    "execution_millis": 2,
    "execution_start": 1643916267123,
    "source_hash": "17e9cad9",
    "tags": []
   },
   "outputs": [
    {
     "name": "stdout",
     "output_type": "stream",
     "text": [
      "33554431\n"
     ]
    },
    {
     "data": {
      "text/plain": [
       "28"
      ]
     },
     "execution_count": 19,
     "metadata": {},
     "output_type": "execute_result"
    }
   ],
   "source": [
    "x = 0b1111111111111111111111111\n",
    "x = int(x)\n",
    "print(x)\n",
    "sys.getsizeof(x)"
   ]
  },
  {
   "cell_type": "code",
   "execution_count": null,
   "metadata": {
    "cell_id": "b7be28aa-9536-4a72-8e1d-6600cb6d9b29",
    "deepnote_cell_height": 118.1875,
    "deepnote_cell_type": "code",
    "deepnote_output_heights": [
     21.1875
    ],
    "deepnote_to_be_reexecuted": false,
    "execution_millis": 5,
    "execution_start": 1644148967287,
    "source_hash": "d3b13726",
    "tags": []
   },
   "outputs": [
    {
     "data": {
      "text/plain": [
       "'rnbqkbnr/pppppppp/8/8/8/8/PPPPPPPP/RNBQKBNR w KQkq -'"
      ]
     },
     "execution_count": 4,
     "metadata": {},
     "output_type": "execute_result"
    }
   ],
   "source": [
    "chess.Board().epd()"
   ]
  },
  {
   "cell_type": "code",
   "execution_count": null,
   "metadata": {
    "cell_id": "d9d7b632-4527-4342-936a-5e26e12e0c83",
    "deepnote_cell_height": 205.078125,
    "deepnote_cell_type": "code",
    "deepnote_to_be_reexecuted": false,
    "execution_millis": 5579,
    "execution_start": 1644417099314,
    "source_hash": "c3b7af73",
    "tags": []
   },
   "outputs": [
    {
     "name": "stdout",
     "output_type": "stream",
     "text": [
      "Found\n",
      "CPU times: user 2.25 s, sys: 1.46 s, total: 3.71 s\n",
      "Wall time: 5.55 s\n"
     ]
    }
   ],
   "source": [
    "%%time\n",
    "s = {x for x in range(25000000)}\n",
    "if s & {19000000}: print(\"Found\")\n",
    "del s"
   ]
  },
  {
   "cell_type": "code",
   "execution_count": null,
   "metadata": {
    "cell_id": "5b07ac95-6eb1-4669-ae29-08b950c0d30e",
    "deepnote_cell_height": 66,
    "deepnote_cell_type": "code",
    "tags": []
   },
   "outputs": [],
   "source": []
  },
  {
   "cell_type": "markdown",
   "metadata": {
    "created_in_deepnote_cell": true,
    "deepnote_cell_type": "markdown",
    "tags": []
   },
   "source": [
    "<a style='text-decoration:none;line-height:16px;display:flex;color:#5B5B62;padding:10px;justify-content:end;' href='https://deepnote.com?utm_source=created-in-deepnote-cell&projectId=f6e34dfb-c85e-40db-bde6-d0ca8b0148c0' target=\"_blank\">\n",
    "<img alt='Created in deepnote.com' style='display:inline;max-height:16px;margin:0px;margin-right:7.5px;' src='data:image/svg+xml;base64,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' > </img>\n",
    "Created in <span style='font-weight:600;margin-left:4px;'>Deepnote</span></a>"
   ]
  }
 ],
 "metadata": {
  "deepnote": {
   "is_reactive": false
  },
  "deepnote_app_layout": "article",
  "deepnote_execution_queue": [],
  "deepnote_notebook_id": "b28e06b6-1066-4a36-a307-13887c6252e6",
  "interpreter": {
   "hash": "c25bd447a48d8871a14519a6ec6f211b3fd2d70e578511719b59c4ee2f106344"
  },
  "kernelspec": {
   "display_name": "Python 3.9.7 64-bit ('ai': conda)",
   "language": "python",
   "name": "python3"
  },
  "language_info": {
   "name": "python",
   "version": "3.9.7"
  },
  "orig_nbformat": 2
 },
 "nbformat": 4,
 "nbformat_minor": 2
}
