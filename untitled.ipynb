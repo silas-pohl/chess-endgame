{
 "cells": [
  {
   "cell_type": "code",
   "metadata": {
    "tags": [],
    "cell_id": "00000-a802df6e-d054-4a48-955e-f92ca0be18c9",
    "deepnote_to_be_reexecuted": false,
    "source_hash": "51036f40",
    "execution_start": 1640193077594,
    "execution_millis": 187,
    "deepnote_cell_type": "code"
   },
   "source": "import chess\nimport chess.gaviota\nfrom IPython.display import display, clear_output\nimport random",
   "execution_count": null,
   "outputs": []
  },
  {
   "cell_type": "markdown",
   "source": "### Wurde eine Figur von einer anderen überschrieben?\nTheoretisch kann es sein, dass das zufällige Feld einer Figur dem Feld einer anderen Figur entspricht und die andere Figur überschreibt. Um mit diesem Problem umzugehen wird zuvor eine Menge von zufälligen Square generiert, die die Länge des Eingabe-Feldes der Figuren hat. Dadruch das ein Element nur einmal pro Menge enthalten sein kann, sind alle Felder einzigartig.\n\n### Können die Figuren auf ihrem jeweiligen Feld stehen?\nGrundsätzlich können Figuren können jedes Feld erreichen. (Sogar Knight (https://en.wikipedia.org/wiki/Knight's_tour))\n\nAusnahmen:\n- Pawns die erste Reihe des eigenen Feldes: Wird von is_valid() abgedeckt\n- Bishop können nur auf ihre eigene Farbe: Wird nicht von is_valid() abgedeckt\n\nFalls also zwei Bishops der selben Farbe auf dem Board stehen sollen, muss überprüft werden ob diese auf unterschiedlichen Farben stehen.",
   "metadata": {
    "tags": [],
    "cell_id": "00001-02fec670-3942-4c1b-8e29-5e1abf51dc1e",
    "deepnote_to_be_reexecuted": false,
    "source_hash": "b1e76e5a",
    "execution_start": 1639849144668,
    "execution_millis": 243,
    "deepnote_cell_type": "markdown"
   }
  },
  {
   "cell_type": "code",
   "metadata": {
    "tags": [],
    "cell_id": "00001-a798775c-5cfb-4ac3-a750-02aac9d9c122",
    "deepnote_to_be_reexecuted": false,
    "source_hash": "ab11677f",
    "execution_start": 1640195974837,
    "execution_millis": 1,
    "deepnote_cell_type": "code"
   },
   "source": "def generate_fen(pieces) -> str:\n\n    board = chess.Board()\n    board.clear()\n\n    bishop_squares = []\n\n    while not board.is_valid() or board.is_checkmate() or invalid_bishops(bishop_squares):\n\n        #Get random square for each piece as a set\n        squares = set()\n        while not len(squares) == len(pieces):\n            squares.add(random.randint(chess.A1, chess.H8))\n\n        #Map each sqaure to a piece\n        mapping = dict(zip(squares, pieces))\n        \n        #Get a list of bishop squares\n        bishop_squares = [key for (key, value) in mapping.items() if value == chess.Piece(chess.BISHOP, chess.BLACK)]\n\n        board.set_piece_map(mapping)\n\n    return board.fen()",
   "execution_count": null,
   "outputs": []
  },
  {
   "cell_type": "code",
   "metadata": {
    "tags": [],
    "cell_id": "00002-b0449557-afbd-46bf-a441-e306834cee32",
    "deepnote_to_be_reexecuted": false,
    "source_hash": "7fe6d2d9",
    "execution_start": 1640195981840,
    "execution_millis": 20,
    "deepnote_output_heights": [
     21.199996948242188,
     392,
     21.199996948242188,
     392,
     null,
     392,
     null,
     392,
     21.199996948242188,
     392,
     null,
     392,
     null,
     392
    ],
    "output_cleared": false,
    "deepnote_cell_type": "code"
   },
   "source": "generate_fen([chess.Piece(chess.KING, chess.WHITE), chess.Piece(chess.KING, chess.BLACK), chess.Piece(chess.BISHOP, chess.BLACK), chess.Piece(chess.BISHOP, chess.BLACK)])",
   "execution_count": null,
   "outputs": [
    {
     "output_type": "execute_result",
     "execution_count": 105,
     "data": {
      "text/plain": "'6bk/8/7b/8/K7/8/8/8 w - - 0 1'"
     },
     "metadata": {}
    }
   ]
  },
  {
   "cell_type": "code",
   "metadata": {
    "tags": [],
    "cell_id": "00003-aa87b443-10d9-4b99-b212-77dac1867c25",
    "deepnote_to_be_reexecuted": false,
    "source_hash": "4633eb98",
    "execution_start": 1640194669122,
    "execution_millis": 1,
    "deepnote_cell_type": "code"
   },
   "source": "def get_color(field: int):\n\n    return (field%16)%2 == 0 if field%16 < 8 else (field%16)%2 == 1",
   "execution_count": null,
   "outputs": []
  },
  {
   "cell_type": "code",
   "metadata": {
    "tags": [],
    "cell_id": "00005-f9753cfd-c476-42d8-a813-c9f14d702bcc",
    "deepnote_cell_type": "code"
   },
   "source": "",
   "execution_count": null,
   "outputs": []
  },
  {
   "cell_type": "code",
   "metadata": {
    "tags": [],
    "cell_id": "00008-c5a9aeff-8d40-4e86-ad9b-55ebf11d5c9b",
    "deepnote_to_be_reexecuted": false,
    "source_hash": "f59a4630",
    "execution_start": 1640195801879,
    "execution_millis": 3,
    "deepnote_cell_type": "code"
   },
   "source": "def invalid_bishops(fields):\n    if len(fields) < 2:\n        return False\n    if len(fields) == 2:\n        \n        return not get_color(fields[0])^get_color(fields[1])\n    else: \n        return True",
   "execution_count": null,
   "outputs": []
  },
  {
   "cell_type": "code",
   "metadata": {
    "tags": [],
    "cell_id": "00009-6ba94cf0-8c57-420f-9814-9fd9b514bd22",
    "deepnote_cell_type": "code"
   },
   "source": "",
   "execution_count": null,
   "outputs": []
  },
  {
   "cell_type": "markdown",
   "source": "<a style='text-decoration:none;line-height:16px;display:flex;color:#5B5B62;padding:10px;justify-content:end;' href='https://deepnote.com?utm_source=created-in-deepnote-cell&projectId=f6e34dfb-c85e-40db-bde6-d0ca8b0148c0' target=\"_blank\">\n<img alt='Created in deepnote.com' style='display:inline;max-height:16px;margin:0px;margin-right:7.5px;' src='data:image/svg+xml;base64,PD94bWwgdmVyc2lvbj0iMS4wIiBlbmNvZGluZz0iVVRGLTgiPz4KPHN2ZyB3aWR0aD0iODBweCIgaGVpZ2h0PSI4MHB4IiB2aWV3Qm94PSIwIDAgODAgODAiIHZlcnNpb249IjEuMSIgeG1sbnM9Imh0dHA6Ly93d3cudzMub3JnLzIwMDAvc3ZnIiB4bWxuczp4bGluaz0iaHR0cDovL3d3dy53My5vcmcvMTk5OS94bGluayI+CiAgICA8IS0tIEdlbmVyYXRvcjogU2tldGNoIDU0LjEgKDc2NDkwKSAtIGh0dHBzOi8vc2tldGNoYXBwLmNvbSAtLT4KICAgIDx0aXRsZT5Hcm91cCAzPC90aXRsZT4KICAgIDxkZXNjPkNyZWF0ZWQgd2l0aCBTa2V0Y2guPC9kZXNjPgogICAgPGcgaWQ9IkxhbmRpbmciIHN0cm9rZT0ibm9uZSIgc3Ryb2tlLXdpZHRoPSIxIiBmaWxsPSJub25lIiBmaWxsLXJ1bGU9ImV2ZW5vZGQiPgogICAgICAgIDxnIGlkPSJBcnRib2FyZCIgdHJhbnNmb3JtPSJ0cmFuc2xhdGUoLTEyMzUuMDAwMDAwLCAtNzkuMDAwMDAwKSI+CiAgICAgICAgICAgIDxnIGlkPSJHcm91cC0zIiB0cmFuc2Zvcm09InRyYW5zbGF0ZSgxMjM1LjAwMDAwMCwgNzkuMDAwMDAwKSI+CiAgICAgICAgICAgICAgICA8cG9seWdvbiBpZD0iUGF0aC0yMCIgZmlsbD0iIzAyNjVCNCIgcG9pbnRzPSIyLjM3NjIzNzYyIDgwIDM4LjA0NzY2NjcgODAgNTcuODIxNzgyMiA3My44MDU3NTkyIDU3LjgyMTc4MjIgMzIuNzU5MjczOSAzOS4xNDAyMjc4IDMxLjY4MzE2ODMiPjwvcG9seWdvbj4KICAgICAgICAgICAgICAgIDxwYXRoIGQ9Ik0zNS4wMDc3MTgsODAgQzQyLjkwNjIwMDcsNzYuNDU0OTM1OCA0Ny41NjQ5MTY3LDcxLjU0MjI2NzEgNDguOTgzODY2LDY1LjI2MTk5MzkgQzUxLjExMjI4OTksNTUuODQxNTg0MiA0MS42NzcxNzk1LDQ5LjIxMjIyODQgMjUuNjIzOTg0Niw0OS4yMTIyMjg0IEMyNS40ODQ5Mjg5LDQ5LjEyNjg0NDggMjkuODI2MTI5Niw0My4yODM4MjQ4IDM4LjY0NzU4NjksMzEuNjgzMTY4MyBMNzIuODcxMjg3MSwzMi41NTQ0MjUgTDY1LjI4MDk3Myw2Ny42NzYzNDIxIEw1MS4xMTIyODk5LDc3LjM3NjE0NCBMMzUuMDA3NzE4LDgwIFoiIGlkPSJQYXRoLTIyIiBmaWxsPSIjMDAyODY4Ij48L3BhdGg+CiAgICAgICAgICAgICAgICA8cGF0aCBkPSJNMCwzNy43MzA0NDA1IEwyNy4xMTQ1MzcsMC4yNTcxMTE0MzYgQzYyLjM3MTUxMjMsLTEuOTkwNzE3MDEgODAsMTAuNTAwMzkyNyA4MCwzNy43MzA0NDA1IEM4MCw2NC45NjA0ODgyIDY0Ljc3NjUwMzgsNzkuMDUwMzQxNCAzNC4zMjk1MTEzLDgwIEM0Ny4wNTUzNDg5LDc3LjU2NzA4MDggNTMuNDE4MjY3Nyw3MC4zMTM2MTAzIDUzLjQxODI2NzcsNTguMjM5NTg4NSBDNTMuNDE4MjY3Nyw0MC4xMjg1NTU3IDM2LjMwMzk1NDQsMzcuNzMwNDQwNSAyNS4yMjc0MTcsMzcuNzMwNDQwNSBDMTcuODQzMDU4NiwzNy43MzA0NDA1IDkuNDMzOTE5NjYsMzcuNzMwNDQwNSAwLDM3LjczMDQ0MDUgWiIgaWQ9IlBhdGgtMTkiIGZpbGw9IiMzNzkzRUYiPjwvcGF0aD4KICAgICAgICAgICAgPC9nPgogICAgICAgIDwvZz4KICAgIDwvZz4KPC9zdmc+' > </img>\nCreated in <span style='font-weight:600;margin-left:4px;'>Deepnote</span></a>",
   "metadata": {
    "tags": [],
    "created_in_deepnote_cell": true,
    "deepnote_cell_type": "markdown"
   }
  }
 ],
 "nbformat": 4,
 "nbformat_minor": 2,
 "metadata": {
  "orig_nbformat": 2,
  "deepnote": {
   "is_reactive": false
  },
  "deepnote_notebook_id": "29d2e52a-570e-4dc9-8942-4c1ef71a3617",
  "deepnote_execution_queue": []
 }
}