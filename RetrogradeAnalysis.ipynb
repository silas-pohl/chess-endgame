{
 "cells": [
  {
   "cell_type": "code",
   "execution_count": 1,
   "metadata": {
    "cell_id": "80fafd6e-a1ad-47cd-b04b-16aa7cd8a972",
    "deepnote_app_coordinates": {
     "h": 5,
     "w": 12,
     "x": 0,
     "y": 0
    },
    "deepnote_cell_height": 153,
    "deepnote_cell_type": "code",
    "deepnote_output_heights": [
     2
    ],
    "deepnote_to_be_reexecuted": false,
    "execution_millis": 32,
    "execution_start": 1648288684415,
    "source_hash": "f2b9d08b",
    "tags": []
   },
   "outputs": [
    {
     "data": {
      "text/html": [
       "<link href='http://fonts.googleapis.com/css?family=Alegreya+Sans:100,300,400,500,700,800,900,100italic,300italic,400italic,500italic,700italic,800italic,900italic' rel='stylesheet' type='text/css'>\n",
       "<link href='http://fonts.googleapis.com/css?family=Arvo:400,700,400italic' rel='stylesheet' type='text/css'>\n",
       "<link href='http://fonts.googleapis.com/css?family=PT+Mono' rel='stylesheet' type='text/css'>\n",
       "<link href='http://fonts.googleapis.com/css?family=Shadows+Into+Light' rel='stylesheet' type='text/css'>\n",
       "<link href='http://fonts.googleapis.com/css?family=Philosopher:400,700,400italic,700italic' rel='stylesheet' type='text/css'>\n",
       "\n",
       "<style>\n",
       "\n",
       "@font-face {\n",
       "    font-family: \"Computer Modern\";\n",
       "    src: url('http://mirrors.ctan.org/fonts/cm-unicode/fonts/otf/cmunss.otf');\n",
       "}\n",
       "\n",
       ".container { width: 100% }\n",
       "\n",
       "/* Formatting for header cells */\n",
       ".text_cell_render h1 {\n",
       "    font-family: 'Philosopher', sans-serif;\n",
       "    font-weight: 400;\n",
       "    font-size: 2.2em;\n",
       "    line-height: 100%;\n",
       "    color: rgb(0, 80, 120);\n",
       "    margin-bottom: 0.1em;\n",
       "    margin-top: 0.1em;\n",
       "    display: block;\n",
       "}\t\n",
       ".text_cell_render h2 {\n",
       "    font-family: 'Philosopher', serif;\n",
       "    font-weight: 400;\n",
       "    font-size: 1.9em;\n",
       "    line-height: 100%;\n",
       "    color: rgb(200,100,0);\n",
       "    margin-bottom: 0.1em;\n",
       "    margin-top: 0.1em;\n",
       "    display: block;\n",
       "}\t\n",
       "\n",
       ".text_cell_render h3 {\n",
       "    font-family: 'Philosopher', serif;\n",
       "    margin-top:12px;\n",
       "    margin-bottom: 3px;\n",
       "    font-style: italic;\n",
       "    color: rgb(94,127,192);\n",
       "}\n",
       "\n",
       ".text_cell_render h4 {\n",
       "    font-family: 'Philosopher', serif;\n",
       "}\n",
       "\n",
       ".text_cell_render h5 {\n",
       "    font-family: 'Alegreya Sans', sans-serif;\n",
       "    font-weight: 300;\n",
       "    font-size: 16pt;\n",
       "    color: grey;\n",
       "    font-style: italic;\n",
       "    margin-bottom: .1em;\n",
       "    margin-top: 0.1em;\n",
       "    display: block;\n",
       "}\n",
       "\n",
       ".text_cell_render h6 {\n",
       "    font-family: 'PT Mono', sans-serif;\n",
       "    font-weight: 300;\n",
       "    font-size: 10pt;\n",
       "    color: grey;\n",
       "    margin-bottom: 1px;\n",
       "    margin-top: 1px;\n",
       "}\n",
       "\n",
       ".text_cell_render em {\n",
       "    font-family: 'Philosopher', sans-serif;\n",
       "    color:        blue;\n",
       "    background-color: rgb(255,220,180);\n",
       "    font-size:    110%;\n",
       "    margin-left:   2px;\n",
       "    margin-right:  2px;\n",
       "    font-weight:   100;\n",
       "}\n",
       "\n",
       ".text_cell_render b {\n",
       "    color:            rgb(255,195,195);\n",
       "    background-color: rgb(0,0,0);\n",
       "    font-size:    110%;\n",
       "    margin-left:   2px;\n",
       "    margin-right:  2px;\n",
       "    font-weight:   650;\n",
       "}\n",
       "\n",
       ".text_cell_render tt {\n",
       "    font-size:    120%;\n",
       "    margin-left:   2px;\n",
       "    margin-right:  2px;\n",
       "    font-weight:   150;\n",
       "}\n",
       "\n",
       ".Codemirror {\n",
       "    font-family: \"PT Mono\";\n",
       "    font-size: 100%;\n",
       "}\n",
       "\n",
       "</style>\n",
       "\n"
      ],
      "text/plain": [
       "<IPython.core.display.HTML object>"
      ]
     },
     "execution_count": 1,
     "metadata": {},
     "output_type": "execute_result"
    }
   ],
   "source": [
    "from IPython.core.display import HTML\n",
    "with open('./style.css') as f:\n",
    "    css = f.read()\n",
    "HTML(css)"
   ]
  },
  {
   "cell_type": "markdown",
   "metadata": {
    "cell_id": "bd961712-23b7-4bd8-8ff9-5d8eb03f262e",
    "deepnote_cell_height": 82,
    "deepnote_cell_type": "markdown",
    "tags": []
   },
   "source": [
    "# Prerequisites"
   ]
  },
  {
   "cell_type": "code",
   "execution_count": 26,
   "metadata": {
    "cell_id": "85fe591e-8f29-49d1-a7ec-08cf5eb82a31",
    "deepnote_cell_height": 225,
    "deepnote_cell_type": "code",
    "deepnote_to_be_reexecuted": false,
    "execution_millis": 293,
    "execution_start": 1648288686407,
    "output_cleared": false,
    "source_hash": "4096d7b4",
    "tags": []
   },
   "outputs": [
    {
     "ename": "ModuleNotFoundError",
     "evalue": "No module named 'chess'",
     "output_type": "error",
     "traceback": [
      "\u001b[0;31m---------------------------------------------------------------------------\u001b[0m",
      "\u001b[0;31mModuleNotFoundError\u001b[0m                       Traceback (most recent call last)",
      "\u001b[0;32m/var/folders/1k/gwwljs5d0z388pskzm4mv2fc0000gn/T/ipykernel_23165/3002545215.py\u001b[0m in \u001b[0;36m<module>\u001b[0;34m\u001b[0m\n\u001b[0;32m----> 1\u001b[0;31m \u001b[0;32mimport\u001b[0m \u001b[0mchess\u001b[0m                                       \u001b[0;31m# Simulate the chess game\u001b[0m\u001b[0;34m\u001b[0m\u001b[0;34m\u001b[0m\u001b[0m\n\u001b[0m\u001b[1;32m      2\u001b[0m \u001b[0;32mfrom\u001b[0m \u001b[0mIPython\u001b[0m\u001b[0;34m.\u001b[0m\u001b[0mdisplay\u001b[0m \u001b[0;32mimport\u001b[0m \u001b[0mdisplay\u001b[0m\u001b[0;34m,\u001b[0m \u001b[0mclear_output\u001b[0m  \u001b[0;31m# Better visualization and display of the chess board\u001b[0m\u001b[0;34m\u001b[0m\u001b[0;34m\u001b[0m\u001b[0m\n\u001b[1;32m      3\u001b[0m \u001b[0;32mimport\u001b[0m \u001b[0mrandom\u001b[0m                                      \u001b[0;31m# Random moves and random creation of endgame positions\u001b[0m\u001b[0;34m\u001b[0m\u001b[0;34m\u001b[0m\u001b[0m\n\u001b[1;32m      4\u001b[0m \u001b[0;32mimport\u001b[0m \u001b[0mpickle\u001b[0m\u001b[0;34m\u001b[0m\u001b[0;34m\u001b[0m\u001b[0m\n\u001b[1;32m      5\u001b[0m \u001b[0;32mimport\u001b[0m \u001b[0mos\u001b[0m\u001b[0;34m.\u001b[0m\u001b[0mpath\u001b[0m\u001b[0;34m\u001b[0m\u001b[0;34m\u001b[0m\u001b[0m\n",
      "\u001b[0;31mModuleNotFoundError\u001b[0m: No module named 'chess'"
     ]
    }
   ],
   "source": [
    "import chess                                       # Simulate the chess game\n",
    "from IPython.display import display, clear_output  # Better visualization and display of the chess board\n",
    "import random                                      # Random moves and random creation of endgame positions\n",
    "import pickle\n",
    "import os.path"
   ]
  },
  {
   "cell_type": "code",
   "execution_count": 2,
   "metadata": {},
   "outputs": [
    {
     "ename": "IndentationError",
     "evalue": "expected an indented block (2732712889.py, line 5)",
     "output_type": "error",
     "traceback": [
      "\u001b[0;36m  File \u001b[0;32m\"/var/folders/1k/gwwljs5d0z388pskzm4mv2fc0000gn/T/ipykernel_45575/2732712889.py\"\u001b[0;36m, line \u001b[0;32m5\u001b[0m\n\u001b[0;31m    def is_checkmate(b):\u001b[0m\n\u001b[0m                        ^\u001b[0m\n\u001b[0;31mIndentationError\u001b[0m\u001b[0;31m:\u001b[0m expected an indented block\n"
     ]
    }
   ],
   "source": [
    "DIRECTORIES = {\n",
    "    'S_SETS': 's_sets',\n",
    "    'TABLEBASES': 'tables'\n",
    "}"
   ]
  },
  {
   "cell_type": "markdown",
   "metadata": {
    "cell_id": "dac8d6bb-c5ea-40ad-aac1-c551489d774c",
    "deepnote_cell_height": 469.96875,
    "deepnote_cell_type": "markdown",
    "tags": []
   },
   "source": [
    "## Prerequisites\n",
    "First we need a further definition which we will use in our algorithm. The function\n",
    "$next\\_states: BOARD \\Rightarrow 2^{BOARD} \\\\ $ will give us all possible boards which can be reached in only one half-move on a given board.\n",
    "\n",
    "\n",
    "## Retrograde Analysis in Theory\n",
    "Then we can begin to specify Retrograde Analysis. We will look at only a given endgame $E \\in ENDGAME$ for which we hope to generate a tablebase. The goal is to determine a value $n$ for each chess board $b \\in E$, which holds the number of half-moves needed to checkmate the opponent. That way we can always choose the move leading to a lower value of $n$, bringing the game closer to a checkmate. To assign the value, we will start at $n=0$, which is checkmate, and then move backwards, exploring all possible moves one by one, while incrementing $n$. If successfull, a great number of possible boards can directly lead to a checkmate. \n",
    "\n",
    "To do this we will sort the representations of all possible boards $b \\in E$ into a series of sets $(S_n)_{k} \\bigcup S$ where k is the maximum value of half-moves needed to force a checkmate for the specific endgame. We will develop the series of sets as follows:\n",
    "\n",
    "1. We will calculate all possible boards for an endgame $E$ and place them into the set $S$:\n",
    "    $S := \\{ b | b \\in E\\}$\n",
    "2. Next, we will search for all boards in which the player to move is checkmate. These will be inserted into $S_0$ and removed from $S$.\n",
    "    $S_0 := \\{ b | b \\in S \\land is\\_checkmate(b)\\} \\\\ $ \n",
    "    $ S = S \\diagdown S_0 $\n",
    "    $ \\\\ $\n",
    "    These boards can be interpreted as target states, in which the losing player will be forced into.\n",
    "3. Then we can create all sets $S_n$ where $n$ is odd. These will hold all boards in which the player to move wins after at most $n$ half-moves (if played optimally).\n",
    "    $ S_{2k+1} := \\{ b_1 | b_1 \\in S \\land \\exists b_2 \\in S_{2k}:(b_2 \\in next\\_states(b_1)) \\} \\text{   with } k \\in \\mathbb{N}_0 \\\\ $\n",
    "    $ S = S \\diagdown S_{2k+1} $\n",
    "    $ \\\\ $\n",
    "    The set $S_1$ contains all boards in which the player to move has at least one move which leads into $S_0$. Therefore this is the winners last move. Trivially, all sets $S_n$ where $n$ is odd, will contain boards where its the winners turn to move. Therefore we only need to find a single move leading into $S_{n-1}$ which the player can choose.\n",
    "4. The sets $S_n$ where $n$ is even hold all boards in which the player to move will lose after at most $n$ half-moves (if his opponent plays optimally).\n",
    "    $ S_{2k} := \\{ b_1 | b_1 \\in S \\land \\forall b_2 \\in S_{2j+1}:(b_2 \\in next\\_states(b_1)\\} \\text{   with } k,j \\in \\mathbb{N} \\text{ and } j < k \\\\ $\n",
    "    $ S = S \\diagdown S_{2k}$\n",
    "    $ \\\\$ \n",
    "    The sets $S_n$ with $n$ even, will hold boards in which the loser is to move. In order to force a checkmate upon him, all his available moves must lead into a set $S_k$ where $k < n$ and $k$ odd.\n",
    "5. The proposed algorithm will continue to develop the next set according to the specifications until a set is found to be empty. \n",
    "\n",
    "### Interpreting the Results\n",
    "Once the algorithm has terminated we have created a series of sets $(S_n)_n \\bigcup S$. We can then redefine the depth-to-mate (DTM) according to our calculations for the Endgame. \n",
    "1. $ \\forall r \\in S_k:(|DTM(r)| = k)$. A victory can be forced in at most $k$ half-moves.\n",
    "2. $ \\forall r \\in S:(DTM(r) = 0)$. In this case none of the players can force a victory by playing optimally. If the board is already checkmate or stalemate, we also assign a DTM value of zero.\n",
    "\n",
    "## Board representation\n",
    "In order to build a large tablebase capable of storing hundreds of thousands of possible board positions, it is important to choose an effective representation of a board to store. At first, one possibility might be to store the board using the FEN-string notation, however, strings use a large amount of memory. Encoding a single board in a smaller datatype, makes it possible for us to do computations with larger datasets in memory. Therefore we shall store our information of a Board within a single integer, which in Python amounts to 28 bytes of memory. \n",
    "\n",
    "**<mark>Definition (Representation)</mark>**\n",
    "\n",
    "The function \n",
    "\n",
    "$$ \\text{board_to_int}: Board \\times \\text{piece_string} \\Rightarrow Integer $$ converts a board into its <span style=\"color:blue\">Representation</span>. \n",
    "\n",
    "It is bijective with its inverse function $ int\\_to\\_board: Integer \\times piece\\_string \\Rightarrow Board $.\n",
    "\n",
    "### Implementations\n",
    "\n",
    "When implementing the functions, the basic idea is to assign a byte within a python bytearray to each piece on the board. The value held by the byte is the position of the piece, where each field on the board is given an value between 0 and 63. The <b><code>piece_map</code></b> method within python-chess returns a dictionary containing each piece and its field. We shall use this dictionary to iterate over the chess pieces and assign the bytes. If a piece has been captured the corresponding byte will be set to <b>0xff</b>. The last byte will hold the turn information, which is stored as well as either one or zero. Finally, the resulting bytearray is encoded as a single integer and returned. "
   ]
  },
  {
   "cell_type": "code",
   "execution_count": 12,
   "metadata": {
    "cell_id": "b7870d55-4d60-4182-850d-4dc9de55cb21",
    "deepnote_cell_height": 279,
    "deepnote_cell_type": "code",
    "deepnote_to_be_reexecuted": false,
    "execution_millis": 7,
    "execution_start": 1648288687587,
    "source_hash": "e4cf4711",
    "tags": []
   },
   "outputs": [],
   "source": [
    "def board_to_int(board, piece_str):\n",
    "    piece_map = board.piece_map()\n",
    "    representation = bytearray(len(piece_str) + 1)\n",
    "    for i, piece_symbol in enumerate(piece_str):\n",
    "        position_list = [pos for pos, piece in piece_map.items() if piece == chess.Piece.from_symbol(piece_symbol)]\n",
    "        if not position_list: \n",
    "            representation[i] = 0xFF\n",
    "        else:\n",
    "            piece_map.pop(position_list[0])\n",
    "            representation[i] = position_list[0]\n",
    "    representation[-1] = board.turn\n",
    "    return int.from_bytes(representation, 'little')"
   ]
  },
  {
   "cell_type": "markdown",
   "metadata": {
    "cell_id": "b3f3a1ce-023d-44a0-b18b-c0870dfb3831",
    "deepnote_cell_height": 122.796875,
    "deepnote_cell_type": "markdown",
    "tags": []
   },
   "source": [
    "<h3>Decoding</h3>\n",
    "<div style=\"text-align: justify\">\n",
    "Similarly, to decode an integer, the bytearray is transformed back into a piece mapping. The resulting dictionary is used to initialize a new chess board, which is returned. \n",
    "</div>"
   ]
  },
  {
   "cell_type": "code",
   "execution_count": 13,
   "metadata": {
    "cell_id": "370303e5-8472-4924-9b20-2b0343909871",
    "deepnote_cell_height": 243,
    "deepnote_cell_type": "code",
    "deepnote_to_be_reexecuted": false,
    "execution_millis": 22,
    "execution_start": 1648288688916,
    "source_hash": "bc0edeb4",
    "tags": []
   },
   "outputs": [],
   "source": [
    "def int_to_board(representation, piece_str):\n",
    "    board = chess.Board(None)\n",
    "    byte_representation = representation.to_bytes(len(piece_str)+1, \"little\")\n",
    "    mapping = dict(zip(byte_representation[:-1], [chess.Piece.from_symbol(piece_symbol) for piece_symbol in piece_str]))\n",
    "    for pos in mapping.keys():\n",
    "        if pos == 0xFF: mapping.pop(pos)\n",
    "    board.set_piece_map(mapping)\n",
    "    board.turn = byte_representation[-1]\n",
    "    return board"
   ]
  },
  {
   "cell_type": "markdown",
   "metadata": {
    "cell_id": "679d2c46-76db-447d-bd5f-46c1d06bbe03",
    "deepnote_cell_height": 74.796875,
    "deepnote_cell_type": "markdown",
    "tags": []
   },
   "source": [
    "To demonstrate this, we will:\n",
    "1. create a board from a given FEN string \n",
    "2. encode it as an integer\n",
    "3. decode it back into a board and then \n",
    "4. read out the FEN string."
   ]
  },
  {
   "cell_type": "code",
   "execution_count": 14,
   "metadata": {
    "cell_id": "224c743f-90e5-4182-a753-3462c81f5cc3",
    "deepnote_cell_height": 221.390625,
    "deepnote_cell_type": "code",
    "deepnote_to_be_reexecuted": false,
    "execution_millis": 37,
    "execution_start": 1648288690579,
    "source_hash": "5fc9f0d8",
    "tags": []
   },
   "outputs": [
    {
     "ename": "NameError",
     "evalue": "name 'chess' is not defined",
     "output_type": "error",
     "traceback": [
      "\u001b[0;31m---------------------------------------------------------------------------\u001b[0m",
      "\u001b[0;31mNameError\u001b[0m                                 Traceback (most recent call last)",
      "\u001b[0;32m/var/folders/1k/gwwljs5d0z388pskzm4mv2fc0000gn/T/ipykernel_23165/2022985633.py\u001b[0m in \u001b[0;36m<module>\u001b[0;34m\u001b[0m\n\u001b[1;32m      1\u001b[0m \u001b[0mfen\u001b[0m \u001b[0;34m=\u001b[0m \u001b[0;34m'3K4/8/4k3/8/8/8/8/2r5 b - - 0 1'\u001b[0m\u001b[0;34m\u001b[0m\u001b[0;34m\u001b[0m\u001b[0m\n\u001b[0;32m----> 2\u001b[0;31m \u001b[0mboard\u001b[0m \u001b[0;34m=\u001b[0m \u001b[0mchess\u001b[0m\u001b[0;34m.\u001b[0m\u001b[0mBoard\u001b[0m\u001b[0;34m(\u001b[0m\u001b[0mfen\u001b[0m\u001b[0;34m)\u001b[0m\u001b[0;34m\u001b[0m\u001b[0;34m\u001b[0m\u001b[0m\n\u001b[0m\u001b[1;32m      3\u001b[0m \u001b[0mrepresentation\u001b[0m \u001b[0;34m=\u001b[0m \u001b[0mboard_to_int\u001b[0m\u001b[0;34m(\u001b[0m\u001b[0mboard\u001b[0m\u001b[0;34m,\u001b[0m \u001b[0;34m'Kkr'\u001b[0m\u001b[0;34m)\u001b[0m\u001b[0;34m\u001b[0m\u001b[0;34m\u001b[0m\u001b[0m\n\u001b[1;32m      4\u001b[0m \u001b[0mnew_board\u001b[0m \u001b[0;34m=\u001b[0m \u001b[0mint_to_board\u001b[0m\u001b[0;34m(\u001b[0m\u001b[0mrepresentation\u001b[0m\u001b[0;34m,\u001b[0m \u001b[0;34m'Kkr'\u001b[0m\u001b[0;34m)\u001b[0m\u001b[0;34m\u001b[0m\u001b[0;34m\u001b[0m\u001b[0m\n\u001b[1;32m      5\u001b[0m \u001b[0mprint\u001b[0m\u001b[0;34m(\u001b[0m\u001b[0;34mf\"FEN to INT: '{fen}' -> {representation}\"\u001b[0m\u001b[0;34m)\u001b[0m\u001b[0;34m\u001b[0m\u001b[0;34m\u001b[0m\u001b[0m\n",
      "\u001b[0;31mNameError\u001b[0m: name 'chess' is not defined"
     ]
    }
   ],
   "source": [
    "fen = '3K4/8/4k3/8/8/8/8/2r5 b - - 0 1'\n",
    "board = chess.Board(fen)\n",
    "representation = board_to_int(board, 'Kkr')\n",
    "new_board = int_to_board(representation, 'Kkr')\n",
    "print(f\"FEN to INT: '{fen}' -> {representation}\")\n",
    "print(f\"INT to FEN: {representation} -> '{new_board.fen()}'\")"
   ]
  },
  {
   "cell_type": "markdown",
   "metadata": {
    "cell_id": "550b9be6-4a2f-4146-bec5-c1f463132545",
    "deepnote_cell_height": 268.390625,
    "deepnote_cell_type": "markdown",
    "tags": []
   },
   "source": [
    "# The Algorithm\n",
    "\n",
    "## 1. Calculating All Possible Permutations\n",
    "Initially we have to calculate a set $S$ containing all boards for a given endgame $E$. We use the notation $S^P$ for the set $S$ of the endgame with piece_string $P$ (Ex: $S^{Kkr}$). For efficiency we want to be able to save $S$ for a given endgame to disk and load it back into memory if it is needed. So we will first define two auxiliary functions:\n",
    "1. $save\\_s: PIECE\\_STRING \\times 2^E \\Rightarrow None$ will save the set $S$ as a binary file using the pickle module. \n",
    "2. $load\\_s: PIECE\\_STRING \\Rightarrow 2^E \\bigcup \\varnothing$ will attempt to load the set $S$ from a binary file. If it fails it will return an empty set."
   ]
  },
  {
   "cell_type": "code",
   "execution_count": 15,
   "metadata": {},
   "outputs": [],
   "source": [
    "def save_s(piece_str, s):\n",
    "    path = f'./{DIRECTORIES[\"S_SETS\"]}/{piece_str}'\n",
    "    with open(path, 'wb') as f:\n",
    "        pickle.dump(s, f)"
   ]
  },
  {
   "cell_type": "code",
   "execution_count": 16,
   "metadata": {},
   "outputs": [],
   "source": [
    "def load_s(piece_str):\n",
    "    path = f'./{DIRECTORIES[\"S_SETS\"]}/{piece_str}'\n",
    "    if os.path.exists(path):\n",
    "        with open(path, 'rb') as f:\n",
    "            print(f\"Loading s from {path}\")\n",
    "            return pickle.load(f)\n",
    "    return set()"
   ]
  },
  {
   "cell_type": "markdown",
   "metadata": {},
   "source": [
    "Furthermore, an endgame can be either 3-man or 4-man. Since a piece may also be taken during the game, the set $S$ of a 4-man endgame does also contain all boards of a set $S$ of a 3-man endgame if the three pieces are part of the 4-man piece_string. \n",
    "For example $S^{KBNk}$ also contains the boards of both $S^{KBk}$ and $S^{KNk}$. Therefore we shall define a function \n",
    "$ split\\_into\\_substrings: piece\\_string \\Rightarrow 2^{piece\\_string} \\\\ $\n",
    "which tells us which other sets we have to calculate as well. "
   ]
  },
  {
   "cell_type": "code",
   "execution_count": 17,
   "metadata": {},
   "outputs": [],
   "source": [
    "def split_into_substrs(piece_str):\n",
    "    substrings = {piece_str}\n",
    "    if len(piece_str) == 4:\n",
    "        non_king_pieces = piece_str.replace('K', '').replace('k', '')\n",
    "        for p in non_king_pieces:\n",
    "            substrings.add(piece_str.replace(p, '', 1))\n",
    "    return substrings"
   ]
  },
  {
   "cell_type": "markdown",
   "metadata": {},
   "source": [
    "To demonstrate this, we want to list the substrings of the following endgame piece_strings:"
   ]
  },
  {
   "cell_type": "code",
   "execution_count": 18,
   "metadata": {},
   "outputs": [
    {
     "name": "stdout",
     "output_type": "stream",
     "text": [
      "KRk  => {'KRk'}\n",
      "KQk  => {'KQk'}\n",
      "KBBk => {'KBBk', 'KBk'}\n",
      "KNNk => {'KNNk', 'KNk'}\n",
      "KBNk => {'KNk', 'KBk', 'KBNk'}\n",
      "KQkr => {'Kkr', 'KQk', 'KQkr'}\n",
      "Kkr  => {'Kkr'}\n",
      "Kkq  => {'Kkq'}\n",
      "Kkbb => {'Kkbb', 'Kkb'}\n",
      "Kknn => {'Kkn', 'Kknn'}\n",
      "Kkbn => {'Kkn', 'Kkb', 'Kkbn'}\n",
      "KRkq => {'KRkq', 'KRk', 'Kkq'}\n"
     ]
    }
   ],
   "source": [
    "endgames = ['KRk', 'KQk', 'KBBk', 'KNNk', 'KBNk', 'KQkr', 'Kkr', 'Kkq', 'Kkbb', 'Kknn', 'Kkbn', 'KRkq']\n",
    "for e in endgames:\n",
    "    print(\"{:^4} => {}\".format(e, str(split_into_substrs(e))))"
   ]
  },
  {
   "cell_type": "markdown",
   "metadata": {},
   "source": [
    "We will now go on to generate all boards for a given substring of the piece_string. In order to count through all possible positions for the pieces on the board, we will implement a simple helper function $shift\\_positions$ which will receive a list through which it counts by incrementing one."
   ]
  },
  {
   "cell_type": "code",
   "execution_count": 19,
   "metadata": {
    "cell_id": "64f36e06-8aea-4928-8bfe-9c9c1b61b112",
    "deepnote_cell_height": 225,
    "deepnote_cell_type": "code",
    "deepnote_to_be_reexecuted": false,
    "execution_millis": 6,
    "execution_start": 1648288696620,
    "source_hash": "e033abf3",
    "tags": []
   },
   "outputs": [],
   "source": [
    "def shift_positions(positions):\n",
    "    for i, pos in enumerate(positions[::-1]):\n",
    "        if pos == 63: \n",
    "            positions[-(i+1)] = 0\n",
    "            continue\n",
    "        else:\n",
    "            positions[-(i+1)] += 1\n",
    "            break\n",
    "    return positions"
   ]
  },
  {
   "cell_type": "markdown",
   "metadata": {},
   "source": [
    "We then define $ generate\\_sub\\_s: PIECE\\_STRING \\Rightarrow 2^E \\\\ $\n",
    "First we have to check if we already calculated the relevant set, and if so we can load it from the disk. If not, we proceed with the calculations. The algorithm iterates over each turn, (black and white) and further iterates over all permutations of field positions. Each permutation is mapped onto the piece_string and loaded onto a board. Next, we must check if it is a valid board using the $is\\_valid$ method of the chess library. If so, we can encode the board as an int and add it to the set $S$. \n",
    "\n",
    "<b>Remark:</b> Within this function we included print statements showing the current progress as the generation process may take several minutes. This has been done for several of the following functions as well."
   ]
  },
  {
   "cell_type": "code",
   "execution_count": 20,
   "metadata": {
    "cell_id": "18d9cd75-1bd8-406d-a8a8-317e46b6dc55",
    "deepnote_cell_height": 52.390625,
    "deepnote_cell_type": "markdown",
    "tags": []
   },
   "outputs": [],
   "source": [
    "def generate_sub_s(piece_str):\n",
    "    \n",
    "    print(f\"[+] Generating {piece_str}\")\n",
    "    \n",
    "    sub_s = load_s_if_exists(piece_str)\n",
    "    \n",
    "    if sub_s == set():\n",
    "        board = chess.Board(None)\n",
    "        for turn in [chess.WHITE, chess.BLACK]:\n",
    "            board.turn = turn\n",
    "            positions = [0] * len(piece_str)\n",
    "            while positions != [63] * len(piece_str):\n",
    "                if positions[-1] == 63 and positions[-2] == 63:\n",
    "                    print(\"\\r\", end=\"\")\n",
    "                    print(f\"{positions} -> {int(100/126*(positions[0] if turn == chess.WHITE else positions[0]+63))}%\", end=\"\")\n",
    "\n",
    "                mapping = dict(zip(positions, [chess.Piece.from_symbol(piece) for piece in piece_str]))\n",
    "                board.set_piece_map(mapping)\n",
    "                if board.is_valid() and len(set(positions)) == len(piece_str):\n",
    "                    sub_s.add(board_to_int(board, piece_str))\n",
    "                positions = shift_positions(positions)\n",
    "                board.clear_board()\n",
    "    \n",
    "        if len(piece_str) == 3:\n",
    "            save_s(piece_str, sub_s)\n",
    "                \n",
    "    return sub_s"
   ]
  },
  {
   "cell_type": "markdown",
   "metadata": {
    "cell_id": "2526f7de-b68a-40df-b31c-3e5217fb6d92",
    "deepnote_cell_height": 186.78125,
    "deepnote_cell_type": "markdown",
    "tags": []
   },
   "source": [
    "However, if the piece_string has a length of 4 we must also calculate the sets $S$ for the substrings of the piece_string and add them. $ generate\\_s: PIECE\\_STRING \\Rightarrow 2^E \\\\ $ Putting it all together, this function finds the substrings of the Piece_String, calculates $S$ for each of them, saves the union of those sets to disk $S$ and returns it."
   ]
  },
  {
   "cell_type": "code",
   "execution_count": 8,
   "metadata": {},
   "outputs": [],
   "source": [
    "def generate_s(piece_str):\n",
    "    s = load_s(piece_str)\n",
    "    if s == set():\n",
    "        substrs = split_into_substrs(piece_str)\n",
    "        print(f\"{piece_str} needs the following substrs: {substrs}\")\n",
    "        for substr in substrs:\n",
    "            s.union(generate_sub_s(substr))\n",
    "        if len(piece_str) == 4:\n",
    "            save_s(piece_str, s)\n",
    "    return s"
   ]
  },
  {
   "cell_type": "markdown",
   "metadata": {
    "cell_id": "7f29e133-341f-4411-8922-a3c67f3b2474",
    "deepnote_cell_height": 145.1875,
    "deepnote_cell_type": "markdown",
    "tags": []
   },
   "source": [
    "## 2. Calculating All Mate Positions\n",
    "The next step is to calculate all boards within $S$, where the player to move is checkmate. These positions will be stored in the set $S_0$ and subtracted from $S$. We implement the function:\n",
    "$generate\\_mate\\_positions: 2^E \\times Piece\\_String \\Rightarrow 2^S \\times 2^S \\\\ $\n",
    "The function takes the $S$ set and the $Piece\\_String$ and returns the new $S$ and the generated $S_0$. Its implementation relies on the $is\\_checkmate$ method of the chess library. \n"
   ]
  },
  {
   "cell_type": "code",
   "execution_count": 28,
   "metadata": {
    "cell_id": "edcf6441-76a1-4fed-9b66-439abe425154",
    "deepnote_cell_height": 243,
    "deepnote_cell_type": "code",
    "deepnote_to_be_reexecuted": false,
    "execution_millis": 1,
    "execution_start": 1648288763590,
    "output_cleared": true,
    "source_hash": "4cb36841",
    "tags": []
   },
   "outputs": [],
   "source": [
    "def generate_mate_positions(s, piece_str):\n",
    "    s_0 = set()\n",
    "    for i, representation in enumerate(s):\n",
    "        if i%1000 == 0: \n",
    "            print(\"\\r\", end=\"\")\n",
    "            print(f\"{i}/{len(s)} -> {int((i/len(s))*100)}%\", end=\"\")\n",
    "        if int_to_board(representation, piece_str).is_checkmate():\n",
    "            s_0.add(representation)  \n",
    "    s = set(s) - s_0\n",
    "    return s, s_0"
   ]
  },
  {
   "cell_type": "markdown",
   "metadata": {
    "cell_id": "0cb83aa5-e573-4bd6-b05f-637bc4f2a305",
    "deepnote_cell_height": 402.78125,
    "deepnote_cell_type": "markdown",
    "tags": []
   },
   "source": [
    "## 3. Generating $S_n$ where $n$ is odd\n",
    "In order to generate the sets with an odd $n$, we have to implement the specification\n",
    "$ S_{2k+1} := \\{ b_1 | b_1 \\in S \\land \\exists b_2 \\in S_{2k}:(b_2 \\in next\\_states(b_1)) \\} \\text{   with } k \\in \\mathbb{N}_0 \\\\ $\n",
    "We define the function $generate\\_s\\_odd : 2^S \\times 2^S \\times Piece\\_String \\Rightarrow 2^S \\times 2^S \\\\ $\n",
    "which takes \n",
    "1. The current $S$\n",
    "2. The previously calculated set $S_{n-1}$\n",
    "3. A $Piece\\_String$. \n",
    "\n",
    "For purpose of efficiency, the implementation does not rely on a $next\\_states$ function. Instead while iterating through $S$, the next legal move of each board is queried and applied using the chess library. Once a resulting board is found in $S_{n-1}$ as well, it is added to $S_n$. Finally, we can subtract $S_n$ from $S$ and return both."
   ]
  },
  {
   "cell_type": "code",
   "execution_count": 22,
   "metadata": {
    "cell_id": "376ebcf7-113a-4bc4-89f6-c02538889b83",
    "deepnote_cell_height": 459,
    "deepnote_cell_type": "code",
    "deepnote_to_be_reexecuted": false,
    "execution_millis": 8,
    "execution_start": 1645273659651,
    "source_hash": "65c67731",
    "tags": []
   },
   "outputs": [],
   "source": [
    "def generate_s_odd(s, s_prev, piece_str):\n",
    "    s_next = set()\n",
    "    \n",
    "    for i, representation in enumerate(s):\n",
    "\n",
    "        if i%1000 == 0: \n",
    "            print(\"\\r\", end=\"\")\n",
    "            print(f\"{i}/{len(s)} -> {int((i/len(s))*100)}%\", end=\"\")\n",
    "        \n",
    "        board = int_to_board(representation, piece_str)\n",
    "        for move in board.legal_moves:\n",
    "            board.push(move)\n",
    "\n",
    "            if board_to_int(board, piece_str) in s_prev:\n",
    "                board.pop()\n",
    "                s_next.add(board_to_int(board, piece_str))\n",
    "                break\n",
    "\n",
    "            board.pop()\n",
    "\n",
    "    s = s - s_next\n",
    "    return s, s_next"
   ]
  },
  {
   "cell_type": "markdown",
   "metadata": {
    "cell_id": "5f53576f-b233-4715-b4b9-27c30ff765dd",
    "deepnote_cell_height": 414.578125,
    "deepnote_cell_type": "markdown",
    "tags": []
   },
   "source": [
    "## 4. Generating $S_n$ where $n$ is even\n",
    "The next function follows a similar specification. This time however it is the losers turn. Therefore we must ensure that all possible moves lead into a state closer to checkmate, before adding the board to our next $S_n$.\n",
    "$ S_{2k} := \\{ b_1 | b_1 \\in S \\land \\forall b_2 \\in S_{2j+1}:(b_2 \\in next\\_states(b_1)\\} \\text{   with } k,j \\in \\mathbb{N} \\text{ and } j < k \\\\ $\n",
    "$ S = S \\diagdown S_{2k}$\n",
    "\n",
    "We define a function \n",
    "$generate\\_s\\_even : 2^S \\times (2^S)^{k-1} \\times Piece\\_String \\Rightarrow 2^S \\times 2^S \\\\ $ \n",
    "which takes \n",
    "1. The current $S$ \n",
    "2. A list of previously calculated sets $S_{n}$ with $n$ odd and $n < 2k$\n",
    "3. A $Piece\\_String$.\n",
    "\n",
    "Similarly to above, we shall iterate through $S$, calculating the next boards for each board, by applying all legal moves. Then, only if all resulting boards lead into a board within $S_{2j+1}$ with $j < k$ the original board will be added to $S_{2k}$ which will become the next $S_n$.\n",
    "\n",
    "In addition, we have to check that we do not end in a stalemate, where the player has no legal moves left. \n",
    "\n",
    "Lastly, we will once again subtract $S_n$ from $S$."
   ]
  },
  {
   "cell_type": "code",
   "execution_count": 23,
   "metadata": {
    "cell_id": "4ac7e552-5617-4011-a31b-027cdf8a0674",
    "deepnote_cell_height": 585,
    "deepnote_cell_type": "code",
    "deepnote_to_be_reexecuted": false,
    "execution_millis": 4,
    "execution_start": 1645273661158,
    "source_hash": "c9f40727",
    "tags": []
   },
   "outputs": [],
   "source": [
    "def generate_s_even(s, l_odd, piece_str):\n",
    "    s_next = set()\n",
    "\n",
    "    for i, representation in enumerate(s):\n",
    "\n",
    "        if i%1000 == 0: \n",
    "            print(\"\\r\", end=\"\")\n",
    "            print(f\"{i}/{len(s)} -> {int((i/len(s))*100)}%\", end=\"\")\n",
    "\n",
    "        board = int_to_board(representation, piece_str)\n",
    "        legal_moves = board.legal_moves\n",
    "        \n",
    "        \n",
    "        fail = not legal_moves #no legal moves for stalemate position\n",
    "        \n",
    "        for move in legal_moves:\n",
    "            board.push(move)\n",
    "\n",
    "            if not any(board_to_int(board, piece_str) in s_odd for s_odd in l_odd):\n",
    "                fail = True\n",
    "                break\n",
    "\n",
    "            board.pop()\n",
    "        \n",
    "        if not fail:\n",
    "            s_next.add(board_to_int(board, piece_str))\n",
    "\n",
    "    s = s - s_next\n",
    "    return s, s_next"
   ]
  },
  {
   "cell_type": "markdown",
   "metadata": {
    "cell_id": "67b6cc1ea003455cbf173b03e087e371",
    "deepnote_cell_height": 436.96875,
    "deepnote_cell_type": "markdown",
    "tags": []
   },
   "source": [
    "## 5. Constructing the Main Algorithm\n",
    "\n",
    "Before we can implement the main routine, we shall define a function to call at the very end once we finished calculating all sets. Its job is to take the final list of sets and save it to disk as a binary. The resulting file is effectively a tablebase where we can determine the DTM for each board, by looking in which set $S_n$ it is: \n",
    "$ \\forall b \\in S: ( b \\in S_n \\Rightarrow DTM(b) = n) \\\\ $ "
   ]
  },
  {
   "cell_type": "code",
   "execution_count": 25,
   "metadata": {
    "cell_id": "d32196a8-ed14-4cf0-a014-a6c84df98264",
    "deepnote_cell_height": 117,
    "deepnote_cell_type": "code",
    "deepnote_to_be_reexecuted": false,
    "execution_millis": 2,
    "execution_start": 1645273663118,
    "source_hash": "be3986c5",
    "tags": []
   },
   "outputs": [],
   "source": [
    "def save_sets_as_binary(list_of_sets, piece_str):\n",
    "    with open(f\"./{DIRECTORIES['TABLEBASES']}/{piece_str}\", \"wb\") as f:\n",
    "        pickle.dump(list_of_sets, f)"
   ]
  },
  {
   "cell_type": "markdown",
   "metadata": {
    "cell_id": "74ec37b2d41647b1b6cd1a1cf18113f8",
    "deepnote_cell_height": 97.1875,
    "deepnote_cell_type": "markdown",
    "tags": []
   },
   "source": [
    "The main function will now progressively develop our series of sets for a given $Piece\\_String$. It will start by generating $S$. Then it enters a while loop, increasing the variable $n = 0$ after every iteration and generating the next $S_n$. Inside the loop we have 4 cases, in which case the $S$ and $S_n$ are overwritten by the next set.:\n",
    "1. If $n = 0$ we shall generate $S_0$ using the $generate\\_mate\\_positions$ function.  \n",
    "2. If $n$ is odd, we will generate $S_n$ using $generate\\_s\\_odd$ and supply the set $S_{n-1}$ as an argument.\n",
    "3. If $n$ is even, we will generate $S_n$ using $generate\\_s\\_even$ and supply every previously calculated set $S_n$ with $n$ odd as an argument.\n",
    "4. If we discover that after one of the previous cases, $S_n$ is empty, we have reached the last set and can break out of the loop. \n",
    "\n",
    "After every successful iteration, the new set $S_n$ is added to the $list\\_of\\_sets$. \n",
    "\n",
    "Once the loop has been terminated, we can save the resulting $list\\_of\\_sets$ to disk. \n",
    "\n",
    "\n",
    "Currently we are storing all sets in memory before the function has terminated, which can take up close to 5GB of RAM for a 4-man tablebase. The execution speed varies from machine to machine, but a 3-man tablebase can be created in under 24h using the free Deepnote cloud computing service. \n"
   ]
  },
  {
   "cell_type": "code",
   "execution_count": 37,
   "metadata": {
    "cell_id": "106fdfe3-8ce6-43ed-994f-e2f09ffec190",
    "deepnote_cell_height": 657,
    "deepnote_cell_type": "code",
    "deepnote_to_be_reexecuted": false,
    "execution_millis": 27,
    "execution_start": 1645273664704,
    "source_hash": "faa69a13",
    "tags": []
   },
   "outputs": [],
   "source": [
    "def main(piece_str):\n",
    "    \n",
    "    print(f\"Doing all positions\")\n",
    "    s = generate_s(piece_str)\n",
    "    print(f\"\\nLength of s = {len(s)}\")\n",
    "    print(f\"--------------------------------------------------------------------------------------------\")\n",
    "\n",
    "    list_of_sets = []\n",
    "\n",
    "    n = 0\n",
    "    \n",
    "    while True: \n",
    "\n",
    "        print(f\"Doing s_{n}\")\n",
    "\n",
    "        if n == 0: \n",
    "            s, s_n = generate_mate_positions(s, piece_str)\n",
    "        elif n%2 == 1: \n",
    "            s, s_n = generate_s_odd(s, list_of_sets[-1], piece_str)\n",
    "        else: \n",
    "            s, s_n = generate_s_even(s, list_of_sets[1::2], piece_str)\n",
    "        \n",
    "        if not s_n: break\n",
    "        \n",
    "        list_of_sets.append(s_n)\n",
    "\n",
    "        print(f\"\\nLength of s_{n} = {len(s_n)}\")\n",
    "        print(f\"New length of s = {len(s)}\")\n",
    "        print(f\"--------------------------------------------------------------------------------------------\")\n",
    "\n",
    "        n += 1 \n",
    "\n",
    "    save_sets_as_binary(list_of_sets, piece_str)"
   ]
  },
  {
   "cell_type": "code",
   "execution_count": 38,
   "metadata": {
    "cell_id": "af71ee61-7479-4875-9d46-966561655098",
    "deepnote_cell_height": 308.640625,
    "deepnote_cell_type": "code",
    "deepnote_to_be_reexecuted": false,
    "execution_millis": 6038284,
    "execution_start": 1644567926073,
    "output_cleared": false,
    "source_hash": "5c5edf88",
    "tags": []
   },
   "outputs": [],
   "source": [
    "#main('Kknb')"
   ]
  }
 ],
 "metadata": {
  "deepnote": {
   "is_reactive": false
  },
  "deepnote_app_layout": "article",
  "deepnote_execution_queue": [],
  "deepnote_notebook_id": "b28e06b6-1066-4a36-a307-13887c6252e6",
  "kernelspec": {
   "display_name": "Python 3 (ipykernel)",
   "language": "python",
   "name": "python3"
  },
  "language_info": {
   "codemirror_mode": {
    "name": "ipython",
    "version": 3
   },
   "file_extension": ".py",
   "mimetype": "text/x-python",
   "name": "python",
   "nbconvert_exporter": "python",
   "pygments_lexer": "ipython3",
   "version": "3.10.3"
  }
 },
 "nbformat": 4,
 "nbformat_minor": 2
}
